{
 "cells": [
  {
   "cell_type": "code",
   "execution_count": 18,
   "metadata": {
    "execution": {
     "iopub.execute_input": "2025-02-05T17:13:53.708378Z",
     "iopub.status.busy": "2025-02-05T17:13:53.707692Z",
     "iopub.status.idle": "2025-02-05T17:13:53.722974Z",
     "shell.execute_reply": "2025-02-05T17:13:53.720651Z",
     "shell.execute_reply.started": "2025-02-05T17:13:53.708315Z"
    }
   },
   "outputs": [],
   "source": [
    "import warnings\n",
    "from typing import Any\n",
    "import joblib\n",
    "\n",
    "import pandas as pd\n",
    "import numpy as np\n",
    "import matplotlib.pyplot as plt\n",
    "from tqdm import tqdm\n",
    "\n",
    "import lightgbm as lgb\n",
    "from sklearn.linear_model import LogisticRegression\n",
    "from sklearn.model_selection import StratifiedKFold\n",
    "from sklearn.impute import SimpleImputer\n",
    "from sklearn.metrics import roc_auc_score, precision_recall_fscore_support, average_precision_score, auc\n",
    "from sklearn.feature_selection import RFECV\n",
    "import optuna\n",
    "import optuna.trial\n",
    "import optuna.logging\n",
    "\n",
    "from utils import plot_roc\n",
    "import ml_utils as utils\n",
    "from ml_utils import (\n",
    "    get_weights_for_roc_auc, weighted_roc_metric, weighted_fpr_roc_metric, \n",
    "    get_optimal_trs, plot_roc, get_tpr_fpr, plot_roc_curves\n",
    ")\n",
    "import train\n",
    "\n",
    "\n",
    "np.random.seed(42)\n",
    "warnings.simplefilter(action='ignore', category=FutureWarning)\n",
    "warnings.simplefilter(action='ignore', category=pd.errors.PerformanceWarning)\n",
    "optuna.logging.set_verbosity(optuna.logging.WARNING)"
   ]
  },
  {
   "cell_type": "markdown",
   "metadata": {},
   "source": [
    "# aft, magn > 3.5"
   ]
  },
  {
   "cell_type": "markdown",
   "metadata": {},
   "source": [
    "## read "
   ]
  },
  {
   "cell_type": "code",
   "execution_count": 2,
   "metadata": {
    "execution": {
     "iopub.execute_input": "2025-02-05T17:07:46.421814Z",
     "iopub.status.busy": "2025-02-05T17:07:46.421510Z",
     "iopub.status.idle": "2025-02-05T17:07:46.428944Z",
     "shell.execute_reply": "2025-02-05T17:07:46.427647Z",
     "shell.execute_reply.started": "2025-02-05T17:07:46.421793Z"
    }
   },
   "outputs": [],
   "source": [
    "dataset_type_train = \"magn_3_5_aft_train\"\n",
    "dataset_type_test = \"magn_3_5_aft_test\"\n",
    "\n",
    "target = \"target\"\n",
    "dt_col = \"dt\"\n",
    "min_test_date = \"2020-10-14\"\n",
    "min_train_date = \"2014-03-17\"\n",
    "\n",
    "train_path = f\"data/dataset/{dataset_type_train}.parquet\"\n",
    "test_path = f\"data/dataset/{dataset_type_test}.parquet\""
   ]
  },
  {
   "cell_type": "code",
   "execution_count": 3,
   "metadata": {
    "execution": {
     "iopub.execute_input": "2025-02-05T17:07:46.997471Z",
     "iopub.status.busy": "2025-02-05T17:07:46.996850Z",
     "iopub.status.idle": "2025-02-05T17:08:04.371309Z",
     "shell.execute_reply": "2025-02-05T17:08:04.370310Z",
     "shell.execute_reply.started": "2025-02-05T17:07:46.997411Z"
    }
   },
   "outputs": [
    {
     "name": "stdout",
     "output_type": "stream",
     "text": [
      "train_path: data/dataset/magn_3_5_aft_train.parquet\n",
      "test_path: data/dataset/magn_3_5_aft_test.parquet\n",
      "\n",
      "get_features_dict:\n",
      " {0: [0, 1, 3, 5, 7, 10]\n",
      "3: [0, 1, 3, 5, 7, 10]\n",
      "5: [0, 1, 3, 5, 7, 10]}\n",
      "\n",
      "train dates: 2014-03-21 — 2020-08-26\n",
      "test dates: 2020-10-14 — 2023-05-21\n",
      "\n",
      "train: target==0: 1593709, target==1: 27847\n",
      "test: target==0: 6428932, target==1: 98518\n",
      "target class proportion: test: 0.015324162706962836, train: 0.01747307695445028\n"
     ]
    }
   ],
   "source": [
    "train_df, test_df = utils.get_train_test_datasets(\n",
    "    train_path=train_path, test_path=test_path, \n",
    "    min_test_date = min_test_date, min_train_date = min_train_date\n",
    ")"
   ]
  },
  {
   "cell_type": "code",
   "execution_count": 4,
   "metadata": {
    "execution": {
     "iopub.execute_input": "2025-02-05T17:08:04.372591Z",
     "iopub.status.busy": "2025-02-05T17:08:04.372425Z",
     "iopub.status.idle": "2025-02-05T17:08:04.377380Z",
     "shell.execute_reply": "2025-02-05T17:08:04.376463Z",
     "shell.execute_reply.started": "2025-02-05T17:08:04.372574Z"
    }
   },
   "outputs": [],
   "source": [
    "feature_cols = list(set(train_df.columns) - set([target, dt_col, \"horizon_min_dt\", \"horizon_max_dt\"]))"
   ]
  },
  {
   "cell_type": "code",
   "execution_count": 5,
   "metadata": {
    "execution": {
     "iopub.execute_input": "2025-02-05T17:08:04.378004Z",
     "iopub.status.busy": "2025-02-05T17:08:04.377859Z",
     "iopub.status.idle": "2025-02-05T17:08:15.512202Z",
     "shell.execute_reply": "2025-02-05T17:08:15.511303Z",
     "shell.execute_reply.started": "2025-02-05T17:08:04.377990Z"
    }
   },
   "outputs": [],
   "source": [
    "# train, test\n",
    "features = utils.Features(\n",
    "    features=feature_cols, target=target, dt_col=dt_col, \n",
    "    groupby=[\"cell_x\", \"cell_y\"], target_features=[]\n",
    ")\n",
    "\n",
    "X_train, y_train = features.make_features_target(train_df)\n",
    "X_test, y_test = features.make_features_target(test_df)"
   ]
  },
  {
   "cell_type": "code",
   "execution_count": 6,
   "metadata": {
    "execution": {
     "iopub.execute_input": "2025-02-05T17:08:15.513502Z",
     "iopub.status.busy": "2025-02-05T17:08:15.513346Z",
     "iopub.status.idle": "2025-02-05T17:08:17.881676Z",
     "shell.execute_reply": "2025-02-05T17:08:17.880899Z",
     "shell.execute_reply.started": "2025-02-05T17:08:15.513488Z"
    }
   },
   "outputs": [
    {
     "data": {
      "text/plain": [
       "dt        0\n",
       "cell_x    0\n",
       "cell_y    0\n",
       "target    0\n",
       "dtype: int64"
      ]
     },
     "execution_count": 6,
     "metadata": {},
     "output_type": "execute_result"
    }
   ],
   "source": [
    "y_test.reset_index().merge(y_train.reset_index(), how=\"left\").isna().sum()"
   ]
  },
  {
   "cell_type": "code",
   "execution_count": 7,
   "metadata": {
    "execution": {
     "iopub.execute_input": "2025-02-05T17:08:17.882317Z",
     "iopub.status.busy": "2025-02-05T17:08:17.882176Z",
     "iopub.status.idle": "2025-02-05T17:08:23.814451Z",
     "shell.execute_reply": "2025-02-05T17:08:23.813132Z",
     "shell.execute_reply.started": "2025-02-05T17:08:17.882304Z"
    }
   },
   "outputs": [],
   "source": [
    "# get weights for roc auc as probability density of occured earthquakes\n",
    "roc_auc_weights_test = get_weights_for_roc_auc(y=y_test, last_dt=min_test_date)\n",
    "roc_auc_weights_train = get_weights_for_roc_auc(y=y_train, last_dt=min_test_date)"
   ]
  },
  {
   "cell_type": "code",
   "execution_count": 8,
   "metadata": {
    "execution": {
     "iopub.execute_input": "2025-02-05T17:08:23.815392Z",
     "iopub.status.busy": "2025-02-05T17:08:23.815233Z",
     "iopub.status.idle": "2025-02-05T17:08:23.845531Z",
     "shell.execute_reply": "2025-02-05T17:08:23.844162Z",
     "shell.execute_reply.started": "2025-02-05T17:08:23.815377Z"
    }
   },
   "outputs": [],
   "source": [
    "assert len(roc_auc_weights_test) == len(roc_auc_weights_test[~np.isnan(roc_auc_weights_test)]) == len(y_test)\n",
    "assert len(roc_auc_weights_train) == len(roc_auc_weights_train[~np.isnan(roc_auc_weights_train)]) == len(y_train)"
   ]
  },
  {
   "cell_type": "code",
   "execution_count": 9,
   "metadata": {
    "execution": {
     "iopub.execute_input": "2025-02-05T17:08:23.846222Z",
     "iopub.status.busy": "2025-02-05T17:08:23.846085Z",
     "iopub.status.idle": "2025-02-05T17:08:23.851913Z",
     "shell.execute_reply": "2025-02-05T17:08:23.851203Z",
     "shell.execute_reply.started": "2025-02-05T17:08:23.846208Z"
    }
   },
   "outputs": [
    {
     "data": {
      "text/plain": [
       "array([0.08894231, 0.08894231, 0.08894231, ..., 0.00240385, 0.00240385,\n",
       "       0.00240385])"
      ]
     },
     "execution_count": 9,
     "metadata": {},
     "output_type": "execute_result"
    }
   ],
   "source": [
    "roc_auc_weights_test"
   ]
  },
  {
   "cell_type": "code",
   "execution_count": 10,
   "metadata": {
    "execution": {
     "iopub.execute_input": "2025-02-05T17:08:23.852596Z",
     "iopub.status.busy": "2025-02-05T17:08:23.852459Z",
     "iopub.status.idle": "2025-02-05T17:08:24.023338Z",
     "shell.execute_reply": "2025-02-05T17:08:24.022544Z",
     "shell.execute_reply.started": "2025-02-05T17:08:23.852582Z"
    }
   },
   "outputs": [
    {
     "data": {
      "text/plain": [
       "(6527450,\n",
       " 1.0,\n",
       " array([0.00240385, 0.00480769, 0.00721154, 0.00961538, 0.01201923,\n",
       "        0.01442308, 0.01682692, 0.01923077, 0.02163462, 0.02403846,\n",
       "        0.02644231, 0.02884615, 0.03125   , 0.03365385, 0.03605769,\n",
       "        0.03846154, 0.04086538, 0.04326923, 0.04567308, 0.04807692,\n",
       "        0.05048077, 0.05288462, 0.05528846, 0.05769231, 0.06009615,\n",
       "        0.0625    , 0.06490385, 0.06730769, 0.06971154, 0.07211538,\n",
       "        0.07451923, 0.07692308, 0.07932692, 0.08173077, 0.08413462,\n",
       "        0.08653846, 0.08894231, 0.09134615, 0.09375   , 0.09615385,\n",
       "        0.09855769, 0.10096154, 0.10336538, 0.10576923, 0.10817308,\n",
       "        0.11057692, 0.11298077, 0.11538462, 0.11778846, 0.12019231,\n",
       "        0.12259615, 0.125     , 0.12740385, 0.12980769, 0.13221154,\n",
       "        0.13461538, 0.13701923, 0.13942308, 0.14182692, 0.14423077,\n",
       "        0.14663462, 0.14903846, 0.15144231, 0.15384615, 0.15625   ,\n",
       "        0.15865385, 0.16105769, 0.16346154, 0.16586538, 0.16826923,\n",
       "        0.17067308, 0.17307692, 0.17548077, 0.18028846, 0.18269231,\n",
       "        0.18509615, 0.1875    , 0.18990385, 0.19230769, 0.19471154,\n",
       "        0.19711538, 0.19951923, 0.20192308, 0.20432692, 0.20673077,\n",
       "        0.20913462, 0.21153846, 0.21394231, 0.21634615, 0.21875   ,\n",
       "        0.22115385, 0.22355769, 0.22596154, 0.22836538, 0.23076923,\n",
       "        0.23317308, 0.23557692, 0.23798077, 0.24038462, 0.24278846,\n",
       "        0.24519231, 0.25      , 0.25240385, 0.25480769, 0.25721154,\n",
       "        0.25961538, 0.26201923, 0.26682692, 0.27403846, 0.27644231,\n",
       "        0.28125   , 0.28365385, 0.28605769, 0.29086538, 0.29326923,\n",
       "        0.30048077, 0.30288462, 0.30528846, 0.30769231, 0.3125    ,\n",
       "        0.31730769, 0.32211538, 0.32451923, 0.32692308, 0.33173077,\n",
       "        0.33653846, 0.33894231, 0.34375   , 0.35336538, 0.35817308,\n",
       "        0.36538462, 0.37019231, 0.37259615, 0.375     , 0.37740385,\n",
       "        0.38221154, 0.38942308, 0.39423077, 0.39663462, 0.39903846,\n",
       "        0.40865385, 0.41105769, 0.42067308, 0.42788462, 0.43028846,\n",
       "        0.43269231, 0.44951923, 0.45432692, 0.45673077, 0.46394231,\n",
       "        0.46875   , 0.47355769, 0.49038462, 0.52884615, 0.54807692,\n",
       "        0.55288462, 0.57932692, 0.59375   , 0.59855769, 0.62740385,\n",
       "        0.64182692, 0.66346154, 0.71634615, 0.78365385, 0.82211538,\n",
       "        0.87259615, 1.        ]))"
      ]
     },
     "execution_count": 10,
     "metadata": {},
     "output_type": "execute_result"
    }
   ],
   "source": [
    "len(roc_auc_weights_test[roc_auc_weights_test > 0.0]), np.max(roc_auc_weights_test), np.unique(roc_auc_weights_test)"
   ]
  },
  {
   "cell_type": "code",
   "execution_count": 11,
   "metadata": {
    "execution": {
     "iopub.execute_input": "2025-02-05T17:08:24.024058Z",
     "iopub.status.busy": "2025-02-05T17:08:24.023910Z",
     "iopub.status.idle": "2025-02-05T17:08:24.202196Z",
     "shell.execute_reply": "2025-02-05T17:08:24.201404Z",
     "shell.execute_reply.started": "2025-02-05T17:08:24.024041Z"
    }
   },
   "outputs": [
    {
     "data": {
      "image/png": "[encoded data removed]",
      "text/plain": [
       "<Figure size 640x480 with 1 Axes>"
      ]
     },
     "metadata": {},
     "output_type": "display_data"
    }
   ],
   "source": [
    "plt.hist(roc_auc_weights_test[roc_auc_weights_test > 0.0], range=(0, 1.0), bins=20);"
   ]
  },
  {
   "cell_type": "code",
   "execution_count": 12,
   "metadata": {
    "execution": {
     "iopub.execute_input": "2025-02-05T17:08:24.203699Z",
     "iopub.status.busy": "2025-02-05T17:08:24.203548Z",
     "iopub.status.idle": "2025-02-05T17:08:24.207744Z",
     "shell.execute_reply": "2025-02-05T17:08:24.206923Z",
     "shell.execute_reply.started": "2025-02-05T17:08:24.203684Z"
    }
   },
   "outputs": [],
   "source": [
    "y_train = y_train[target]\n",
    "y_test = y_test[target]"
   ]
  },
  {
   "cell_type": "code",
   "execution_count": 13,
   "metadata": {
    "execution": {
     "iopub.execute_input": "2025-02-05T17:08:24.208308Z",
     "iopub.status.busy": "2025-02-05T17:08:24.208181Z",
     "iopub.status.idle": "2025-02-05T17:08:24.217054Z",
     "shell.execute_reply": "2025-02-05T17:08:24.216302Z",
     "shell.execute_reply.started": "2025-02-05T17:08:24.208295Z"
    }
   },
   "outputs": [
    {
     "data": {
      "text/plain": [
       "(27847, 98518)"
      ]
     },
     "execution_count": 13,
     "metadata": {},
     "output_type": "execute_result"
    }
   ],
   "source": [
    "y_train.sum(), y_test.sum()"
   ]
  },
  {
   "cell_type": "markdown",
   "metadata": {},
   "source": [
    "## logreg"
   ]
  },
  {
   "cell_type": "code",
   "execution_count": 14,
   "metadata": {
    "execution": {
     "iopub.execute_input": "2025-02-05T17:08:24.217774Z",
     "iopub.status.busy": "2025-02-05T17:08:24.217638Z",
     "iopub.status.idle": "2025-02-05T17:08:24.651438Z",
     "shell.execute_reply": "2025-02-05T17:08:24.650600Z",
     "shell.execute_reply.started": "2025-02-05T17:08:24.217760Z"
    }
   },
   "outputs": [
    {
     "data": {
      "text/plain": [
       "3"
      ]
     },
     "execution_count": 14,
     "metadata": {},
     "output_type": "execute_result"
    }
   ],
   "source": [
    "cv = utils.MonthlyTimeSeriesSplit(window=20)\n",
    "cv.get_n_splits(X_train)"
   ]
  },
  {
   "cell_type": "code",
   "execution_count": 15,
   "metadata": {
    "execution": {
     "iopub.execute_input": "2025-02-05T17:08:24.652253Z",
     "iopub.status.busy": "2025-02-05T17:08:24.652099Z",
     "iopub.status.idle": "2025-02-05T17:08:32.685067Z",
     "shell.execute_reply": "2025-02-05T17:08:32.684108Z",
     "shell.execute_reply.started": "2025-02-05T17:08:24.652239Z"
    }
   },
   "outputs": [
    {
     "name": "stdout",
     "output_type": "stream",
     "text": [
      "train: [2014-03-21, 2015-10-22], len: 405389 | test: [2015-11-01, 2017-06-23], len: 419131\n",
      "train: [2014-03-21, 2017-06-23], len: 824520 | test: [2017-07-03, 2019-02-23], len: 419131\n",
      "train: [2014-03-21, 2019-02-23], len: 1243651 | test: [2019-03-05, 2020-08-26], len: 377905\n"
     ]
    }
   ],
   "source": [
    "for split_train, split_test in cv.split(X_train):\n",
    "    train_start = np.sort(X_train.iloc[split_train].drop(columns=[\"cell_x\", \"cell_y\"]).reset_index()[\"dt\"].unique())[0]\n",
    "    train_end = np.sort(X_train.iloc[split_train].drop(columns=[\"cell_x\", \"cell_y\"]).reset_index()[\"dt\"].unique())[-1]\n",
    "    test_start = np.sort(X_train.iloc[split_test].drop(columns=[\"cell_x\", \"cell_y\"]).reset_index()[\"dt\"].unique())[0]\n",
    "    test_end = np.sort(X_train.iloc[split_test].drop(columns=[\"cell_x\", \"cell_y\"]).reset_index()[\"dt\"].unique())[-1]\n",
    "\n",
    "    print(f\"train: [{train_start}, {train_end}], len: {len(split_train)} | test: [{test_start}, {test_end}], len: {len(split_test)}\")"
   ]
  },
  {
   "cell_type": "markdown",
   "metadata": {},
   "source": [
    "### baseline"
   ]
  },
  {
   "cell_type": "code",
   "execution_count": 16,
   "metadata": {
    "execution": {
     "iopub.execute_input": "2025-02-05T17:08:43.524238Z",
     "iopub.status.busy": "2025-02-05T17:08:43.523584Z",
     "iopub.status.idle": "2025-02-05T17:12:41.369294Z",
     "shell.execute_reply": "2025-02-05T17:12:41.368357Z",
     "shell.execute_reply.started": "2025-02-05T17:08:43.524178Z"
    }
   },
   "outputs": [
    {
     "data": {
      "text/plain": [
       "(0.7377613785149053,\n",
       " 0.7073549348098119,\n",
       " '----',\n",
       " 0.7837444932851705,\n",
       " 0.816802848290178)"
      ]
     },
     "execution_count": 16,
     "metadata": {},
     "output_type": "execute_result"
    }
   ],
   "source": [
    "params = {\n",
    "    \"C\": 1.0,\n",
    "    \"max_iter\": 1500,\n",
    "}\n",
    "\n",
    "logreg_model = train.get_logreg_model(feature_cols, params)\n",
    "\n",
    "logreg_model = logreg_model.fit(X_train, y_train)\n",
    "y_pred_prob = logreg_model.predict_proba(X_test)\n",
    "\n",
    "baseline_roc_auc = roc_auc_score(y_test, y_pred_prob[:, 1])\n",
    "\n",
    "(\n",
    "    roc_auc_score(y_train, logreg_model.predict_proba(X_train)[:, 1]), \n",
    "    roc_auc_score(y_test, y_pred_prob[:, 1])\n",
    ")\n",
    "\n",
    "plot_roc_curves(y_test, y_pred_prob[:, 1], roc_auc_weights_test, n=100)"
   ]
  },
  {
   "cell_type": "markdown",
   "metadata": {},
   "source": [
    "### rfecv feature selection"
   ]
  },
  {
   "cell_type": "code",
   "execution_count": 63,
   "metadata": {
    "execution": {
     "iopub.execute_input": "2025-02-12T14:27:44.117468Z",
     "iopub.status.busy": "2025-02-12T14:27:44.116743Z",
     "iopub.status.idle": "2025-02-12T14:27:44.131835Z",
     "shell.execute_reply": "2025-02-12T14:27:44.130280Z",
     "shell.execute_reply.started": "2025-02-12T14:27:44.117397Z"
    }
   },
   "outputs": [],
   "source": [
    "rfecv_features = train.logreg_rfe_select(\n",
    "    X_train, y_train, feature_cols, cv, params=None, min_features_to_select=10, step=5, n_jobs=20\n",
    ")"
   ]
  },
  {
   "cell_type": "code",
   "execution_count": 69,
   "metadata": {
    "execution": {
     "iopub.execute_input": "2025-02-12T14:36:43.460089Z",
     "iopub.status.busy": "2025-02-12T14:36:43.459371Z",
     "iopub.status.idle": "2025-02-12T14:36:43.471760Z",
     "shell.execute_reply": "2025-02-12T14:36:43.470230Z",
     "shell.execute_reply.started": "2025-02-12T14:36:43.460025Z"
    }
   },
   "outputs": [
    {
     "data": {
      "text/plain": [
       "['mean_magn_1095_rad0',\n",
       " 'min_magn_1825_rad0',\n",
       " 'min_magn_3650_rad3',\n",
       " 'mean_magn_180_rad0',\n",
       " 'min_magn_3650_rad0',\n",
       " 'std_magn_365_rad3',\n",
       " 'mean_magn_3650_rad0',\n",
       " 'mean_magn_3650_rad3',\n",
       " 'max_magn_90_rad5',\n",
       " 'max_magn_365_rad3',\n",
       " 'mean_magn_2555_rad0',\n",
       " 'max_magn_60_rad0',\n",
       " 'mean_magn_60_rad5',\n",
       " 'count_earthquakes_3650_rad0',\n",
       " 'min_magn_365_rad3',\n",
       " 'max_magn_90_rad0',\n",
       " 'max_magn_90_rad3',\n",
       " 'min_magn_60_rad5',\n",
       " 'std_magn_1825_rad0',\n",
       " 'max_magn_3650_rad0',\n",
       " 'min_magn_180_rad0',\n",
       " 'mean_magn_60_rad0',\n",
       " 'min_magn_2555_rad0',\n",
       " 'max_magn_180_rad0',\n",
       " 'mean_magn_365_rad3',\n",
       " 'max_magn_1825_rad0',\n",
       " 'min_magn_1095_rad0',\n",
       " 'min_magn_90_rad5',\n",
       " 'mean_magn_90_rad3',\n",
       " 'max_magn_2555_rad0',\n",
       " 'mean_magn_90_rad5',\n",
       " 'max_magn_1095_rad3']"
      ]
     },
     "execution_count": 69,
     "metadata": {},
     "output_type": "execute_result"
    }
   ],
   "source": [
    "rfecv_features"
   ]
  },
  {
   "cell_type": "code",
   "execution_count": 60,
   "metadata": {
    "execution": {
     "iopub.execute_input": "2025-02-05T21:15:58.067082Z",
     "iopub.status.busy": "2025-02-05T21:15:58.066415Z",
     "iopub.status.idle": "2025-02-05T21:15:58.080275Z",
     "shell.execute_reply": "2025-02-05T21:15:58.078448Z",
     "shell.execute_reply.started": "2025-02-05T21:15:58.067020Z"
    }
   },
   "outputs": [
    {
     "data": {
      "text/plain": [
       "{0: [0, 3, 5, 7, 10], 3: [0, 1, 3, 10], 5: [0]}"
      ]
     },
     "execution_count": 60,
     "metadata": {},
     "output_type": "execute_result"
    }
   ],
   "source": [
    "utils.get_features_dict(rfecv_features)"
   ]
  },
  {
   "cell_type": "code",
   "execution_count": 61,
   "metadata": {
    "execution": {
     "iopub.execute_input": "2025-02-05T21:16:17.217447Z",
     "iopub.status.busy": "2025-02-05T21:16:17.216795Z",
     "iopub.status.idle": "2025-02-05T21:17:12.412071Z",
     "shell.execute_reply": "2025-02-05T21:17:12.411139Z",
     "shell.execute_reply.started": "2025-02-05T21:16:17.217387Z"
    }
   },
   "outputs": [
    {
     "data": {
      "text/plain": [
       "(0.7323437183116761,\n",
       " 0.7046421018630975,\n",
       " '----',\n",
       " 0.7819814773116471,\n",
       " 0.8156192480151099)"
      ]
     },
     "execution_count": 61,
     "metadata": {},
     "output_type": "execute_result"
    }
   ],
   "source": [
    "params = {\n",
    "    \"C\": 1.0,\n",
    "    \"max_iter\": 1500,\n",
    "}\n",
    "\n",
    "logreg_model = train.get_logreg_model(rfecv_features, params)\n",
    "\n",
    "logreg_model = logreg_model.fit(X_train, y_train)\n",
    "y_pred_prob = logreg_model.predict_proba(X_test)\n",
    "\n",
    "\n",
    "(\n",
    "    roc_auc_score(y_train, logreg_model.predict_proba(X_train)[:, 1]), \n",
    "    roc_auc_score(y_test, y_pred_prob[:, 1])\n",
    ")\n",
    "\n",
    "plot_roc_curves(y_test, y_pred_prob[:, 1], roc_auc_weights_test, n=100)"
   ]
  },
  {
   "cell_type": "markdown",
   "metadata": {},
   "source": [
    "### hyper optimiziation"
   ]
  },
  {
   "cell_type": "code",
   "execution_count": 78,
   "metadata": {
    "execution": {
     "iopub.execute_input": "2025-02-12T14:56:20.060291Z",
     "iopub.status.busy": "2025-02-12T14:56:20.059559Z",
     "iopub.status.idle": "2025-02-12T15:45:32.233630Z",
     "shell.execute_reply": "2025-02-12T15:45:32.232710Z",
     "shell.execute_reply.started": "2025-02-12T14:56:20.060228Z"
    }
   },
   "outputs": [
    {
     "name": "stdout",
     "output_type": "stream",
     "text": [
      "using MonthlyTimeSeriesSplit\n"
     ]
    },
    {
     "name": "stderr",
     "output_type": "stream",
     "text": [
      "logisticregression hyperoptimisation: 100%|██████████| 100/100 [49:12<00:00, 29.52s/it]\n"
     ]
    }
   ],
   "source": [
    "def fixed_params(**kwargs) -> dict[str, Any]:\n",
    "    params = {\n",
    "        \"max_iter\": 1500,\n",
    "        \"penalty\": \"l2\",\n",
    "        \"random_state\": 42,\n",
    "    }\n",
    "\n",
    "    params.update(kwargs)\n",
    "\n",
    "    return params\n",
    "\n",
    "\n",
    "def default_params(**kwargs) -> dict[str, Any]:\n",
    "    params = {\n",
    "        **fixed_params(),\n",
    "        \"C\": 1.0,\n",
    "    }\n",
    "    params.update(kwargs)\n",
    "\n",
    "    return params\n",
    "\n",
    "\n",
    "def suggest_params(trial: optuna.trial.Trial, **kwargs) -> dict[str, Any]:\n",
    "    params = {\n",
    "        **fixed_params(),\n",
    "        \"C\": trial.suggest_float(\"C\", 0.001, 100.0),\n",
    "    }\n",
    "    params.update(kwargs)\n",
    "\n",
    "    return params\n",
    "\n",
    "tuned_logreg = train.run_optuna(\n",
    "    X = X_train,\n",
    "    y = y_train,\n",
    "    n_trials = 100,\n",
    "    dump_study_path = f\"data/optuna_res/logreg_{dataset_type_train.replace('_train', '')}\",\n",
    "    seed = 42,\n",
    "    resume = False,\n",
    "    suggest_params = suggest_params,\n",
    "    default_params = default_params,\n",
    "    cv = utils.MonthlyTimeSeriesSplit(window=20, partition=True),\n",
    "    model = train.get_logreg_model(rfecv_features, default_params()),\n",
    "    n_jobs = 20,\n",
    "    model_name = \"logisticregression\",\n",
    ")"
   ]
  },
  {
   "cell_type": "code",
   "execution_count": 79,
   "metadata": {
    "execution": {
     "iopub.execute_input": "2025-02-12T15:45:32.234818Z",
     "iopub.status.busy": "2025-02-12T15:45:32.234658Z",
     "iopub.status.idle": "2025-02-12T15:45:32.241113Z",
     "shell.execute_reply": "2025-02-12T15:45:32.240251Z",
     "shell.execute_reply.started": "2025-02-12T15:45:32.234801Z"
    }
   },
   "outputs": [
    {
     "data": {
      "text/plain": [
       "{'C': 0.1421845317427609,\n",
       " 'class_weight': None,\n",
       " 'dual': False,\n",
       " 'fit_intercept': True,\n",
       " 'intercept_scaling': 1,\n",
       " 'l1_ratio': None,\n",
       " 'max_iter': 1500,\n",
       " 'multi_class': 'auto',\n",
       " 'n_jobs': None,\n",
       " 'penalty': 'l2',\n",
       " 'random_state': 42,\n",
       " 'solver': 'lbfgs',\n",
       " 'tol': 0.0001,\n",
       " 'verbose': 0,\n",
       " 'warm_start': False}"
      ]
     },
     "execution_count": 79,
     "metadata": {},
     "output_type": "execute_result"
    }
   ],
   "source": [
    "tuned_logreg_params = tuned_logreg[\"logisticregression\"].get_params()\n",
    "tuned_logreg_params"
   ]
  },
  {
   "cell_type": "code",
   "execution_count": 81,
   "metadata": {
    "execution": {
     "iopub.execute_input": "2025-02-12T16:33:29.331865Z",
     "iopub.status.busy": "2025-02-12T16:33:29.331229Z",
     "iopub.status.idle": "2025-02-12T16:37:43.904637Z",
     "shell.execute_reply": "2025-02-12T16:37:43.903765Z",
     "shell.execute_reply.started": "2025-02-12T16:33:29.331794Z"
    }
   },
   "outputs": [
    {
     "name": "stderr",
     "output_type": "stream",
     "text": [
      "\n",
      "  0%|          | 0/100 [00:00<?, ?it/s]\u001b[A\n",
      "  1%|          | 1/100 [00:00<01:11,  1.38it/s]\u001b[A\n",
      "  2%|▏         | 2/100 [00:01<01:07,  1.45it/s]\u001b[A\n",
      "  3%|▎         | 3/100 [00:02<01:08,  1.42it/s]\u001b[A\n",
      "  4%|▍         | 4/100 [00:02<01:05,  1.46it/s]\u001b[A\n",
      "  5%|▌         | 5/100 [00:03<01:06,  1.43it/s]\u001b[A\n",
      "  6%|▌         | 6/100 [00:04<01:04,  1.46it/s]\u001b[A\n",
      "  7%|▋         | 7/100 [00:04<01:05,  1.43it/s]\u001b[A\n",
      "  8%|▊         | 8/100 [00:05<01:03,  1.46it/s]\u001b[A\n",
      "  9%|▉         | 9/100 [00:06<01:03,  1.43it/s]\u001b[A\n",
      " 10%|█         | 10/100 [00:06<01:01,  1.46it/s]\u001b[A\n",
      " 11%|█         | 11/100 [00:07<01:02,  1.43it/s]\u001b[A\n",
      " 12%|█▏        | 12/100 [00:08<01:00,  1.46it/s]\u001b[A\n",
      " 13%|█▎        | 13/100 [00:09<01:00,  1.43it/s]\u001b[A\n",
      " 14%|█▍        | 14/100 [00:09<00:58,  1.46it/s]\u001b[A\n",
      " 15%|█▌        | 15/100 [00:10<00:59,  1.44it/s]\u001b[A\n",
      " 16%|█▌        | 16/100 [00:11<00:57,  1.46it/s]\u001b[A\n",
      " 17%|█▋        | 17/100 [00:11<00:57,  1.44it/s]\u001b[A\n",
      " 18%|█▊        | 18/100 [00:12<00:56,  1.46it/s]\u001b[A\n",
      " 19%|█▉        | 19/100 [00:13<00:56,  1.44it/s]\u001b[A\n",
      " 20%|██        | 20/100 [00:13<00:54,  1.46it/s]\u001b[A\n",
      " 21%|██        | 21/100 [00:14<00:54,  1.44it/s]\u001b[A\n",
      " 22%|██▏       | 22/100 [00:15<00:53,  1.46it/s]\u001b[A\n",
      " 23%|██▎       | 23/100 [00:15<00:53,  1.44it/s]\u001b[A\n",
      " 24%|██▍       | 24/100 [00:16<00:52,  1.45it/s]\u001b[A\n",
      " 25%|██▌       | 25/100 [00:17<00:52,  1.43it/s]\u001b[A\n",
      " 26%|██▌       | 26/100 [00:18<00:52,  1.41it/s]\u001b[A\n",
      " 27%|██▋       | 27/100 [00:18<00:52,  1.40it/s]\u001b[A\n",
      " 28%|██▊       | 28/100 [00:19<00:51,  1.40it/s]\u001b[A\n",
      " 29%|██▉       | 29/100 [00:20<00:51,  1.39it/s]\u001b[A\n",
      " 30%|███       | 30/100 [00:20<00:50,  1.39it/s]\u001b[A\n",
      " 31%|███       | 31/100 [00:21<00:49,  1.39it/s]\u001b[A\n",
      " 32%|███▏      | 32/100 [00:22<00:49,  1.38it/s]\u001b[A\n",
      " 33%|███▎      | 33/100 [00:23<00:48,  1.38it/s]\u001b[A\n",
      " 34%|███▍      | 34/100 [00:23<00:47,  1.38it/s]\u001b[A\n",
      " 35%|███▌      | 35/100 [00:24<00:47,  1.38it/s]\u001b[A\n",
      " 36%|███▌      | 36/100 [00:25<00:46,  1.38it/s]\u001b[A\n",
      " 37%|███▋      | 37/100 [00:26<00:45,  1.38it/s]\u001b[A\n",
      " 38%|███▊      | 38/100 [00:26<00:44,  1.38it/s]\u001b[A\n",
      " 39%|███▉      | 39/100 [00:27<00:44,  1.38it/s]\u001b[A\n",
      " 40%|████      | 40/100 [00:28<00:43,  1.38it/s]\u001b[A\n",
      " 41%|████      | 41/100 [00:28<00:42,  1.38it/s]\u001b[A\n",
      " 42%|████▏     | 42/100 [00:29<00:42,  1.38it/s]\u001b[A\n",
      " 43%|████▎     | 43/100 [00:30<00:41,  1.38it/s]\u001b[A\n",
      " 44%|████▍     | 44/100 [00:31<00:40,  1.38it/s]\u001b[A\n",
      " 45%|████▌     | 45/100 [00:31<00:39,  1.38it/s]\u001b[A\n",
      " 46%|████▌     | 46/100 [00:32<00:39,  1.38it/s]\u001b[A\n",
      " 47%|████▋     | 47/100 [00:33<00:38,  1.38it/s]\u001b[A\n",
      " 48%|████▊     | 48/100 [00:33<00:37,  1.38it/s]\u001b[A\n",
      " 49%|████▉     | 49/100 [00:34<00:36,  1.38it/s]\u001b[A\n",
      " 50%|█████     | 50/100 [00:35<00:36,  1.38it/s]\u001b[A\n",
      " 51%|█████     | 51/100 [00:36<00:35,  1.38it/s]\u001b[A\n",
      " 52%|█████▏    | 52/100 [00:36<00:34,  1.38it/s]\u001b[A\n",
      " 53%|█████▎    | 53/100 [00:37<00:34,  1.38it/s]\u001b[A\n",
      " 54%|█████▍    | 54/100 [00:38<00:33,  1.38it/s]\u001b[A\n",
      " 55%|█████▌    | 55/100 [00:39<00:32,  1.38it/s]\u001b[A\n",
      " 56%|█████▌    | 56/100 [00:39<00:31,  1.38it/s]\u001b[A\n",
      " 57%|█████▋    | 57/100 [00:40<00:31,  1.38it/s]\u001b[A\n",
      " 58%|█████▊    | 58/100 [00:41<00:30,  1.38it/s]\u001b[A\n",
      " 59%|█████▉    | 59/100 [00:41<00:29,  1.38it/s]\u001b[A\n",
      " 60%|██████    | 60/100 [00:42<00:28,  1.38it/s]\u001b[A\n",
      " 61%|██████    | 61/100 [00:43<00:28,  1.38it/s]\u001b[A\n",
      " 62%|██████▏   | 62/100 [00:44<00:27,  1.38it/s]\u001b[A\n",
      " 63%|██████▎   | 63/100 [00:44<00:26,  1.38it/s]\u001b[A\n",
      " 64%|██████▍   | 64/100 [00:45<00:26,  1.38it/s]\u001b[A\n",
      " 65%|██████▌   | 65/100 [00:46<00:25,  1.38it/s]\u001b[A\n",
      " 66%|██████▌   | 66/100 [00:47<00:24,  1.38it/s]\u001b[A\n",
      " 67%|██████▋   | 67/100 [00:47<00:23,  1.38it/s]\u001b[A\n",
      " 68%|██████▊   | 68/100 [00:48<00:23,  1.38it/s]\u001b[A\n",
      " 69%|██████▉   | 69/100 [00:49<00:22,  1.38it/s]\u001b[A\n",
      " 70%|███████   | 70/100 [00:49<00:21,  1.38it/s]\u001b[A\n",
      " 71%|███████   | 71/100 [00:50<00:21,  1.38it/s]\u001b[A\n",
      " 72%|███████▏  | 72/100 [00:51<00:20,  1.38it/s]\u001b[A\n",
      " 73%|███████▎  | 73/100 [00:52<00:19,  1.38it/s]\u001b[A\n",
      " 74%|███████▍  | 74/100 [00:52<00:18,  1.38it/s]\u001b[A\n",
      " 75%|███████▌  | 75/100 [00:53<00:18,  1.38it/s]\u001b[A\n",
      " 76%|███████▌  | 76/100 [00:54<00:17,  1.38it/s]\u001b[A\n",
      " 77%|███████▋  | 77/100 [00:54<00:16,  1.38it/s]\u001b[A\n",
      " 78%|███████▊  | 78/100 [00:55<00:15,  1.38it/s]\u001b[A\n",
      " 79%|███████▉  | 79/100 [00:56<00:15,  1.38it/s]\u001b[A\n",
      " 80%|████████  | 80/100 [00:57<00:14,  1.38it/s]\u001b[A\n",
      " 81%|████████  | 81/100 [00:57<00:13,  1.38it/s]\u001b[A\n",
      " 82%|████████▏ | 82/100 [00:58<00:13,  1.38it/s]\u001b[A\n",
      " 83%|████████▎ | 83/100 [00:59<00:12,  1.38it/s]\u001b[A\n",
      " 84%|████████▍ | 84/100 [01:00<00:11,  1.38it/s]\u001b[A\n",
      " 85%|████████▌ | 85/100 [01:00<00:10,  1.38it/s]\u001b[A\n",
      " 86%|████████▌ | 86/100 [01:01<00:10,  1.38it/s]\u001b[A\n",
      " 87%|████████▋ | 87/100 [01:02<00:09,  1.38it/s]\u001b[A\n",
      " 88%|████████▊ | 88/100 [01:02<00:08,  1.38it/s]\u001b[A\n",
      " 89%|████████▉ | 89/100 [01:03<00:07,  1.38it/s]\u001b[A\n",
      " 90%|█████████ | 90/100 [01:04<00:07,  1.38it/s]\u001b[A\n",
      " 91%|█████████ | 91/100 [01:05<00:06,  1.38it/s]\u001b[A\n",
      " 92%|█████████▏| 92/100 [01:06<00:06,  1.24it/s]\u001b[A\n",
      " 93%|█████████▎| 93/100 [01:07<00:05,  1.18it/s]\u001b[A\n",
      " 94%|█████████▍| 94/100 [01:07<00:04,  1.23it/s]\u001b[A\n",
      " 95%|█████████▌| 95/100 [01:08<00:03,  1.27it/s]\u001b[A\n",
      " 96%|█████████▌| 96/100 [01:09<00:03,  1.31it/s]\u001b[A\n",
      " 97%|█████████▋| 97/100 [01:09<00:02,  1.33it/s]\u001b[A\n",
      " 98%|█████████▊| 98/100 [01:10<00:01,  1.34it/s]\u001b[A\n",
      " 99%|█████████▉| 99/100 [01:11<00:00,  1.35it/s]\u001b[A\n",
      "100%|██████████| 100/100 [01:12<00:00,  1.36it/s]\u001b[A\n",
      "                                                 \u001b[A\n",
      "  0%|          | 0/100 [00:00<?, ?it/s]\u001b[A\n",
      "  1%|          | 1/100 [00:01<02:20,  1.42s/it]\u001b[A\n",
      "  2%|▏         | 2/100 [00:03<02:31,  1.55s/it]\u001b[A\n",
      "  3%|▎         | 3/100 [00:04<02:40,  1.65s/it]\u001b[A\n",
      "  4%|▍         | 4/100 [00:06<02:29,  1.56s/it]\u001b[A\n",
      "  5%|▌         | 5/100 [00:07<02:22,  1.50s/it]\u001b[A\n",
      "  6%|▌         | 6/100 [00:09<02:17,  1.47s/it]\u001b[A\n",
      "  7%|▋         | 7/100 [00:10<02:14,  1.45s/it]\u001b[A\n",
      "  8%|▊         | 8/100 [00:11<02:11,  1.43s/it]\u001b[A\n",
      "  9%|▉         | 9/100 [00:13<02:09,  1.42s/it]\u001b[A\n",
      " 10%|█         | 10/100 [00:14<02:07,  1.42s/it]\u001b[A\n",
      " 11%|█         | 11/100 [00:16<02:05,  1.41s/it]\u001b[A\n",
      " 12%|█▏        | 12/100 [00:17<02:03,  1.41s/it]\u001b[A\n",
      " 13%|█▎        | 13/100 [00:18<02:02,  1.41s/it]\u001b[A\n",
      " 14%|█▍        | 14/100 [00:20<02:00,  1.40s/it]\u001b[A\n",
      " 15%|█▌        | 15/100 [00:21<01:59,  1.40s/it]\u001b[A\n",
      " 16%|█▌        | 16/100 [00:23<01:57,  1.40s/it]\u001b[A\n",
      " 17%|█▋        | 17/100 [00:24<02:08,  1.55s/it]\u001b[A\n",
      " 18%|█▊        | 18/100 [00:26<02:03,  1.51s/it]\u001b[A\n",
      " 19%|█▉        | 19/100 [00:27<01:59,  1.47s/it]\u001b[A\n",
      " 20%|██        | 20/100 [00:29<01:55,  1.45s/it]\u001b[A\n",
      " 21%|██        | 21/100 [00:30<01:53,  1.43s/it]\u001b[A\n",
      " 22%|██▏       | 22/100 [00:31<01:51,  1.43s/it]\u001b[A\n",
      " 23%|██▎       | 23/100 [00:33<01:49,  1.42s/it]\u001b[A\n",
      " 24%|██▍       | 24/100 [00:34<01:47,  1.41s/it]\u001b[A\n",
      " 25%|██▌       | 25/100 [00:36<01:45,  1.41s/it]\u001b[A\n",
      " 26%|██▌       | 26/100 [00:37<01:43,  1.40s/it]\u001b[A\n",
      " 27%|██▋       | 27/100 [00:38<01:42,  1.40s/it]\u001b[A\n",
      " 28%|██▊       | 28/100 [00:40<01:40,  1.40s/it]\u001b[A\n",
      " 29%|██▉       | 29/100 [00:41<01:39,  1.40s/it]\u001b[A\n",
      " 30%|███       | 30/100 [00:43<01:37,  1.40s/it]\u001b[A\n",
      " 31%|███       | 31/100 [00:44<01:36,  1.40s/it]\u001b[A\n",
      " 32%|███▏      | 32/100 [00:45<01:35,  1.40s/it]\u001b[A\n",
      " 33%|███▎      | 33/100 [00:47<01:33,  1.40s/it]\u001b[A\n",
      " 34%|███▍      | 34/100 [00:48<01:32,  1.40s/it]\u001b[A\n",
      " 35%|███▌      | 35/100 [00:50<01:30,  1.40s/it]\u001b[A\n",
      " 36%|███▌      | 36/100 [00:51<01:29,  1.40s/it]\u001b[A\n",
      " 37%|███▋      | 37/100 [00:52<01:27,  1.40s/it]\u001b[A\n",
      " 38%|███▊      | 38/100 [00:54<01:26,  1.40s/it]\u001b[A\n",
      " 39%|███▉      | 39/100 [00:55<01:25,  1.40s/it]\u001b[A\n",
      " 40%|████      | 40/100 [00:57<01:23,  1.40s/it]\u001b[A\n",
      " 41%|████      | 41/100 [00:58<01:22,  1.40s/it]\u001b[A\n",
      " 42%|████▏     | 42/100 [00:59<01:20,  1.40s/it]\u001b[A\n",
      " 43%|████▎     | 43/100 [01:01<01:19,  1.40s/it]\u001b[A\n",
      " 44%|████▍     | 44/100 [01:02<01:18,  1.40s/it]\u001b[A\n",
      " 45%|████▌     | 45/100 [01:04<01:16,  1.40s/it]\u001b[A\n",
      " 46%|████▌     | 46/100 [01:05<01:15,  1.40s/it]\u001b[A\n",
      " 47%|████▋     | 47/100 [01:06<01:13,  1.40s/it]\u001b[A\n",
      " 48%|████▊     | 48/100 [01:08<01:12,  1.40s/it]\u001b[A\n",
      " 49%|████▉     | 49/100 [01:09<01:11,  1.40s/it]\u001b[A\n",
      " 50%|█████     | 50/100 [01:11<01:09,  1.40s/it]\u001b[A\n",
      " 51%|█████     | 51/100 [01:12<01:08,  1.40s/it]\u001b[A\n",
      " 52%|█████▏    | 52/100 [01:13<01:07,  1.40s/it]\u001b[A\n",
      " 53%|█████▎    | 53/100 [01:15<01:05,  1.40s/it]\u001b[A\n",
      " 54%|█████▍    | 54/100 [01:16<01:04,  1.40s/it]\u001b[A\n",
      " 55%|█████▌    | 55/100 [01:18<01:02,  1.40s/it]\u001b[A\n",
      " 56%|█████▌    | 56/100 [01:19<01:01,  1.40s/it]\u001b[A\n",
      " 57%|█████▋    | 57/100 [01:20<01:00,  1.40s/it]\u001b[A\n",
      " 58%|█████▊    | 58/100 [01:22<00:58,  1.40s/it]\u001b[A\n",
      " 59%|█████▉    | 59/100 [01:23<00:57,  1.40s/it]\u001b[A\n",
      " 60%|██████    | 60/100 [01:25<00:55,  1.40s/it]\u001b[A\n",
      " 61%|██████    | 61/100 [01:26<00:54,  1.40s/it]\u001b[A\n",
      " 62%|██████▏   | 62/100 [01:27<00:53,  1.40s/it]\u001b[A\n",
      " 63%|██████▎   | 63/100 [01:29<00:51,  1.40s/it]\u001b[A\n",
      " 64%|██████▍   | 64/100 [01:30<00:50,  1.40s/it]\u001b[A\n",
      " 65%|██████▌   | 65/100 [01:32<00:48,  1.40s/it]\u001b[A\n",
      " 66%|██████▌   | 66/100 [01:33<00:47,  1.40s/it]\u001b[A\n",
      " 67%|██████▋   | 67/100 [01:34<00:46,  1.40s/it]\u001b[A\n",
      " 68%|██████▊   | 68/100 [01:36<00:44,  1.40s/it]\u001b[A\n",
      " 69%|██████▉   | 69/100 [01:37<00:43,  1.40s/it]\u001b[A\n",
      " 70%|███████   | 70/100 [01:39<00:41,  1.40s/it]\u001b[A\n",
      " 71%|███████   | 71/100 [01:40<00:40,  1.40s/it]\u001b[A\n",
      " 72%|███████▏  | 72/100 [01:41<00:39,  1.40s/it]\u001b[A\n",
      " 73%|███████▎  | 73/100 [01:43<00:37,  1.40s/it]\u001b[A\n",
      " 74%|███████▍  | 74/100 [01:44<00:36,  1.40s/it]\u001b[A\n",
      " 75%|███████▌  | 75/100 [01:45<00:34,  1.40s/it]\u001b[A\n",
      " 76%|███████▌  | 76/100 [01:47<00:33,  1.40s/it]\u001b[A\n",
      " 77%|███████▋  | 77/100 [01:48<00:32,  1.40s/it]\u001b[A\n",
      " 78%|███████▊  | 78/100 [01:50<00:30,  1.40s/it]\u001b[A\n",
      " 79%|███████▉  | 79/100 [01:51<00:29,  1.40s/it]\u001b[A\n",
      " 80%|████████  | 80/100 [01:52<00:27,  1.40s/it]\u001b[A\n",
      " 81%|████████  | 81/100 [01:54<00:26,  1.40s/it]\u001b[A\n",
      " 82%|████████▏ | 82/100 [01:55<00:25,  1.40s/it]\u001b[A\n",
      " 83%|████████▎ | 83/100 [01:57<00:23,  1.40s/it]\u001b[A\n",
      " 84%|████████▍ | 84/100 [01:58<00:22,  1.40s/it]\u001b[A\n",
      " 85%|████████▌ | 85/100 [01:59<00:20,  1.40s/it]\u001b[A\n",
      " 86%|████████▌ | 86/100 [02:01<00:19,  1.40s/it]\u001b[A\n",
      " 87%|████████▋ | 87/100 [02:02<00:18,  1.40s/it]\u001b[A\n",
      " 88%|████████▊ | 88/100 [02:04<00:16,  1.40s/it]\u001b[A\n",
      " 89%|████████▉ | 89/100 [02:05<00:15,  1.40s/it]\u001b[A\n",
      " 90%|█████████ | 90/100 [02:06<00:13,  1.40s/it]\u001b[A\n",
      " 91%|█████████ | 91/100 [02:08<00:12,  1.40s/it]\u001b[A\n",
      " 92%|█████████▏| 92/100 [02:09<00:11,  1.40s/it]\u001b[A\n",
      " 93%|█████████▎| 93/100 [02:11<00:09,  1.40s/it]\u001b[A\n",
      " 94%|█████████▍| 94/100 [02:12<00:08,  1.40s/it]\u001b[A\n",
      " 95%|█████████▌| 95/100 [02:13<00:07,  1.40s/it]\u001b[A\n",
      " 96%|█████████▌| 96/100 [02:15<00:05,  1.40s/it]\u001b[A\n",
      " 97%|█████████▋| 97/100 [02:16<00:04,  1.40s/it]\u001b[A\n",
      " 98%|█████████▊| 98/100 [02:18<00:02,  1.40s/it]\u001b[A\n",
      " 99%|█████████▉| 99/100 [02:19<00:01,  1.40s/it]\u001b[A\n",
      "100%|██████████| 100/100 [02:20<00:00,  1.40s/it]\u001b[A\n",
      "                                                 \u001b[A"
     ]
    },
    {
     "data": {
      "image/png": "[encoded data removed]",
      "text/plain": [
       "<Figure size 600x600 with 1 Axes>"
      ]
     },
     "metadata": {},
     "output_type": "display_data"
    }
   ],
   "source": [
    "reulst_aft_logreg = tuned_logreg.fit(X_train, y_train)\n",
    "y_pred_prob = reulst_aft_logreg.predict_proba(X_test)\n",
    "\n",
    "(\n",
    "    roc_auc_score(y_train, reulst_aft_logreg.predict_proba(X_train)[:, 1]), \n",
    "    roc_auc_score(y_test, y_pred_prob[:, 1]),\n",
    ")\n",
    "\n",
    "plot_roc_curves(y_test, y_pred_prob[:, 1], roc_auc_weights_test, n=100)"
   ]
  },
  {
   "cell_type": "code",
   "execution_count": 83,
   "metadata": {
    "execution": {
     "iopub.execute_input": "2025-02-12T16:38:40.239158Z",
     "iopub.status.busy": "2025-02-12T16:38:40.238450Z",
     "iopub.status.idle": "2025-02-12T16:38:43.534929Z",
     "shell.execute_reply": "2025-02-12T16:38:43.534023Z",
     "shell.execute_reply.started": "2025-02-12T16:38:40.239094Z"
    }
   },
   "outputs": [
    {
     "data": {
      "text/plain": [
       "(0.7322697183584244, 0.7047621877917829)"
      ]
     },
     "execution_count": 83,
     "metadata": {},
     "output_type": "execute_result"
    }
   ],
   "source": [
    "(\n",
    "    roc_auc_score(y_train, reulst_aft_logreg.predict_proba(X_train)[:, 1]), \n",
    "    roc_auc_score(y_test, y_pred_prob[:, 1]),\n",
    ")"
   ]
  },
  {
   "cell_type": "code",
   "execution_count": 82,
   "metadata": {
    "execution": {
     "iopub.execute_input": "2025-02-12T16:37:43.905506Z",
     "iopub.status.busy": "2025-02-12T16:37:43.905351Z",
     "iopub.status.idle": "2025-02-12T16:37:43.914685Z",
     "shell.execute_reply": "2025-02-12T16:37:43.913727Z",
     "shell.execute_reply.started": "2025-02-12T16:37:43.905491Z"
    }
   },
   "outputs": [
    {
     "data": {
      "text/plain": [
       "['data/models/aft_3_5_logreg.pickle']"
      ]
     },
     "execution_count": 82,
     "metadata": {},
     "output_type": "execute_result"
    }
   ],
   "source": [
    "joblib.dump(reulst_aft_logreg, \"data/models/aft_3_5_logreg.pickle\")"
   ]
  },
  {
   "cell_type": "markdown",
   "metadata": {},
   "source": [
    "# withoutaft, magn > 3.5"
   ]
  },
  {
   "cell_type": "markdown",
   "metadata": {},
   "source": [
    "## read "
   ]
  },
  {
   "cell_type": "code",
   "execution_count": 84,
   "metadata": {
    "execution": {
     "iopub.execute_input": "2025-02-12T19:24:45.465934Z",
     "iopub.status.busy": "2025-02-12T19:24:45.465238Z",
     "iopub.status.idle": "2025-02-12T19:24:45.477400Z",
     "shell.execute_reply": "2025-02-12T19:24:45.474855Z",
     "shell.execute_reply.started": "2025-02-12T19:24:45.465855Z"
    }
   },
   "outputs": [],
   "source": [
    "dataset_type_train = \"magn_3_5_withoutaft_train\"\n",
    "dataset_type_test = \"magn_3_5_withoutaft_test\"\n",
    "\n",
    "target = \"target\"\n",
    "dt_col = \"dt\"\n",
    "min_test_date = \"2020-10-14\"\n",
    "min_train_date = \"2014-03-17\"\n",
    "\n",
    "train_path = f\"data/dataset/{dataset_type_train}.parquet\"\n",
    "test_path = f\"data/dataset/{dataset_type_test}.parquet\""
   ]
  },
  {
   "cell_type": "code",
   "execution_count": 85,
   "metadata": {
    "execution": {
     "iopub.execute_input": "2025-02-12T19:24:46.211447Z",
     "iopub.status.busy": "2025-02-12T19:24:46.210800Z",
     "iopub.status.idle": "2025-02-12T19:24:58.154048Z",
     "shell.execute_reply": "2025-02-12T19:24:58.153026Z",
     "shell.execute_reply.started": "2025-02-12T19:24:46.211385Z"
    }
   },
   "outputs": [
    {
     "name": "stdout",
     "output_type": "stream",
     "text": [
      "train_path: data/dataset/magn_3_5_withoutaft_train.parquet\n",
      "test_path: data/dataset/magn_3_5_withoutaft_test.parquet\n",
      "\n",
      "get_features_dict:\n",
      " {0: [0, 1, 3, 5, 7, 10]\n",
      "3: [0, 1, 3, 5, 7, 10]\n",
      "5: [0, 1, 3, 5, 7, 10]}\n",
      "\n",
      "train dates: 2014-03-21 — 2020-10-05\n",
      "test dates: 2020-10-14 — 2023-05-21\n",
      "\n",
      "train: target==0: 1129198, target==1: 8402\n",
      "test: target==0: 4461907, target==1: 41093\n",
      "target class proportion: test: 0.009209739243780742, train: 0.007440679136874136\n"
     ]
    }
   ],
   "source": [
    "train_df, test_df = utils.get_train_test_datasets(\n",
    "    train_path=train_path, test_path=test_path, \n",
    "    min_test_date = min_test_date, min_train_date = min_train_date\n",
    ")"
   ]
  },
  {
   "cell_type": "code",
   "execution_count": 86,
   "metadata": {
    "execution": {
     "iopub.execute_input": "2025-02-12T19:24:58.155433Z",
     "iopub.status.busy": "2025-02-12T19:24:58.155253Z",
     "iopub.status.idle": "2025-02-12T19:24:58.160062Z",
     "shell.execute_reply": "2025-02-12T19:24:58.159292Z",
     "shell.execute_reply.started": "2025-02-12T19:24:58.155415Z"
    }
   },
   "outputs": [],
   "source": [
    "feature_cols = list(set(train_df.columns) - set([target, dt_col, \"horizon_min_dt\", \"horizon_max_dt\"]))"
   ]
  },
  {
   "cell_type": "code",
   "execution_count": 87,
   "metadata": {
    "execution": {
     "iopub.execute_input": "2025-02-12T19:24:58.160615Z",
     "iopub.status.busy": "2025-02-12T19:24:58.160485Z",
     "iopub.status.idle": "2025-02-12T19:25:05.908484Z",
     "shell.execute_reply": "2025-02-12T19:25:05.907589Z",
     "shell.execute_reply.started": "2025-02-12T19:24:58.160602Z"
    }
   },
   "outputs": [],
   "source": [
    "# train, test\n",
    "features = utils.Features(\n",
    "    features=feature_cols, target=target, dt_col=dt_col, \n",
    "    groupby=[\"cell_x\", \"cell_y\"], target_features=[]\n",
    ")\n",
    "\n",
    "X_train, y_train = features.make_features_target(train_df)\n",
    "X_test, y_test = features.make_features_target(test_df)"
   ]
  },
  {
   "cell_type": "code",
   "execution_count": 88,
   "metadata": {
    "execution": {
     "iopub.execute_input": "2025-02-12T19:25:05.909716Z",
     "iopub.status.busy": "2025-02-12T19:25:05.909551Z",
     "iopub.status.idle": "2025-02-12T19:25:07.420430Z",
     "shell.execute_reply": "2025-02-12T19:25:07.419624Z",
     "shell.execute_reply.started": "2025-02-12T19:25:05.909700Z"
    }
   },
   "outputs": [
    {
     "data": {
      "text/plain": [
       "dt        0\n",
       "cell_x    0\n",
       "cell_y    0\n",
       "target    0\n",
       "dtype: int64"
      ]
     },
     "execution_count": 88,
     "metadata": {},
     "output_type": "execute_result"
    }
   ],
   "source": [
    "y_test.reset_index().merge(y_train.reset_index(), how=\"left\").isna().sum()"
   ]
  },
  {
   "cell_type": "code",
   "execution_count": 89,
   "metadata": {
    "execution": {
     "iopub.execute_input": "2025-02-12T19:25:07.421165Z",
     "iopub.status.busy": "2025-02-12T19:25:07.421014Z",
     "iopub.status.idle": "2025-02-12T19:25:13.149593Z",
     "shell.execute_reply": "2025-02-12T19:25:13.148717Z",
     "shell.execute_reply.started": "2025-02-12T19:25:07.421151Z"
    }
   },
   "outputs": [
    {
     "name": "stderr",
     "output_type": "stream",
     "text": [
      "logisticregression hyperoptimisation:  20%|██        | 1/5 [4:47:01<19:08:06, 17221.57s/it]\n"
     ]
    }
   ],
   "source": [
    "# get weights for roc auc as probability density of occured earthquakes\n",
    "roc_auc_weights_test = get_weights_for_roc_auc(y=y_test, last_dt=min_test_date)\n",
    "roc_auc_weights_train = get_weights_for_roc_auc(y=y_train, last_dt=min_test_date)"
   ]
  },
  {
   "cell_type": "code",
   "execution_count": 90,
   "metadata": {
    "execution": {
     "iopub.execute_input": "2025-02-12T19:25:13.150451Z",
     "iopub.status.busy": "2025-02-12T19:25:13.150303Z",
     "iopub.status.idle": "2025-02-12T19:25:13.167402Z",
     "shell.execute_reply": "2025-02-12T19:25:13.166531Z",
     "shell.execute_reply.started": "2025-02-12T19:25:13.150436Z"
    }
   },
   "outputs": [],
   "source": [
    "assert len(roc_auc_weights_test) == len(roc_auc_weights_test[~np.isnan(roc_auc_weights_test)]) == len(y_test)\n",
    "assert len(roc_auc_weights_train) == len(roc_auc_weights_train[~np.isnan(roc_auc_weights_train)]) == len(y_train)"
   ]
  },
  {
   "cell_type": "code",
   "execution_count": 91,
   "metadata": {
    "execution": {
     "iopub.execute_input": "2025-02-12T19:25:13.168059Z",
     "iopub.status.busy": "2025-02-12T19:25:13.167916Z",
     "iopub.status.idle": "2025-02-12T19:25:13.270388Z",
     "shell.execute_reply": "2025-02-12T19:25:13.269595Z",
     "shell.execute_reply.started": "2025-02-12T19:25:13.168044Z"
    }
   },
   "outputs": [
    {
     "data": {
      "text/plain": [
       "(4503000,\n",
       " 1.0,\n",
       " array([0.00240385, 0.00480769, 0.00721154, 0.00961538, 0.01201923,\n",
       "        0.01442308, 0.01682692, 0.01923077, 0.02163462, 0.02403846,\n",
       "        0.02644231, 0.02884615, 0.03125   , 0.03365385, 0.03605769,\n",
       "        0.03846154, 0.04086538, 0.04326923, 0.04567308, 0.04807692,\n",
       "        0.05048077, 0.05288462, 0.05528846, 0.05769231, 0.06009615,\n",
       "        0.0625    , 0.06490385, 0.06730769, 0.06971154, 0.07211538,\n",
       "        0.07451923, 0.07692308, 0.07932692, 0.08173077, 0.08413462,\n",
       "        0.08653846, 0.08894231, 0.09134615, 0.09375   , 0.09615385,\n",
       "        0.09855769, 0.10096154, 0.10336538, 0.10576923, 0.10817308,\n",
       "        0.11057692, 0.11298077, 0.11538462, 0.11778846, 0.12019231,\n",
       "        0.12259615, 0.125     , 0.12740385, 0.12980769, 0.13221154,\n",
       "        0.13461538, 0.13701923, 0.13942308, 0.14182692, 0.14423077,\n",
       "        0.14663462, 0.14903846, 0.15144231, 0.15384615, 0.15625   ,\n",
       "        0.15865385, 0.16105769, 0.16346154, 0.16586538, 0.16826923,\n",
       "        0.17067308, 0.17307692, 0.17548077, 0.18028846, 0.18269231,\n",
       "        0.18509615, 0.1875    , 0.18990385, 0.19230769, 0.19471154,\n",
       "        0.19711538, 0.19951923, 0.20192308, 0.20432692, 0.20673077,\n",
       "        0.20913462, 0.21153846, 0.21394231, 0.21634615, 0.21875   ,\n",
       "        0.22115385, 0.22355769, 0.22596154, 0.22836538, 0.23076923,\n",
       "        0.23317308, 0.23557692, 0.24038462, 0.24278846, 0.24519231,\n",
       "        0.25      , 0.25240385, 0.25480769, 0.25721154, 0.25961538,\n",
       "        0.26201923, 0.26682692, 0.27403846, 0.27644231, 0.28365385,\n",
       "        0.28605769, 0.29086538, 0.29326923, 0.30048077, 0.30288462,\n",
       "        0.30528846, 0.30769231, 0.3125    , 0.31730769, 0.32451923,\n",
       "        0.32692308, 0.33173077, 0.33653846, 0.33894231, 0.34375   ,\n",
       "        0.35336538, 0.35817308, 0.36538462, 0.37019231, 0.37259615,\n",
       "        0.37740385, 0.38221154, 0.38942308, 0.39423077, 0.39663462,\n",
       "        0.39903846, 0.41105769, 0.42788462, 0.43028846, 0.43269231,\n",
       "        0.44951923, 0.45432692, 0.46394231, 0.47355769, 0.49038462,\n",
       "        0.52884615, 0.54807692, 0.55288462, 0.57932692, 0.59375   ,\n",
       "        0.59855769, 0.62740385, 0.64182692, 0.66346154, 0.71634615,\n",
       "        0.82211538, 0.87259615, 1.        ]))"
      ]
     },
     "execution_count": 91,
     "metadata": {},
     "output_type": "execute_result"
    }
   ],
   "source": [
    "len(roc_auc_weights_test[roc_auc_weights_test > 0.0]), np.max(roc_auc_weights_test), np.unique(roc_auc_weights_test)"
   ]
  },
  {
   "cell_type": "code",
   "execution_count": 92,
   "metadata": {
    "execution": {
     "iopub.execute_input": "2025-02-12T19:25:13.271024Z",
     "iopub.status.busy": "2025-02-12T19:25:13.270876Z",
     "iopub.status.idle": "2025-02-12T19:25:13.412966Z",
     "shell.execute_reply": "2025-02-12T19:25:13.412183Z",
     "shell.execute_reply.started": "2025-02-12T19:25:13.271010Z"
    }
   },
   "outputs": [
    {
     "data": {
      "image/png": "[encoded data removed]",
      "text/plain": [
       "<Figure size 640x480 with 1 Axes>"
      ]
     },
     "metadata": {},
     "output_type": "display_data"
    }
   ],
   "source": [
    "plt.hist(roc_auc_weights_test[roc_auc_weights_test > 0.0], range=(0, 1.0), bins=20);"
   ]
  },
  {
   "cell_type": "code",
   "execution_count": 93,
   "metadata": {
    "execution": {
     "iopub.execute_input": "2025-02-12T19:25:13.413499Z",
     "iopub.status.busy": "2025-02-12T19:25:13.413356Z",
     "iopub.status.idle": "2025-02-12T19:25:13.417642Z",
     "shell.execute_reply": "2025-02-12T19:25:13.416910Z",
     "shell.execute_reply.started": "2025-02-12T19:25:13.413485Z"
    }
   },
   "outputs": [],
   "source": [
    "y_train = y_train[target]\n",
    "y_test = y_test[target]"
   ]
  },
  {
   "cell_type": "code",
   "execution_count": 94,
   "metadata": {
    "execution": {
     "iopub.execute_input": "2025-02-12T19:25:13.419079Z",
     "iopub.status.busy": "2025-02-12T19:25:13.418936Z",
     "iopub.status.idle": "2025-02-12T19:25:13.426785Z",
     "shell.execute_reply": "2025-02-12T19:25:13.426036Z",
     "shell.execute_reply.started": "2025-02-12T19:25:13.419065Z"
    }
   },
   "outputs": [
    {
     "data": {
      "text/plain": [
       "(8402, 41093)"
      ]
     },
     "execution_count": 94,
     "metadata": {},
     "output_type": "execute_result"
    }
   ],
   "source": [
    "y_train.sum(), y_test.sum()"
   ]
  },
  {
   "cell_type": "markdown",
   "metadata": {},
   "source": [
    "## logreg"
   ]
  },
  {
   "cell_type": "code",
   "execution_count": 95,
   "metadata": {
    "execution": {
     "iopub.execute_input": "2025-02-12T19:25:13.427309Z",
     "iopub.status.busy": "2025-02-12T19:25:13.427160Z",
     "iopub.status.idle": "2025-02-12T19:25:13.709960Z",
     "shell.execute_reply": "2025-02-12T19:25:13.709152Z",
     "shell.execute_reply.started": "2025-02-12T19:25:13.427294Z"
    }
   },
   "outputs": [
    {
     "data": {
      "text/plain": [
       "3"
      ]
     },
     "execution_count": 95,
     "metadata": {},
     "output_type": "execute_result"
    }
   ],
   "source": [
    "cv = utils.MonthlyTimeSeriesSplit(window=20)\n",
    "cv.get_n_splits(X_train)"
   ]
  },
  {
   "cell_type": "code",
   "execution_count": 96,
   "metadata": {
    "execution": {
     "iopub.execute_input": "2025-02-12T19:25:13.710619Z",
     "iopub.status.busy": "2025-02-12T19:25:13.710474Z",
     "iopub.status.idle": "2025-02-12T19:25:19.250409Z",
     "shell.execute_reply": "2025-02-12T19:25:19.249542Z",
     "shell.execute_reply.started": "2025-02-12T19:25:13.710605Z"
    }
   },
   "outputs": [
    {
     "name": "stdout",
     "output_type": "stream",
     "text": [
      "train: [2014-03-21, 2015-10-22], len: 279660 | test: [2015-11-01, 2017-06-23], len: 289140\n",
      "train: [2014-03-21, 2017-06-23], len: 568800 | test: [2017-07-03, 2019-02-23], len: 289140\n",
      "train: [2014-03-21, 2019-02-23], len: 857940 | test: [2019-03-05, 2020-10-05], len: 279660\n"
     ]
    }
   ],
   "source": [
    "for split_train, split_test in cv.split(X_train):\n",
    "    train_start = np.sort(X_train.iloc[split_train].drop(columns=[\"cell_x\", \"cell_y\"]).reset_index()[\"dt\"].unique())[0]\n",
    "    train_end = np.sort(X_train.iloc[split_train].drop(columns=[\"cell_x\", \"cell_y\"]).reset_index()[\"dt\"].unique())[-1]\n",
    "    test_start = np.sort(X_train.iloc[split_test].drop(columns=[\"cell_x\", \"cell_y\"]).reset_index()[\"dt\"].unique())[0]\n",
    "    test_end = np.sort(X_train.iloc[split_test].drop(columns=[\"cell_x\", \"cell_y\"]).reset_index()[\"dt\"].unique())[-1]\n",
    "\n",
    "    print(f\"train: [{train_start}, {train_end}], len: {len(split_train)} | test: [{test_start}, {test_end}], len: {len(split_test)}\")"
   ]
  },
  {
   "cell_type": "markdown",
   "metadata": {},
   "source": [
    "### baseline"
   ]
  },
  {
   "cell_type": "code",
   "execution_count": 97,
   "metadata": {
    "execution": {
     "iopub.execute_input": "2025-02-12T19:25:19.251416Z",
     "iopub.status.busy": "2025-02-12T19:25:19.251268Z",
     "iopub.status.idle": "2025-02-12T19:29:49.987977Z",
     "shell.execute_reply": "2025-02-12T19:29:49.987118Z",
     "shell.execute_reply.started": "2025-02-12T19:25:19.251402Z"
    }
   },
   "outputs": [
    {
     "name": "stderr",
     "output_type": "stream",
     "text": [
      "                                                 \r"
     ]
    },
    {
     "data": {
      "image/png": "[encoded data removed]",
      "text/plain": [
       "<Figure size 600x600 with 1 Axes>"
      ]
     },
     "metadata": {},
     "output_type": "display_data"
    }
   ],
   "source": [
    "params = {\n",
    "    \"C\": 1.0,\n",
    "    \"max_iter\": 1500,\n",
    "}\n",
    "\n",
    "logreg_model = train.get_logreg_model(feature_cols, params)\n",
    "\n",
    "logreg_model = logreg_model.fit(X_train, y_train)\n",
    "y_pred_prob = logreg_model.predict_proba(X_test)\n",
    "\n",
    "baseline_roc_auc = roc_auc_score(y_test, y_pred_prob[:, 1])\n",
    "\n",
    "plot_roc_curves(y_test, y_pred_prob[:, 1], roc_auc_weights_test, n=100)"
   ]
  },
  {
   "cell_type": "code",
   "execution_count": 100,
   "metadata": {
    "execution": {
     "iopub.execute_input": "2025-02-12T19:30:34.536047Z",
     "iopub.status.busy": "2025-02-12T19:30:34.535367Z",
     "iopub.status.idle": "2025-02-12T19:30:34.930456Z",
     "shell.execute_reply": "2025-02-12T19:30:34.929267Z",
     "shell.execute_reply.started": "2025-02-12T19:30:34.535985Z"
    }
   },
   "outputs": [
    {
     "data": {
      "text/plain": [
       "4503000"
      ]
     },
     "execution_count": 100,
     "metadata": {},
     "output_type": "execute_result"
    }
   ],
   "source": [
    "len(np.unique(y_pred_prob[:, 1]))"
   ]
  },
  {
   "cell_type": "code",
   "execution_count": 101,
   "metadata": {
    "execution": {
     "iopub.execute_input": "2025-02-12T19:31:22.544080Z",
     "iopub.status.busy": "2025-02-12T19:31:22.542585Z",
     "iopub.status.idle": "2025-02-12T19:31:28.178829Z",
     "shell.execute_reply": "2025-02-12T19:31:28.177873Z",
     "shell.execute_reply.started": "2025-02-12T19:31:22.543998Z"
    }
   },
   "outputs": [
    {
     "data": {
      "text/plain": [
       "(0.7343555780613371, 0.6420150106542636)"
      ]
     },
     "execution_count": 101,
     "metadata": {},
     "output_type": "execute_result"
    }
   ],
   "source": [
    "(\n",
    "    roc_auc_score(y_train, logreg_model.predict_proba(X_train)[:, 1]), \n",
    "    roc_auc_score(y_test, y_pred_prob[:, 1])\n",
    ")"
   ]
  },
  {
   "cell_type": "markdown",
   "metadata": {},
   "source": [
    "### rfecv feature selection"
   ]
  },
  {
   "cell_type": "code",
   "execution_count": 116,
   "metadata": {
    "execution": {
     "iopub.execute_input": "2025-02-12T19:40:15.122764Z",
     "iopub.status.busy": "2025-02-12T19:40:15.122084Z",
     "iopub.status.idle": "2025-02-12T19:40:15.137468Z",
     "shell.execute_reply": "2025-02-12T19:40:15.135459Z",
     "shell.execute_reply.started": "2025-02-12T19:40:15.122704Z"
    }
   },
   "outputs": [],
   "source": [
    "def logreg_rfe_select(X_train, y_train, feature_cols, cv, params=None, min_features_to_select=10, step=5, n_jobs=20):\n",
    "    if params is None:\n",
    "        params = {\n",
    "            \"C\": 1.0,\n",
    "            \"max_iter\": 1500,\n",
    "        }\n",
    "    \n",
    "    preprocesser = get_logreg_preprocesser(feature_cols)\n",
    "    X_train_transformed = preprocesser.fit_transform(X_train)\n",
    "\n",
    "    rfecv = RFECV(\n",
    "        estimator=LogisticRegression(**params),\n",
    "        step=step,\n",
    "        cv=cv.split(X_train_transformed),\n",
    "        scoring=\"roc_auc\",\n",
    "        min_features_to_select=min_features_to_select,\n",
    "        n_jobs=n_jobs,\n",
    "    )\n",
    "\n",
    "    rfecv = rfecv.fit(X_train_transformed, y_train)\n",
    "    \n",
    "    print(f\"Optimal number of features: {rfecv.n_features_}\")\n",
    "    selected_features = np.asarray(feature_cols)[rfecv.support_].tolist()\n",
    "    \n",
    "    return selected_features"
   ]
  },
  {
   "cell_type": "code",
   "execution_count": 117,
   "metadata": {
    "execution": {
     "iopub.execute_input": "2025-02-12T19:40:22.468130Z",
     "iopub.status.busy": "2025-02-12T19:40:22.467478Z",
     "iopub.status.idle": "2025-02-12T20:12:22.910015Z",
     "shell.execute_reply": "2025-02-12T20:12:22.908988Z",
     "shell.execute_reply.started": "2025-02-12T19:40:22.468068Z"
    }
   },
   "outputs": [
    {
     "name": "stdout",
     "output_type": "stream",
     "text": [
      "Optimal number of features: 87\n"
     ]
    }
   ],
   "source": [
    "rfecv_features = logreg_rfe_select(\n",
    "    X_train, y_train, feature_cols, cv, params=None, min_features_to_select=10, step=5, n_jobs=20\n",
    ")"
   ]
  },
  {
   "cell_type": "code",
   "execution_count": 118,
   "metadata": {
    "execution": {
     "iopub.execute_input": "2025-02-12T20:12:22.911901Z",
     "iopub.status.busy": "2025-02-12T20:12:22.911464Z",
     "iopub.status.idle": "2025-02-12T20:12:22.917017Z",
     "shell.execute_reply": "2025-02-12T20:12:22.916522Z",
     "shell.execute_reply.started": "2025-02-12T20:12:22.911879Z"
    }
   },
   "outputs": [
    {
     "data": {
      "text/plain": [
       "['min_magn_365_rad5',\n",
       " 'max_magn_365_rad0',\n",
       " 'mean_magn_1095_rad5',\n",
       " 'min_magn_1825_rad0',\n",
       " 'mean_magn_1825_rad5',\n",
       " 'min_magn_180_rad5',\n",
       " 'mean_magn_180_rad0',\n",
       " 'count_earthquakes_2555_rad0',\n",
       " 'min_magn_3650_rad0',\n",
       " 'mean_magn_3650_rad0',\n",
       " 'mean_magn_1825_rad3',\n",
       " 'std_magn_180_rad5',\n",
       " 'std_magn_90_rad5',\n",
       " 'max_magn_1095_rad5',\n",
       " 'count_earthquakes_1825_rad3',\n",
       " 'std_magn_2555_rad3',\n",
       " 'max_magn_365_rad3',\n",
       " 'count_earthquakes_180_rad5',\n",
       " 'mean_magn_2555_rad0',\n",
       " 'mean_magn_180_rad5',\n",
       " 'mean_magn_180_rad3',\n",
       " 'count_earthquakes_60_rad5',\n",
       " 'max_magn_60_rad0',\n",
       " 'min_magn_180_rad3',\n",
       " 'count_earthquakes_2555_rad3',\n",
       " 'mean_magn_60_rad5',\n",
       " 'max_magn_1825_rad3',\n",
       " 'min_magn_90_rad0',\n",
       " 'max_magn_1095_rad0',\n",
       " 'std_magn_180_rad3',\n",
       " 'mean_magn_2555_rad5',\n",
       " 'std_magn_60_rad3',\n",
       " 'min_magn_365_rad3',\n",
       " 'cell_x',\n",
       " 'count_earthquakes_1825_rad0',\n",
       " 'max_magn_90_rad0',\n",
       " 'max_magn_90_rad3',\n",
       " 'min_magn_1825_rad5',\n",
       " 'min_magn_60_rad5',\n",
       " 'std_magn_3650_rad0',\n",
       " 'std_magn_1825_rad0',\n",
       " 'min_magn_60_rad3',\n",
       " 'max_magn_3650_rad0',\n",
       " 'count_earthquakes_180_rad3',\n",
       " 'min_magn_180_rad0',\n",
       " 'count_earthquakes_3650_rad3',\n",
       " 'min_magn_1825_rad3',\n",
       " 'min_magn_3650_rad5',\n",
       " 'mean_magn_365_rad0',\n",
       " 'mean_magn_365_rad5',\n",
       " 'cell_y',\n",
       " 'min_magn_2555_rad0',\n",
       " 'count_earthquakes_2555_rad5',\n",
       " 'max_magn_180_rad0',\n",
       " 'max_magn_1825_rad5',\n",
       " 'mean_magn_365_rad3',\n",
       " 'day_of_year',\n",
       " 'max_magn_1825_rad0',\n",
       " 'min_magn_1095_rad5',\n",
       " 'max_magn_60_rad5',\n",
       " 'mean_magn_2555_rad3',\n",
       " 'min_magn_1095_rad0',\n",
       " 'min_magn_1095_rad3',\n",
       " 'lat_cell',\n",
       " 'mean_magn_60_rad3',\n",
       " 'min_magn_60_rad0',\n",
       " 'std_magn_60_rad5',\n",
       " 'mean_magn_1825_rad0',\n",
       " 'min_magn_90_rad3',\n",
       " 'min_magn_365_rad0',\n",
       " 'std_magn_1825_rad5',\n",
       " 'max_magn_180_rad3',\n",
       " 'max_magn_60_rad3',\n",
       " 'lon_cell',\n",
       " 'min_magn_90_rad5',\n",
       " 'count_earthquakes_3650_rad5',\n",
       " 'max_magn_180_rad5',\n",
       " 'dt_month',\n",
       " 'mean_magn_90_rad3',\n",
       " 'max_magn_2555_rad3',\n",
       " 'max_magn_2555_rad0',\n",
       " 'mean_magn_90_rad5',\n",
       " 'count_earthquakes_365_rad0',\n",
       " 'std_magn_1095_rad5',\n",
       " 'max_magn_1095_rad3',\n",
       " 'mean_magn_1095_rad3',\n",
       " 'count_earthquakes_365_rad5']"
      ]
     },
     "execution_count": 118,
     "metadata": {},
     "output_type": "execute_result"
    }
   ],
   "source": [
    "rfecv_features"
   ]
  },
  {
   "cell_type": "code",
   "execution_count": 119,
   "metadata": {
    "execution": {
     "iopub.execute_input": "2025-02-12T20:12:22.917851Z",
     "iopub.status.busy": "2025-02-12T20:12:22.917652Z",
     "iopub.status.idle": "2025-02-12T20:12:22.922097Z",
     "shell.execute_reply": "2025-02-12T20:12:22.921677Z",
     "shell.execute_reply.started": "2025-02-12T20:12:22.917829Z"
    }
   },
   "outputs": [
    {
     "data": {
      "text/plain": [
       "{0: [0, 1, 3, 5, 7, 10], 3: [0, 1, 3, 5, 7, 10], 5: [0, 1, 3, 5, 7, 10]}"
      ]
     },
     "execution_count": 119,
     "metadata": {},
     "output_type": "execute_result"
    }
   ],
   "source": [
    "utils.get_features_dict(rfecv_features)"
   ]
  },
  {
   "cell_type": "code",
   "execution_count": 120,
   "metadata": {
    "execution": {
     "iopub.execute_input": "2025-02-12T20:12:22.923211Z",
     "iopub.status.busy": "2025-02-12T20:12:22.923059Z",
     "iopub.status.idle": "2025-02-12T20:15:57.680074Z",
     "shell.execute_reply": "2025-02-12T20:15:57.679487Z",
     "shell.execute_reply.started": "2025-02-12T20:12:22.923197Z"
    }
   },
   "outputs": [
    {
     "name": "stderr",
     "output_type": "stream",
     "text": [
      "                                                 \r"
     ]
    },
    {
     "data": {
      "image/png": "[encoded data removed]",
      "text/plain": [
       "<Figure size 600x600 with 1 Axes>"
      ]
     },
     "metadata": {},
     "output_type": "display_data"
    }
   ],
   "source": [
    "params = {\n",
    "    \"C\": 1.0,\n",
    "    \"max_iter\": 1500,\n",
    "}\n",
    "\n",
    "logreg_model = train.get_logreg_model(rfecv_features, params)\n",
    "\n",
    "logreg_model = logreg_model.fit(X_train, y_train)\n",
    "y_pred_prob = logreg_model.predict_proba(X_test)\n",
    "\n",
    "\n",
    "(\n",
    "    roc_auc_score(y_train, logreg_model.predict_proba(X_train)[:, 1]), \n",
    "    roc_auc_score(y_test, y_pred_prob[:, 1])\n",
    ")\n",
    "\n",
    "plot_roc_curves(y_test, y_pred_prob[:, 1], roc_auc_weights_test, n=100)"
   ]
  },
  {
   "cell_type": "markdown",
   "metadata": {},
   "source": [
    "### hyper optimiziation"
   ]
  },
  {
   "cell_type": "code",
   "execution_count": 121,
   "metadata": {
    "execution": {
     "iopub.execute_input": "2025-02-12T20:15:57.680864Z",
     "iopub.status.busy": "2025-02-12T20:15:57.680701Z",
     "iopub.status.idle": "2025-02-13T00:14:58.247603Z",
     "shell.execute_reply": "2025-02-13T00:14:58.246735Z",
     "shell.execute_reply.started": "2025-02-12T20:15:57.680848Z"
    },
    "scrolled": true
   },
   "outputs": [
    {
     "name": "stdout",
     "output_type": "stream",
     "text": [
      "using MonthlyTimeSeriesSplit\n"
     ]
    },
    {
     "name": "stderr",
     "output_type": "stream",
     "text": [
      "logisticregression hyperoptimisation:   1%|          | 1/100 [01:11<1:58:18, 71.70s/it]/home/prc/anaconda3/envs/smartdevds10/lib/python3.10/site-packages/sklearn/linear_model/_logistic.py:458: ConvergenceWarning: lbfgs failed to converge (status=1):\n",
      "STOP: TOTAL NO. of ITERATIONS REACHED LIMIT.\n",
      "\n",
      "Increase the number of iterations (max_iter) or scale the data as shown in:\n",
      "    https://scikit-learn.org/stable/modules/preprocessing.html\n",
      "Please also refer to the documentation for alternative solver options:\n",
      "    https://scikit-learn.org/stable/modules/linear_model.html#logistic-regression\n",
      "  n_iter_i = _check_optimize_result(\n",
      "/home/prc/anaconda3/envs/smartdevds10/lib/python3.10/site-packages/sklearn/linear_model/_logistic.py:458: ConvergenceWarning: lbfgs failed to converge (status=1):\n",
      "STOP: TOTAL NO. of ITERATIONS REACHED LIMIT.\n",
      "\n",
      "Increase the number of iterations (max_iter) or scale the data as shown in:\n",
      "    https://scikit-learn.org/stable/modules/preprocessing.html\n",
      "Please also refer to the documentation for alternative solver options:\n",
      "    https://scikit-learn.org/stable/modules/linear_model.html#logistic-regression\n",
      "  n_iter_i = _check_optimize_result(\n",
      "logisticregression hyperoptimisation:   2%|▏         | 2/100 [03:52<3:22:37, 124.05s/it]/home/prc/anaconda3/envs/smartdevds10/lib/python3.10/site-packages/sklearn/linear_model/_logistic.py:458: ConvergenceWarning: lbfgs failed to converge (status=1):\n",
      "STOP: TOTAL NO. of ITERATIONS REACHED LIMIT.\n",
      "\n",
      "Increase the number of iterations (max_iter) or scale the data as shown in:\n",
      "    https://scikit-learn.org/stable/modules/preprocessing.html\n",
      "Please also refer to the documentation for alternative solver options:\n",
      "    https://scikit-learn.org/stable/modules/linear_model.html#logistic-regression\n",
      "  n_iter_i = _check_optimize_result(\n",
      "/home/prc/anaconda3/envs/smartdevds10/lib/python3.10/site-packages/sklearn/linear_model/_logistic.py:458: ConvergenceWarning: lbfgs failed to converge (status=1):\n",
      "STOP: TOTAL NO. of ITERATIONS REACHED LIMIT.\n",
      "\n",
      "Increase the number of iterations (max_iter) or scale the data as shown in:\n",
      "    https://scikit-learn.org/stable/modules/preprocessing.html\n",
      "Please also refer to the documentation for alternative solver options:\n",
      "    https://scikit-learn.org/stable/modules/linear_model.html#logistic-regression\n",
      "  n_iter_i = _check_optimize_result(\n",
      "/home/prc/anaconda3/envs/smartdevds10/lib/python3.10/site-packages/sklearn/linear_model/_logistic.py:458: ConvergenceWarning: lbfgs failed to converge (status=1):\n",
      "STOP: TOTAL NO. of ITERATIONS REACHED LIMIT.\n",
      "\n",
      "Increase the number of iterations (max_iter) or scale the data as shown in:\n",
      "    https://scikit-learn.org/stable/modules/preprocessing.html\n",
      "Please also refer to the documentation for alternative solver options:\n",
      "    https://scikit-learn.org/stable/modules/linear_model.html#logistic-regression\n",
      "  n_iter_i = _check_optimize_result(\n",
      "/home/prc/anaconda3/envs/smartdevds10/lib/python3.10/site-packages/sklearn/linear_model/_logistic.py:458: ConvergenceWarning: lbfgs failed to converge (status=1):\n",
      "STOP: TOTAL NO. of ITERATIONS REACHED LIMIT.\n",
      "\n",
      "Increase the number of iterations (max_iter) or scale the data as shown in:\n",
      "    https://scikit-learn.org/stable/modules/preprocessing.html\n",
      "Please also refer to the documentation for alternative solver options:\n",
      "    https://scikit-learn.org/stable/modules/linear_model.html#logistic-regression\n",
      "  n_iter_i = _check_optimize_result(\n",
      "logisticregression hyperoptimisation:   3%|▎         | 3/100 [06:32<3:47:19, 140.61s/it]/home/prc/anaconda3/envs/smartdevds10/lib/python3.10/site-packages/sklearn/linear_model/_logistic.py:458: ConvergenceWarning: lbfgs failed to converge (status=1):\n",
      "STOP: TOTAL NO. of ITERATIONS REACHED LIMIT.\n",
      "\n",
      "Increase the number of iterations (max_iter) or scale the data as shown in:\n",
      "    https://scikit-learn.org/stable/modules/preprocessing.html\n",
      "Please also refer to the documentation for alternative solver options:\n",
      "    https://scikit-learn.org/stable/modules/linear_model.html#logistic-regression\n",
      "  n_iter_i = _check_optimize_result(\n",
      "/home/prc/anaconda3/envs/smartdevds10/lib/python3.10/site-packages/sklearn/linear_model/_logistic.py:458: ConvergenceWarning: lbfgs failed to converge (status=1):\n",
      "STOP: TOTAL NO. of ITERATIONS REACHED LIMIT.\n",
      "\n",
      "Increase the number of iterations (max_iter) or scale the data as shown in:\n",
      "    https://scikit-learn.org/stable/modules/preprocessing.html\n",
      "Please also refer to the documentation for alternative solver options:\n",
      "    https://scikit-learn.org/stable/modules/linear_model.html#logistic-regression\n",
      "  n_iter_i = _check_optimize_result(\n",
      "/home/prc/anaconda3/envs/smartdevds10/lib/python3.10/site-packages/sklearn/linear_model/_logistic.py:458: ConvergenceWarning: lbfgs failed to converge (status=1):\n",
      "STOP: TOTAL NO. of ITERATIONS REACHED LIMIT.\n",
      "\n",
      "Increase the number of iterations (max_iter) or scale the data as shown in:\n",
      "    https://scikit-learn.org/stable/modules/preprocessing.html\n",
      "Please also refer to the documentation for alternative solver options:\n",
      "    https://scikit-learn.org/stable/modules/linear_model.html#logistic-regression\n",
      "  n_iter_i = _check_optimize_result(\n",
      "/home/prc/anaconda3/envs/smartdevds10/lib/python3.10/site-packages/sklearn/linear_model/_logistic.py:458: ConvergenceWarning: lbfgs failed to converge (status=1):\n",
      "STOP: TOTAL NO. of ITERATIONS REACHED LIMIT.\n",
      "\n",
      "Increase the number of iterations (max_iter) or scale the data as shown in:\n",
      "    https://scikit-learn.org/stable/modules/preprocessing.html\n",
      "Please also refer to the documentation for alternative solver options:\n",
      "    https://scikit-learn.org/stable/modules/linear_model.html#logistic-regression\n",
      "  n_iter_i = _check_optimize_result(\n",
      "logisticregression hyperoptimisation:   4%|▍         | 4/100 [08:41<3:37:30, 135.94s/it]/home/prc/anaconda3/envs/smartdevds10/lib/python3.10/site-packages/sklearn/linear_model/_logistic.py:458: ConvergenceWarning: lbfgs failed to converge (status=1):\n",
      "STOP: TOTAL NO. of ITERATIONS REACHED LIMIT.\n",
      "\n",
      "Increase the number of iterations (max_iter) or scale the data as shown in:\n",
      "    https://scikit-learn.org/stable/modules/preprocessing.html\n",
      "Please also refer to the documentation for alternative solver options:\n",
      "    https://scikit-learn.org/stable/modules/linear_model.html#logistic-regression\n",
      "  n_iter_i = _check_optimize_result(\n",
      "/home/prc/anaconda3/envs/smartdevds10/lib/python3.10/site-packages/sklearn/linear_model/_logistic.py:458: ConvergenceWarning: lbfgs failed to converge (status=1):\n",
      "STOP: TOTAL NO. of ITERATIONS REACHED LIMIT.\n",
      "\n",
      "Increase the number of iterations (max_iter) or scale the data as shown in:\n",
      "    https://scikit-learn.org/stable/modules/preprocessing.html\n",
      "Please also refer to the documentation for alternative solver options:\n",
      "    https://scikit-learn.org/stable/modules/linear_model.html#logistic-regression\n",
      "  n_iter_i = _check_optimize_result(\n",
      "/home/prc/anaconda3/envs/smartdevds10/lib/python3.10/site-packages/sklearn/linear_model/_logistic.py:458: ConvergenceWarning: lbfgs failed to converge (status=1):\n",
      "STOP: TOTAL NO. of ITERATIONS REACHED LIMIT.\n",
      "\n",
      "Increase the number of iterations (max_iter) or scale the data as shown in:\n",
      "    https://scikit-learn.org/stable/modules/preprocessing.html\n",
      "Please also refer to the documentation for alternative solver options:\n",
      "    https://scikit-learn.org/stable/modules/linear_model.html#logistic-regression\n",
      "  n_iter_i = _check_optimize_result(\n",
      "/home/prc/anaconda3/envs/smartdevds10/lib/python3.10/site-packages/sklearn/linear_model/_logistic.py:458: ConvergenceWarning: lbfgs failed to converge (status=1):\n",
      "STOP: TOTAL NO. of ITERATIONS REACHED LIMIT.\n",
      "\n",
      "Increase the number of iterations (max_iter) or scale the data as shown in:\n",
      "    https://scikit-learn.org/stable/modules/preprocessing.html\n",
      "Please also refer to the documentation for alternative solver options:\n",
      "    https://scikit-learn.org/stable/modules/linear_model.html#logistic-regression\n",
      "  n_iter_i = _check_optimize_result(\n",
      "logisticregression hyperoptimisation:   6%|▌         | 6/100 [14:52<4:17:22, 164.28s/it]/home/prc/anaconda3/envs/smartdevds10/lib/python3.10/site-packages/sklearn/linear_model/_logistic.py:458: ConvergenceWarning: lbfgs failed to converge (status=1):\n",
      "STOP: TOTAL NO. of ITERATIONS REACHED LIMIT.\n",
      "\n",
      "Increase the number of iterations (max_iter) or scale the data as shown in:\n",
      "    https://scikit-learn.org/stable/modules/preprocessing.html\n",
      "Please also refer to the documentation for alternative solver options:\n",
      "    https://scikit-learn.org/stable/modules/linear_model.html#logistic-regression\n",
      "  n_iter_i = _check_optimize_result(\n",
      "logisticregression hyperoptimisation:   8%|▊         | 8/100 [19:01<3:36:07, 140.95s/it]/home/prc/anaconda3/envs/smartdevds10/lib/python3.10/site-packages/sklearn/linear_model/_logistic.py:458: ConvergenceWarning: lbfgs failed to converge (status=1):\n",
      "STOP: TOTAL NO. of ITERATIONS REACHED LIMIT.\n",
      "\n",
      "Increase the number of iterations (max_iter) or scale the data as shown in:\n",
      "    https://scikit-learn.org/stable/modules/preprocessing.html\n",
      "Please also refer to the documentation for alternative solver options:\n",
      "    https://scikit-learn.org/stable/modules/linear_model.html#logistic-regression\n",
      "  n_iter_i = _check_optimize_result(\n",
      "/home/prc/anaconda3/envs/smartdevds10/lib/python3.10/site-packages/sklearn/linear_model/_logistic.py:458: ConvergenceWarning: lbfgs failed to converge (status=1):\n",
      "STOP: TOTAL NO. of ITERATIONS REACHED LIMIT.\n",
      "\n",
      "Increase the number of iterations (max_iter) or scale the data as shown in:\n",
      "    https://scikit-learn.org/stable/modules/preprocessing.html\n",
      "Please also refer to the documentation for alternative solver options:\n",
      "    https://scikit-learn.org/stable/modules/linear_model.html#logistic-regression\n",
      "  n_iter_i = _check_optimize_result(\n",
      "/home/prc/anaconda3/envs/smartdevds10/lib/python3.10/site-packages/sklearn/linear_model/_logistic.py:458: ConvergenceWarning: lbfgs failed to converge (status=1):\n",
      "STOP: TOTAL NO. of ITERATIONS REACHED LIMIT.\n",
      "\n",
      "Increase the number of iterations (max_iter) or scale the data as shown in:\n",
      "    https://scikit-learn.org/stable/modules/preprocessing.html\n",
      "Please also refer to the documentation for alternative solver options:\n",
      "    https://scikit-learn.org/stable/modules/linear_model.html#logistic-regression\n",
      "  n_iter_i = _check_optimize_result(\n",
      "/home/prc/anaconda3/envs/smartdevds10/lib/python3.10/site-packages/sklearn/linear_model/_logistic.py:458: ConvergenceWarning: lbfgs failed to converge (status=1):\n",
      "STOP: TOTAL NO. of ITERATIONS REACHED LIMIT.\n",
      "\n",
      "Increase the number of iterations (max_iter) or scale the data as shown in:\n",
      "    https://scikit-learn.org/stable/modules/preprocessing.html\n",
      "Please also refer to the documentation for alternative solver options:\n",
      "    https://scikit-learn.org/stable/modules/linear_model.html#logistic-regression\n",
      "  n_iter_i = _check_optimize_result(\n",
      "logisticregression hyperoptimisation:   9%|▉         | 9/100 [22:24<4:02:54, 160.16s/it]/home/prc/anaconda3/envs/smartdevds10/lib/python3.10/site-packages/sklearn/linear_model/_logistic.py:458: ConvergenceWarning: lbfgs failed to converge (status=1):\n",
      "STOP: TOTAL NO. of ITERATIONS REACHED LIMIT.\n",
      "\n",
      "Increase the number of iterations (max_iter) or scale the data as shown in:\n",
      "    https://scikit-learn.org/stable/modules/preprocessing.html\n",
      "Please also refer to the documentation for alternative solver options:\n",
      "    https://scikit-learn.org/stable/modules/linear_model.html#logistic-regression\n",
      "  n_iter_i = _check_optimize_result(\n",
      "/home/prc/anaconda3/envs/smartdevds10/lib/python3.10/site-packages/sklearn/linear_model/_logistic.py:458: ConvergenceWarning: lbfgs failed to converge (status=1):\n",
      "STOP: TOTAL NO. of ITERATIONS REACHED LIMIT.\n",
      "\n",
      "Increase the number of iterations (max_iter) or scale the data as shown in:\n",
      "    https://scikit-learn.org/stable/modules/preprocessing.html\n",
      "Please also refer to the documentation for alternative solver options:\n",
      "    https://scikit-learn.org/stable/modules/linear_model.html#logistic-regression\n",
      "  n_iter_i = _check_optimize_result(\n",
      "/home/prc/anaconda3/envs/smartdevds10/lib/python3.10/site-packages/sklearn/linear_model/_logistic.py:458: ConvergenceWarning: lbfgs failed to converge (status=1):\n",
      "STOP: TOTAL NO. of ITERATIONS REACHED LIMIT.\n",
      "\n",
      "Increase the number of iterations (max_iter) or scale the data as shown in:\n",
      "    https://scikit-learn.org/stable/modules/preprocessing.html\n",
      "Please also refer to the documentation for alternative solver options:\n",
      "    https://scikit-learn.org/stable/modules/linear_model.html#logistic-regression\n",
      "  n_iter_i = _check_optimize_result(\n",
      "/home/prc/anaconda3/envs/smartdevds10/lib/python3.10/site-packages/sklearn/linear_model/_logistic.py:458: ConvergenceWarning: lbfgs failed to converge (status=1):\n",
      "STOP: TOTAL NO. of ITERATIONS REACHED LIMIT.\n",
      "\n",
      "Increase the number of iterations (max_iter) or scale the data as shown in:\n",
      "    https://scikit-learn.org/stable/modules/preprocessing.html\n",
      "Please also refer to the documentation for alternative solver options:\n",
      "    https://scikit-learn.org/stable/modules/linear_model.html#logistic-regression\n",
      "  n_iter_i = _check_optimize_result(\n",
      "logisticregression hyperoptimisation:  10%|█         | 10/100 [26:41<4:45:26, 190.30s/it]/home/prc/anaconda3/envs/smartdevds10/lib/python3.10/site-packages/sklearn/linear_model/_logistic.py:458: ConvergenceWarning: lbfgs failed to converge (status=1):\n",
      "STOP: TOTAL NO. of ITERATIONS REACHED LIMIT.\n",
      "\n",
      "Increase the number of iterations (max_iter) or scale the data as shown in:\n",
      "    https://scikit-learn.org/stable/modules/preprocessing.html\n",
      "Please also refer to the documentation for alternative solver options:\n",
      "    https://scikit-learn.org/stable/modules/linear_model.html#logistic-regression\n",
      "  n_iter_i = _check_optimize_result(\n",
      "/home/prc/anaconda3/envs/smartdevds10/lib/python3.10/site-packages/sklearn/linear_model/_logistic.py:458: ConvergenceWarning: lbfgs failed to converge (status=1):\n",
      "STOP: TOTAL NO. of ITERATIONS REACHED LIMIT.\n",
      "\n",
      "Increase the number of iterations (max_iter) or scale the data as shown in:\n",
      "    https://scikit-learn.org/stable/modules/preprocessing.html\n",
      "Please also refer to the documentation for alternative solver options:\n",
      "    https://scikit-learn.org/stable/modules/linear_model.html#logistic-regression\n",
      "  n_iter_i = _check_optimize_result(\n",
      "logisticregression hyperoptimisation:  11%|█         | 11/100 [31:15<5:19:52, 215.65s/it]/home/prc/anaconda3/envs/smartdevds10/lib/python3.10/site-packages/sklearn/linear_model/_logistic.py:458: ConvergenceWarning: lbfgs failed to converge (status=1):\n",
      "STOP: TOTAL NO. of ITERATIONS REACHED LIMIT.\n",
      "\n",
      "Increase the number of iterations (max_iter) or scale the data as shown in:\n",
      "    https://scikit-learn.org/stable/modules/preprocessing.html\n",
      "Please also refer to the documentation for alternative solver options:\n",
      "    https://scikit-learn.org/stable/modules/linear_model.html#logistic-regression\n",
      "  n_iter_i = _check_optimize_result(\n",
      "/home/prc/anaconda3/envs/smartdevds10/lib/python3.10/site-packages/sklearn/linear_model/_logistic.py:458: ConvergenceWarning: lbfgs failed to converge (status=1):\n",
      "STOP: TOTAL NO. of ITERATIONS REACHED LIMIT.\n",
      "\n",
      "Increase the number of iterations (max_iter) or scale the data as shown in:\n",
      "    https://scikit-learn.org/stable/modules/preprocessing.html\n",
      "Please also refer to the documentation for alternative solver options:\n",
      "    https://scikit-learn.org/stable/modules/linear_model.html#logistic-regression\n",
      "  n_iter_i = _check_optimize_result(\n",
      "logisticregression hyperoptimisation:  12%|█▏        | 12/100 [33:58<4:53:02, 199.80s/it]/home/prc/anaconda3/envs/smartdevds10/lib/python3.10/site-packages/sklearn/linear_model/_logistic.py:458: ConvergenceWarning: lbfgs failed to converge (status=1):\n",
      "STOP: TOTAL NO. of ITERATIONS REACHED LIMIT.\n",
      "\n",
      "Increase the number of iterations (max_iter) or scale the data as shown in:\n",
      "    https://scikit-learn.org/stable/modules/preprocessing.html\n",
      "Please also refer to the documentation for alternative solver options:\n",
      "    https://scikit-learn.org/stable/modules/linear_model.html#logistic-regression\n",
      "  n_iter_i = _check_optimize_result(\n",
      "/home/prc/anaconda3/envs/smartdevds10/lib/python3.10/site-packages/sklearn/linear_model/_logistic.py:458: ConvergenceWarning: lbfgs failed to converge (status=1):\n",
      "STOP: TOTAL NO. of ITERATIONS REACHED LIMIT.\n",
      "\n",
      "Increase the number of iterations (max_iter) or scale the data as shown in:\n",
      "    https://scikit-learn.org/stable/modules/preprocessing.html\n",
      "Please also refer to the documentation for alternative solver options:\n",
      "    https://scikit-learn.org/stable/modules/linear_model.html#logistic-regression\n",
      "  n_iter_i = _check_optimize_result(\n",
      "logisticregression hyperoptimisation:  13%|█▎        | 13/100 [36:21<4:24:31, 182.43s/it]/home/prc/anaconda3/envs/smartdevds10/lib/python3.10/site-packages/sklearn/linear_model/_logistic.py:458: ConvergenceWarning: lbfgs failed to converge (status=1):\n",
      "STOP: TOTAL NO. of ITERATIONS REACHED LIMIT.\n",
      "\n",
      "Increase the number of iterations (max_iter) or scale the data as shown in:\n",
      "    https://scikit-learn.org/stable/modules/preprocessing.html\n",
      "Please also refer to the documentation for alternative solver options:\n",
      "    https://scikit-learn.org/stable/modules/linear_model.html#logistic-regression\n",
      "  n_iter_i = _check_optimize_result(\n",
      "/home/prc/anaconda3/envs/smartdevds10/lib/python3.10/site-packages/sklearn/linear_model/_logistic.py:458: ConvergenceWarning: lbfgs failed to converge (status=1):\n",
      "STOP: TOTAL NO. of ITERATIONS REACHED LIMIT.\n",
      "\n",
      "Increase the number of iterations (max_iter) or scale the data as shown in:\n",
      "    https://scikit-learn.org/stable/modules/preprocessing.html\n",
      "Please also refer to the documentation for alternative solver options:\n",
      "    https://scikit-learn.org/stable/modules/linear_model.html#logistic-regression\n",
      "  n_iter_i = _check_optimize_result(\n",
      "/home/prc/anaconda3/envs/smartdevds10/lib/python3.10/site-packages/sklearn/linear_model/_logistic.py:458: ConvergenceWarning: lbfgs failed to converge (status=1):\n",
      "STOP: TOTAL NO. of ITERATIONS REACHED LIMIT.\n",
      "\n",
      "Increase the number of iterations (max_iter) or scale the data as shown in:\n",
      "    https://scikit-learn.org/stable/modules/preprocessing.html\n",
      "Please also refer to the documentation for alternative solver options:\n",
      "    https://scikit-learn.org/stable/modules/linear_model.html#logistic-regression\n",
      "  n_iter_i = _check_optimize_result(\n",
      "/home/prc/anaconda3/envs/smartdevds10/lib/python3.10/site-packages/sklearn/linear_model/_logistic.py:458: ConvergenceWarning: lbfgs failed to converge (status=1):\n",
      "STOP: TOTAL NO. of ITERATIONS REACHED LIMIT.\n",
      "\n",
      "Increase the number of iterations (max_iter) or scale the data as shown in:\n",
      "    https://scikit-learn.org/stable/modules/preprocessing.html\n",
      "Please also refer to the documentation for alternative solver options:\n",
      "    https://scikit-learn.org/stable/modules/linear_model.html#logistic-regression\n",
      "  n_iter_i = _check_optimize_result(\n",
      "logisticregression hyperoptimisation:  14%|█▍        | 14/100 [39:13<4:17:12, 179.45s/it]/home/prc/anaconda3/envs/smartdevds10/lib/python3.10/site-packages/sklearn/linear_model/_logistic.py:458: ConvergenceWarning: lbfgs failed to converge (status=1):\n",
      "STOP: TOTAL NO. of ITERATIONS REACHED LIMIT.\n",
      "\n",
      "Increase the number of iterations (max_iter) or scale the data as shown in:\n",
      "    https://scikit-learn.org/stable/modules/preprocessing.html\n",
      "Please also refer to the documentation for alternative solver options:\n",
      "    https://scikit-learn.org/stable/modules/linear_model.html#logistic-regression\n",
      "  n_iter_i = _check_optimize_result(\n",
      "logisticregression hyperoptimisation:  15%|█▌        | 15/100 [41:30<3:56:14, 166.76s/it]/home/prc/anaconda3/envs/smartdevds10/lib/python3.10/site-packages/sklearn/linear_model/_logistic.py:458: ConvergenceWarning: lbfgs failed to converge (status=1):\n",
      "STOP: TOTAL NO. of ITERATIONS REACHED LIMIT.\n",
      "\n",
      "Increase the number of iterations (max_iter) or scale the data as shown in:\n",
      "    https://scikit-learn.org/stable/modules/preprocessing.html\n",
      "Please also refer to the documentation for alternative solver options:\n",
      "    https://scikit-learn.org/stable/modules/linear_model.html#logistic-regression\n",
      "  n_iter_i = _check_optimize_result(\n",
      "/home/prc/anaconda3/envs/smartdevds10/lib/python3.10/site-packages/sklearn/linear_model/_logistic.py:458: ConvergenceWarning: lbfgs failed to converge (status=1):\n",
      "STOP: TOTAL NO. of ITERATIONS REACHED LIMIT.\n",
      "\n",
      "Increase the number of iterations (max_iter) or scale the data as shown in:\n",
      "    https://scikit-learn.org/stable/modules/preprocessing.html\n",
      "Please also refer to the documentation for alternative solver options:\n",
      "    https://scikit-learn.org/stable/modules/linear_model.html#logistic-regression\n",
      "  n_iter_i = _check_optimize_result(\n",
      "logisticregression hyperoptimisation:  16%|█▌        | 16/100 [43:54<3:43:34, 159.70s/it]/home/prc/anaconda3/envs/smartdevds10/lib/python3.10/site-packages/sklearn/linear_model/_logistic.py:458: ConvergenceWarning: lbfgs failed to converge (status=1):\n",
      "STOP: TOTAL NO. of ITERATIONS REACHED LIMIT.\n",
      "\n",
      "Increase the number of iterations (max_iter) or scale the data as shown in:\n",
      "    https://scikit-learn.org/stable/modules/preprocessing.html\n",
      "Please also refer to the documentation for alternative solver options:\n",
      "    https://scikit-learn.org/stable/modules/linear_model.html#logistic-regression\n",
      "  n_iter_i = _check_optimize_result(\n",
      "/home/prc/anaconda3/envs/smartdevds10/lib/python3.10/site-packages/sklearn/linear_model/_logistic.py:458: ConvergenceWarning: lbfgs failed to converge (status=1):\n",
      "STOP: TOTAL NO. of ITERATIONS REACHED LIMIT.\n",
      "\n",
      "Increase the number of iterations (max_iter) or scale the data as shown in:\n",
      "    https://scikit-learn.org/stable/modules/preprocessing.html\n",
      "Please also refer to the documentation for alternative solver options:\n",
      "    https://scikit-learn.org/stable/modules/linear_model.html#logistic-regression\n",
      "  n_iter_i = _check_optimize_result(\n",
      "/home/prc/anaconda3/envs/smartdevds10/lib/python3.10/site-packages/sklearn/linear_model/_logistic.py:458: ConvergenceWarning: lbfgs failed to converge (status=1):\n",
      "STOP: TOTAL NO. of ITERATIONS REACHED LIMIT.\n",
      "\n",
      "Increase the number of iterations (max_iter) or scale the data as shown in:\n",
      "    https://scikit-learn.org/stable/modules/preprocessing.html\n",
      "Please also refer to the documentation for alternative solver options:\n",
      "    https://scikit-learn.org/stable/modules/linear_model.html#logistic-regression\n",
      "  n_iter_i = _check_optimize_result(\n",
      "/home/prc/anaconda3/envs/smartdevds10/lib/python3.10/site-packages/sklearn/linear_model/_logistic.py:458: ConvergenceWarning: lbfgs failed to converge (status=1):\n",
      "STOP: TOTAL NO. of ITERATIONS REACHED LIMIT.\n",
      "\n",
      "Increase the number of iterations (max_iter) or scale the data as shown in:\n",
      "    https://scikit-learn.org/stable/modules/preprocessing.html\n",
      "Please also refer to the documentation for alternative solver options:\n",
      "    https://scikit-learn.org/stable/modules/linear_model.html#logistic-regression\n",
      "  n_iter_i = _check_optimize_result(\n",
      "logisticregression hyperoptimisation:  18%|█▊        | 18/100 [48:47<3:29:06, 153.01s/it]/home/prc/anaconda3/envs/smartdevds10/lib/python3.10/site-packages/sklearn/linear_model/_logistic.py:458: ConvergenceWarning: lbfgs failed to converge (status=1):\n",
      "STOP: TOTAL NO. of ITERATIONS REACHED LIMIT.\n",
      "\n",
      "Increase the number of iterations (max_iter) or scale the data as shown in:\n",
      "    https://scikit-learn.org/stable/modules/preprocessing.html\n",
      "Please also refer to the documentation for alternative solver options:\n",
      "    https://scikit-learn.org/stable/modules/linear_model.html#logistic-regression\n",
      "  n_iter_i = _check_optimize_result(\n",
      "/home/prc/anaconda3/envs/smartdevds10/lib/python3.10/site-packages/sklearn/linear_model/_logistic.py:458: ConvergenceWarning: lbfgs failed to converge (status=1):\n",
      "STOP: TOTAL NO. of ITERATIONS REACHED LIMIT.\n",
      "\n",
      "Increase the number of iterations (max_iter) or scale the data as shown in:\n",
      "    https://scikit-learn.org/stable/modules/preprocessing.html\n",
      "Please also refer to the documentation for alternative solver options:\n",
      "    https://scikit-learn.org/stable/modules/linear_model.html#logistic-regression\n",
      "  n_iter_i = _check_optimize_result(\n",
      "logisticregression hyperoptimisation:  19%|█▉        | 19/100 [51:22<3:27:25, 153.65s/it]/home/prc/anaconda3/envs/smartdevds10/lib/python3.10/site-packages/sklearn/linear_model/_logistic.py:458: ConvergenceWarning: lbfgs failed to converge (status=1):\n",
      "STOP: TOTAL NO. of ITERATIONS REACHED LIMIT.\n",
      "\n",
      "Increase the number of iterations (max_iter) or scale the data as shown in:\n",
      "    https://scikit-learn.org/stable/modules/preprocessing.html\n",
      "Please also refer to the documentation for alternative solver options:\n",
      "    https://scikit-learn.org/stable/modules/linear_model.html#logistic-regression\n",
      "  n_iter_i = _check_optimize_result(\n",
      "/home/prc/anaconda3/envs/smartdevds10/lib/python3.10/site-packages/sklearn/linear_model/_logistic.py:458: ConvergenceWarning: lbfgs failed to converge (status=1):\n",
      "STOP: TOTAL NO. of ITERATIONS REACHED LIMIT.\n",
      "\n",
      "Increase the number of iterations (max_iter) or scale the data as shown in:\n",
      "    https://scikit-learn.org/stable/modules/preprocessing.html\n",
      "Please also refer to the documentation for alternative solver options:\n",
      "    https://scikit-learn.org/stable/modules/linear_model.html#logistic-regression\n",
      "  n_iter_i = _check_optimize_result(\n",
      "/home/prc/anaconda3/envs/smartdevds10/lib/python3.10/site-packages/sklearn/linear_model/_logistic.py:458: ConvergenceWarning: lbfgs failed to converge (status=1):\n",
      "STOP: TOTAL NO. of ITERATIONS REACHED LIMIT.\n",
      "\n",
      "Increase the number of iterations (max_iter) or scale the data as shown in:\n",
      "    https://scikit-learn.org/stable/modules/preprocessing.html\n",
      "Please also refer to the documentation for alternative solver options:\n",
      "    https://scikit-learn.org/stable/modules/linear_model.html#logistic-regression\n",
      "  n_iter_i = _check_optimize_result(\n",
      "/home/prc/anaconda3/envs/smartdevds10/lib/python3.10/site-packages/sklearn/linear_model/_logistic.py:458: ConvergenceWarning: lbfgs failed to converge (status=1):\n",
      "STOP: TOTAL NO. of ITERATIONS REACHED LIMIT.\n",
      "\n",
      "Increase the number of iterations (max_iter) or scale the data as shown in:\n",
      "    https://scikit-learn.org/stable/modules/preprocessing.html\n",
      "Please also refer to the documentation for alternative solver options:\n",
      "    https://scikit-learn.org/stable/modules/linear_model.html#logistic-regression\n",
      "  n_iter_i = _check_optimize_result(\n",
      "logisticregression hyperoptimisation:  20%|██        | 20/100 [53:44<3:20:08, 150.11s/it]/home/prc/anaconda3/envs/smartdevds10/lib/python3.10/site-packages/sklearn/linear_model/_logistic.py:458: ConvergenceWarning: lbfgs failed to converge (status=1):\n",
      "STOP: TOTAL NO. of ITERATIONS REACHED LIMIT.\n",
      "\n",
      "Increase the number of iterations (max_iter) or scale the data as shown in:\n",
      "    https://scikit-learn.org/stable/modules/preprocessing.html\n",
      "Please also refer to the documentation for alternative solver options:\n",
      "    https://scikit-learn.org/stable/modules/linear_model.html#logistic-regression\n",
      "  n_iter_i = _check_optimize_result(\n",
      "logisticregression hyperoptimisation:  22%|██▏       | 22/100 [59:18<3:27:28, 159.59s/it]/home/prc/anaconda3/envs/smartdevds10/lib/python3.10/site-packages/sklearn/linear_model/_logistic.py:458: ConvergenceWarning: lbfgs failed to converge (status=1):\n",
      "STOP: TOTAL NO. of ITERATIONS REACHED LIMIT.\n",
      "\n",
      "Increase the number of iterations (max_iter) or scale the data as shown in:\n",
      "    https://scikit-learn.org/stable/modules/preprocessing.html\n",
      "Please also refer to the documentation for alternative solver options:\n",
      "    https://scikit-learn.org/stable/modules/linear_model.html#logistic-regression\n",
      "  n_iter_i = _check_optimize_result(\n",
      "/home/prc/anaconda3/envs/smartdevds10/lib/python3.10/site-packages/sklearn/linear_model/_logistic.py:458: ConvergenceWarning: lbfgs failed to converge (status=1):\n",
      "STOP: TOTAL NO. of ITERATIONS REACHED LIMIT.\n",
      "\n",
      "Increase the number of iterations (max_iter) or scale the data as shown in:\n",
      "    https://scikit-learn.org/stable/modules/preprocessing.html\n",
      "Please also refer to the documentation for alternative solver options:\n",
      "    https://scikit-learn.org/stable/modules/linear_model.html#logistic-regression\n",
      "  n_iter_i = _check_optimize_result(\n",
      "logisticregression hyperoptimisation:  24%|██▍       | 24/100 [1:04:01<3:09:33, 149.65s/it]/home/prc/anaconda3/envs/smartdevds10/lib/python3.10/site-packages/sklearn/linear_model/_logistic.py:458: ConvergenceWarning: lbfgs failed to converge (status=1):\n",
      "STOP: TOTAL NO. of ITERATIONS REACHED LIMIT.\n",
      "\n",
      "Increase the number of iterations (max_iter) or scale the data as shown in:\n",
      "    https://scikit-learn.org/stable/modules/preprocessing.html\n",
      "Please also refer to the documentation for alternative solver options:\n",
      "    https://scikit-learn.org/stable/modules/linear_model.html#logistic-regression\n",
      "  n_iter_i = _check_optimize_result(\n",
      "/home/prc/anaconda3/envs/smartdevds10/lib/python3.10/site-packages/sklearn/linear_model/_logistic.py:458: ConvergenceWarning: lbfgs failed to converge (status=1):\n",
      "STOP: TOTAL NO. of ITERATIONS REACHED LIMIT.\n",
      "\n",
      "Increase the number of iterations (max_iter) or scale the data as shown in:\n",
      "    https://scikit-learn.org/stable/modules/preprocessing.html\n",
      "Please also refer to the documentation for alternative solver options:\n",
      "    https://scikit-learn.org/stable/modules/linear_model.html#logistic-regression\n",
      "  n_iter_i = _check_optimize_result(\n",
      "logisticregression hyperoptimisation:  26%|██▌       | 26/100 [1:08:19<2:45:52, 134.49s/it]/home/prc/anaconda3/envs/smartdevds10/lib/python3.10/site-packages/sklearn/linear_model/_logistic.py:458: ConvergenceWarning: lbfgs failed to converge (status=1):\n",
      "STOP: TOTAL NO. of ITERATIONS REACHED LIMIT.\n",
      "\n",
      "Increase the number of iterations (max_iter) or scale the data as shown in:\n",
      "    https://scikit-learn.org/stable/modules/preprocessing.html\n",
      "Please also refer to the documentation for alternative solver options:\n",
      "    https://scikit-learn.org/stable/modules/linear_model.html#logistic-regression\n",
      "  n_iter_i = _check_optimize_result(\n",
      "/home/prc/anaconda3/envs/smartdevds10/lib/python3.10/site-packages/sklearn/linear_model/_logistic.py:458: ConvergenceWarning: lbfgs failed to converge (status=1):\n",
      "STOP: TOTAL NO. of ITERATIONS REACHED LIMIT.\n",
      "\n",
      "Increase the number of iterations (max_iter) or scale the data as shown in:\n",
      "    https://scikit-learn.org/stable/modules/preprocessing.html\n",
      "Please also refer to the documentation for alternative solver options:\n",
      "    https://scikit-learn.org/stable/modules/linear_model.html#logistic-regression\n",
      "  n_iter_i = _check_optimize_result(\n",
      "logisticregression hyperoptimisation:  27%|██▋       | 27/100 [1:10:40<2:46:18, 136.69s/it]/home/prc/anaconda3/envs/smartdevds10/lib/python3.10/site-packages/sklearn/linear_model/_logistic.py:458: ConvergenceWarning: lbfgs failed to converge (status=1):\n",
      "STOP: TOTAL NO. of ITERATIONS REACHED LIMIT.\n",
      "\n",
      "Increase the number of iterations (max_iter) or scale the data as shown in:\n",
      "    https://scikit-learn.org/stable/modules/preprocessing.html\n",
      "Please also refer to the documentation for alternative solver options:\n",
      "    https://scikit-learn.org/stable/modules/linear_model.html#logistic-regression\n",
      "  n_iter_i = _check_optimize_result(\n",
      "/home/prc/anaconda3/envs/smartdevds10/lib/python3.10/site-packages/sklearn/linear_model/_logistic.py:458: ConvergenceWarning: lbfgs failed to converge (status=1):\n",
      "STOP: TOTAL NO. of ITERATIONS REACHED LIMIT.\n",
      "\n",
      "Increase the number of iterations (max_iter) or scale the data as shown in:\n",
      "    https://scikit-learn.org/stable/modules/preprocessing.html\n",
      "Please also refer to the documentation for alternative solver options:\n",
      "    https://scikit-learn.org/stable/modules/linear_model.html#logistic-regression\n",
      "  n_iter_i = _check_optimize_result(\n",
      "/home/prc/anaconda3/envs/smartdevds10/lib/python3.10/site-packages/sklearn/linear_model/_logistic.py:458: ConvergenceWarning: lbfgs failed to converge (status=1):\n",
      "STOP: TOTAL NO. of ITERATIONS REACHED LIMIT.\n",
      "\n",
      "Increase the number of iterations (max_iter) or scale the data as shown in:\n",
      "    https://scikit-learn.org/stable/modules/preprocessing.html\n",
      "Please also refer to the documentation for alternative solver options:\n",
      "    https://scikit-learn.org/stable/modules/linear_model.html#logistic-regression\n",
      "  n_iter_i = _check_optimize_result(\n",
      "logisticregression hyperoptimisation:  28%|██▊       | 28/100 [1:13:40<2:59:23, 149.49s/it]/home/prc/anaconda3/envs/smartdevds10/lib/python3.10/site-packages/sklearn/linear_model/_logistic.py:458: ConvergenceWarning: lbfgs failed to converge (status=1):\n",
      "STOP: TOTAL NO. of ITERATIONS REACHED LIMIT.\n",
      "\n",
      "Increase the number of iterations (max_iter) or scale the data as shown in:\n",
      "    https://scikit-learn.org/stable/modules/preprocessing.html\n",
      "Please also refer to the documentation for alternative solver options:\n",
      "    https://scikit-learn.org/stable/modules/linear_model.html#logistic-regression\n",
      "  n_iter_i = _check_optimize_result(\n",
      "/home/prc/anaconda3/envs/smartdevds10/lib/python3.10/site-packages/sklearn/linear_model/_logistic.py:458: ConvergenceWarning: lbfgs failed to converge (status=1):\n",
      "STOP: TOTAL NO. of ITERATIONS REACHED LIMIT.\n",
      "\n",
      "Increase the number of iterations (max_iter) or scale the data as shown in:\n",
      "    https://scikit-learn.org/stable/modules/preprocessing.html\n",
      "Please also refer to the documentation for alternative solver options:\n",
      "    https://scikit-learn.org/stable/modules/linear_model.html#logistic-regression\n",
      "  n_iter_i = _check_optimize_result(\n",
      "logisticregression hyperoptimisation:  30%|███       | 30/100 [1:17:26<2:26:19, 125.42s/it]/home/prc/anaconda3/envs/smartdevds10/lib/python3.10/site-packages/sklearn/linear_model/_logistic.py:458: ConvergenceWarning: lbfgs failed to converge (status=1):\n",
      "STOP: TOTAL NO. of ITERATIONS REACHED LIMIT.\n",
      "\n",
      "Increase the number of iterations (max_iter) or scale the data as shown in:\n",
      "    https://scikit-learn.org/stable/modules/preprocessing.html\n",
      "Please also refer to the documentation for alternative solver options:\n",
      "    https://scikit-learn.org/stable/modules/linear_model.html#logistic-regression\n",
      "  n_iter_i = _check_optimize_result(\n",
      "logisticregression hyperoptimisation:  31%|███       | 31/100 [1:20:12<2:38:25, 137.76s/it]/home/prc/anaconda3/envs/smartdevds10/lib/python3.10/site-packages/sklearn/linear_model/_logistic.py:458: ConvergenceWarning: lbfgs failed to converge (status=1):\n",
      "STOP: TOTAL NO. of ITERATIONS REACHED LIMIT.\n",
      "\n",
      "Increase the number of iterations (max_iter) or scale the data as shown in:\n",
      "    https://scikit-learn.org/stable/modules/preprocessing.html\n",
      "Please also refer to the documentation for alternative solver options:\n",
      "    https://scikit-learn.org/stable/modules/linear_model.html#logistic-regression\n",
      "  n_iter_i = _check_optimize_result(\n",
      "/home/prc/anaconda3/envs/smartdevds10/lib/python3.10/site-packages/sklearn/linear_model/_logistic.py:458: ConvergenceWarning: lbfgs failed to converge (status=1):\n",
      "STOP: TOTAL NO. of ITERATIONS REACHED LIMIT.\n",
      "\n",
      "Increase the number of iterations (max_iter) or scale the data as shown in:\n",
      "    https://scikit-learn.org/stable/modules/preprocessing.html\n",
      "Please also refer to the documentation for alternative solver options:\n",
      "    https://scikit-learn.org/stable/modules/linear_model.html#logistic-regression\n",
      "  n_iter_i = _check_optimize_result(\n",
      "logisticregression hyperoptimisation:  32%|███▏      | 32/100 [1:22:36<2:38:14, 139.63s/it]/home/prc/anaconda3/envs/smartdevds10/lib/python3.10/site-packages/sklearn/linear_model/_logistic.py:458: ConvergenceWarning: lbfgs failed to converge (status=1):\n",
      "STOP: TOTAL NO. of ITERATIONS REACHED LIMIT.\n",
      "\n",
      "Increase the number of iterations (max_iter) or scale the data as shown in:\n",
      "    https://scikit-learn.org/stable/modules/preprocessing.html\n",
      "Please also refer to the documentation for alternative solver options:\n",
      "    https://scikit-learn.org/stable/modules/linear_model.html#logistic-regression\n",
      "  n_iter_i = _check_optimize_result(\n",
      "logisticregression hyperoptimisation:  33%|███▎      | 33/100 [1:24:58<2:36:31, 140.16s/it]/home/prc/anaconda3/envs/smartdevds10/lib/python3.10/site-packages/sklearn/linear_model/_logistic.py:458: ConvergenceWarning: lbfgs failed to converge (status=1):\n",
      "STOP: TOTAL NO. of ITERATIONS REACHED LIMIT.\n",
      "\n",
      "Increase the number of iterations (max_iter) or scale the data as shown in:\n",
      "    https://scikit-learn.org/stable/modules/preprocessing.html\n",
      "Please also refer to the documentation for alternative solver options:\n",
      "    https://scikit-learn.org/stable/modules/linear_model.html#logistic-regression\n",
      "  n_iter_i = _check_optimize_result(\n",
      "/home/prc/anaconda3/envs/smartdevds10/lib/python3.10/site-packages/sklearn/linear_model/_logistic.py:458: ConvergenceWarning: lbfgs failed to converge (status=1):\n",
      "STOP: TOTAL NO. of ITERATIONS REACHED LIMIT.\n",
      "\n",
      "Increase the number of iterations (max_iter) or scale the data as shown in:\n",
      "    https://scikit-learn.org/stable/modules/preprocessing.html\n",
      "Please also refer to the documentation for alternative solver options:\n",
      "    https://scikit-learn.org/stable/modules/linear_model.html#logistic-regression\n",
      "  n_iter_i = _check_optimize_result(\n",
      "logisticregression hyperoptimisation:  34%|███▍      | 34/100 [1:27:52<2:45:22, 150.34s/it]/home/prc/anaconda3/envs/smartdevds10/lib/python3.10/site-packages/sklearn/linear_model/_logistic.py:458: ConvergenceWarning: lbfgs failed to converge (status=1):\n",
      "STOP: TOTAL NO. of ITERATIONS REACHED LIMIT.\n",
      "\n",
      "Increase the number of iterations (max_iter) or scale the data as shown in:\n",
      "    https://scikit-learn.org/stable/modules/preprocessing.html\n",
      "Please also refer to the documentation for alternative solver options:\n",
      "    https://scikit-learn.org/stable/modules/linear_model.html#logistic-regression\n",
      "  n_iter_i = _check_optimize_result(\n",
      "/home/prc/anaconda3/envs/smartdevds10/lib/python3.10/site-packages/sklearn/linear_model/_logistic.py:458: ConvergenceWarning: lbfgs failed to converge (status=1):\n",
      "STOP: TOTAL NO. of ITERATIONS REACHED LIMIT.\n",
      "\n",
      "Increase the number of iterations (max_iter) or scale the data as shown in:\n",
      "    https://scikit-learn.org/stable/modules/preprocessing.html\n",
      "Please also refer to the documentation for alternative solver options:\n",
      "    https://scikit-learn.org/stable/modules/linear_model.html#logistic-regression\n",
      "  n_iter_i = _check_optimize_result(\n",
      "logisticregression hyperoptimisation:  35%|███▌      | 35/100 [1:30:46<2:50:45, 157.63s/it]/home/prc/anaconda3/envs/smartdevds10/lib/python3.10/site-packages/sklearn/linear_model/_logistic.py:458: ConvergenceWarning: lbfgs failed to converge (status=1):\n",
      "STOP: TOTAL NO. of ITERATIONS REACHED LIMIT.\n",
      "\n",
      "Increase the number of iterations (max_iter) or scale the data as shown in:\n",
      "    https://scikit-learn.org/stable/modules/preprocessing.html\n",
      "Please also refer to the documentation for alternative solver options:\n",
      "    https://scikit-learn.org/stable/modules/linear_model.html#logistic-regression\n",
      "  n_iter_i = _check_optimize_result(\n",
      "logisticregression hyperoptimisation:  37%|███▋      | 37/100 [1:35:29<2:34:53, 147.51s/it]/home/prc/anaconda3/envs/smartdevds10/lib/python3.10/site-packages/sklearn/linear_model/_logistic.py:458: ConvergenceWarning: lbfgs failed to converge (status=1):\n",
      "STOP: TOTAL NO. of ITERATIONS REACHED LIMIT.\n",
      "\n",
      "Increase the number of iterations (max_iter) or scale the data as shown in:\n",
      "    https://scikit-learn.org/stable/modules/preprocessing.html\n",
      "Please also refer to the documentation for alternative solver options:\n",
      "    https://scikit-learn.org/stable/modules/linear_model.html#logistic-regression\n",
      "  n_iter_i = _check_optimize_result(\n",
      "/home/prc/anaconda3/envs/smartdevds10/lib/python3.10/site-packages/sklearn/linear_model/_logistic.py:458: ConvergenceWarning: lbfgs failed to converge (status=1):\n",
      "STOP: TOTAL NO. of ITERATIONS REACHED LIMIT.\n",
      "\n",
      "Increase the number of iterations (max_iter) or scale the data as shown in:\n",
      "    https://scikit-learn.org/stable/modules/preprocessing.html\n",
      "Please also refer to the documentation for alternative solver options:\n",
      "    https://scikit-learn.org/stable/modules/linear_model.html#logistic-regression\n",
      "  n_iter_i = _check_optimize_result(\n",
      "/home/prc/anaconda3/envs/smartdevds10/lib/python3.10/site-packages/sklearn/linear_model/_logistic.py:458: ConvergenceWarning: lbfgs failed to converge (status=1):\n",
      "STOP: TOTAL NO. of ITERATIONS REACHED LIMIT.\n",
      "\n",
      "Increase the number of iterations (max_iter) or scale the data as shown in:\n",
      "    https://scikit-learn.org/stable/modules/preprocessing.html\n",
      "Please also refer to the documentation for alternative solver options:\n",
      "    https://scikit-learn.org/stable/modules/linear_model.html#logistic-regression\n",
      "  n_iter_i = _check_optimize_result(\n",
      "/home/prc/anaconda3/envs/smartdevds10/lib/python3.10/site-packages/sklearn/linear_model/_logistic.py:458: ConvergenceWarning: lbfgs failed to converge (status=1):\n",
      "STOP: TOTAL NO. of ITERATIONS REACHED LIMIT.\n",
      "\n",
      "Increase the number of iterations (max_iter) or scale the data as shown in:\n",
      "    https://scikit-learn.org/stable/modules/preprocessing.html\n",
      "Please also refer to the documentation for alternative solver options:\n",
      "    https://scikit-learn.org/stable/modules/linear_model.html#logistic-regression\n",
      "  n_iter_i = _check_optimize_result(\n",
      "logisticregression hyperoptimisation:  39%|███▉      | 39/100 [1:40:05<2:23:50, 141.48s/it]/home/prc/anaconda3/envs/smartdevds10/lib/python3.10/site-packages/sklearn/linear_model/_logistic.py:458: ConvergenceWarning: lbfgs failed to converge (status=1):\n",
      "STOP: TOTAL NO. of ITERATIONS REACHED LIMIT.\n",
      "\n",
      "Increase the number of iterations (max_iter) or scale the data as shown in:\n",
      "    https://scikit-learn.org/stable/modules/preprocessing.html\n",
      "Please also refer to the documentation for alternative solver options:\n",
      "    https://scikit-learn.org/stable/modules/linear_model.html#logistic-regression\n",
      "  n_iter_i = _check_optimize_result(\n",
      "/home/prc/anaconda3/envs/smartdevds10/lib/python3.10/site-packages/sklearn/linear_model/_logistic.py:458: ConvergenceWarning: lbfgs failed to converge (status=1):\n",
      "STOP: TOTAL NO. of ITERATIONS REACHED LIMIT.\n",
      "\n",
      "Increase the number of iterations (max_iter) or scale the data as shown in:\n",
      "    https://scikit-learn.org/stable/modules/preprocessing.html\n",
      "Please also refer to the documentation for alternative solver options:\n",
      "    https://scikit-learn.org/stable/modules/linear_model.html#logistic-regression\n",
      "  n_iter_i = _check_optimize_result(\n",
      "logisticregression hyperoptimisation:  40%|████      | 40/100 [1:42:44<2:26:45, 146.76s/it]/home/prc/anaconda3/envs/smartdevds10/lib/python3.10/site-packages/sklearn/linear_model/_logistic.py:458: ConvergenceWarning: lbfgs failed to converge (status=1):\n",
      "STOP: TOTAL NO. of ITERATIONS REACHED LIMIT.\n",
      "\n",
      "Increase the number of iterations (max_iter) or scale the data as shown in:\n",
      "    https://scikit-learn.org/stable/modules/preprocessing.html\n",
      "Please also refer to the documentation for alternative solver options:\n",
      "    https://scikit-learn.org/stable/modules/linear_model.html#logistic-regression\n",
      "  n_iter_i = _check_optimize_result(\n",
      "/home/prc/anaconda3/envs/smartdevds10/lib/python3.10/site-packages/sklearn/linear_model/_logistic.py:458: ConvergenceWarning: lbfgs failed to converge (status=1):\n",
      "STOP: TOTAL NO. of ITERATIONS REACHED LIMIT.\n",
      "\n",
      "Increase the number of iterations (max_iter) or scale the data as shown in:\n",
      "    https://scikit-learn.org/stable/modules/preprocessing.html\n",
      "Please also refer to the documentation for alternative solver options:\n",
      "    https://scikit-learn.org/stable/modules/linear_model.html#logistic-regression\n",
      "  n_iter_i = _check_optimize_result(\n",
      "/home/prc/anaconda3/envs/smartdevds10/lib/python3.10/site-packages/sklearn/linear_model/_logistic.py:458: ConvergenceWarning: lbfgs failed to converge (status=1):\n",
      "STOP: TOTAL NO. of ITERATIONS REACHED LIMIT.\n",
      "\n",
      "Increase the number of iterations (max_iter) or scale the data as shown in:\n",
      "    https://scikit-learn.org/stable/modules/preprocessing.html\n",
      "Please also refer to the documentation for alternative solver options:\n",
      "    https://scikit-learn.org/stable/modules/linear_model.html#logistic-regression\n",
      "  n_iter_i = _check_optimize_result(\n",
      "/home/prc/anaconda3/envs/smartdevds10/lib/python3.10/site-packages/sklearn/linear_model/_logistic.py:458: ConvergenceWarning: lbfgs failed to converge (status=1):\n",
      "STOP: TOTAL NO. of ITERATIONS REACHED LIMIT.\n",
      "\n",
      "Increase the number of iterations (max_iter) or scale the data as shown in:\n",
      "    https://scikit-learn.org/stable/modules/preprocessing.html\n",
      "Please also refer to the documentation for alternative solver options:\n",
      "    https://scikit-learn.org/stable/modules/linear_model.html#logistic-regression\n",
      "  n_iter_i = _check_optimize_result(\n",
      "logisticregression hyperoptimisation:  42%|████▏     | 42/100 [1:47:40<2:24:33, 149.54s/it]/home/prc/anaconda3/envs/smartdevds10/lib/python3.10/site-packages/sklearn/linear_model/_logistic.py:458: ConvergenceWarning: lbfgs failed to converge (status=1):\n",
      "STOP: TOTAL NO. of ITERATIONS REACHED LIMIT.\n",
      "\n",
      "Increase the number of iterations (max_iter) or scale the data as shown in:\n",
      "    https://scikit-learn.org/stable/modules/preprocessing.html\n",
      "Please also refer to the documentation for alternative solver options:\n",
      "    https://scikit-learn.org/stable/modules/linear_model.html#logistic-regression\n",
      "  n_iter_i = _check_optimize_result(\n",
      "logisticregression hyperoptimisation:  44%|████▍     | 44/100 [1:51:25<2:00:34, 129.19s/it]/home/prc/anaconda3/envs/smartdevds10/lib/python3.10/site-packages/sklearn/linear_model/_logistic.py:458: ConvergenceWarning: lbfgs failed to converge (status=1):\n",
      "STOP: TOTAL NO. of ITERATIONS REACHED LIMIT.\n",
      "\n",
      "Increase the number of iterations (max_iter) or scale the data as shown in:\n",
      "    https://scikit-learn.org/stable/modules/preprocessing.html\n",
      "Please also refer to the documentation for alternative solver options:\n",
      "    https://scikit-learn.org/stable/modules/linear_model.html#logistic-regression\n",
      "  n_iter_i = _check_optimize_result(\n",
      "/home/prc/anaconda3/envs/smartdevds10/lib/python3.10/site-packages/sklearn/linear_model/_logistic.py:458: ConvergenceWarning: lbfgs failed to converge (status=1):\n",
      "STOP: TOTAL NO. of ITERATIONS REACHED LIMIT.\n",
      "\n",
      "Increase the number of iterations (max_iter) or scale the data as shown in:\n",
      "    https://scikit-learn.org/stable/modules/preprocessing.html\n",
      "Please also refer to the documentation for alternative solver options:\n",
      "    https://scikit-learn.org/stable/modules/linear_model.html#logistic-regression\n",
      "  n_iter_i = _check_optimize_result(\n",
      "logisticregression hyperoptimisation:  46%|████▌     | 46/100 [1:55:44<1:54:57, 127.73s/it]/home/prc/anaconda3/envs/smartdevds10/lib/python3.10/site-packages/sklearn/linear_model/_logistic.py:458: ConvergenceWarning: lbfgs failed to converge (status=1):\n",
      "STOP: TOTAL NO. of ITERATIONS REACHED LIMIT.\n",
      "\n",
      "Increase the number of iterations (max_iter) or scale the data as shown in:\n",
      "    https://scikit-learn.org/stable/modules/preprocessing.html\n",
      "Please also refer to the documentation for alternative solver options:\n",
      "    https://scikit-learn.org/stable/modules/linear_model.html#logistic-regression\n",
      "  n_iter_i = _check_optimize_result(\n",
      "/home/prc/anaconda3/envs/smartdevds10/lib/python3.10/site-packages/sklearn/linear_model/_logistic.py:458: ConvergenceWarning: lbfgs failed to converge (status=1):\n",
      "STOP: TOTAL NO. of ITERATIONS REACHED LIMIT.\n",
      "\n",
      "Increase the number of iterations (max_iter) or scale the data as shown in:\n",
      "    https://scikit-learn.org/stable/modules/preprocessing.html\n",
      "Please also refer to the documentation for alternative solver options:\n",
      "    https://scikit-learn.org/stable/modules/linear_model.html#logistic-regression\n",
      "  n_iter_i = _check_optimize_result(\n",
      "logisticregression hyperoptimisation:  47%|████▋     | 47/100 [1:58:24<2:01:18, 137.34s/it]/home/prc/anaconda3/envs/smartdevds10/lib/python3.10/site-packages/sklearn/linear_model/_logistic.py:458: ConvergenceWarning: lbfgs failed to converge (status=1):\n",
      "STOP: TOTAL NO. of ITERATIONS REACHED LIMIT.\n",
      "\n",
      "Increase the number of iterations (max_iter) or scale the data as shown in:\n",
      "    https://scikit-learn.org/stable/modules/preprocessing.html\n",
      "Please also refer to the documentation for alternative solver options:\n",
      "    https://scikit-learn.org/stable/modules/linear_model.html#logistic-regression\n",
      "  n_iter_i = _check_optimize_result(\n",
      "logisticregression hyperoptimisation:  48%|████▊     | 48/100 [2:00:56<2:02:54, 141.82s/it]/home/prc/anaconda3/envs/smartdevds10/lib/python3.10/site-packages/sklearn/linear_model/_logistic.py:458: ConvergenceWarning: lbfgs failed to converge (status=1):\n",
      "STOP: TOTAL NO. of ITERATIONS REACHED LIMIT.\n",
      "\n",
      "Increase the number of iterations (max_iter) or scale the data as shown in:\n",
      "    https://scikit-learn.org/stable/modules/preprocessing.html\n",
      "Please also refer to the documentation for alternative solver options:\n",
      "    https://scikit-learn.org/stable/modules/linear_model.html#logistic-regression\n",
      "  n_iter_i = _check_optimize_result(\n",
      "/home/prc/anaconda3/envs/smartdevds10/lib/python3.10/site-packages/sklearn/linear_model/_logistic.py:458: ConvergenceWarning: lbfgs failed to converge (status=1):\n",
      "STOP: TOTAL NO. of ITERATIONS REACHED LIMIT.\n",
      "\n",
      "Increase the number of iterations (max_iter) or scale the data as shown in:\n",
      "    https://scikit-learn.org/stable/modules/preprocessing.html\n",
      "Please also refer to the documentation for alternative solver options:\n",
      "    https://scikit-learn.org/stable/modules/linear_model.html#logistic-regression\n",
      "  n_iter_i = _check_optimize_result(\n",
      "/home/prc/anaconda3/envs/smartdevds10/lib/python3.10/site-packages/sklearn/linear_model/_logistic.py:458: ConvergenceWarning: lbfgs failed to converge (status=1):\n",
      "STOP: TOTAL NO. of ITERATIONS REACHED LIMIT.\n",
      "\n",
      "Increase the number of iterations (max_iter) or scale the data as shown in:\n",
      "    https://scikit-learn.org/stable/modules/preprocessing.html\n",
      "Please also refer to the documentation for alternative solver options:\n",
      "    https://scikit-learn.org/stable/modules/linear_model.html#logistic-regression\n",
      "  n_iter_i = _check_optimize_result(\n",
      "/home/prc/anaconda3/envs/smartdevds10/lib/python3.10/site-packages/sklearn/linear_model/_logistic.py:458: ConvergenceWarning: lbfgs failed to converge (status=1):\n",
      "STOP: TOTAL NO. of ITERATIONS REACHED LIMIT.\n",
      "\n",
      "Increase the number of iterations (max_iter) or scale the data as shown in:\n",
      "    https://scikit-learn.org/stable/modules/preprocessing.html\n",
      "Please also refer to the documentation for alternative solver options:\n",
      "    https://scikit-learn.org/stable/modules/linear_model.html#logistic-regression\n",
      "  n_iter_i = _check_optimize_result(\n",
      "logisticregression hyperoptimisation:  49%|████▉     | 49/100 [2:03:17<2:00:18, 141.54s/it]/home/prc/anaconda3/envs/smartdevds10/lib/python3.10/site-packages/sklearn/linear_model/_logistic.py:458: ConvergenceWarning: lbfgs failed to converge (status=1):\n",
      "STOP: TOTAL NO. of ITERATIONS REACHED LIMIT.\n",
      "\n",
      "Increase the number of iterations (max_iter) or scale the data as shown in:\n",
      "    https://scikit-learn.org/stable/modules/preprocessing.html\n",
      "Please also refer to the documentation for alternative solver options:\n",
      "    https://scikit-learn.org/stable/modules/linear_model.html#logistic-regression\n",
      "  n_iter_i = _check_optimize_result(\n",
      "/home/prc/anaconda3/envs/smartdevds10/lib/python3.10/site-packages/sklearn/linear_model/_logistic.py:458: ConvergenceWarning: lbfgs failed to converge (status=1):\n",
      "STOP: TOTAL NO. of ITERATIONS REACHED LIMIT.\n",
      "\n",
      "Increase the number of iterations (max_iter) or scale the data as shown in:\n",
      "    https://scikit-learn.org/stable/modules/preprocessing.html\n",
      "Please also refer to the documentation for alternative solver options:\n",
      "    https://scikit-learn.org/stable/modules/linear_model.html#logistic-regression\n",
      "  n_iter_i = _check_optimize_result(\n",
      "/home/prc/anaconda3/envs/smartdevds10/lib/python3.10/site-packages/sklearn/linear_model/_logistic.py:458: ConvergenceWarning: lbfgs failed to converge (status=1):\n",
      "STOP: TOTAL NO. of ITERATIONS REACHED LIMIT.\n",
      "\n",
      "Increase the number of iterations (max_iter) or scale the data as shown in:\n",
      "    https://scikit-learn.org/stable/modules/preprocessing.html\n",
      "Please also refer to the documentation for alternative solver options:\n",
      "    https://scikit-learn.org/stable/modules/linear_model.html#logistic-regression\n",
      "  n_iter_i = _check_optimize_result(\n",
      "/home/prc/anaconda3/envs/smartdevds10/lib/python3.10/site-packages/sklearn/linear_model/_logistic.py:458: ConvergenceWarning: lbfgs failed to converge (status=1):\n",
      "STOP: TOTAL NO. of ITERATIONS REACHED LIMIT.\n",
      "\n",
      "Increase the number of iterations (max_iter) or scale the data as shown in:\n",
      "    https://scikit-learn.org/stable/modules/preprocessing.html\n",
      "Please also refer to the documentation for alternative solver options:\n",
      "    https://scikit-learn.org/stable/modules/linear_model.html#logistic-regression\n",
      "  n_iter_i = _check_optimize_result(\n",
      "logisticregression hyperoptimisation:  50%|█████     | 50/100 [2:05:30<1:55:43, 138.86s/it]/home/prc/anaconda3/envs/smartdevds10/lib/python3.10/site-packages/sklearn/linear_model/_logistic.py:458: ConvergenceWarning: lbfgs failed to converge (status=1):\n",
      "STOP: TOTAL NO. of ITERATIONS REACHED LIMIT.\n",
      "\n",
      "Increase the number of iterations (max_iter) or scale the data as shown in:\n",
      "    https://scikit-learn.org/stable/modules/preprocessing.html\n",
      "Please also refer to the documentation for alternative solver options:\n",
      "    https://scikit-learn.org/stable/modules/linear_model.html#logistic-regression\n",
      "  n_iter_i = _check_optimize_result(\n",
      "/home/prc/anaconda3/envs/smartdevds10/lib/python3.10/site-packages/sklearn/linear_model/_logistic.py:458: ConvergenceWarning: lbfgs failed to converge (status=1):\n",
      "STOP: TOTAL NO. of ITERATIONS REACHED LIMIT.\n",
      "\n",
      "Increase the number of iterations (max_iter) or scale the data as shown in:\n",
      "    https://scikit-learn.org/stable/modules/preprocessing.html\n",
      "Please also refer to the documentation for alternative solver options:\n",
      "    https://scikit-learn.org/stable/modules/linear_model.html#logistic-regression\n",
      "  n_iter_i = _check_optimize_result(\n",
      "logisticregression hyperoptimisation:  51%|█████     | 51/100 [2:08:21<2:01:20, 148.58s/it]/home/prc/anaconda3/envs/smartdevds10/lib/python3.10/site-packages/sklearn/linear_model/_logistic.py:458: ConvergenceWarning: lbfgs failed to converge (status=1):\n",
      "STOP: TOTAL NO. of ITERATIONS REACHED LIMIT.\n",
      "\n",
      "Increase the number of iterations (max_iter) or scale the data as shown in:\n",
      "    https://scikit-learn.org/stable/modules/preprocessing.html\n",
      "Please also refer to the documentation for alternative solver options:\n",
      "    https://scikit-learn.org/stable/modules/linear_model.html#logistic-regression\n",
      "  n_iter_i = _check_optimize_result(\n",
      "/home/prc/anaconda3/envs/smartdevds10/lib/python3.10/site-packages/sklearn/linear_model/_logistic.py:458: ConvergenceWarning: lbfgs failed to converge (status=1):\n",
      "STOP: TOTAL NO. of ITERATIONS REACHED LIMIT.\n",
      "\n",
      "Increase the number of iterations (max_iter) or scale the data as shown in:\n",
      "    https://scikit-learn.org/stable/modules/preprocessing.html\n",
      "Please also refer to the documentation for alternative solver options:\n",
      "    https://scikit-learn.org/stable/modules/linear_model.html#logistic-regression\n",
      "  n_iter_i = _check_optimize_result(\n",
      "logisticregression hyperoptimisation:  52%|█████▏    | 52/100 [2:10:50<1:58:57, 148.70s/it]/home/prc/anaconda3/envs/smartdevds10/lib/python3.10/site-packages/sklearn/linear_model/_logistic.py:458: ConvergenceWarning: lbfgs failed to converge (status=1):\n",
      "STOP: TOTAL NO. of ITERATIONS REACHED LIMIT.\n",
      "\n",
      "Increase the number of iterations (max_iter) or scale the data as shown in:\n",
      "    https://scikit-learn.org/stable/modules/preprocessing.html\n",
      "Please also refer to the documentation for alternative solver options:\n",
      "    https://scikit-learn.org/stable/modules/linear_model.html#logistic-regression\n",
      "  n_iter_i = _check_optimize_result(\n",
      "/home/prc/anaconda3/envs/smartdevds10/lib/python3.10/site-packages/sklearn/linear_model/_logistic.py:458: ConvergenceWarning: lbfgs failed to converge (status=1):\n",
      "STOP: TOTAL NO. of ITERATIONS REACHED LIMIT.\n",
      "\n",
      "Increase the number of iterations (max_iter) or scale the data as shown in:\n",
      "    https://scikit-learn.org/stable/modules/preprocessing.html\n",
      "Please also refer to the documentation for alternative solver options:\n",
      "    https://scikit-learn.org/stable/modules/linear_model.html#logistic-regression\n",
      "  n_iter_i = _check_optimize_result(\n",
      "logisticregression hyperoptimisation:  53%|█████▎    | 53/100 [2:13:33<1:59:46, 152.91s/it]/home/prc/anaconda3/envs/smartdevds10/lib/python3.10/site-packages/sklearn/linear_model/_logistic.py:458: ConvergenceWarning: lbfgs failed to converge (status=1):\n",
      "STOP: TOTAL NO. of ITERATIONS REACHED LIMIT.\n",
      "\n",
      "Increase the number of iterations (max_iter) or scale the data as shown in:\n",
      "    https://scikit-learn.org/stable/modules/preprocessing.html\n",
      "Please also refer to the documentation for alternative solver options:\n",
      "    https://scikit-learn.org/stable/modules/linear_model.html#logistic-regression\n",
      "  n_iter_i = _check_optimize_result(\n",
      "/home/prc/anaconda3/envs/smartdevds10/lib/python3.10/site-packages/sklearn/linear_model/_logistic.py:458: ConvergenceWarning: lbfgs failed to converge (status=1):\n",
      "STOP: TOTAL NO. of ITERATIONS REACHED LIMIT.\n",
      "\n",
      "Increase the number of iterations (max_iter) or scale the data as shown in:\n",
      "    https://scikit-learn.org/stable/modules/preprocessing.html\n",
      "Please also refer to the documentation for alternative solver options:\n",
      "    https://scikit-learn.org/stable/modules/linear_model.html#logistic-regression\n",
      "  n_iter_i = _check_optimize_result(\n",
      "logisticregression hyperoptimisation:  54%|█████▍    | 54/100 [2:15:41<1:51:29, 145.43s/it]/home/prc/anaconda3/envs/smartdevds10/lib/python3.10/site-packages/sklearn/linear_model/_logistic.py:458: ConvergenceWarning: lbfgs failed to converge (status=1):\n",
      "STOP: TOTAL NO. of ITERATIONS REACHED LIMIT.\n",
      "\n",
      "Increase the number of iterations (max_iter) or scale the data as shown in:\n",
      "    https://scikit-learn.org/stable/modules/preprocessing.html\n",
      "Please also refer to the documentation for alternative solver options:\n",
      "    https://scikit-learn.org/stable/modules/linear_model.html#logistic-regression\n",
      "  n_iter_i = _check_optimize_result(\n",
      "/home/prc/anaconda3/envs/smartdevds10/lib/python3.10/site-packages/sklearn/linear_model/_logistic.py:458: ConvergenceWarning: lbfgs failed to converge (status=1):\n",
      "STOP: TOTAL NO. of ITERATIONS REACHED LIMIT.\n",
      "\n",
      "Increase the number of iterations (max_iter) or scale the data as shown in:\n",
      "    https://scikit-learn.org/stable/modules/preprocessing.html\n",
      "Please also refer to the documentation for alternative solver options:\n",
      "    https://scikit-learn.org/stable/modules/linear_model.html#logistic-regression\n",
      "  n_iter_i = _check_optimize_result(\n",
      "logisticregression hyperoptimisation:  55%|█████▌    | 55/100 [2:17:50<1:45:25, 140.57s/it]/home/prc/anaconda3/envs/smartdevds10/lib/python3.10/site-packages/sklearn/linear_model/_logistic.py:458: ConvergenceWarning: lbfgs failed to converge (status=1):\n",
      "STOP: TOTAL NO. of ITERATIONS REACHED LIMIT.\n",
      "\n",
      "Increase the number of iterations (max_iter) or scale the data as shown in:\n",
      "    https://scikit-learn.org/stable/modules/preprocessing.html\n",
      "Please also refer to the documentation for alternative solver options:\n",
      "    https://scikit-learn.org/stable/modules/linear_model.html#logistic-regression\n",
      "  n_iter_i = _check_optimize_result(\n",
      "logisticregression hyperoptimisation:  56%|█████▌    | 56/100 [2:20:28<1:46:52, 145.74s/it]/home/prc/anaconda3/envs/smartdevds10/lib/python3.10/site-packages/sklearn/linear_model/_logistic.py:458: ConvergenceWarning: lbfgs failed to converge (status=1):\n",
      "STOP: TOTAL NO. of ITERATIONS REACHED LIMIT.\n",
      "\n",
      "Increase the number of iterations (max_iter) or scale the data as shown in:\n",
      "    https://scikit-learn.org/stable/modules/preprocessing.html\n",
      "Please also refer to the documentation for alternative solver options:\n",
      "    https://scikit-learn.org/stable/modules/linear_model.html#logistic-regression\n",
      "  n_iter_i = _check_optimize_result(\n",
      "/home/prc/anaconda3/envs/smartdevds10/lib/python3.10/site-packages/sklearn/linear_model/_logistic.py:458: ConvergenceWarning: lbfgs failed to converge (status=1):\n",
      "STOP: TOTAL NO. of ITERATIONS REACHED LIMIT.\n",
      "\n",
      "Increase the number of iterations (max_iter) or scale the data as shown in:\n",
      "    https://scikit-learn.org/stable/modules/preprocessing.html\n",
      "Please also refer to the documentation for alternative solver options:\n",
      "    https://scikit-learn.org/stable/modules/linear_model.html#logistic-regression\n",
      "  n_iter_i = _check_optimize_result(\n",
      "/home/prc/anaconda3/envs/smartdevds10/lib/python3.10/site-packages/sklearn/linear_model/_logistic.py:458: ConvergenceWarning: lbfgs failed to converge (status=1):\n",
      "STOP: TOTAL NO. of ITERATIONS REACHED LIMIT.\n",
      "\n",
      "Increase the number of iterations (max_iter) or scale the data as shown in:\n",
      "    https://scikit-learn.org/stable/modules/preprocessing.html\n",
      "Please also refer to the documentation for alternative solver options:\n",
      "    https://scikit-learn.org/stable/modules/linear_model.html#logistic-regression\n",
      "  n_iter_i = _check_optimize_result(\n",
      "/home/prc/anaconda3/envs/smartdevds10/lib/python3.10/site-packages/sklearn/linear_model/_logistic.py:458: ConvergenceWarning: lbfgs failed to converge (status=1):\n",
      "STOP: TOTAL NO. of ITERATIONS REACHED LIMIT.\n",
      "\n",
      "Increase the number of iterations (max_iter) or scale the data as shown in:\n",
      "    https://scikit-learn.org/stable/modules/preprocessing.html\n",
      "Please also refer to the documentation for alternative solver options:\n",
      "    https://scikit-learn.org/stable/modules/linear_model.html#logistic-regression\n",
      "  n_iter_i = _check_optimize_result(\n",
      "logisticregression hyperoptimisation:  57%|█████▋    | 57/100 [2:23:05<1:46:54, 149.17s/it]/home/prc/anaconda3/envs/smartdevds10/lib/python3.10/site-packages/sklearn/linear_model/_logistic.py:458: ConvergenceWarning: lbfgs failed to converge (status=1):\n",
      "STOP: TOTAL NO. of ITERATIONS REACHED LIMIT.\n",
      "\n",
      "Increase the number of iterations (max_iter) or scale the data as shown in:\n",
      "    https://scikit-learn.org/stable/modules/preprocessing.html\n",
      "Please also refer to the documentation for alternative solver options:\n",
      "    https://scikit-learn.org/stable/modules/linear_model.html#logistic-regression\n",
      "  n_iter_i = _check_optimize_result(\n",
      "/home/prc/anaconda3/envs/smartdevds10/lib/python3.10/site-packages/sklearn/linear_model/_logistic.py:458: ConvergenceWarning: lbfgs failed to converge (status=1):\n",
      "STOP: TOTAL NO. of ITERATIONS REACHED LIMIT.\n",
      "\n",
      "Increase the number of iterations (max_iter) or scale the data as shown in:\n",
      "    https://scikit-learn.org/stable/modules/preprocessing.html\n",
      "Please also refer to the documentation for alternative solver options:\n",
      "    https://scikit-learn.org/stable/modules/linear_model.html#logistic-regression\n",
      "  n_iter_i = _check_optimize_result(\n",
      "logisticregression hyperoptimisation:  58%|█████▊    | 58/100 [2:25:12<1:39:49, 142.60s/it]/home/prc/anaconda3/envs/smartdevds10/lib/python3.10/site-packages/sklearn/linear_model/_logistic.py:458: ConvergenceWarning: lbfgs failed to converge (status=1):\n",
      "STOP: TOTAL NO. of ITERATIONS REACHED LIMIT.\n",
      "\n",
      "Increase the number of iterations (max_iter) or scale the data as shown in:\n",
      "    https://scikit-learn.org/stable/modules/preprocessing.html\n",
      "Please also refer to the documentation for alternative solver options:\n",
      "    https://scikit-learn.org/stable/modules/linear_model.html#logistic-regression\n",
      "  n_iter_i = _check_optimize_result(\n",
      "/home/prc/anaconda3/envs/smartdevds10/lib/python3.10/site-packages/sklearn/linear_model/_logistic.py:458: ConvergenceWarning: lbfgs failed to converge (status=1):\n",
      "STOP: TOTAL NO. of ITERATIONS REACHED LIMIT.\n",
      "\n",
      "Increase the number of iterations (max_iter) or scale the data as shown in:\n",
      "    https://scikit-learn.org/stable/modules/preprocessing.html\n",
      "Please also refer to the documentation for alternative solver options:\n",
      "    https://scikit-learn.org/stable/modules/linear_model.html#logistic-regression\n",
      "  n_iter_i = _check_optimize_result(\n",
      "logisticregression hyperoptimisation:  59%|█████▉    | 59/100 [2:27:26<1:35:37, 139.95s/it]/home/prc/anaconda3/envs/smartdevds10/lib/python3.10/site-packages/sklearn/linear_model/_logistic.py:458: ConvergenceWarning: lbfgs failed to converge (status=1):\n",
      "STOP: TOTAL NO. of ITERATIONS REACHED LIMIT.\n",
      "\n",
      "Increase the number of iterations (max_iter) or scale the data as shown in:\n",
      "    https://scikit-learn.org/stable/modules/preprocessing.html\n",
      "Please also refer to the documentation for alternative solver options:\n",
      "    https://scikit-learn.org/stable/modules/linear_model.html#logistic-regression\n",
      "  n_iter_i = _check_optimize_result(\n",
      "/home/prc/anaconda3/envs/smartdevds10/lib/python3.10/site-packages/sklearn/linear_model/_logistic.py:458: ConvergenceWarning: lbfgs failed to converge (status=1):\n",
      "STOP: TOTAL NO. of ITERATIONS REACHED LIMIT.\n",
      "\n",
      "Increase the number of iterations (max_iter) or scale the data as shown in:\n",
      "    https://scikit-learn.org/stable/modules/preprocessing.html\n",
      "Please also refer to the documentation for alternative solver options:\n",
      "    https://scikit-learn.org/stable/modules/linear_model.html#logistic-regression\n",
      "  n_iter_i = _check_optimize_result(\n",
      "/home/prc/anaconda3/envs/smartdevds10/lib/python3.10/site-packages/sklearn/linear_model/_logistic.py:458: ConvergenceWarning: lbfgs failed to converge (status=1):\n",
      "STOP: TOTAL NO. of ITERATIONS REACHED LIMIT.\n",
      "\n",
      "Increase the number of iterations (max_iter) or scale the data as shown in:\n",
      "    https://scikit-learn.org/stable/modules/preprocessing.html\n",
      "Please also refer to the documentation for alternative solver options:\n",
      "    https://scikit-learn.org/stable/modules/linear_model.html#logistic-regression\n",
      "  n_iter_i = _check_optimize_result(\n",
      "/home/prc/anaconda3/envs/smartdevds10/lib/python3.10/site-packages/sklearn/linear_model/_logistic.py:458: ConvergenceWarning: lbfgs failed to converge (status=1):\n",
      "STOP: TOTAL NO. of ITERATIONS REACHED LIMIT.\n",
      "\n",
      "Increase the number of iterations (max_iter) or scale the data as shown in:\n",
      "    https://scikit-learn.org/stable/modules/preprocessing.html\n",
      "Please also refer to the documentation for alternative solver options:\n",
      "    https://scikit-learn.org/stable/modules/linear_model.html#logistic-regression\n",
      "  n_iter_i = _check_optimize_result(\n",
      "logisticregression hyperoptimisation:  61%|██████    | 61/100 [2:31:40<1:26:21, 132.86s/it]/home/prc/anaconda3/envs/smartdevds10/lib/python3.10/site-packages/sklearn/linear_model/_logistic.py:458: ConvergenceWarning: lbfgs failed to converge (status=1):\n",
      "STOP: TOTAL NO. of ITERATIONS REACHED LIMIT.\n",
      "\n",
      "Increase the number of iterations (max_iter) or scale the data as shown in:\n",
      "    https://scikit-learn.org/stable/modules/preprocessing.html\n",
      "Please also refer to the documentation for alternative solver options:\n",
      "    https://scikit-learn.org/stable/modules/linear_model.html#logistic-regression\n",
      "  n_iter_i = _check_optimize_result(\n",
      "/home/prc/anaconda3/envs/smartdevds10/lib/python3.10/site-packages/sklearn/linear_model/_logistic.py:458: ConvergenceWarning: lbfgs failed to converge (status=1):\n",
      "STOP: TOTAL NO. of ITERATIONS REACHED LIMIT.\n",
      "\n",
      "Increase the number of iterations (max_iter) or scale the data as shown in:\n",
      "    https://scikit-learn.org/stable/modules/preprocessing.html\n",
      "Please also refer to the documentation for alternative solver options:\n",
      "    https://scikit-learn.org/stable/modules/linear_model.html#logistic-regression\n",
      "  n_iter_i = _check_optimize_result(\n",
      "logisticregression hyperoptimisation:  62%|██████▏   | 62/100 [2:33:54<1:24:11, 132.94s/it]/home/prc/anaconda3/envs/smartdevds10/lib/python3.10/site-packages/sklearn/linear_model/_logistic.py:458: ConvergenceWarning: lbfgs failed to converge (status=1):\n",
      "STOP: TOTAL NO. of ITERATIONS REACHED LIMIT.\n",
      "\n",
      "Increase the number of iterations (max_iter) or scale the data as shown in:\n",
      "    https://scikit-learn.org/stable/modules/preprocessing.html\n",
      "Please also refer to the documentation for alternative solver options:\n",
      "    https://scikit-learn.org/stable/modules/linear_model.html#logistic-regression\n",
      "  n_iter_i = _check_optimize_result(\n",
      "/home/prc/anaconda3/envs/smartdevds10/lib/python3.10/site-packages/sklearn/linear_model/_logistic.py:458: ConvergenceWarning: lbfgs failed to converge (status=1):\n",
      "STOP: TOTAL NO. of ITERATIONS REACHED LIMIT.\n",
      "\n",
      "Increase the number of iterations (max_iter) or scale the data as shown in:\n",
      "    https://scikit-learn.org/stable/modules/preprocessing.html\n",
      "Please also refer to the documentation for alternative solver options:\n",
      "    https://scikit-learn.org/stable/modules/linear_model.html#logistic-regression\n",
      "  n_iter_i = _check_optimize_result(\n",
      "/home/prc/anaconda3/envs/smartdevds10/lib/python3.10/site-packages/sklearn/linear_model/_logistic.py:458: ConvergenceWarning: lbfgs failed to converge (status=1):\n",
      "STOP: TOTAL NO. of ITERATIONS REACHED LIMIT.\n",
      "\n",
      "Increase the number of iterations (max_iter) or scale the data as shown in:\n",
      "    https://scikit-learn.org/stable/modules/preprocessing.html\n",
      "Please also refer to the documentation for alternative solver options:\n",
      "    https://scikit-learn.org/stable/modules/linear_model.html#logistic-regression\n",
      "  n_iter_i = _check_optimize_result(\n",
      "/home/prc/anaconda3/envs/smartdevds10/lib/python3.10/site-packages/sklearn/linear_model/_logistic.py:458: ConvergenceWarning: lbfgs failed to converge (status=1):\n",
      "STOP: TOTAL NO. of ITERATIONS REACHED LIMIT.\n",
      "\n",
      "Increase the number of iterations (max_iter) or scale the data as shown in:\n",
      "    https://scikit-learn.org/stable/modules/preprocessing.html\n",
      "Please also refer to the documentation for alternative solver options:\n",
      "    https://scikit-learn.org/stable/modules/linear_model.html#logistic-regression\n",
      "  n_iter_i = _check_optimize_result(\n",
      "logisticregression hyperoptimisation:  63%|██████▎   | 63/100 [2:36:32<1:26:43, 140.64s/it]/home/prc/anaconda3/envs/smartdevds10/lib/python3.10/site-packages/sklearn/linear_model/_logistic.py:458: ConvergenceWarning: lbfgs failed to converge (status=1):\n",
      "STOP: TOTAL NO. of ITERATIONS REACHED LIMIT.\n",
      "\n",
      "Increase the number of iterations (max_iter) or scale the data as shown in:\n",
      "    https://scikit-learn.org/stable/modules/preprocessing.html\n",
      "Please also refer to the documentation for alternative solver options:\n",
      "    https://scikit-learn.org/stable/modules/linear_model.html#logistic-regression\n",
      "  n_iter_i = _check_optimize_result(\n",
      "/home/prc/anaconda3/envs/smartdevds10/lib/python3.10/site-packages/sklearn/linear_model/_logistic.py:458: ConvergenceWarning: lbfgs failed to converge (status=1):\n",
      "STOP: TOTAL NO. of ITERATIONS REACHED LIMIT.\n",
      "\n",
      "Increase the number of iterations (max_iter) or scale the data as shown in:\n",
      "    https://scikit-learn.org/stable/modules/preprocessing.html\n",
      "Please also refer to the documentation for alternative solver options:\n",
      "    https://scikit-learn.org/stable/modules/linear_model.html#logistic-regression\n",
      "  n_iter_i = _check_optimize_result(\n",
      "logisticregression hyperoptimisation:  65%|██████▌   | 65/100 [2:41:13<1:20:37, 138.21s/it]/home/prc/anaconda3/envs/smartdevds10/lib/python3.10/site-packages/sklearn/linear_model/_logistic.py:458: ConvergenceWarning: lbfgs failed to converge (status=1):\n",
      "STOP: TOTAL NO. of ITERATIONS REACHED LIMIT.\n",
      "\n",
      "Increase the number of iterations (max_iter) or scale the data as shown in:\n",
      "    https://scikit-learn.org/stable/modules/preprocessing.html\n",
      "Please also refer to the documentation for alternative solver options:\n",
      "    https://scikit-learn.org/stable/modules/linear_model.html#logistic-regression\n",
      "  n_iter_i = _check_optimize_result(\n",
      "/home/prc/anaconda3/envs/smartdevds10/lib/python3.10/site-packages/sklearn/linear_model/_logistic.py:458: ConvergenceWarning: lbfgs failed to converge (status=1):\n",
      "STOP: TOTAL NO. of ITERATIONS REACHED LIMIT.\n",
      "\n",
      "Increase the number of iterations (max_iter) or scale the data as shown in:\n",
      "    https://scikit-learn.org/stable/modules/preprocessing.html\n",
      "Please also refer to the documentation for alternative solver options:\n",
      "    https://scikit-learn.org/stable/modules/linear_model.html#logistic-regression\n",
      "  n_iter_i = _check_optimize_result(\n",
      "logisticregression hyperoptimisation:  66%|██████▌   | 66/100 [2:43:23<1:16:57, 135.80s/it]/home/prc/anaconda3/envs/smartdevds10/lib/python3.10/site-packages/sklearn/linear_model/_logistic.py:458: ConvergenceWarning: lbfgs failed to converge (status=1):\n",
      "STOP: TOTAL NO. of ITERATIONS REACHED LIMIT.\n",
      "\n",
      "Increase the number of iterations (max_iter) or scale the data as shown in:\n",
      "    https://scikit-learn.org/stable/modules/preprocessing.html\n",
      "Please also refer to the documentation for alternative solver options:\n",
      "    https://scikit-learn.org/stable/modules/linear_model.html#logistic-regression\n",
      "  n_iter_i = _check_optimize_result(\n",
      "/home/prc/anaconda3/envs/smartdevds10/lib/python3.10/site-packages/sklearn/linear_model/_logistic.py:458: ConvergenceWarning: lbfgs failed to converge (status=1):\n",
      "STOP: TOTAL NO. of ITERATIONS REACHED LIMIT.\n",
      "\n",
      "Increase the number of iterations (max_iter) or scale the data as shown in:\n",
      "    https://scikit-learn.org/stable/modules/preprocessing.html\n",
      "Please also refer to the documentation for alternative solver options:\n",
      "    https://scikit-learn.org/stable/modules/linear_model.html#logistic-regression\n",
      "  n_iter_i = _check_optimize_result(\n",
      "/home/prc/anaconda3/envs/smartdevds10/lib/python3.10/site-packages/sklearn/linear_model/_logistic.py:458: ConvergenceWarning: lbfgs failed to converge (status=1):\n",
      "STOP: TOTAL NO. of ITERATIONS REACHED LIMIT.\n",
      "\n",
      "Increase the number of iterations (max_iter) or scale the data as shown in:\n",
      "    https://scikit-learn.org/stable/modules/preprocessing.html\n",
      "Please also refer to the documentation for alternative solver options:\n",
      "    https://scikit-learn.org/stable/modules/linear_model.html#logistic-regression\n",
      "  n_iter_i = _check_optimize_result(\n",
      "logisticregression hyperoptimisation:  67%|██████▋   | 67/100 [2:45:35<1:14:02, 134.61s/it]/home/prc/anaconda3/envs/smartdevds10/lib/python3.10/site-packages/sklearn/linear_model/_logistic.py:458: ConvergenceWarning: lbfgs failed to converge (status=1):\n",
      "STOP: TOTAL NO. of ITERATIONS REACHED LIMIT.\n",
      "\n",
      "Increase the number of iterations (max_iter) or scale the data as shown in:\n",
      "    https://scikit-learn.org/stable/modules/preprocessing.html\n",
      "Please also refer to the documentation for alternative solver options:\n",
      "    https://scikit-learn.org/stable/modules/linear_model.html#logistic-regression\n",
      "  n_iter_i = _check_optimize_result(\n",
      "/home/prc/anaconda3/envs/smartdevds10/lib/python3.10/site-packages/sklearn/linear_model/_logistic.py:458: ConvergenceWarning: lbfgs failed to converge (status=1):\n",
      "STOP: TOTAL NO. of ITERATIONS REACHED LIMIT.\n",
      "\n",
      "Increase the number of iterations (max_iter) or scale the data as shown in:\n",
      "    https://scikit-learn.org/stable/modules/preprocessing.html\n",
      "Please also refer to the documentation for alternative solver options:\n",
      "    https://scikit-learn.org/stable/modules/linear_model.html#logistic-regression\n",
      "  n_iter_i = _check_optimize_result(\n",
      "logisticregression hyperoptimisation:  69%|██████▉   | 69/100 [2:49:34<1:04:50, 125.50s/it]/home/prc/anaconda3/envs/smartdevds10/lib/python3.10/site-packages/sklearn/linear_model/_logistic.py:458: ConvergenceWarning: lbfgs failed to converge (status=1):\n",
      "STOP: TOTAL NO. of ITERATIONS REACHED LIMIT.\n",
      "\n",
      "Increase the number of iterations (max_iter) or scale the data as shown in:\n",
      "    https://scikit-learn.org/stable/modules/preprocessing.html\n",
      "Please also refer to the documentation for alternative solver options:\n",
      "    https://scikit-learn.org/stable/modules/linear_model.html#logistic-regression\n",
      "  n_iter_i = _check_optimize_result(\n",
      "/home/prc/anaconda3/envs/smartdevds10/lib/python3.10/site-packages/sklearn/linear_model/_logistic.py:458: ConvergenceWarning: lbfgs failed to converge (status=1):\n",
      "STOP: TOTAL NO. of ITERATIONS REACHED LIMIT.\n",
      "\n",
      "Increase the number of iterations (max_iter) or scale the data as shown in:\n",
      "    https://scikit-learn.org/stable/modules/preprocessing.html\n",
      "Please also refer to the documentation for alternative solver options:\n",
      "    https://scikit-learn.org/stable/modules/linear_model.html#logistic-regression\n",
      "  n_iter_i = _check_optimize_result(\n",
      "logisticregression hyperoptimisation:  71%|███████   | 71/100 [2:54:28<1:06:26, 137.47s/it]/home/prc/anaconda3/envs/smartdevds10/lib/python3.10/site-packages/sklearn/linear_model/_logistic.py:458: ConvergenceWarning: lbfgs failed to converge (status=1):\n",
      "STOP: TOTAL NO. of ITERATIONS REACHED LIMIT.\n",
      "\n",
      "Increase the number of iterations (max_iter) or scale the data as shown in:\n",
      "    https://scikit-learn.org/stable/modules/preprocessing.html\n",
      "Please also refer to the documentation for alternative solver options:\n",
      "    https://scikit-learn.org/stable/modules/linear_model.html#logistic-regression\n",
      "  n_iter_i = _check_optimize_result(\n",
      "logisticregression hyperoptimisation:  72%|███████▏  | 72/100 [2:56:37<1:02:56, 134.87s/it]/home/prc/anaconda3/envs/smartdevds10/lib/python3.10/site-packages/sklearn/linear_model/_logistic.py:458: ConvergenceWarning: lbfgs failed to converge (status=1):\n",
      "STOP: TOTAL NO. of ITERATIONS REACHED LIMIT.\n",
      "\n",
      "Increase the number of iterations (max_iter) or scale the data as shown in:\n",
      "    https://scikit-learn.org/stable/modules/preprocessing.html\n",
      "Please also refer to the documentation for alternative solver options:\n",
      "    https://scikit-learn.org/stable/modules/linear_model.html#logistic-regression\n",
      "  n_iter_i = _check_optimize_result(\n",
      "logisticregression hyperoptimisation:  73%|███████▎  | 73/100 [2:58:40<59:06, 131.34s/it]  /home/prc/anaconda3/envs/smartdevds10/lib/python3.10/site-packages/sklearn/linear_model/_logistic.py:458: ConvergenceWarning: lbfgs failed to converge (status=1):\n",
      "STOP: TOTAL NO. of ITERATIONS REACHED LIMIT.\n",
      "\n",
      "Increase the number of iterations (max_iter) or scale the data as shown in:\n",
      "    https://scikit-learn.org/stable/modules/preprocessing.html\n",
      "Please also refer to the documentation for alternative solver options:\n",
      "    https://scikit-learn.org/stable/modules/linear_model.html#logistic-regression\n",
      "  n_iter_i = _check_optimize_result(\n",
      "/home/prc/anaconda3/envs/smartdevds10/lib/python3.10/site-packages/sklearn/linear_model/_logistic.py:458: ConvergenceWarning: lbfgs failed to converge (status=1):\n",
      "STOP: TOTAL NO. of ITERATIONS REACHED LIMIT.\n",
      "\n",
      "Increase the number of iterations (max_iter) or scale the data as shown in:\n",
      "    https://scikit-learn.org/stable/modules/preprocessing.html\n",
      "Please also refer to the documentation for alternative solver options:\n",
      "    https://scikit-learn.org/stable/modules/linear_model.html#logistic-regression\n",
      "  n_iter_i = _check_optimize_result(\n",
      "logisticregression hyperoptimisation:  74%|███████▍  | 74/100 [3:00:48<56:27, 130.30s/it]/home/prc/anaconda3/envs/smartdevds10/lib/python3.10/site-packages/sklearn/linear_model/_logistic.py:458: ConvergenceWarning: lbfgs failed to converge (status=1):\n",
      "STOP: TOTAL NO. of ITERATIONS REACHED LIMIT.\n",
      "\n",
      "Increase the number of iterations (max_iter) or scale the data as shown in:\n",
      "    https://scikit-learn.org/stable/modules/preprocessing.html\n",
      "Please also refer to the documentation for alternative solver options:\n",
      "    https://scikit-learn.org/stable/modules/linear_model.html#logistic-regression\n",
      "  n_iter_i = _check_optimize_result(\n",
      "logisticregression hyperoptimisation:  75%|███████▌  | 75/100 [3:02:54<53:44, 128.96s/it]/home/prc/anaconda3/envs/smartdevds10/lib/python3.10/site-packages/sklearn/linear_model/_logistic.py:458: ConvergenceWarning: lbfgs failed to converge (status=1):\n",
      "STOP: TOTAL NO. of ITERATIONS REACHED LIMIT.\n",
      "\n",
      "Increase the number of iterations (max_iter) or scale the data as shown in:\n",
      "    https://scikit-learn.org/stable/modules/preprocessing.html\n",
      "Please also refer to the documentation for alternative solver options:\n",
      "    https://scikit-learn.org/stable/modules/linear_model.html#logistic-regression\n",
      "  n_iter_i = _check_optimize_result(\n",
      "/home/prc/anaconda3/envs/smartdevds10/lib/python3.10/site-packages/sklearn/linear_model/_logistic.py:458: ConvergenceWarning: lbfgs failed to converge (status=1):\n",
      "STOP: TOTAL NO. of ITERATIONS REACHED LIMIT.\n",
      "\n",
      "Increase the number of iterations (max_iter) or scale the data as shown in:\n",
      "    https://scikit-learn.org/stable/modules/preprocessing.html\n",
      "Please also refer to the documentation for alternative solver options:\n",
      "    https://scikit-learn.org/stable/modules/linear_model.html#logistic-regression\n",
      "  n_iter_i = _check_optimize_result(\n",
      "logisticregression hyperoptimisation:  76%|███████▌  | 76/100 [3:05:00<51:14, 128.11s/it]/home/prc/anaconda3/envs/smartdevds10/lib/python3.10/site-packages/sklearn/linear_model/_logistic.py:458: ConvergenceWarning: lbfgs failed to converge (status=1):\n",
      "STOP: TOTAL NO. of ITERATIONS REACHED LIMIT.\n",
      "\n",
      "Increase the number of iterations (max_iter) or scale the data as shown in:\n",
      "    https://scikit-learn.org/stable/modules/preprocessing.html\n",
      "Please also refer to the documentation for alternative solver options:\n",
      "    https://scikit-learn.org/stable/modules/linear_model.html#logistic-regression\n",
      "  n_iter_i = _check_optimize_result(\n",
      "logisticregression hyperoptimisation:  77%|███████▋  | 77/100 [3:07:23<50:52, 132.72s/it]/home/prc/anaconda3/envs/smartdevds10/lib/python3.10/site-packages/sklearn/linear_model/_logistic.py:458: ConvergenceWarning: lbfgs failed to converge (status=1):\n",
      "STOP: TOTAL NO. of ITERATIONS REACHED LIMIT.\n",
      "\n",
      "Increase the number of iterations (max_iter) or scale the data as shown in:\n",
      "    https://scikit-learn.org/stable/modules/preprocessing.html\n",
      "Please also refer to the documentation for alternative solver options:\n",
      "    https://scikit-learn.org/stable/modules/linear_model.html#logistic-regression\n",
      "  n_iter_i = _check_optimize_result(\n",
      "/home/prc/anaconda3/envs/smartdevds10/lib/python3.10/site-packages/sklearn/linear_model/_logistic.py:458: ConvergenceWarning: lbfgs failed to converge (status=1):\n",
      "STOP: TOTAL NO. of ITERATIONS REACHED LIMIT.\n",
      "\n",
      "Increase the number of iterations (max_iter) or scale the data as shown in:\n",
      "    https://scikit-learn.org/stable/modules/preprocessing.html\n",
      "Please also refer to the documentation for alternative solver options:\n",
      "    https://scikit-learn.org/stable/modules/linear_model.html#logistic-regression\n",
      "  n_iter_i = _check_optimize_result(\n",
      "logisticregression hyperoptimisation:  78%|███████▊  | 78/100 [3:09:30<48:00, 130.94s/it]/home/prc/anaconda3/envs/smartdevds10/lib/python3.10/site-packages/sklearn/linear_model/_logistic.py:458: ConvergenceWarning: lbfgs failed to converge (status=1):\n",
      "STOP: TOTAL NO. of ITERATIONS REACHED LIMIT.\n",
      "\n",
      "Increase the number of iterations (max_iter) or scale the data as shown in:\n",
      "    https://scikit-learn.org/stable/modules/preprocessing.html\n",
      "Please also refer to the documentation for alternative solver options:\n",
      "    https://scikit-learn.org/stable/modules/linear_model.html#logistic-regression\n",
      "  n_iter_i = _check_optimize_result(\n",
      "/home/prc/anaconda3/envs/smartdevds10/lib/python3.10/site-packages/sklearn/linear_model/_logistic.py:458: ConvergenceWarning: lbfgs failed to converge (status=1):\n",
      "STOP: TOTAL NO. of ITERATIONS REACHED LIMIT.\n",
      "\n",
      "Increase the number of iterations (max_iter) or scale the data as shown in:\n",
      "    https://scikit-learn.org/stable/modules/preprocessing.html\n",
      "Please also refer to the documentation for alternative solver options:\n",
      "    https://scikit-learn.org/stable/modules/linear_model.html#logistic-regression\n",
      "  n_iter_i = _check_optimize_result(\n",
      "logisticregression hyperoptimisation:  80%|████████  | 80/100 [3:13:21<40:36, 121.82s/it]/home/prc/anaconda3/envs/smartdevds10/lib/python3.10/site-packages/sklearn/linear_model/_logistic.py:458: ConvergenceWarning: lbfgs failed to converge (status=1):\n",
      "STOP: TOTAL NO. of ITERATIONS REACHED LIMIT.\n",
      "\n",
      "Increase the number of iterations (max_iter) or scale the data as shown in:\n",
      "    https://scikit-learn.org/stable/modules/preprocessing.html\n",
      "Please also refer to the documentation for alternative solver options:\n",
      "    https://scikit-learn.org/stable/modules/linear_model.html#logistic-regression\n",
      "  n_iter_i = _check_optimize_result(\n",
      "logisticregression hyperoptimisation:  81%|████████  | 81/100 [3:15:25<38:50, 122.63s/it]/home/prc/anaconda3/envs/smartdevds10/lib/python3.10/site-packages/sklearn/linear_model/_logistic.py:458: ConvergenceWarning: lbfgs failed to converge (status=1):\n",
      "STOP: TOTAL NO. of ITERATIONS REACHED LIMIT.\n",
      "\n",
      "Increase the number of iterations (max_iter) or scale the data as shown in:\n",
      "    https://scikit-learn.org/stable/modules/preprocessing.html\n",
      "Please also refer to the documentation for alternative solver options:\n",
      "    https://scikit-learn.org/stable/modules/linear_model.html#logistic-regression\n",
      "  n_iter_i = _check_optimize_result(\n",
      "logisticregression hyperoptimisation:  82%|████████▏ | 82/100 [3:17:29<36:53, 122.95s/it]/home/prc/anaconda3/envs/smartdevds10/lib/python3.10/site-packages/sklearn/linear_model/_logistic.py:458: ConvergenceWarning: lbfgs failed to converge (status=1):\n",
      "STOP: TOTAL NO. of ITERATIONS REACHED LIMIT.\n",
      "\n",
      "Increase the number of iterations (max_iter) or scale the data as shown in:\n",
      "    https://scikit-learn.org/stable/modules/preprocessing.html\n",
      "Please also refer to the documentation for alternative solver options:\n",
      "    https://scikit-learn.org/stable/modules/linear_model.html#logistic-regression\n",
      "  n_iter_i = _check_optimize_result(\n",
      "/home/prc/anaconda3/envs/smartdevds10/lib/python3.10/site-packages/sklearn/linear_model/_logistic.py:458: ConvergenceWarning: lbfgs failed to converge (status=1):\n",
      "STOP: TOTAL NO. of ITERATIONS REACHED LIMIT.\n",
      "\n",
      "Increase the number of iterations (max_iter) or scale the data as shown in:\n",
      "    https://scikit-learn.org/stable/modules/preprocessing.html\n",
      "Please also refer to the documentation for alternative solver options:\n",
      "    https://scikit-learn.org/stable/modules/linear_model.html#logistic-regression\n",
      "  n_iter_i = _check_optimize_result(\n",
      "logisticregression hyperoptimisation:  84%|████████▍ | 84/100 [3:21:57<34:04, 127.78s/it]/home/prc/anaconda3/envs/smartdevds10/lib/python3.10/site-packages/sklearn/linear_model/_logistic.py:458: ConvergenceWarning: lbfgs failed to converge (status=1):\n",
      "STOP: TOTAL NO. of ITERATIONS REACHED LIMIT.\n",
      "\n",
      "Increase the number of iterations (max_iter) or scale the data as shown in:\n",
      "    https://scikit-learn.org/stable/modules/preprocessing.html\n",
      "Please also refer to the documentation for alternative solver options:\n",
      "    https://scikit-learn.org/stable/modules/linear_model.html#logistic-regression\n",
      "  n_iter_i = _check_optimize_result(\n",
      "/home/prc/anaconda3/envs/smartdevds10/lib/python3.10/site-packages/sklearn/linear_model/_logistic.py:458: ConvergenceWarning: lbfgs failed to converge (status=1):\n",
      "STOP: TOTAL NO. of ITERATIONS REACHED LIMIT.\n",
      "\n",
      "Increase the number of iterations (max_iter) or scale the data as shown in:\n",
      "    https://scikit-learn.org/stable/modules/preprocessing.html\n",
      "Please also refer to the documentation for alternative solver options:\n",
      "    https://scikit-learn.org/stable/modules/linear_model.html#logistic-regression\n",
      "  n_iter_i = _check_optimize_result(\n",
      "logisticregression hyperoptimisation:  86%|████████▌ | 86/100 [3:26:09<29:11, 125.14s/it]/home/prc/anaconda3/envs/smartdevds10/lib/python3.10/site-packages/sklearn/linear_model/_logistic.py:458: ConvergenceWarning: lbfgs failed to converge (status=1):\n",
      "STOP: TOTAL NO. of ITERATIONS REACHED LIMIT.\n",
      "\n",
      "Increase the number of iterations (max_iter) or scale the data as shown in:\n",
      "    https://scikit-learn.org/stable/modules/preprocessing.html\n",
      "Please also refer to the documentation for alternative solver options:\n",
      "    https://scikit-learn.org/stable/modules/linear_model.html#logistic-regression\n",
      "  n_iter_i = _check_optimize_result(\n",
      "logisticregression hyperoptimisation:  87%|████████▋ | 87/100 [3:28:19<27:25, 126.57s/it]/home/prc/anaconda3/envs/smartdevds10/lib/python3.10/site-packages/sklearn/linear_model/_logistic.py:458: ConvergenceWarning: lbfgs failed to converge (status=1):\n",
      "STOP: TOTAL NO. of ITERATIONS REACHED LIMIT.\n",
      "\n",
      "Increase the number of iterations (max_iter) or scale the data as shown in:\n",
      "    https://scikit-learn.org/stable/modules/preprocessing.html\n",
      "Please also refer to the documentation for alternative solver options:\n",
      "    https://scikit-learn.org/stable/modules/linear_model.html#logistic-regression\n",
      "  n_iter_i = _check_optimize_result(\n",
      "/home/prc/anaconda3/envs/smartdevds10/lib/python3.10/site-packages/sklearn/linear_model/_logistic.py:458: ConvergenceWarning: lbfgs failed to converge (status=1):\n",
      "STOP: TOTAL NO. of ITERATIONS REACHED LIMIT.\n",
      "\n",
      "Increase the number of iterations (max_iter) or scale the data as shown in:\n",
      "    https://scikit-learn.org/stable/modules/preprocessing.html\n",
      "Please also refer to the documentation for alternative solver options:\n",
      "    https://scikit-learn.org/stable/modules/linear_model.html#logistic-regression\n",
      "  n_iter_i = _check_optimize_result(\n",
      "logisticregression hyperoptimisation:  88%|████████▊ | 88/100 [3:30:30<25:34, 127.91s/it]/home/prc/anaconda3/envs/smartdevds10/lib/python3.10/site-packages/sklearn/linear_model/_logistic.py:458: ConvergenceWarning: lbfgs failed to converge (status=1):\n",
      "STOP: TOTAL NO. of ITERATIONS REACHED LIMIT.\n",
      "\n",
      "Increase the number of iterations (max_iter) or scale the data as shown in:\n",
      "    https://scikit-learn.org/stable/modules/preprocessing.html\n",
      "Please also refer to the documentation for alternative solver options:\n",
      "    https://scikit-learn.org/stable/modules/linear_model.html#logistic-regression\n",
      "  n_iter_i = _check_optimize_result(\n",
      "/home/prc/anaconda3/envs/smartdevds10/lib/python3.10/site-packages/sklearn/linear_model/_logistic.py:458: ConvergenceWarning: lbfgs failed to converge (status=1):\n",
      "STOP: TOTAL NO. of ITERATIONS REACHED LIMIT.\n",
      "\n",
      "Increase the number of iterations (max_iter) or scale the data as shown in:\n",
      "    https://scikit-learn.org/stable/modules/preprocessing.html\n",
      "Please also refer to the documentation for alternative solver options:\n",
      "    https://scikit-learn.org/stable/modules/linear_model.html#logistic-regression\n",
      "  n_iter_i = _check_optimize_result(\n",
      "logisticregression hyperoptimisation:  89%|████████▉ | 89/100 [3:33:04<24:54, 135.83s/it]/home/prc/anaconda3/envs/smartdevds10/lib/python3.10/site-packages/sklearn/linear_model/_logistic.py:458: ConvergenceWarning: lbfgs failed to converge (status=1):\n",
      "STOP: TOTAL NO. of ITERATIONS REACHED LIMIT.\n",
      "\n",
      "Increase the number of iterations (max_iter) or scale the data as shown in:\n",
      "    https://scikit-learn.org/stable/modules/preprocessing.html\n",
      "Please also refer to the documentation for alternative solver options:\n",
      "    https://scikit-learn.org/stable/modules/linear_model.html#logistic-regression\n",
      "  n_iter_i = _check_optimize_result(\n",
      "/home/prc/anaconda3/envs/smartdevds10/lib/python3.10/site-packages/sklearn/linear_model/_logistic.py:458: ConvergenceWarning: lbfgs failed to converge (status=1):\n",
      "STOP: TOTAL NO. of ITERATIONS REACHED LIMIT.\n",
      "\n",
      "Increase the number of iterations (max_iter) or scale the data as shown in:\n",
      "    https://scikit-learn.org/stable/modules/preprocessing.html\n",
      "Please also refer to the documentation for alternative solver options:\n",
      "    https://scikit-learn.org/stable/modules/linear_model.html#logistic-regression\n",
      "  n_iter_i = _check_optimize_result(\n",
      "logisticregression hyperoptimisation:  90%|█████████ | 90/100 [3:35:27<23:01, 138.12s/it]/home/prc/anaconda3/envs/smartdevds10/lib/python3.10/site-packages/sklearn/linear_model/_logistic.py:458: ConvergenceWarning: lbfgs failed to converge (status=1):\n",
      "STOP: TOTAL NO. of ITERATIONS REACHED LIMIT.\n",
      "\n",
      "Increase the number of iterations (max_iter) or scale the data as shown in:\n",
      "    https://scikit-learn.org/stable/modules/preprocessing.html\n",
      "Please also refer to the documentation for alternative solver options:\n",
      "    https://scikit-learn.org/stable/modules/linear_model.html#logistic-regression\n",
      "  n_iter_i = _check_optimize_result(\n",
      "/home/prc/anaconda3/envs/smartdevds10/lib/python3.10/site-packages/sklearn/linear_model/_logistic.py:458: ConvergenceWarning: lbfgs failed to converge (status=1):\n",
      "STOP: TOTAL NO. of ITERATIONS REACHED LIMIT.\n",
      "\n",
      "Increase the number of iterations (max_iter) or scale the data as shown in:\n",
      "    https://scikit-learn.org/stable/modules/preprocessing.html\n",
      "Please also refer to the documentation for alternative solver options:\n",
      "    https://scikit-learn.org/stable/modules/linear_model.html#logistic-regression\n",
      "  n_iter_i = _check_optimize_result(\n",
      "/home/prc/anaconda3/envs/smartdevds10/lib/python3.10/site-packages/sklearn/linear_model/_logistic.py:458: ConvergenceWarning: lbfgs failed to converge (status=1):\n",
      "STOP: TOTAL NO. of ITERATIONS REACHED LIMIT.\n",
      "\n",
      "Increase the number of iterations (max_iter) or scale the data as shown in:\n",
      "    https://scikit-learn.org/stable/modules/preprocessing.html\n",
      "Please also refer to the documentation for alternative solver options:\n",
      "    https://scikit-learn.org/stable/modules/linear_model.html#logistic-regression\n",
      "  n_iter_i = _check_optimize_result(\n",
      "/home/prc/anaconda3/envs/smartdevds10/lib/python3.10/site-packages/sklearn/linear_model/_logistic.py:458: ConvergenceWarning: lbfgs failed to converge (status=1):\n",
      "STOP: TOTAL NO. of ITERATIONS REACHED LIMIT.\n",
      "\n",
      "Increase the number of iterations (max_iter) or scale the data as shown in:\n",
      "    https://scikit-learn.org/stable/modules/preprocessing.html\n",
      "Please also refer to the documentation for alternative solver options:\n",
      "    https://scikit-learn.org/stable/modules/linear_model.html#logistic-regression\n",
      "  n_iter_i = _check_optimize_result(\n",
      "logisticregression hyperoptimisation:  91%|█████████ | 91/100 [3:38:16<22:04, 147.12s/it]/home/prc/anaconda3/envs/smartdevds10/lib/python3.10/site-packages/sklearn/linear_model/_logistic.py:458: ConvergenceWarning: lbfgs failed to converge (status=1):\n",
      "STOP: TOTAL NO. of ITERATIONS REACHED LIMIT.\n",
      "\n",
      "Increase the number of iterations (max_iter) or scale the data as shown in:\n",
      "    https://scikit-learn.org/stable/modules/preprocessing.html\n",
      "Please also refer to the documentation for alternative solver options:\n",
      "    https://scikit-learn.org/stable/modules/linear_model.html#logistic-regression\n",
      "  n_iter_i = _check_optimize_result(\n",
      "/home/prc/anaconda3/envs/smartdevds10/lib/python3.10/site-packages/sklearn/linear_model/_logistic.py:458: ConvergenceWarning: lbfgs failed to converge (status=1):\n",
      "STOP: TOTAL NO. of ITERATIONS REACHED LIMIT.\n",
      "\n",
      "Increase the number of iterations (max_iter) or scale the data as shown in:\n",
      "    https://scikit-learn.org/stable/modules/preprocessing.html\n",
      "Please also refer to the documentation for alternative solver options:\n",
      "    https://scikit-learn.org/stable/modules/linear_model.html#logistic-regression\n",
      "  n_iter_i = _check_optimize_result(\n",
      "logisticregression hyperoptimisation:  92%|█████████▏| 92/100 [3:40:24<18:51, 141.46s/it]/home/prc/anaconda3/envs/smartdevds10/lib/python3.10/site-packages/sklearn/linear_model/_logistic.py:458: ConvergenceWarning: lbfgs failed to converge (status=1):\n",
      "STOP: TOTAL NO. of ITERATIONS REACHED LIMIT.\n",
      "\n",
      "Increase the number of iterations (max_iter) or scale the data as shown in:\n",
      "    https://scikit-learn.org/stable/modules/preprocessing.html\n",
      "Please also refer to the documentation for alternative solver options:\n",
      "    https://scikit-learn.org/stable/modules/linear_model.html#logistic-regression\n",
      "  n_iter_i = _check_optimize_result(\n",
      "/home/prc/anaconda3/envs/smartdevds10/lib/python3.10/site-packages/sklearn/linear_model/_logistic.py:458: ConvergenceWarning: lbfgs failed to converge (status=1):\n",
      "STOP: TOTAL NO. of ITERATIONS REACHED LIMIT.\n",
      "\n",
      "Increase the number of iterations (max_iter) or scale the data as shown in:\n",
      "    https://scikit-learn.org/stable/modules/preprocessing.html\n",
      "Please also refer to the documentation for alternative solver options:\n",
      "    https://scikit-learn.org/stable/modules/linear_model.html#logistic-regression\n",
      "  n_iter_i = _check_optimize_result(\n",
      "logisticregression hyperoptimisation:  93%|█████████▎| 93/100 [3:43:08<17:17, 148.22s/it]/home/prc/anaconda3/envs/smartdevds10/lib/python3.10/site-packages/sklearn/linear_model/_logistic.py:458: ConvergenceWarning: lbfgs failed to converge (status=1):\n",
      "STOP: TOTAL NO. of ITERATIONS REACHED LIMIT.\n",
      "\n",
      "Increase the number of iterations (max_iter) or scale the data as shown in:\n",
      "    https://scikit-learn.org/stable/modules/preprocessing.html\n",
      "Please also refer to the documentation for alternative solver options:\n",
      "    https://scikit-learn.org/stable/modules/linear_model.html#logistic-regression\n",
      "  n_iter_i = _check_optimize_result(\n",
      "/home/prc/anaconda3/envs/smartdevds10/lib/python3.10/site-packages/sklearn/linear_model/_logistic.py:458: ConvergenceWarning: lbfgs failed to converge (status=1):\n",
      "STOP: TOTAL NO. of ITERATIONS REACHED LIMIT.\n",
      "\n",
      "Increase the number of iterations (max_iter) or scale the data as shown in:\n",
      "    https://scikit-learn.org/stable/modules/preprocessing.html\n",
      "Please also refer to the documentation for alternative solver options:\n",
      "    https://scikit-learn.org/stable/modules/linear_model.html#logistic-regression\n",
      "  n_iter_i = _check_optimize_result(\n",
      "logisticregression hyperoptimisation:  94%|█████████▍| 94/100 [3:45:28<14:35, 145.84s/it]/home/prc/anaconda3/envs/smartdevds10/lib/python3.10/site-packages/sklearn/linear_model/_logistic.py:458: ConvergenceWarning: lbfgs failed to converge (status=1):\n",
      "STOP: TOTAL NO. of ITERATIONS REACHED LIMIT.\n",
      "\n",
      "Increase the number of iterations (max_iter) or scale the data as shown in:\n",
      "    https://scikit-learn.org/stable/modules/preprocessing.html\n",
      "Please also refer to the documentation for alternative solver options:\n",
      "    https://scikit-learn.org/stable/modules/linear_model.html#logistic-regression\n",
      "  n_iter_i = _check_optimize_result(\n",
      "/home/prc/anaconda3/envs/smartdevds10/lib/python3.10/site-packages/sklearn/linear_model/_logistic.py:458: ConvergenceWarning: lbfgs failed to converge (status=1):\n",
      "STOP: TOTAL NO. of ITERATIONS REACHED LIMIT.\n",
      "\n",
      "Increase the number of iterations (max_iter) or scale the data as shown in:\n",
      "    https://scikit-learn.org/stable/modules/preprocessing.html\n",
      "Please also refer to the documentation for alternative solver options:\n",
      "    https://scikit-learn.org/stable/modules/linear_model.html#logistic-regression\n",
      "  n_iter_i = _check_optimize_result(\n",
      "logisticregression hyperoptimisation:  95%|█████████▌| 95/100 [3:47:45<11:55, 143.07s/it]/home/prc/anaconda3/envs/smartdevds10/lib/python3.10/site-packages/sklearn/linear_model/_logistic.py:458: ConvergenceWarning: lbfgs failed to converge (status=1):\n",
      "STOP: TOTAL NO. of ITERATIONS REACHED LIMIT.\n",
      "\n",
      "Increase the number of iterations (max_iter) or scale the data as shown in:\n",
      "    https://scikit-learn.org/stable/modules/preprocessing.html\n",
      "Please also refer to the documentation for alternative solver options:\n",
      "    https://scikit-learn.org/stable/modules/linear_model.html#logistic-regression\n",
      "  n_iter_i = _check_optimize_result(\n",
      "/home/prc/anaconda3/envs/smartdevds10/lib/python3.10/site-packages/sklearn/linear_model/_logistic.py:458: ConvergenceWarning: lbfgs failed to converge (status=1):\n",
      "STOP: TOTAL NO. of ITERATIONS REACHED LIMIT.\n",
      "\n",
      "Increase the number of iterations (max_iter) or scale the data as shown in:\n",
      "    https://scikit-learn.org/stable/modules/preprocessing.html\n",
      "Please also refer to the documentation for alternative solver options:\n",
      "    https://scikit-learn.org/stable/modules/linear_model.html#logistic-regression\n",
      "  n_iter_i = _check_optimize_result(\n",
      "logisticregression hyperoptimisation:  96%|█████████▌| 96/100 [3:49:58<09:21, 140.26s/it]/home/prc/anaconda3/envs/smartdevds10/lib/python3.10/site-packages/sklearn/linear_model/_logistic.py:458: ConvergenceWarning: lbfgs failed to converge (status=1):\n",
      "STOP: TOTAL NO. of ITERATIONS REACHED LIMIT.\n",
      "\n",
      "Increase the number of iterations (max_iter) or scale the data as shown in:\n",
      "    https://scikit-learn.org/stable/modules/preprocessing.html\n",
      "Please also refer to the documentation for alternative solver options:\n",
      "    https://scikit-learn.org/stable/modules/linear_model.html#logistic-regression\n",
      "  n_iter_i = _check_optimize_result(\n",
      "/home/prc/anaconda3/envs/smartdevds10/lib/python3.10/site-packages/sklearn/linear_model/_logistic.py:458: ConvergenceWarning: lbfgs failed to converge (status=1):\n",
      "STOP: TOTAL NO. of ITERATIONS REACHED LIMIT.\n",
      "\n",
      "Increase the number of iterations (max_iter) or scale the data as shown in:\n",
      "    https://scikit-learn.org/stable/modules/preprocessing.html\n",
      "Please also refer to the documentation for alternative solver options:\n",
      "    https://scikit-learn.org/stable/modules/linear_model.html#logistic-regression\n",
      "  n_iter_i = _check_optimize_result(\n",
      "logisticregression hyperoptimisation:  97%|█████████▋| 97/100 [3:52:08<06:51, 137.06s/it]/home/prc/anaconda3/envs/smartdevds10/lib/python3.10/site-packages/sklearn/linear_model/_logistic.py:458: ConvergenceWarning: lbfgs failed to converge (status=1):\n",
      "STOP: TOTAL NO. of ITERATIONS REACHED LIMIT.\n",
      "\n",
      "Increase the number of iterations (max_iter) or scale the data as shown in:\n",
      "    https://scikit-learn.org/stable/modules/preprocessing.html\n",
      "Please also refer to the documentation for alternative solver options:\n",
      "    https://scikit-learn.org/stable/modules/linear_model.html#logistic-regression\n",
      "  n_iter_i = _check_optimize_result(\n",
      "/home/prc/anaconda3/envs/smartdevds10/lib/python3.10/site-packages/sklearn/linear_model/_logistic.py:458: ConvergenceWarning: lbfgs failed to converge (status=1):\n",
      "STOP: TOTAL NO. of ITERATIONS REACHED LIMIT.\n",
      "\n",
      "Increase the number of iterations (max_iter) or scale the data as shown in:\n",
      "    https://scikit-learn.org/stable/modules/preprocessing.html\n",
      "Please also refer to the documentation for alternative solver options:\n",
      "    https://scikit-learn.org/stable/modules/linear_model.html#logistic-regression\n",
      "  n_iter_i = _check_optimize_result(\n",
      "/home/prc/anaconda3/envs/smartdevds10/lib/python3.10/site-packages/sklearn/linear_model/_logistic.py:458: ConvergenceWarning: lbfgs failed to converge (status=1):\n",
      "STOP: TOTAL NO. of ITERATIONS REACHED LIMIT.\n",
      "\n",
      "Increase the number of iterations (max_iter) or scale the data as shown in:\n",
      "    https://scikit-learn.org/stable/modules/preprocessing.html\n",
      "Please also refer to the documentation for alternative solver options:\n",
      "    https://scikit-learn.org/stable/modules/linear_model.html#logistic-regression\n",
      "  n_iter_i = _check_optimize_result(\n",
      "/home/prc/anaconda3/envs/smartdevds10/lib/python3.10/site-packages/sklearn/linear_model/_logistic.py:458: ConvergenceWarning: lbfgs failed to converge (status=1):\n",
      "STOP: TOTAL NO. of ITERATIONS REACHED LIMIT.\n",
      "\n",
      "Increase the number of iterations (max_iter) or scale the data as shown in:\n",
      "    https://scikit-learn.org/stable/modules/preprocessing.html\n",
      "Please also refer to the documentation for alternative solver options:\n",
      "    https://scikit-learn.org/stable/modules/linear_model.html#logistic-regression\n",
      "  n_iter_i = _check_optimize_result(\n",
      "logisticregression hyperoptimisation:  98%|█████████▊| 98/100 [3:54:17<04:29, 134.67s/it]/home/prc/anaconda3/envs/smartdevds10/lib/python3.10/site-packages/sklearn/linear_model/_logistic.py:458: ConvergenceWarning: lbfgs failed to converge (status=1):\n",
      "STOP: TOTAL NO. of ITERATIONS REACHED LIMIT.\n",
      "\n",
      "Increase the number of iterations (max_iter) or scale the data as shown in:\n",
      "    https://scikit-learn.org/stable/modules/preprocessing.html\n",
      "Please also refer to the documentation for alternative solver options:\n",
      "    https://scikit-learn.org/stable/modules/linear_model.html#logistic-regression\n",
      "  n_iter_i = _check_optimize_result(\n",
      "/home/prc/anaconda3/envs/smartdevds10/lib/python3.10/site-packages/sklearn/linear_model/_logistic.py:458: ConvergenceWarning: lbfgs failed to converge (status=1):\n",
      "STOP: TOTAL NO. of ITERATIONS REACHED LIMIT.\n",
      "\n",
      "Increase the number of iterations (max_iter) or scale the data as shown in:\n",
      "    https://scikit-learn.org/stable/modules/preprocessing.html\n",
      "Please also refer to the documentation for alternative solver options:\n",
      "    https://scikit-learn.org/stable/modules/linear_model.html#logistic-regression\n",
      "  n_iter_i = _check_optimize_result(\n",
      "/home/prc/anaconda3/envs/smartdevds10/lib/python3.10/site-packages/sklearn/linear_model/_logistic.py:458: ConvergenceWarning: lbfgs failed to converge (status=1):\n",
      "STOP: TOTAL NO. of ITERATIONS REACHED LIMIT.\n",
      "\n",
      "Increase the number of iterations (max_iter) or scale the data as shown in:\n",
      "    https://scikit-learn.org/stable/modules/preprocessing.html\n",
      "Please also refer to the documentation for alternative solver options:\n",
      "    https://scikit-learn.org/stable/modules/linear_model.html#logistic-regression\n",
      "  n_iter_i = _check_optimize_result(\n",
      "/home/prc/anaconda3/envs/smartdevds10/lib/python3.10/site-packages/sklearn/linear_model/_logistic.py:458: ConvergenceWarning: lbfgs failed to converge (status=1):\n",
      "STOP: TOTAL NO. of ITERATIONS REACHED LIMIT.\n",
      "\n",
      "Increase the number of iterations (max_iter) or scale the data as shown in:\n",
      "    https://scikit-learn.org/stable/modules/preprocessing.html\n",
      "Please also refer to the documentation for alternative solver options:\n",
      "    https://scikit-learn.org/stable/modules/linear_model.html#logistic-regression\n",
      "  n_iter_i = _check_optimize_result(\n",
      "logisticregression hyperoptimisation:  99%|█████████▉| 99/100 [3:56:26<02:12, 132.82s/it]/home/prc/anaconda3/envs/smartdevds10/lib/python3.10/site-packages/sklearn/linear_model/_logistic.py:458: ConvergenceWarning: lbfgs failed to converge (status=1):\n",
      "STOP: TOTAL NO. of ITERATIONS REACHED LIMIT.\n",
      "\n",
      "Increase the number of iterations (max_iter) or scale the data as shown in:\n",
      "    https://scikit-learn.org/stable/modules/preprocessing.html\n",
      "Please also refer to the documentation for alternative solver options:\n",
      "    https://scikit-learn.org/stable/modules/linear_model.html#logistic-regression\n",
      "  n_iter_i = _check_optimize_result(\n",
      "/home/prc/anaconda3/envs/smartdevds10/lib/python3.10/site-packages/sklearn/linear_model/_logistic.py:458: ConvergenceWarning: lbfgs failed to converge (status=1):\n",
      "STOP: TOTAL NO. of ITERATIONS REACHED LIMIT.\n",
      "\n",
      "Increase the number of iterations (max_iter) or scale the data as shown in:\n",
      "    https://scikit-learn.org/stable/modules/preprocessing.html\n",
      "Please also refer to the documentation for alternative solver options:\n",
      "    https://scikit-learn.org/stable/modules/linear_model.html#logistic-regression\n",
      "  n_iter_i = _check_optimize_result(\n",
      "logisticregression hyperoptimisation: 100%|██████████| 100/100 [3:59:00<00:00, 143.41s/it]\n"
     ]
    }
   ],
   "source": [
    "def fixed_params(**kwargs) -> dict[str, Any]:\n",
    "    params = {\n",
    "        \"max_iter\": 1500,\n",
    "        \"penalty\": \"l2\",\n",
    "        \"random_state\": 42,\n",
    "    }\n",
    "\n",
    "    params.update(kwargs)\n",
    "\n",
    "    return params\n",
    "\n",
    "\n",
    "def default_params(**kwargs) -> dict[str, Any]:\n",
    "    params = {\n",
    "        **fixed_params(),\n",
    "        \"C\": 1.0,\n",
    "    }\n",
    "    params.update(kwargs)\n",
    "\n",
    "    return params\n",
    "\n",
    "\n",
    "def suggest_params(trial: optuna.trial.Trial, **kwargs) -> dict[str, Any]:\n",
    "    params = {\n",
    "        **fixed_params(),\n",
    "        \"C\": trial.suggest_float(\"C\", 0.001, 100.0),\n",
    "    }\n",
    "    params.update(kwargs)\n",
    "\n",
    "    return params\n",
    "\n",
    "tuned_logreg = train.run_optuna(\n",
    "    X = X_train,\n",
    "    y = y_train,\n",
    "    n_trials = 100,\n",
    "    dump_study_path = f\"data/optuna_res/logreg_{dataset_type_train.replace('_train', '')}\",\n",
    "    seed = 42,\n",
    "    resume = False,\n",
    "    suggest_params = suggest_params,\n",
    "    default_params = default_params,\n",
    "    cv = utils.MonthlyTimeSeriesSplit(window=20, partition=True),\n",
    "    model = train.get_logreg_model(rfecv_features, default_params()),\n",
    "    n_jobs = 20,\n",
    "    model_name = \"logisticregression\",\n",
    ")"
   ]
  },
  {
   "cell_type": "code",
   "execution_count": 122,
   "metadata": {
    "execution": {
     "iopub.execute_input": "2025-02-13T00:14:58.248513Z",
     "iopub.status.busy": "2025-02-13T00:14:58.248354Z",
     "iopub.status.idle": "2025-02-13T00:14:58.254513Z",
     "shell.execute_reply": "2025-02-13T00:14:58.253638Z",
     "shell.execute_reply.started": "2025-02-13T00:14:58.248497Z"
    }
   },
   "outputs": [
    {
     "data": {
      "text/plain": [
       "{'C': 17.621449196943164,\n",
       " 'class_weight': None,\n",
       " 'dual': False,\n",
       " 'fit_intercept': True,\n",
       " 'intercept_scaling': 1,\n",
       " 'l1_ratio': None,\n",
       " 'max_iter': 1500,\n",
       " 'multi_class': 'auto',\n",
       " 'n_jobs': None,\n",
       " 'penalty': 'l2',\n",
       " 'random_state': 42,\n",
       " 'solver': 'lbfgs',\n",
       " 'tol': 0.0001,\n",
       " 'verbose': 0,\n",
       " 'warm_start': False}"
      ]
     },
     "execution_count": 122,
     "metadata": {},
     "output_type": "execute_result"
    }
   ],
   "source": [
    "tuned_logreg_params = tuned_logreg[\"logisticregression\"].get_params()\n",
    "tuned_logreg_params"
   ]
  },
  {
   "cell_type": "code",
   "execution_count": 123,
   "metadata": {
    "execution": {
     "iopub.execute_input": "2025-02-13T00:14:58.255100Z",
     "iopub.status.busy": "2025-02-13T00:14:58.254967Z",
     "iopub.status.idle": "2025-02-13T00:20:19.059808Z",
     "shell.execute_reply": "2025-02-13T00:20:19.058729Z",
     "shell.execute_reply.started": "2025-02-13T00:14:58.255086Z"
    },
    "scrolled": true
   },
   "outputs": [
    {
     "name": "stderr",
     "output_type": "stream",
     "text": [
      "/home/prc/anaconda3/envs/smartdevds10/lib/python3.10/site-packages/sklearn/linear_model/_logistic.py:458: ConvergenceWarning: lbfgs failed to converge (status=1):\n",
      "STOP: TOTAL NO. of ITERATIONS REACHED LIMIT.\n",
      "\n",
      "Increase the number of iterations (max_iter) or scale the data as shown in:\n",
      "    https://scikit-learn.org/stable/modules/preprocessing.html\n",
      "Please also refer to the documentation for alternative solver options:\n",
      "    https://scikit-learn.org/stable/modules/linear_model.html#logistic-regression\n",
      "  n_iter_i = _check_optimize_result(\n",
      "                                                 \r"
     ]
    },
    {
     "data": {
      "image/png": "[encoded data removed]",
      "text/plain": [
       "<Figure size 600x600 with 1 Axes>"
      ]
     },
     "metadata": {},
     "output_type": "display_data"
    }
   ],
   "source": [
    "reulst_withoutaft_logreg = tuned_logreg.fit(X_train, y_train)\n",
    "y_pred_prob = reulst_withoutaft_logreg.predict_proba(X_test)\n",
    "\n",
    "plot_roc_curves(y_test, y_pred_prob[:, 1], roc_auc_weights_test, n=100)"
   ]
  },
  {
   "cell_type": "code",
   "execution_count": 124,
   "metadata": {
    "execution": {
     "iopub.execute_input": "2025-02-13T00:20:19.061148Z",
     "iopub.status.busy": "2025-02-13T00:20:19.060953Z",
     "iopub.status.idle": "2025-02-13T00:20:23.112536Z",
     "shell.execute_reply": "2025-02-13T00:20:23.110747Z",
     "shell.execute_reply.started": "2025-02-13T00:20:19.061128Z"
    }
   },
   "outputs": [
    {
     "data": {
      "text/plain": [
       "(0.7334124555177455, 0.6420857338373641)"
      ]
     },
     "execution_count": 124,
     "metadata": {},
     "output_type": "execute_result"
    }
   ],
   "source": [
    "(\n",
    "    roc_auc_score(y_train, reulst_withoutaft_logreg.predict_proba(X_train)[:, 1]), \n",
    "    roc_auc_score(y_test, y_pred_prob[:, 1]),\n",
    ")"
   ]
  },
  {
   "cell_type": "code",
   "execution_count": 125,
   "metadata": {
    "execution": {
     "iopub.execute_input": "2025-02-13T00:20:23.113617Z",
     "iopub.status.busy": "2025-02-13T00:20:23.113450Z",
     "iopub.status.idle": "2025-02-13T00:20:23.124699Z",
     "shell.execute_reply": "2025-02-13T00:20:23.123361Z",
     "shell.execute_reply.started": "2025-02-13T00:20:23.113601Z"
    }
   },
   "outputs": [
    {
     "data": {
      "text/plain": [
       "['data/models/withoutaft_3_5_logreg.pickle']"
      ]
     },
     "execution_count": 125,
     "metadata": {},
     "output_type": "execute_result"
    }
   ],
   "source": [
    "joblib.dump(reulst_withoutaft_logreg, \"data/models/withoutaft_3_5_logreg.pickle\")"
   ]
  },
  {
   "cell_type": "code",
   "execution_count": null,
   "metadata": {},
   "outputs": [],
   "source": []
  }
 ],
 "metadata": {
  "kernelspec": {
   "display_name": "smartdevds",
   "language": "python",
   "name": "smartdevds"
  },
  "language_info": {
   "codemirror_mode": {
    "name": "ipython",
    "version": 3
   },
   "file_extension": ".py",
   "mimetype": "text/x-python",
   "name": "python",
   "nbconvert_exporter": "python",
   "pygments_lexer": "ipython3",
   "version": "3.10.15"
  }
 },
 "nbformat": 4,
 "nbformat_minor": 4
}
