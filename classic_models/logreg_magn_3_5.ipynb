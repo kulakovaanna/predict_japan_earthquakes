{
 "cells": [
  {
   "cell_type": "code",
   "execution_count": 1,
   "metadata": {
    "execution": {
     "iopub.execute_input": "2025-03-12T19:31:33.261374Z",
     "iopub.status.busy": "2025-03-12T19:31:33.259788Z",
     "iopub.status.idle": "2025-03-12T19:31:34.701270Z",
     "shell.execute_reply": "2025-03-12T19:31:34.700356Z",
     "shell.execute_reply.started": "2025-03-12T19:31:33.261293Z"
    }
   },
   "outputs": [
    {
     "name": "stderr",
     "output_type": "stream",
     "text": [
      "/home/prc/anaconda3/envs/smartdevds10/lib/python3.10/site-packages/tqdm/auto.py:21: TqdmWarning: IProgress not found. Please update jupyter and ipywidgets. See https://ipywidgets.readthedocs.io/en/stable/user_install.html\n",
      "  from .autonotebook import tqdm as notebook_tqdm\n"
     ]
    }
   ],
   "source": [
    "import warnings\n",
    "from typing import Any\n",
    "import joblib\n",
    "\n",
    "import pandas as pd\n",
    "import numpy as np\n",
    "import matplotlib.pyplot as plt\n",
    "from tqdm import tqdm\n",
    "\n",
    "import lightgbm as lgb\n",
    "from sklearn.linear_model import LogisticRegression\n",
    "from sklearn.model_selection import StratifiedKFold\n",
    "from sklearn.impute import SimpleImputer\n",
    "from sklearn.metrics import roc_auc_score, precision_recall_fscore_support, average_precision_score, auc\n",
    "from sklearn.feature_selection import RFECV\n",
    "import optuna\n",
    "import optuna.trial\n",
    "import optuna.logging\n",
    "\n",
    "from utils import plot_roc\n",
    "import ml_utils as utils\n",
    "from ml_utils import (\n",
    "    get_weights_for_roc_auc, weighted_roc_metric, weighted_fpr_roc_metric, \n",
    "    get_optimal_trs, plot_roc, get_tpr_fpr, plot_roc_curves\n",
    ")\n",
    "import train\n",
    "\n",
    "\n",
    "np.random.seed(42)\n",
    "warnings.simplefilter(action='ignore', category=FutureWarning)\n",
    "warnings.simplefilter(action='ignore', category=pd.errors.PerformanceWarning)\n",
    "optuna.logging.set_verbosity(optuna.logging.WARNING)"
   ]
  },
  {
   "cell_type": "markdown",
   "metadata": {},
   "source": [
    "# aft, magn > 3.5"
   ]
  },
  {
   "cell_type": "markdown",
   "metadata": {},
   "source": [
    "## read "
   ]
  },
  {
   "cell_type": "code",
   "execution_count": 2,
   "metadata": {
    "execution": {
     "iopub.execute_input": "2025-02-05T17:07:46.421814Z",
     "iopub.status.busy": "2025-02-05T17:07:46.421510Z",
     "iopub.status.idle": "2025-02-05T17:07:46.428944Z",
     "shell.execute_reply": "2025-02-05T17:07:46.427647Z",
     "shell.execute_reply.started": "2025-02-05T17:07:46.421793Z"
    }
   },
   "outputs": [],
   "source": [
    "dataset_type_train = \"magn_3_5_aft_train\"\n",
    "dataset_type_test = \"magn_3_5_aft_test\"\n",
    "\n",
    "target = \"target\"\n",
    "dt_col = \"dt\"\n",
    "min_test_date = \"2020-10-14\"\n",
    "min_train_date = \"2014-03-17\"\n",
    "\n",
    "train_path = f\"data/dataset/{dataset_type_train}.parquet\"\n",
    "test_path = f\"data/dataset/{dataset_type_test}.parquet\""
   ]
  },
  {
   "cell_type": "code",
   "execution_count": 3,
   "metadata": {
    "execution": {
     "iopub.execute_input": "2025-02-05T17:07:46.997471Z",
     "iopub.status.busy": "2025-02-05T17:07:46.996850Z",
     "iopub.status.idle": "2025-02-05T17:08:04.371309Z",
     "shell.execute_reply": "2025-02-05T17:08:04.370310Z",
     "shell.execute_reply.started": "2025-02-05T17:07:46.997411Z"
    }
   },
   "outputs": [
    {
     "name": "stdout",
     "output_type": "stream",
     "text": [
      "train_path: data/dataset/magn_3_5_aft_train.parquet\n",
      "test_path: data/dataset/magn_3_5_aft_test.parquet\n",
      "\n",
      "get_features_dict:\n",
      " {0: [0, 1, 3, 5, 7, 10]\n",
      "3: [0, 1, 3, 5, 7, 10]\n",
      "5: [0, 1, 3, 5, 7, 10]}\n",
      "\n",
      "train dates: 2014-03-21 — 2020-08-26\n",
      "test dates: 2020-10-14 — 2023-05-21\n",
      "\n",
      "train: target==0: 1593709, target==1: 27847\n",
      "test: target==0: 6428932, target==1: 98518\n",
      "target class proportion: test: 0.015324162706962836, train: 0.01747307695445028\n"
     ]
    }
   ],
   "source": [
    "train_df, test_df = utils.get_train_test_datasets(\n",
    "    train_path=train_path, test_path=test_path, \n",
    "    min_test_date = min_test_date, min_train_date = min_train_date\n",
    ")"
   ]
  },
  {
   "cell_type": "code",
   "execution_count": 4,
   "metadata": {
    "execution": {
     "iopub.execute_input": "2025-02-05T17:08:04.372591Z",
     "iopub.status.busy": "2025-02-05T17:08:04.372425Z",
     "iopub.status.idle": "2025-02-05T17:08:04.377380Z",
     "shell.execute_reply": "2025-02-05T17:08:04.376463Z",
     "shell.execute_reply.started": "2025-02-05T17:08:04.372574Z"
    }
   },
   "outputs": [],
   "source": [
    "feature_cols = list(set(train_df.columns) - set([target, dt_col, \"horizon_min_dt\", \"horizon_max_dt\"]))"
   ]
  },
  {
   "cell_type": "code",
   "execution_count": 5,
   "metadata": {
    "execution": {
     "iopub.execute_input": "2025-02-05T17:08:04.378004Z",
     "iopub.status.busy": "2025-02-05T17:08:04.377859Z",
     "iopub.status.idle": "2025-02-05T17:08:15.512202Z",
     "shell.execute_reply": "2025-02-05T17:08:15.511303Z",
     "shell.execute_reply.started": "2025-02-05T17:08:04.377990Z"
    }
   },
   "outputs": [],
   "source": [
    "# train, test\n",
    "features = utils.Features(\n",
    "    features=feature_cols, target=target, dt_col=dt_col, \n",
    "    groupby=[\"cell_x\", \"cell_y\"], target_features=[]\n",
    ")\n",
    "\n",
    "X_train, y_train = features.make_features_target(train_df)\n",
    "X_test, y_test = features.make_features_target(test_df)"
   ]
  },
  {
   "cell_type": "code",
   "execution_count": 6,
   "metadata": {
    "execution": {
     "iopub.execute_input": "2025-02-05T17:08:15.513502Z",
     "iopub.status.busy": "2025-02-05T17:08:15.513346Z",
     "iopub.status.idle": "2025-02-05T17:08:17.881676Z",
     "shell.execute_reply": "2025-02-05T17:08:17.880899Z",
     "shell.execute_reply.started": "2025-02-05T17:08:15.513488Z"
    }
   },
   "outputs": [
    {
     "data": {
      "text/plain": [
       "dt        0\n",
       "cell_x    0\n",
       "cell_y    0\n",
       "target    0\n",
       "dtype: int64"
      ]
     },
     "execution_count": 6,
     "metadata": {},
     "output_type": "execute_result"
    }
   ],
   "source": [
    "y_test.reset_index().merge(y_train.reset_index(), how=\"left\").isna().sum()"
   ]
  },
  {
   "cell_type": "code",
   "execution_count": 7,
   "metadata": {
    "execution": {
     "iopub.execute_input": "2025-02-05T17:08:17.882317Z",
     "iopub.status.busy": "2025-02-05T17:08:17.882176Z",
     "iopub.status.idle": "2025-02-05T17:08:23.814451Z",
     "shell.execute_reply": "2025-02-05T17:08:23.813132Z",
     "shell.execute_reply.started": "2025-02-05T17:08:17.882304Z"
    }
   },
   "outputs": [],
   "source": [
    "# get weights for roc auc as probability density of occured earthquakes\n",
    "roc_auc_weights_test = get_weights_for_roc_auc(y=y_test, last_dt=min_test_date)\n",
    "roc_auc_weights_train = get_weights_for_roc_auc(y=y_train, last_dt=min_test_date)"
   ]
  },
  {
   "cell_type": "code",
   "execution_count": 8,
   "metadata": {
    "execution": {
     "iopub.execute_input": "2025-02-05T17:08:23.815392Z",
     "iopub.status.busy": "2025-02-05T17:08:23.815233Z",
     "iopub.status.idle": "2025-02-05T17:08:23.845531Z",
     "shell.execute_reply": "2025-02-05T17:08:23.844162Z",
     "shell.execute_reply.started": "2025-02-05T17:08:23.815377Z"
    }
   },
   "outputs": [],
   "source": [
    "assert len(roc_auc_weights_test) == len(roc_auc_weights_test[~np.isnan(roc_auc_weights_test)]) == len(y_test)\n",
    "assert len(roc_auc_weights_train) == len(roc_auc_weights_train[~np.isnan(roc_auc_weights_train)]) == len(y_train)"
   ]
  },
  {
   "cell_type": "code",
   "execution_count": 9,
   "metadata": {
    "execution": {
     "iopub.execute_input": "2025-02-05T17:08:23.846222Z",
     "iopub.status.busy": "2025-02-05T17:08:23.846085Z",
     "iopub.status.idle": "2025-02-05T17:08:23.851913Z",
     "shell.execute_reply": "2025-02-05T17:08:23.851203Z",
     "shell.execute_reply.started": "2025-02-05T17:08:23.846208Z"
    }
   },
   "outputs": [
    {
     "data": {
      "text/plain": [
       "array([0.08894231, 0.08894231, 0.08894231, ..., 0.00240385, 0.00240385,\n",
       "       0.00240385])"
      ]
     },
     "execution_count": 9,
     "metadata": {},
     "output_type": "execute_result"
    }
   ],
   "source": [
    "roc_auc_weights_test"
   ]
  },
  {
   "cell_type": "code",
   "execution_count": 10,
   "metadata": {
    "execution": {
     "iopub.execute_input": "2025-02-05T17:08:23.852596Z",
     "iopub.status.busy": "2025-02-05T17:08:23.852459Z",
     "iopub.status.idle": "2025-02-05T17:08:24.023338Z",
     "shell.execute_reply": "2025-02-05T17:08:24.022544Z",
     "shell.execute_reply.started": "2025-02-05T17:08:23.852582Z"
    }
   },
   "outputs": [
    {
     "data": {
      "text/plain": [
       "(6527450,\n",
       " 1.0,\n",
       " array([0.00240385, 0.00480769, 0.00721154, 0.00961538, 0.01201923,\n",
       "        0.01442308, 0.01682692, 0.01923077, 0.02163462, 0.02403846,\n",
       "        0.02644231, 0.02884615, 0.03125   , 0.03365385, 0.03605769,\n",
       "        0.03846154, 0.04086538, 0.04326923, 0.04567308, 0.04807692,\n",
       "        0.05048077, 0.05288462, 0.05528846, 0.05769231, 0.06009615,\n",
       "        0.0625    , 0.06490385, 0.06730769, 0.06971154, 0.07211538,\n",
       "        0.07451923, 0.07692308, 0.07932692, 0.08173077, 0.08413462,\n",
       "        0.08653846, 0.08894231, 0.09134615, 0.09375   , 0.09615385,\n",
       "        0.09855769, 0.10096154, 0.10336538, 0.10576923, 0.10817308,\n",
       "        0.11057692, 0.11298077, 0.11538462, 0.11778846, 0.12019231,\n",
       "        0.12259615, 0.125     , 0.12740385, 0.12980769, 0.13221154,\n",
       "        0.13461538, 0.13701923, 0.13942308, 0.14182692, 0.14423077,\n",
       "        0.14663462, 0.14903846, 0.15144231, 0.15384615, 0.15625   ,\n",
       "        0.15865385, 0.16105769, 0.16346154, 0.16586538, 0.16826923,\n",
       "        0.17067308, 0.17307692, 0.17548077, 0.18028846, 0.18269231,\n",
       "        0.18509615, 0.1875    , 0.18990385, 0.19230769, 0.19471154,\n",
       "        0.19711538, 0.19951923, 0.20192308, 0.20432692, 0.20673077,\n",
       "        0.20913462, 0.21153846, 0.21394231, 0.21634615, 0.21875   ,\n",
       "        0.22115385, 0.22355769, 0.22596154, 0.22836538, 0.23076923,\n",
       "        0.23317308, 0.23557692, 0.23798077, 0.24038462, 0.24278846,\n",
       "        0.24519231, 0.25      , 0.25240385, 0.25480769, 0.25721154,\n",
       "        0.25961538, 0.26201923, 0.26682692, 0.27403846, 0.27644231,\n",
       "        0.28125   , 0.28365385, 0.28605769, 0.29086538, 0.29326923,\n",
       "        0.30048077, 0.30288462, 0.30528846, 0.30769231, 0.3125    ,\n",
       "        0.31730769, 0.32211538, 0.32451923, 0.32692308, 0.33173077,\n",
       "        0.33653846, 0.33894231, 0.34375   , 0.35336538, 0.35817308,\n",
       "        0.36538462, 0.37019231, 0.37259615, 0.375     , 0.37740385,\n",
       "        0.38221154, 0.38942308, 0.39423077, 0.39663462, 0.39903846,\n",
       "        0.40865385, 0.41105769, 0.42067308, 0.42788462, 0.43028846,\n",
       "        0.43269231, 0.44951923, 0.45432692, 0.45673077, 0.46394231,\n",
       "        0.46875   , 0.47355769, 0.49038462, 0.52884615, 0.54807692,\n",
       "        0.55288462, 0.57932692, 0.59375   , 0.59855769, 0.62740385,\n",
       "        0.64182692, 0.66346154, 0.71634615, 0.78365385, 0.82211538,\n",
       "        0.87259615, 1.        ]))"
      ]
     },
     "execution_count": 10,
     "metadata": {},
     "output_type": "execute_result"
    }
   ],
   "source": [
    "len(roc_auc_weights_test[roc_auc_weights_test > 0.0]), np.max(roc_auc_weights_test), np.unique(roc_auc_weights_test)"
   ]
  },
  {
   "cell_type": "code",
   "execution_count": 11,
   "metadata": {
    "execution": {
     "iopub.execute_input": "2025-02-05T17:08:24.024058Z",
     "iopub.status.busy": "2025-02-05T17:08:24.023910Z",
     "iopub.status.idle": "2025-02-05T17:08:24.202196Z",
     "shell.execute_reply": "2025-02-05T17:08:24.201404Z",
     "shell.execute_reply.started": "2025-02-05T17:08:24.024041Z"
    }
   },
   "outputs": [
    {
     "data": {
      "image/png": "[encoded data removed]",
      "text/plain": [
       "<Figure size 640x480 with 1 Axes>"
      ]
     },
     "metadata": {},
     "output_type": "display_data"
    }
   ],
   "source": [
    "plt.hist(roc_auc_weights_test[roc_auc_weights_test > 0.0], range=(0, 1.0), bins=20);"
   ]
  },
  {
   "cell_type": "code",
   "execution_count": 12,
   "metadata": {
    "execution": {
     "iopub.execute_input": "2025-02-05T17:08:24.203699Z",
     "iopub.status.busy": "2025-02-05T17:08:24.203548Z",
     "iopub.status.idle": "2025-02-05T17:08:24.207744Z",
     "shell.execute_reply": "2025-02-05T17:08:24.206923Z",
     "shell.execute_reply.started": "2025-02-05T17:08:24.203684Z"
    }
   },
   "outputs": [],
   "source": [
    "y_train = y_train[target]\n",
    "y_test = y_test[target]"
   ]
  },
  {
   "cell_type": "code",
   "execution_count": 13,
   "metadata": {
    "execution": {
     "iopub.execute_input": "2025-02-05T17:08:24.208308Z",
     "iopub.status.busy": "2025-02-05T17:08:24.208181Z",
     "iopub.status.idle": "2025-02-05T17:08:24.217054Z",
     "shell.execute_reply": "2025-02-05T17:08:24.216302Z",
     "shell.execute_reply.started": "2025-02-05T17:08:24.208295Z"
    }
   },
   "outputs": [
    {
     "data": {
      "text/plain": [
       "(27847, 98518)"
      ]
     },
     "execution_count": 13,
     "metadata": {},
     "output_type": "execute_result"
    }
   ],
   "source": [
    "y_train.sum(), y_test.sum()"
   ]
  },
  {
   "cell_type": "markdown",
   "metadata": {},
   "source": [
    "## logreg"
   ]
  },
  {
   "cell_type": "code",
   "execution_count": 14,
   "metadata": {
    "execution": {
     "iopub.execute_input": "2025-02-05T17:08:24.217774Z",
     "iopub.status.busy": "2025-02-05T17:08:24.217638Z",
     "iopub.status.idle": "2025-02-05T17:08:24.651438Z",
     "shell.execute_reply": "2025-02-05T17:08:24.650600Z",
     "shell.execute_reply.started": "2025-02-05T17:08:24.217760Z"
    }
   },
   "outputs": [
    {
     "data": {
      "text/plain": [
       "3"
      ]
     },
     "execution_count": 14,
     "metadata": {},
     "output_type": "execute_result"
    }
   ],
   "source": [
    "cv = utils.MonthlyTimeSeriesSplit(window=20)\n",
    "cv.get_n_splits(X_train)"
   ]
  },
  {
   "cell_type": "code",
   "execution_count": 15,
   "metadata": {
    "execution": {
     "iopub.execute_input": "2025-02-05T17:08:24.652253Z",
     "iopub.status.busy": "2025-02-05T17:08:24.652099Z",
     "iopub.status.idle": "2025-02-05T17:08:32.685067Z",
     "shell.execute_reply": "2025-02-05T17:08:32.684108Z",
     "shell.execute_reply.started": "2025-02-05T17:08:24.652239Z"
    }
   },
   "outputs": [
    {
     "name": "stdout",
     "output_type": "stream",
     "text": [
      "train: [2014-03-21, 2015-10-22], len: 405389 | test: [2015-11-01, 2017-06-23], len: 419131\n",
      "train: [2014-03-21, 2017-06-23], len: 824520 | test: [2017-07-03, 2019-02-23], len: 419131\n",
      "train: [2014-03-21, 2019-02-23], len: 1243651 | test: [2019-03-05, 2020-08-26], len: 377905\n"
     ]
    }
   ],
   "source": [
    "for split_train, split_test in cv.split(X_train):\n",
    "    train_start = np.sort(X_train.iloc[split_train].drop(columns=[\"cell_x\", \"cell_y\"]).reset_index()[\"dt\"].unique())[0]\n",
    "    train_end = np.sort(X_train.iloc[split_train].drop(columns=[\"cell_x\", \"cell_y\"]).reset_index()[\"dt\"].unique())[-1]\n",
    "    test_start = np.sort(X_train.iloc[split_test].drop(columns=[\"cell_x\", \"cell_y\"]).reset_index()[\"dt\"].unique())[0]\n",
    "    test_end = np.sort(X_train.iloc[split_test].drop(columns=[\"cell_x\", \"cell_y\"]).reset_index()[\"dt\"].unique())[-1]\n",
    "\n",
    "    print(f\"train: [{train_start}, {train_end}], len: {len(split_train)} | test: [{test_start}, {test_end}], len: {len(split_test)}\")"
   ]
  },
  {
   "cell_type": "markdown",
   "metadata": {},
   "source": [
    "### baseline"
   ]
  },
  {
   "cell_type": "code",
   "execution_count": 16,
   "metadata": {
    "execution": {
     "iopub.execute_input": "2025-02-05T17:08:43.524238Z",
     "iopub.status.busy": "2025-02-05T17:08:43.523584Z",
     "iopub.status.idle": "2025-02-05T17:12:41.369294Z",
     "shell.execute_reply": "2025-02-05T17:12:41.368357Z",
     "shell.execute_reply.started": "2025-02-05T17:08:43.524178Z"
    }
   },
   "outputs": [
    {
     "data": {
      "text/plain": [
       "(0.7377613785149053,\n",
       " 0.7073549348098119,\n",
       " '----',\n",
       " 0.7837444932851705,\n",
       " 0.816802848290178)"
      ]
     },
     "execution_count": 16,
     "metadata": {},
     "output_type": "execute_result"
    }
   ],
   "source": [
    "params = {\n",
    "    \"C\": 1.0,\n",
    "    \"max_iter\": 1500,\n",
    "}\n",
    "\n",
    "logreg_model = train.get_logreg_model(feature_cols, params)\n",
    "\n",
    "logreg_model = logreg_model.fit(X_train, y_train)\n",
    "y_pred_prob = logreg_model.predict_proba(X_test)\n",
    "\n",
    "baseline_roc_auc = roc_auc_score(y_test, y_pred_prob[:, 1])\n",
    "\n",
    "(\n",
    "    roc_auc_score(y_train, logreg_model.predict_proba(X_train)[:, 1]), \n",
    "    roc_auc_score(y_test, y_pred_prob[:, 1])\n",
    ")\n",
    "\n",
    "plot_roc_curves(y_test, y_pred_prob[:, 1], roc_auc_weights_test, n=100)"
   ]
  },
  {
   "cell_type": "markdown",
   "metadata": {},
   "source": [
    "### rfecv feature selection"
   ]
  },
  {
   "cell_type": "code",
   "execution_count": 63,
   "metadata": {
    "execution": {
     "iopub.execute_input": "2025-02-12T14:27:44.117468Z",
     "iopub.status.busy": "2025-02-12T14:27:44.116743Z",
     "iopub.status.idle": "2025-02-12T14:27:44.131835Z",
     "shell.execute_reply": "2025-02-12T14:27:44.130280Z",
     "shell.execute_reply.started": "2025-02-12T14:27:44.117397Z"
    }
   },
   "outputs": [],
   "source": [
    "rfecv_features = train.logreg_rfe_select(\n",
    "    X_train, y_train, feature_cols, cv, params=None, min_features_to_select=10, step=5, n_jobs=20\n",
    ")"
   ]
  },
  {
   "cell_type": "code",
   "execution_count": 69,
   "metadata": {
    "execution": {
     "iopub.execute_input": "2025-02-12T14:36:43.460089Z",
     "iopub.status.busy": "2025-02-12T14:36:43.459371Z",
     "iopub.status.idle": "2025-02-12T14:36:43.471760Z",
     "shell.execute_reply": "2025-02-12T14:36:43.470230Z",
     "shell.execute_reply.started": "2025-02-12T14:36:43.460025Z"
    }
   },
   "outputs": [
    {
     "data": {
      "text/plain": [
       "['mean_magn_1095_rad0',\n",
       " 'min_magn_1825_rad0',\n",
       " 'min_magn_3650_rad3',\n",
       " 'mean_magn_180_rad0',\n",
       " 'min_magn_3650_rad0',\n",
       " 'std_magn_365_rad3',\n",
       " 'mean_magn_3650_rad0',\n",
       " 'mean_magn_3650_rad3',\n",
       " 'max_magn_90_rad5',\n",
       " 'max_magn_365_rad3',\n",
       " 'mean_magn_2555_rad0',\n",
       " 'max_magn_60_rad0',\n",
       " 'mean_magn_60_rad5',\n",
       " 'count_earthquakes_3650_rad0',\n",
       " 'min_magn_365_rad3',\n",
       " 'max_magn_90_rad0',\n",
       " 'max_magn_90_rad3',\n",
       " 'min_magn_60_rad5',\n",
       " 'std_magn_1825_rad0',\n",
       " 'max_magn_3650_rad0',\n",
       " 'min_magn_180_rad0',\n",
       " 'mean_magn_60_rad0',\n",
       " 'min_magn_2555_rad0',\n",
       " 'max_magn_180_rad0',\n",
       " 'mean_magn_365_rad3',\n",
       " 'max_magn_1825_rad0',\n",
       " 'min_magn_1095_rad0',\n",
       " 'min_magn_90_rad5',\n",
       " 'mean_magn_90_rad3',\n",
       " 'max_magn_2555_rad0',\n",
       " 'mean_magn_90_rad5',\n",
       " 'max_magn_1095_rad3']"
      ]
     },
     "execution_count": 69,
     "metadata": {},
     "output_type": "execute_result"
    }
   ],
   "source": [
    "rfecv_features"
   ]
  },
  {
   "cell_type": "code",
   "execution_count": 60,
   "metadata": {
    "execution": {
     "iopub.execute_input": "2025-02-05T21:15:58.067082Z",
     "iopub.status.busy": "2025-02-05T21:15:58.066415Z",
     "iopub.status.idle": "2025-02-05T21:15:58.080275Z",
     "shell.execute_reply": "2025-02-05T21:15:58.078448Z",
     "shell.execute_reply.started": "2025-02-05T21:15:58.067020Z"
    }
   },
   "outputs": [
    {
     "data": {
      "text/plain": [
       "{0: [0, 3, 5, 7, 10], 3: [0, 1, 3, 10], 5: [0]}"
      ]
     },
     "execution_count": 60,
     "metadata": {},
     "output_type": "execute_result"
    }
   ],
   "source": [
    "utils.get_features_dict(rfecv_features)"
   ]
  },
  {
   "cell_type": "code",
   "execution_count": 61,
   "metadata": {
    "execution": {
     "iopub.execute_input": "2025-02-05T21:16:17.217447Z",
     "iopub.status.busy": "2025-02-05T21:16:17.216795Z",
     "iopub.status.idle": "2025-02-05T21:17:12.412071Z",
     "shell.execute_reply": "2025-02-05T21:17:12.411139Z",
     "shell.execute_reply.started": "2025-02-05T21:16:17.217387Z"
    }
   },
   "outputs": [
    {
     "data": {
      "text/plain": [
       "(0.7323437183116761,\n",
       " 0.7046421018630975,\n",
       " '----',\n",
       " 0.7819814773116471,\n",
       " 0.8156192480151099)"
      ]
     },
     "execution_count": 61,
     "metadata": {},
     "output_type": "execute_result"
    }
   ],
   "source": [
    "params = {\n",
    "    \"C\": 1.0,\n",
    "    \"max_iter\": 1500,\n",
    "}\n",
    "\n",
    "logreg_model = train.get_logreg_model(rfecv_features, params)\n",
    "\n",
    "logreg_model = logreg_model.fit(X_train, y_train)\n",
    "y_pred_prob = logreg_model.predict_proba(X_test)\n",
    "\n",
    "\n",
    "(\n",
    "    roc_auc_score(y_train, logreg_model.predict_proba(X_train)[:, 1]), \n",
    "    roc_auc_score(y_test, y_pred_prob[:, 1])\n",
    ")\n",
    "\n",
    "plot_roc_curves(y_test, y_pred_prob[:, 1], roc_auc_weights_test, n=100)"
   ]
  },
  {
   "cell_type": "markdown",
   "metadata": {},
   "source": [
    "### hyper optimiziation"
   ]
  },
  {
   "cell_type": "code",
   "execution_count": 78,
   "metadata": {
    "execution": {
     "iopub.execute_input": "2025-02-12T14:56:20.060291Z",
     "iopub.status.busy": "2025-02-12T14:56:20.059559Z",
     "iopub.status.idle": "2025-02-12T15:45:32.233630Z",
     "shell.execute_reply": "2025-02-12T15:45:32.232710Z",
     "shell.execute_reply.started": "2025-02-12T14:56:20.060228Z"
    }
   },
   "outputs": [
    {
     "name": "stdout",
     "output_type": "stream",
     "text": [
      "using MonthlyTimeSeriesSplit\n"
     ]
    },
    {
     "name": "stderr",
     "output_type": "stream",
     "text": [
      "logisticregression hyperoptimisation: 100%|██████████| 100/100 [49:12<00:00, 29.52s/it]\n"
     ]
    }
   ],
   "source": [
    "def fixed_params(**kwargs) -> dict[str, Any]:\n",
    "    params = {\n",
    "        \"max_iter\": 1500,\n",
    "        \"penalty\": \"l2\",\n",
    "        \"random_state\": 42,\n",
    "    }\n",
    "\n",
    "    params.update(kwargs)\n",
    "\n",
    "    return params\n",
    "\n",
    "\n",
    "def default_params(**kwargs) -> dict[str, Any]:\n",
    "    params = {\n",
    "        **fixed_params(),\n",
    "        \"C\": 1.0,\n",
    "    }\n",
    "    params.update(kwargs)\n",
    "\n",
    "    return params\n",
    "\n",
    "\n",
    "def suggest_params(trial: optuna.trial.Trial, **kwargs) -> dict[str, Any]:\n",
    "    params = {\n",
    "        **fixed_params(),\n",
    "        \"C\": trial.suggest_float(\"C\", 0.001, 100.0),\n",
    "    }\n",
    "    params.update(kwargs)\n",
    "\n",
    "    return params\n",
    "\n",
    "tuned_logreg = train.run_optuna(\n",
    "    X = X_train,\n",
    "    y = y_train,\n",
    "    n_trials = 100,\n",
    "    dump_study_path = f\"data/optuna_res/logreg_{dataset_type_train.replace('_train', '')}\",\n",
    "    seed = 42,\n",
    "    resume = False,\n",
    "    suggest_params = suggest_params,\n",
    "    default_params = default_params,\n",
    "    cv = utils.MonthlyTimeSeriesSplit(window=20, partition=True),\n",
    "    model = train.get_logreg_model(rfecv_features, default_params()),\n",
    "    n_jobs = 20,\n",
    "    model_name = \"logisticregression\",\n",
    ")"
   ]
  },
  {
   "cell_type": "code",
   "execution_count": 79,
   "metadata": {
    "execution": {
     "iopub.execute_input": "2025-02-12T15:45:32.234818Z",
     "iopub.status.busy": "2025-02-12T15:45:32.234658Z",
     "iopub.status.idle": "2025-02-12T15:45:32.241113Z",
     "shell.execute_reply": "2025-02-12T15:45:32.240251Z",
     "shell.execute_reply.started": "2025-02-12T15:45:32.234801Z"
    }
   },
   "outputs": [
    {
     "data": {
      "text/plain": [
       "{'C': 0.1421845317427609,\n",
       " 'class_weight': None,\n",
       " 'dual': False,\n",
       " 'fit_intercept': True,\n",
       " 'intercept_scaling': 1,\n",
       " 'l1_ratio': None,\n",
       " 'max_iter': 1500,\n",
       " 'multi_class': 'auto',\n",
       " 'n_jobs': None,\n",
       " 'penalty': 'l2',\n",
       " 'random_state': 42,\n",
       " 'solver': 'lbfgs',\n",
       " 'tol': 0.0001,\n",
       " 'verbose': 0,\n",
       " 'warm_start': False}"
      ]
     },
     "execution_count": 79,
     "metadata": {},
     "output_type": "execute_result"
    }
   ],
   "source": [
    "tuned_logreg_params = tuned_logreg[\"logisticregression\"].get_params()\n",
    "tuned_logreg_params"
   ]
  },
  {
   "cell_type": "code",
   "execution_count": 81,
   "metadata": {
    "execution": {
     "iopub.execute_input": "2025-02-12T16:33:29.331865Z",
     "iopub.status.busy": "2025-02-12T16:33:29.331229Z",
     "iopub.status.idle": "2025-02-12T16:37:43.904637Z",
     "shell.execute_reply": "2025-02-12T16:37:43.903765Z",
     "shell.execute_reply.started": "2025-02-12T16:33:29.331794Z"
    }
   },
   "outputs": [
    {
     "name": "stderr",
     "output_type": "stream",
     "text": [
      "\n",
      "  0%|          | 0/100 [00:00<?, ?it/s]\u001b[A\n",
      "  1%|          | 1/100 [00:00<01:11,  1.38it/s]\u001b[A\n",
      "  2%|▏         | 2/100 [00:01<01:07,  1.45it/s]\u001b[A\n",
      "  3%|▎         | 3/100 [00:02<01:08,  1.42it/s]\u001b[A\n",
      "  4%|▍         | 4/100 [00:02<01:05,  1.46it/s]\u001b[A\n",
      "  5%|▌         | 5/100 [00:03<01:06,  1.43it/s]\u001b[A\n",
      "  6%|▌         | 6/100 [00:04<01:04,  1.46it/s]\u001b[A\n",
      "  7%|▋         | 7/100 [00:04<01:05,  1.43it/s]\u001b[A\n",
      "  8%|▊         | 8/100 [00:05<01:03,  1.46it/s]\u001b[A\n",
      "  9%|▉         | 9/100 [00:06<01:03,  1.43it/s]\u001b[A\n",
      " 10%|█         | 10/100 [00:06<01:01,  1.46it/s]\u001b[A\n",
      " 11%|█         | 11/100 [00:07<01:02,  1.43it/s]\u001b[A\n",
      " 12%|█▏        | 12/100 [00:08<01:00,  1.46it/s]\u001b[A\n",
      " 13%|█▎        | 13/100 [00:09<01:00,  1.43it/s]\u001b[A\n",
      " 14%|█▍        | 14/100 [00:09<00:58,  1.46it/s]\u001b[A\n",
      " 15%|█▌        | 15/100 [00:10<00:59,  1.44it/s]\u001b[A\n",
      " 16%|█▌        | 16/100 [00:11<00:57,  1.46it/s]\u001b[A\n",
      " 17%|█▋        | 17/100 [00:11<00:57,  1.44it/s]\u001b[A\n",
      " 18%|█▊        | 18/100 [00:12<00:56,  1.46it/s]\u001b[A\n",
      " 19%|█▉        | 19/100 [00:13<00:56,  1.44it/s]\u001b[A\n",
      " 20%|██        | 20/100 [00:13<00:54,  1.46it/s]\u001b[A\n",
      " 21%|██        | 21/100 [00:14<00:54,  1.44it/s]\u001b[A\n",
      " 22%|██▏       | 22/100 [00:15<00:53,  1.46it/s]\u001b[A\n",
      " 23%|██▎       | 23/100 [00:15<00:53,  1.44it/s]\u001b[A\n",
      " 24%|██▍       | 24/100 [00:16<00:52,  1.45it/s]\u001b[A\n",
      " 25%|██▌       | 25/100 [00:17<00:52,  1.43it/s]\u001b[A\n",
      " 26%|██▌       | 26/100 [00:18<00:52,  1.41it/s]\u001b[A\n",
      " 27%|██▋       | 27/100 [00:18<00:52,  1.40it/s]\u001b[A\n",
      " 28%|██▊       | 28/100 [00:19<00:51,  1.40it/s]\u001b[A\n",
      " 29%|██▉       | 29/100 [00:20<00:51,  1.39it/s]\u001b[A\n",
      " 30%|███       | 30/100 [00:20<00:50,  1.39it/s]\u001b[A\n",
      " 31%|███       | 31/100 [00:21<00:49,  1.39it/s]\u001b[A\n",
      " 32%|███▏      | 32/100 [00:22<00:49,  1.38it/s]\u001b[A\n",
      " 33%|███▎      | 33/100 [00:23<00:48,  1.38it/s]\u001b[A\n",
      " 34%|███▍      | 34/100 [00:23<00:47,  1.38it/s]\u001b[A\n",
      " 35%|███▌      | 35/100 [00:24<00:47,  1.38it/s]\u001b[A\n",
      " 36%|███▌      | 36/100 [00:25<00:46,  1.38it/s]\u001b[A\n",
      " 37%|███▋      | 37/100 [00:26<00:45,  1.38it/s]\u001b[A\n",
      " 38%|███▊      | 38/100 [00:26<00:44,  1.38it/s]\u001b[A\n",
      " 39%|███▉      | 39/100 [00:27<00:44,  1.38it/s]\u001b[A\n",
      " 40%|████      | 40/100 [00:28<00:43,  1.38it/s]\u001b[A\n",
      " 41%|████      | 41/100 [00:28<00:42,  1.38it/s]\u001b[A\n",
      " 42%|████▏     | 42/100 [00:29<00:42,  1.38it/s]\u001b[A\n",
      " 43%|████▎     | 43/100 [00:30<00:41,  1.38it/s]\u001b[A\n",
      " 44%|████▍     | 44/100 [00:31<00:40,  1.38it/s]\u001b[A\n",
      " 45%|████▌     | 45/100 [00:31<00:39,  1.38it/s]\u001b[A\n",
      " 46%|████▌     | 46/100 [00:32<00:39,  1.38it/s]\u001b[A\n",
      " 47%|████▋     | 47/100 [00:33<00:38,  1.38it/s]\u001b[A\n",
      " 48%|████▊     | 48/100 [00:33<00:37,  1.38it/s]\u001b[A\n",
      " 49%|████▉     | 49/100 [00:34<00:36,  1.38it/s]\u001b[A\n",
      " 50%|█████     | 50/100 [00:35<00:36,  1.38it/s]\u001b[A\n",
      " 51%|█████     | 51/100 [00:36<00:35,  1.38it/s]\u001b[A\n",
      " 52%|█████▏    | 52/100 [00:36<00:34,  1.38it/s]\u001b[A\n",
      " 53%|█████▎    | 53/100 [00:37<00:34,  1.38it/s]\u001b[A\n",
      " 54%|█████▍    | 54/100 [00:38<00:33,  1.38it/s]\u001b[A\n",
      " 55%|█████▌    | 55/100 [00:39<00:32,  1.38it/s]\u001b[A\n",
      " 56%|█████▌    | 56/100 [00:39<00:31,  1.38it/s]\u001b[A\n",
      " 57%|█████▋    | 57/100 [00:40<00:31,  1.38it/s]\u001b[A\n",
      " 58%|█████▊    | 58/100 [00:41<00:30,  1.38it/s]\u001b[A\n",
      " 59%|█████▉    | 59/100 [00:41<00:29,  1.38it/s]\u001b[A\n",
      " 60%|██████    | 60/100 [00:42<00:28,  1.38it/s]\u001b[A\n",
      " 61%|██████    | 61/100 [00:43<00:28,  1.38it/s]\u001b[A\n",
      " 62%|██████▏   | 62/100 [00:44<00:27,  1.38it/s]\u001b[A\n",
      " 63%|██████▎   | 63/100 [00:44<00:26,  1.38it/s]\u001b[A\n",
      " 64%|██████▍   | 64/100 [00:45<00:26,  1.38it/s]\u001b[A\n",
      " 65%|██████▌   | 65/100 [00:46<00:25,  1.38it/s]\u001b[A\n",
      " 66%|██████▌   | 66/100 [00:47<00:24,  1.38it/s]\u001b[A\n",
      " 67%|██████▋   | 67/100 [00:47<00:23,  1.38it/s]\u001b[A\n",
      " 68%|██████▊   | 68/100 [00:48<00:23,  1.38it/s]\u001b[A\n",
      " 69%|██████▉   | 69/100 [00:49<00:22,  1.38it/s]\u001b[A\n",
      " 70%|███████   | 70/100 [00:49<00:21,  1.38it/s]\u001b[A\n",
      " 71%|███████   | 71/100 [00:50<00:21,  1.38it/s]\u001b[A\n",
      " 72%|███████▏  | 72/100 [00:51<00:20,  1.38it/s]\u001b[A\n",
      " 73%|███████▎  | 73/100 [00:52<00:19,  1.38it/s]\u001b[A\n",
      " 74%|███████▍  | 74/100 [00:52<00:18,  1.38it/s]\u001b[A\n",
      " 75%|███████▌  | 75/100 [00:53<00:18,  1.38it/s]\u001b[A\n",
      " 76%|███████▌  | 76/100 [00:54<00:17,  1.38it/s]\u001b[A\n",
      " 77%|███████▋  | 77/100 [00:54<00:16,  1.38it/s]\u001b[A\n",
      " 78%|███████▊  | 78/100 [00:55<00:15,  1.38it/s]\u001b[A\n",
      " 79%|███████▉  | 79/100 [00:56<00:15,  1.38it/s]\u001b[A\n",
      " 80%|████████  | 80/100 [00:57<00:14,  1.38it/s]\u001b[A\n",
      " 81%|████████  | 81/100 [00:57<00:13,  1.38it/s]\u001b[A\n",
      " 82%|████████▏ | 82/100 [00:58<00:13,  1.38it/s]\u001b[A\n",
      " 83%|████████▎ | 83/100 [00:59<00:12,  1.38it/s]\u001b[A\n",
      " 84%|████████▍ | 84/100 [01:00<00:11,  1.38it/s]\u001b[A\n",
      " 85%|████████▌ | 85/100 [01:00<00:10,  1.38it/s]\u001b[A\n",
      " 86%|████████▌ | 86/100 [01:01<00:10,  1.38it/s]\u001b[A\n",
      " 87%|████████▋ | 87/100 [01:02<00:09,  1.38it/s]\u001b[A\n",
      " 88%|████████▊ | 88/100 [01:02<00:08,  1.38it/s]\u001b[A\n",
      " 89%|████████▉ | 89/100 [01:03<00:07,  1.38it/s]\u001b[A\n",
      " 90%|█████████ | 90/100 [01:04<00:07,  1.38it/s]\u001b[A\n",
      " 91%|█████████ | 91/100 [01:05<00:06,  1.38it/s]\u001b[A\n",
      " 92%|█████████▏| 92/100 [01:06<00:06,  1.24it/s]\u001b[A\n",
      " 93%|█████████▎| 93/100 [01:07<00:05,  1.18it/s]\u001b[A\n",
      " 94%|█████████▍| 94/100 [01:07<00:04,  1.23it/s]\u001b[A\n",
      " 95%|█████████▌| 95/100 [01:08<00:03,  1.27it/s]\u001b[A\n",
      " 96%|█████████▌| 96/100 [01:09<00:03,  1.31it/s]\u001b[A\n",
      " 97%|█████████▋| 97/100 [01:09<00:02,  1.33it/s]\u001b[A\n",
      " 98%|█████████▊| 98/100 [01:10<00:01,  1.34it/s]\u001b[A\n",
      " 99%|█████████▉| 99/100 [01:11<00:00,  1.35it/s]\u001b[A\n",
      "100%|██████████| 100/100 [01:12<00:00,  1.36it/s]\u001b[A\n",
      "                                                 \u001b[A\n",
      "  0%|          | 0/100 [00:00<?, ?it/s]\u001b[A\n",
      "  1%|          | 1/100 [00:01<02:20,  1.42s/it]\u001b[A\n",
      "  2%|▏         | 2/100 [00:03<02:31,  1.55s/it]\u001b[A\n",
      "  3%|▎         | 3/100 [00:04<02:40,  1.65s/it]\u001b[A\n",
      "  4%|▍         | 4/100 [00:06<02:29,  1.56s/it]\u001b[A\n",
      "  5%|▌         | 5/100 [00:07<02:22,  1.50s/it]\u001b[A\n",
      "  6%|▌         | 6/100 [00:09<02:17,  1.47s/it]\u001b[A\n",
      "  7%|▋         | 7/100 [00:10<02:14,  1.45s/it]\u001b[A\n",
      "  8%|▊         | 8/100 [00:11<02:11,  1.43s/it]\u001b[A\n",
      "  9%|▉         | 9/100 [00:13<02:09,  1.42s/it]\u001b[A\n",
      " 10%|█         | 10/100 [00:14<02:07,  1.42s/it]\u001b[A\n",
      " 11%|█         | 11/100 [00:16<02:05,  1.41s/it]\u001b[A\n",
      " 12%|█▏        | 12/100 [00:17<02:03,  1.41s/it]\u001b[A\n",
      " 13%|█▎        | 13/100 [00:18<02:02,  1.41s/it]\u001b[A\n",
      " 14%|█▍        | 14/100 [00:20<02:00,  1.40s/it]\u001b[A\n",
      " 15%|█▌        | 15/100 [00:21<01:59,  1.40s/it]\u001b[A\n",
      " 16%|█▌        | 16/100 [00:23<01:57,  1.40s/it]\u001b[A\n",
      " 17%|█▋        | 17/100 [00:24<02:08,  1.55s/it]\u001b[A\n",
      " 18%|█▊        | 18/100 [00:26<02:03,  1.51s/it]\u001b[A\n",
      " 19%|█▉        | 19/100 [00:27<01:59,  1.47s/it]\u001b[A\n",
      " 20%|██        | 20/100 [00:29<01:55,  1.45s/it]\u001b[A\n",
      " 21%|██        | 21/100 [00:30<01:53,  1.43s/it]\u001b[A\n",
      " 22%|██▏       | 22/100 [00:31<01:51,  1.43s/it]\u001b[A\n",
      " 23%|██▎       | 23/100 [00:33<01:49,  1.42s/it]\u001b[A\n",
      " 24%|██▍       | 24/100 [00:34<01:47,  1.41s/it]\u001b[A\n",
      " 25%|██▌       | 25/100 [00:36<01:45,  1.41s/it]\u001b[A\n",
      " 26%|██▌       | 26/100 [00:37<01:43,  1.40s/it]\u001b[A\n",
      " 27%|██▋       | 27/100 [00:38<01:42,  1.40s/it]\u001b[A\n",
      " 28%|██▊       | 28/100 [00:40<01:40,  1.40s/it]\u001b[A\n",
      " 29%|██▉       | 29/100 [00:41<01:39,  1.40s/it]\u001b[A\n",
      " 30%|███       | 30/100 [00:43<01:37,  1.40s/it]\u001b[A\n",
      " 31%|███       | 31/100 [00:44<01:36,  1.40s/it]\u001b[A\n",
      " 32%|███▏      | 32/100 [00:45<01:35,  1.40s/it]\u001b[A\n",
      " 33%|███▎      | 33/100 [00:47<01:33,  1.40s/it]\u001b[A\n",
      " 34%|███▍      | 34/100 [00:48<01:32,  1.40s/it]\u001b[A\n",
      " 35%|███▌      | 35/100 [00:50<01:30,  1.40s/it]\u001b[A\n",
      " 36%|███▌      | 36/100 [00:51<01:29,  1.40s/it]\u001b[A\n",
      " 37%|███▋      | 37/100 [00:52<01:27,  1.40s/it]\u001b[A\n",
      " 38%|███▊      | 38/100 [00:54<01:26,  1.40s/it]\u001b[A\n",
      " 39%|███▉      | 39/100 [00:55<01:25,  1.40s/it]\u001b[A\n",
      " 40%|████      | 40/100 [00:57<01:23,  1.40s/it]\u001b[A\n",
      " 41%|████      | 41/100 [00:58<01:22,  1.40s/it]\u001b[A\n",
      " 42%|████▏     | 42/100 [00:59<01:20,  1.40s/it]\u001b[A\n",
      " 43%|████▎     | 43/100 [01:01<01:19,  1.40s/it]\u001b[A\n",
      " 44%|████▍     | 44/100 [01:02<01:18,  1.40s/it]\u001b[A\n",
      " 45%|████▌     | 45/100 [01:04<01:16,  1.40s/it]\u001b[A\n",
      " 46%|████▌     | 46/100 [01:05<01:15,  1.40s/it]\u001b[A\n",
      " 47%|████▋     | 47/100 [01:06<01:13,  1.40s/it]\u001b[A\n",
      " 48%|████▊     | 48/100 [01:08<01:12,  1.40s/it]\u001b[A\n",
      " 49%|████▉     | 49/100 [01:09<01:11,  1.40s/it]\u001b[A\n",
      " 50%|█████     | 50/100 [01:11<01:09,  1.40s/it]\u001b[A\n",
      " 51%|█████     | 51/100 [01:12<01:08,  1.40s/it]\u001b[A\n",
      " 52%|█████▏    | 52/100 [01:13<01:07,  1.40s/it]\u001b[A\n",
      " 53%|█████▎    | 53/100 [01:15<01:05,  1.40s/it]\u001b[A\n",
      " 54%|█████▍    | 54/100 [01:16<01:04,  1.40s/it]\u001b[A\n",
      " 55%|█████▌    | 55/100 [01:18<01:02,  1.40s/it]\u001b[A\n",
      " 56%|█████▌    | 56/100 [01:19<01:01,  1.40s/it]\u001b[A\n",
      " 57%|█████▋    | 57/100 [01:20<01:00,  1.40s/it]\u001b[A\n",
      " 58%|█████▊    | 58/100 [01:22<00:58,  1.40s/it]\u001b[A\n",
      " 59%|█████▉    | 59/100 [01:23<00:57,  1.40s/it]\u001b[A\n",
      " 60%|██████    | 60/100 [01:25<00:55,  1.40s/it]\u001b[A\n",
      " 61%|██████    | 61/100 [01:26<00:54,  1.40s/it]\u001b[A\n",
      " 62%|██████▏   | 62/100 [01:27<00:53,  1.40s/it]\u001b[A\n",
      " 63%|██████▎   | 63/100 [01:29<00:51,  1.40s/it]\u001b[A\n",
      " 64%|██████▍   | 64/100 [01:30<00:50,  1.40s/it]\u001b[A\n",
      " 65%|██████▌   | 65/100 [01:32<00:48,  1.40s/it]\u001b[A\n",
      " 66%|██████▌   | 66/100 [01:33<00:47,  1.40s/it]\u001b[A\n",
      " 67%|██████▋   | 67/100 [01:34<00:46,  1.40s/it]\u001b[A\n",
      " 68%|██████▊   | 68/100 [01:36<00:44,  1.40s/it]\u001b[A\n",
      " 69%|██████▉   | 69/100 [01:37<00:43,  1.40s/it]\u001b[A\n",
      " 70%|███████   | 70/100 [01:39<00:41,  1.40s/it]\u001b[A\n",
      " 71%|███████   | 71/100 [01:40<00:40,  1.40s/it]\u001b[A\n",
      " 72%|███████▏  | 72/100 [01:41<00:39,  1.40s/it]\u001b[A\n",
      " 73%|███████▎  | 73/100 [01:43<00:37,  1.40s/it]\u001b[A\n",
      " 74%|███████▍  | 74/100 [01:44<00:36,  1.40s/it]\u001b[A\n",
      " 75%|███████▌  | 75/100 [01:45<00:34,  1.40s/it]\u001b[A\n",
      " 76%|███████▌  | 76/100 [01:47<00:33,  1.40s/it]\u001b[A\n",
      " 77%|███████▋  | 77/100 [01:48<00:32,  1.40s/it]\u001b[A\n",
      " 78%|███████▊  | 78/100 [01:50<00:30,  1.40s/it]\u001b[A\n",
      " 79%|███████▉  | 79/100 [01:51<00:29,  1.40s/it]\u001b[A\n",
      " 80%|████████  | 80/100 [01:52<00:27,  1.40s/it]\u001b[A\n",
      " 81%|████████  | 81/100 [01:54<00:26,  1.40s/it]\u001b[A\n",
      " 82%|████████▏ | 82/100 [01:55<00:25,  1.40s/it]\u001b[A\n",
      " 83%|████████▎ | 83/100 [01:57<00:23,  1.40s/it]\u001b[A\n",
      " 84%|████████▍ | 84/100 [01:58<00:22,  1.40s/it]\u001b[A\n",
      " 85%|████████▌ | 85/100 [01:59<00:20,  1.40s/it]\u001b[A\n",
      " 86%|████████▌ | 86/100 [02:01<00:19,  1.40s/it]\u001b[A\n",
      " 87%|████████▋ | 87/100 [02:02<00:18,  1.40s/it]\u001b[A\n",
      " 88%|████████▊ | 88/100 [02:04<00:16,  1.40s/it]\u001b[A\n",
      " 89%|████████▉ | 89/100 [02:05<00:15,  1.40s/it]\u001b[A\n",
      " 90%|█████████ | 90/100 [02:06<00:13,  1.40s/it]\u001b[A\n",
      " 91%|█████████ | 91/100 [02:08<00:12,  1.40s/it]\u001b[A\n",
      " 92%|█████████▏| 92/100 [02:09<00:11,  1.40s/it]\u001b[A\n",
      " 93%|█████████▎| 93/100 [02:11<00:09,  1.40s/it]\u001b[A\n",
      " 94%|█████████▍| 94/100 [02:12<00:08,  1.40s/it]\u001b[A\n",
      " 95%|█████████▌| 95/100 [02:13<00:07,  1.40s/it]\u001b[A\n",
      " 96%|█████████▌| 96/100 [02:15<00:05,  1.40s/it]\u001b[A\n",
      " 97%|█████████▋| 97/100 [02:16<00:04,  1.40s/it]\u001b[A\n",
      " 98%|█████████▊| 98/100 [02:18<00:02,  1.40s/it]\u001b[A\n",
      " 99%|█████████▉| 99/100 [02:19<00:01,  1.40s/it]\u001b[A\n",
      "100%|██████████| 100/100 [02:20<00:00,  1.40s/it]\u001b[A\n",
      "                                                 \u001b[A"
     ]
    },
    {
     "data": {
      "image/png": "[encoded data removed]",
      "text/plain": [
       "<Figure size 600x600 with 1 Axes>"
      ]
     },
     "metadata": {},
     "output_type": "display_data"
    }
   ],
   "source": [
    "reulst_aft_logreg = tuned_logreg.fit(X_train, y_train)\n",
    "y_pred_prob = reulst_aft_logreg.predict_proba(X_test)\n",
    "\n",
    "(\n",
    "    roc_auc_score(y_train, reulst_aft_logreg.predict_proba(X_train)[:, 1]), \n",
    "    roc_auc_score(y_test, y_pred_prob[:, 1]),\n",
    ")\n",
    "\n",
    "plot_roc_curves(y_test, y_pred_prob[:, 1], roc_auc_weights_test, n=100)"
   ]
  },
  {
   "cell_type": "code",
   "execution_count": 83,
   "metadata": {
    "execution": {
     "iopub.execute_input": "2025-02-12T16:38:40.239158Z",
     "iopub.status.busy": "2025-02-12T16:38:40.238450Z",
     "iopub.status.idle": "2025-02-12T16:38:43.534929Z",
     "shell.execute_reply": "2025-02-12T16:38:43.534023Z",
     "shell.execute_reply.started": "2025-02-12T16:38:40.239094Z"
    }
   },
   "outputs": [
    {
     "data": {
      "text/plain": [
       "(0.7322697183584244, 0.7047621877917829)"
      ]
     },
     "execution_count": 83,
     "metadata": {},
     "output_type": "execute_result"
    }
   ],
   "source": [
    "(\n",
    "    roc_auc_score(y_train, reulst_aft_logreg.predict_proba(X_train)[:, 1]), \n",
    "    roc_auc_score(y_test, y_pred_prob[:, 1]),\n",
    ")"
   ]
  },
  {
   "cell_type": "code",
   "execution_count": 82,
   "metadata": {
    "execution": {
     "iopub.execute_input": "2025-02-12T16:37:43.905506Z",
     "iopub.status.busy": "2025-02-12T16:37:43.905351Z",
     "iopub.status.idle": "2025-02-12T16:37:43.914685Z",
     "shell.execute_reply": "2025-02-12T16:37:43.913727Z",
     "shell.execute_reply.started": "2025-02-12T16:37:43.905491Z"
    }
   },
   "outputs": [
    {
     "data": {
      "text/plain": [
       "['data/models/aft_3_5_logreg.pickle']"
      ]
     },
     "execution_count": 82,
     "metadata": {},
     "output_type": "execute_result"
    }
   ],
   "source": [
    "joblib.dump(reulst_aft_logreg, \"data/models/aft_3_5_logreg.pickle\")"
   ]
  },
  {
   "cell_type": "markdown",
   "metadata": {},
   "source": [
    "# withoutaft, magn > 3.5"
   ]
  },
  {
   "cell_type": "markdown",
   "metadata": {},
   "source": [
    "## read "
   ]
  },
  {
   "cell_type": "code",
   "execution_count": 43,
   "metadata": {
    "execution": {
     "iopub.execute_input": "2025-03-12T21:03:11.653487Z",
     "iopub.status.busy": "2025-03-12T21:03:11.652265Z",
     "iopub.status.idle": "2025-03-12T21:03:11.663718Z",
     "shell.execute_reply": "2025-03-12T21:03:11.662291Z",
     "shell.execute_reply.started": "2025-03-12T21:03:11.653402Z"
    }
   },
   "outputs": [],
   "source": [
    "dataset_type_train = \"magn_3_5_withoutaft_train\"\n",
    "dataset_type_test = \"magn_3_5_withoutaft_test\"\n",
    "\n",
    "target = \"target\"\n",
    "dt_col = \"dt\"\n",
    "min_test_date = \"2020-10-14\"\n",
    "min_train_date = \"2014-03-17\"\n",
    "\n",
    "train_path = f\"data/dataset/{dataset_type_train}.parquet\"\n",
    "test_path = f\"data/dataset/{dataset_type_test}.parquet\""
   ]
  },
  {
   "cell_type": "code",
   "execution_count": 44,
   "metadata": {
    "execution": {
     "iopub.execute_input": "2025-03-12T21:03:11.932639Z",
     "iopub.status.busy": "2025-03-12T21:03:11.931546Z",
     "iopub.status.idle": "2025-03-12T21:03:32.031073Z",
     "shell.execute_reply": "2025-03-12T21:03:32.029654Z",
     "shell.execute_reply.started": "2025-03-12T21:03:11.932565Z"
    }
   },
   "outputs": [
    {
     "name": "stdout",
     "output_type": "stream",
     "text": [
      "train_path: data/dataset/magn_3_5_withoutaft_train.parquet\n",
      "test_path: data/dataset/magn_3_5_withoutaft_test.parquet\n",
      "\n",
      "\n",
      "train dates: 2014-03-20 — 2020-08-25\n",
      "test dates: 2020-10-14 — 2023-05-21\n",
      "\n",
      "train: target==0: 2318668, target==1: 8292\n",
      "test: target==0: 6453815, target==1: 41093\n",
      "target class proportion: test: 0.006367241701226329, train: 0.003576191158026936\n"
     ]
    }
   ],
   "source": [
    "train_df, test_df = utils.get_train_test_datasets(\n",
    "    train_path=train_path, test_path=test_path, \n",
    "    min_test_date = min_test_date, min_train_date = min_train_date\n",
    ")"
   ]
  },
  {
   "cell_type": "code",
   "execution_count": 45,
   "metadata": {
    "execution": {
     "iopub.execute_input": "2025-03-12T21:03:32.033283Z",
     "iopub.status.busy": "2025-03-12T21:03:32.033011Z",
     "iopub.status.idle": "2025-03-12T21:03:32.039450Z",
     "shell.execute_reply": "2025-03-12T21:03:32.038476Z",
     "shell.execute_reply.started": "2025-03-12T21:03:32.033256Z"
    }
   },
   "outputs": [],
   "source": [
    "feature_cols = list(set(train_df.columns) - set([target, dt_col, \"horizon_min_dt\", \"horizon_max_dt\"]))"
   ]
  },
  {
   "cell_type": "code",
   "execution_count": 46,
   "metadata": {
    "execution": {
     "iopub.execute_input": "2025-03-12T21:03:32.040356Z",
     "iopub.status.busy": "2025-03-12T21:03:32.040186Z",
     "iopub.status.idle": "2025-03-12T21:03:45.026771Z",
     "shell.execute_reply": "2025-03-12T21:03:45.025554Z",
     "shell.execute_reply.started": "2025-03-12T21:03:32.040341Z"
    }
   },
   "outputs": [],
   "source": [
    "# train, test\n",
    "features = utils.Features(\n",
    "    features=feature_cols, target=target, dt_col=dt_col, \n",
    "    groupby=[\"cell_x\", \"cell_y\"], target_features=[]\n",
    ")\n",
    "\n",
    "X_train, y_train = features.make_features_target(train_df)\n",
    "X_test, y_test = features.make_features_target(test_df)"
   ]
  },
  {
   "cell_type": "code",
   "execution_count": 47,
   "metadata": {
    "execution": {
     "iopub.execute_input": "2025-03-12T21:03:45.028663Z",
     "iopub.status.busy": "2025-03-12T21:03:45.028466Z",
     "iopub.status.idle": "2025-03-12T21:03:47.769556Z",
     "shell.execute_reply": "2025-03-12T21:03:47.768643Z",
     "shell.execute_reply.started": "2025-03-12T21:03:45.028645Z"
    }
   },
   "outputs": [
    {
     "data": {
      "text/plain": [
       "dt        0\n",
       "cell_x    0\n",
       "cell_y    0\n",
       "target    0\n",
       "dtype: int64"
      ]
     },
     "execution_count": 47,
     "metadata": {},
     "output_type": "execute_result"
    }
   ],
   "source": [
    "y_test.reset_index().merge(y_train.reset_index(), how=\"left\").isna().sum()"
   ]
  },
  {
   "cell_type": "code",
   "execution_count": 48,
   "metadata": {
    "execution": {
     "iopub.execute_input": "2025-03-12T21:03:47.770313Z",
     "iopub.status.busy": "2025-03-12T21:03:47.770140Z",
     "iopub.status.idle": "2025-03-12T21:03:54.641050Z",
     "shell.execute_reply": "2025-03-12T21:03:54.640161Z",
     "shell.execute_reply.started": "2025-03-12T21:03:47.770296Z"
    }
   },
   "outputs": [],
   "source": [
    "# get weights for roc auc as probability density of occured earthquakes\n",
    "roc_auc_weights_test = get_weights_for_roc_auc(y=y_test, last_dt=min_test_date)\n",
    "roc_auc_weights_train = get_weights_for_roc_auc(y=y_train, last_dt=min_test_date)"
   ]
  },
  {
   "cell_type": "code",
   "execution_count": 49,
   "metadata": {
    "execution": {
     "iopub.execute_input": "2025-03-12T21:03:54.641798Z",
     "iopub.status.busy": "2025-03-12T21:03:54.641650Z",
     "iopub.status.idle": "2025-03-12T21:03:54.661794Z",
     "shell.execute_reply": "2025-03-12T21:03:54.660910Z",
     "shell.execute_reply.started": "2025-03-12T21:03:54.641782Z"
    }
   },
   "outputs": [],
   "source": [
    "assert len(roc_auc_weights_test) == len(roc_auc_weights_test[~np.isnan(roc_auc_weights_test)]) == len(y_test)\n",
    "assert len(roc_auc_weights_train) == len(roc_auc_weights_train[~np.isnan(roc_auc_weights_train)]) == len(y_train)"
   ]
  },
  {
   "cell_type": "code",
   "execution_count": 50,
   "metadata": {
    "execution": {
     "iopub.execute_input": "2025-03-12T21:03:54.662657Z",
     "iopub.status.busy": "2025-03-12T21:03:54.662511Z",
     "iopub.status.idle": "2025-03-12T21:03:54.812682Z",
     "shell.execute_reply": "2025-03-12T21:03:54.811883Z",
     "shell.execute_reply.started": "2025-03-12T21:03:54.662643Z"
    }
   },
   "outputs": [
    {
     "data": {
      "text/plain": [
       "(6494908,\n",
       " 1.0,\n",
       " array([0.00240385, 0.00480769, 0.00721154, 0.00961538, 0.01201923,\n",
       "        0.01442308, 0.01682692, 0.01923077, 0.02163462, 0.02403846,\n",
       "        0.02644231, 0.02884615, 0.03125   , 0.03365385, 0.03605769,\n",
       "        0.03846154, 0.04086538, 0.04326923, 0.04567308, 0.04807692,\n",
       "        0.05048077, 0.05288462, 0.05528846, 0.05769231, 0.06009615,\n",
       "        0.0625    , 0.06490385, 0.06730769, 0.06971154, 0.07211538,\n",
       "        0.07451923, 0.07692308, 0.07932692, 0.08173077, 0.08413462,\n",
       "        0.08653846, 0.08894231, 0.09134615, 0.09375   , 0.09615385,\n",
       "        0.09855769, 0.10096154, 0.10336538, 0.10576923, 0.10817308,\n",
       "        0.11057692, 0.11298077, 0.11538462, 0.11778846, 0.12019231,\n",
       "        0.12259615, 0.125     , 0.12740385, 0.12980769, 0.13221154,\n",
       "        0.13461538, 0.13701923, 0.13942308, 0.14182692, 0.14423077,\n",
       "        0.14663462, 0.14903846, 0.15144231, 0.15384615, 0.15625   ,\n",
       "        0.15865385, 0.16105769, 0.16346154, 0.16586538, 0.16826923,\n",
       "        0.17067308, 0.17307692, 0.17548077, 0.18028846, 0.18269231,\n",
       "        0.18509615, 0.1875    , 0.18990385, 0.19230769, 0.19471154,\n",
       "        0.19711538, 0.19951923, 0.20192308, 0.20432692, 0.20673077,\n",
       "        0.20913462, 0.21153846, 0.21394231, 0.21634615, 0.21875   ,\n",
       "        0.22115385, 0.22355769, 0.22596154, 0.22836538, 0.23076923,\n",
       "        0.23317308, 0.23557692, 0.23798077, 0.24038462, 0.24278846,\n",
       "        0.24519231, 0.25      , 0.25240385, 0.25480769, 0.25721154,\n",
       "        0.25961538, 0.26201923, 0.26682692, 0.27403846, 0.27644231,\n",
       "        0.28125   , 0.28365385, 0.28605769, 0.29086538, 0.29326923,\n",
       "        0.30048077, 0.30288462, 0.30528846, 0.30769231, 0.3125    ,\n",
       "        0.31730769, 0.32211538, 0.32451923, 0.32692308, 0.33173077,\n",
       "        0.33653846, 0.33894231, 0.34375   , 0.35336538, 0.35817308,\n",
       "        0.36538462, 0.37019231, 0.37259615, 0.375     , 0.37740385,\n",
       "        0.38221154, 0.38942308, 0.39423077, 0.39663462, 0.39903846,\n",
       "        0.40865385, 0.41105769, 0.42067308, 0.42788462, 0.43028846,\n",
       "        0.43269231, 0.44951923, 0.45432692, 0.45673077, 0.46394231,\n",
       "        0.46875   , 0.47355769, 0.49038462, 0.52884615, 0.54807692,\n",
       "        0.55288462, 0.57932692, 0.59375   , 0.59855769, 0.62740385,\n",
       "        0.64182692, 0.66346154, 0.71634615, 0.78365385, 0.82211538,\n",
       "        0.87259615, 1.        ]))"
      ]
     },
     "execution_count": 50,
     "metadata": {},
     "output_type": "execute_result"
    }
   ],
   "source": [
    "len(roc_auc_weights_test[roc_auc_weights_test > 0.0]), np.max(roc_auc_weights_test), np.unique(roc_auc_weights_test)"
   ]
  },
  {
   "cell_type": "code",
   "execution_count": 51,
   "metadata": {
    "execution": {
     "iopub.execute_input": "2025-03-12T21:03:54.813516Z",
     "iopub.status.busy": "2025-03-12T21:03:54.813367Z",
     "iopub.status.idle": "2025-03-12T21:03:54.968197Z",
     "shell.execute_reply": "2025-03-12T21:03:54.967395Z",
     "shell.execute_reply.started": "2025-03-12T21:03:54.813502Z"
    }
   },
   "outputs": [
    {
     "data": {
      "image/png": "[encoded data removed]",
      "text/plain": [
       "<Figure size 640x480 with 1 Axes>"
      ]
     },
     "metadata": {},
     "output_type": "display_data"
    }
   ],
   "source": [
    "plt.hist(roc_auc_weights_test[roc_auc_weights_test > 0.0], range=(0, 1.0), bins=20);"
   ]
  },
  {
   "cell_type": "code",
   "execution_count": 52,
   "metadata": {
    "execution": {
     "iopub.execute_input": "2025-03-12T21:03:54.969027Z",
     "iopub.status.busy": "2025-03-12T21:03:54.968868Z",
     "iopub.status.idle": "2025-03-12T21:03:54.973112Z",
     "shell.execute_reply": "2025-03-12T21:03:54.972332Z",
     "shell.execute_reply.started": "2025-03-12T21:03:54.969011Z"
    }
   },
   "outputs": [],
   "source": [
    "y_train = y_train[target]\n",
    "y_test = y_test[target]"
   ]
  },
  {
   "cell_type": "code",
   "execution_count": 53,
   "metadata": {
    "execution": {
     "iopub.execute_input": "2025-03-12T21:03:54.974659Z",
     "iopub.status.busy": "2025-03-12T21:03:54.974512Z",
     "iopub.status.idle": "2025-03-12T21:03:54.984347Z",
     "shell.execute_reply": "2025-03-12T21:03:54.983562Z",
     "shell.execute_reply.started": "2025-03-12T21:03:54.974644Z"
    }
   },
   "outputs": [
    {
     "data": {
      "text/plain": [
       "(8292, 41093)"
      ]
     },
     "execution_count": 53,
     "metadata": {},
     "output_type": "execute_result"
    }
   ],
   "source": [
    "y_train.sum(), y_test.sum()"
   ]
  },
  {
   "cell_type": "markdown",
   "metadata": {},
   "source": [
    "## logreg"
   ]
  },
  {
   "cell_type": "code",
   "execution_count": 54,
   "metadata": {
    "execution": {
     "iopub.execute_input": "2025-03-12T21:03:54.985020Z",
     "iopub.status.busy": "2025-03-12T21:03:54.984863Z",
     "iopub.status.idle": "2025-03-12T21:03:55.583654Z",
     "shell.execute_reply": "2025-03-12T21:03:55.582861Z",
     "shell.execute_reply.started": "2025-03-12T21:03:54.985005Z"
    }
   },
   "outputs": [
    {
     "data": {
      "text/plain": [
       "3"
      ]
     },
     "execution_count": 54,
     "metadata": {},
     "output_type": "execute_result"
    }
   ],
   "source": [
    "cv = utils.MonthlyTimeSeriesSplit(window=20)\n",
    "cv.get_n_splits(X_train)"
   ]
  },
  {
   "cell_type": "code",
   "execution_count": 55,
   "metadata": {
    "execution": {
     "iopub.execute_input": "2025-03-12T21:03:55.584488Z",
     "iopub.status.busy": "2025-03-12T21:03:55.584337Z",
     "iopub.status.idle": "2025-03-12T21:04:07.781430Z",
     "shell.execute_reply": "2025-03-12T21:04:07.780504Z",
     "shell.execute_reply.started": "2025-03-12T21:03:55.584474Z"
    }
   },
   "outputs": [
    {
     "name": "stdout",
     "output_type": "stream",
     "text": [
      "train: [2014-03-20, 2015-10-31], len: 591600 | test: [2015-11-10, 2017-06-22], len: 591600\n",
      "train: [2014-03-20, 2017-06-22], len: 1183200 | test: [2017-07-02, 2019-02-22], len: 601460\n",
      "train: [2014-03-20, 2019-02-22], len: 1784660 | test: [2019-03-04, 2020-08-25], len: 542300\n"
     ]
    }
   ],
   "source": [
    "for split_train, split_test in cv.split(X_train):\n",
    "    train_start = np.sort(X_train.iloc[split_train].drop(columns=[\"cell_x\", \"cell_y\"]).reset_index()[\"dt\"].unique())[0]\n",
    "    train_end = np.sort(X_train.iloc[split_train].drop(columns=[\"cell_x\", \"cell_y\"]).reset_index()[\"dt\"].unique())[-1]\n",
    "    test_start = np.sort(X_train.iloc[split_test].drop(columns=[\"cell_x\", \"cell_y\"]).reset_index()[\"dt\"].unique())[0]\n",
    "    test_end = np.sort(X_train.iloc[split_test].drop(columns=[\"cell_x\", \"cell_y\"]).reset_index()[\"dt\"].unique())[-1]\n",
    "\n",
    "    print(f\"train: [{train_start}, {train_end}], len: {len(split_train)} | test: [{test_start}, {test_end}], len: {len(split_test)}\")"
   ]
  },
  {
   "cell_type": "markdown",
   "metadata": {},
   "source": [
    "### baseline"
   ]
  },
  {
   "cell_type": "code",
   "execution_count": 56,
   "metadata": {
    "execution": {
     "iopub.execute_input": "2025-03-12T21:04:07.782467Z",
     "iopub.status.busy": "2025-03-12T21:04:07.782298Z",
     "iopub.status.idle": "2025-03-12T21:10:42.824669Z",
     "shell.execute_reply": "2025-03-12T21:10:42.823712Z",
     "shell.execute_reply.started": "2025-03-12T21:04:07.782452Z"
    }
   },
   "outputs": [
    {
     "name": "stderr",
     "output_type": "stream",
     "text": [
      "/home/prc/anaconda3/envs/smartdevds10/lib/python3.10/site-packages/sklearn/linear_model/_logistic.py:458: ConvergenceWarning: lbfgs failed to converge (status=1):\n",
      "STOP: TOTAL NO. of ITERATIONS REACHED LIMIT.\n",
      "\n",
      "Increase the number of iterations (max_iter) or scale the data as shown in:\n",
      "    https://scikit-learn.org/stable/modules/preprocessing.html\n",
      "Please also refer to the documentation for alternative solver options:\n",
      "    https://scikit-learn.org/stable/modules/linear_model.html#logistic-regression\n",
      "  n_iter_i = _check_optimize_result(\n",
      "                                                 \r"
     ]
    },
    {
     "data": {
      "image/png": "[encoded data removed]",
      "text/plain": [
       "<Figure size 600x600 with 1 Axes>"
      ]
     },
     "metadata": {},
     "output_type": "display_data"
    },
    {
     "data": {
      "text/plain": [
       "0.5714707280163349"
      ]
     },
     "execution_count": 56,
     "metadata": {},
     "output_type": "execute_result"
    }
   ],
   "source": [
    "params = {\n",
    "    \"C\": 1.0,\n",
    "    \"max_iter\": 500,\n",
    "}\n",
    "\n",
    "logreg_model = train.get_logreg_model(feature_cols, params)\n",
    "\n",
    "logreg_model = logreg_model.fit(X_train, y_train)\n",
    "y_pred_prob = logreg_model.predict_proba(X_test)\n",
    "\n",
    "plot_roc_curves(y_test, y_pred_prob[:, 1], roc_auc_weights_test, n=100)\n",
    "\n",
    "roc_auc_score(y_test, y_pred_prob[:, 1])"
   ]
  },
  {
   "cell_type": "code",
   "execution_count": 57,
   "metadata": {
    "execution": {
     "iopub.execute_input": "2025-03-12T21:14:30.175941Z",
     "iopub.status.busy": "2025-03-12T21:14:30.175171Z",
     "iopub.status.idle": "2025-03-12T21:19:30.667059Z",
     "shell.execute_reply": "2025-03-12T21:19:30.666152Z",
     "shell.execute_reply.started": "2025-03-12T21:14:30.175854Z"
    }
   },
   "outputs": [
    {
     "name": "stderr",
     "output_type": "stream",
     "text": [
      "                                                 \r"
     ]
    },
    {
     "data": {
      "image/png": "[encoded data removed]",
      "text/plain": [
       "<Figure size 600x600 with 1 Axes>"
      ]
     },
     "metadata": {},
     "output_type": "display_data"
    },
    {
     "data": {
      "text/plain": [
       "0.5747575084996946"
      ]
     },
     "execution_count": 57,
     "metadata": {},
     "output_type": "execute_result"
    }
   ],
   "source": [
    "params = {\n",
    "    \"C\": 0.01,\n",
    "    \"max_iter\": 1000,\n",
    "}\n",
    "\n",
    "logreg_model = train.get_logreg_model(feature_cols, params)\n",
    "\n",
    "logreg_model = logreg_model.fit(X_train, y_train)\n",
    "y_pred_prob = logreg_model.predict_proba(X_test)\n",
    "\n",
    "plot_roc_curves(y_test, y_pred_prob[:, 1], roc_auc_weights_test, n=100)\n",
    "\n",
    "roc_auc_score(y_test, y_pred_prob[:, 1])"
   ]
  },
  {
   "cell_type": "code",
   "execution_count": 58,
   "metadata": {
    "execution": {
     "iopub.execute_input": "2025-03-12T21:19:30.668347Z",
     "iopub.status.busy": "2025-03-12T21:19:30.668178Z",
     "iopub.status.idle": "2025-03-12T21:24:02.432746Z",
     "shell.execute_reply": "2025-03-12T21:24:02.431824Z",
     "shell.execute_reply.started": "2025-03-12T21:19:30.668331Z"
    }
   },
   "outputs": [
    {
     "name": "stderr",
     "output_type": "stream",
     "text": [
      "                                                 \r"
     ]
    },
    {
     "data": {
      "image/png": "[encoded data removed]",
      "text/plain": [
       "<Figure size 600x600 with 1 Axes>"
      ]
     },
     "metadata": {},
     "output_type": "display_data"
    },
    {
     "data": {
      "text/plain": [
       "0.5907252236656033"
      ]
     },
     "execution_count": 58,
     "metadata": {},
     "output_type": "execute_result"
    }
   ],
   "source": [
    "params = {\n",
    "    \"C\": 1e-4,\n",
    "    \"max_iter\": 1000,\n",
    "}\n",
    "\n",
    "logreg_model = train.get_logreg_model(feature_cols, params)\n",
    "\n",
    "logreg_model = logreg_model.fit(X_train, y_train)\n",
    "y_pred_prob = logreg_model.predict_proba(X_test)\n",
    "\n",
    "plot_roc_curves(y_test, y_pred_prob[:, 1], roc_auc_weights_test, n=100)\n",
    "\n",
    "roc_auc_score(y_test, y_pred_prob[:, 1])"
   ]
  },
  {
   "cell_type": "code",
   "execution_count": 59,
   "metadata": {
    "execution": {
     "iopub.execute_input": "2025-03-12T21:24:02.433629Z",
     "iopub.status.busy": "2025-03-12T21:24:02.433461Z",
     "iopub.status.idle": "2025-03-12T21:28:31.926285Z",
     "shell.execute_reply": "2025-03-12T21:28:31.925346Z",
     "shell.execute_reply.started": "2025-03-12T21:24:02.433613Z"
    }
   },
   "outputs": [
    {
     "name": "stderr",
     "output_type": "stream",
     "text": [
      "                                                 \r"
     ]
    },
    {
     "data": {
      "image/png": "[encoded data removed]",
      "text/plain": [
       "<Figure size 600x600 with 1 Axes>"
      ]
     },
     "metadata": {},
     "output_type": "display_data"
    },
    {
     "data": {
      "text/plain": [
       "0.5876366141895911"
      ]
     },
     "execution_count": 59,
     "metadata": {},
     "output_type": "execute_result"
    }
   ],
   "source": [
    "params = {\n",
    "    \"C\": 1e-5,\n",
    "    \"max_iter\": 1000,\n",
    "}\n",
    "\n",
    "logreg_model = train.get_logreg_model(feature_cols, params)\n",
    "\n",
    "logreg_model = logreg_model.fit(X_train, y_train)\n",
    "y_pred_prob = logreg_model.predict_proba(X_test)\n",
    "\n",
    "plot_roc_curves(y_test, y_pred_prob[:, 1], roc_auc_weights_test, n=100)\n",
    "\n",
    "roc_auc_score(y_test, y_pred_prob[:, 1])"
   ]
  },
  {
   "cell_type": "code",
   "execution_count": 60,
   "metadata": {
    "execution": {
     "iopub.execute_input": "2025-03-12T21:28:31.927799Z",
     "iopub.status.busy": "2025-03-12T21:28:31.927621Z",
     "iopub.status.idle": "2025-03-12T21:28:32.317314Z",
     "shell.execute_reply": "2025-03-12T21:28:32.316501Z",
     "shell.execute_reply.started": "2025-03-12T21:28:31.927783Z"
    }
   },
   "outputs": [
    {
     "data": {
      "text/plain": [
       "6494908"
      ]
     },
     "execution_count": 60,
     "metadata": {},
     "output_type": "execute_result"
    }
   ],
   "source": [
    "len(np.unique(y_pred_prob[:, 1]))"
   ]
  },
  {
   "cell_type": "code",
   "execution_count": 61,
   "metadata": {
    "execution": {
     "iopub.execute_input": "2025-03-12T21:28:32.318064Z",
     "iopub.status.busy": "2025-03-12T21:28:32.317901Z",
     "iopub.status.idle": "2025-03-12T21:28:44.782110Z",
     "shell.execute_reply": "2025-03-12T21:28:44.781160Z",
     "shell.execute_reply.started": "2025-03-12T21:28:32.318049Z"
    }
   },
   "outputs": [
    {
     "data": {
      "text/plain": [
       "(0.6802177982876043, 0.5876366141895911)"
      ]
     },
     "execution_count": 61,
     "metadata": {},
     "output_type": "execute_result"
    }
   ],
   "source": [
    "(\n",
    "    roc_auc_score(y_train, logreg_model.predict_proba(X_train)[:, 1]), \n",
    "    roc_auc_score(y_test, y_pred_prob[:, 1])\n",
    ")"
   ]
  },
  {
   "cell_type": "markdown",
   "metadata": {},
   "source": [
    "### rfecv feature selection"
   ]
  },
  {
   "cell_type": "code",
   "execution_count": 66,
   "metadata": {
    "execution": {
     "iopub.execute_input": "2025-03-12T21:41:01.639452Z",
     "iopub.status.busy": "2025-03-12T21:41:01.638717Z",
     "iopub.status.idle": "2025-03-12T23:21:32.802780Z",
     "shell.execute_reply": "2025-03-12T23:21:32.801544Z",
     "shell.execute_reply.started": "2025-03-12T21:41:01.639386Z"
    }
   },
   "outputs": [
    {
     "name": "stdout",
     "output_type": "stream",
     "text": [
      "Optimal number of features: 22\n"
     ]
    }
   ],
   "source": [
    "rfecv_features = train.logreg_rfe_select(\n",
    "    X_train, y_train, feature_cols, cv, params={\"C\": 1.0, \"random_state\": 42, \"max_iter\": 1000}, \n",
    "    min_features_to_select=10, step=5, n_jobs=20\n",
    ")"
   ]
  },
  {
   "cell_type": "code",
   "execution_count": 67,
   "metadata": {
    "execution": {
     "iopub.execute_input": "2025-03-12T23:21:32.804423Z",
     "iopub.status.busy": "2025-03-12T23:21:32.804218Z",
     "iopub.status.idle": "2025-03-12T23:21:32.811034Z",
     "shell.execute_reply": "2025-03-12T23:21:32.810214Z",
     "shell.execute_reply.started": "2025-03-12T23:21:32.804405Z"
    }
   },
   "outputs": [
    {
     "data": {
      "text/plain": [
       "['min_magn_m3.5_365_rad5',\n",
       " 'max_magn_m3.5_2555_rad0',\n",
       " 'min_magn_m3.5_1825_rad0',\n",
       " 'mean_magn_m3.5_90_rad5',\n",
       " 'min_magn_m3.5_365_rad3',\n",
       " 'mean_magn_m3.5_365_rad0',\n",
       " 'min_magn_m3.5_2555_rad0',\n",
       " 'min_magn_m3.5_1095_rad5',\n",
       " 'max_magn_m3.5_1095_rad0',\n",
       " 'min_magn_m3.5_90_rad0',\n",
       " 'max_magn_m3.5_1825_rad0',\n",
       " 'max_magn_m3.5_3650_rad0',\n",
       " 'min_magn_m3.5_1095_rad0',\n",
       " 'min_magn_m3.5_90_rad5',\n",
       " 'min_magn_m3.5_3650_rad0',\n",
       " 'max_magn_m3.5_365_rad0',\n",
       " 'max_magn_m3.5_90_rad0',\n",
       " 'mean_magn_m3.5_1825_rad0',\n",
       " 'min_magn_m3.5_180_rad3',\n",
       " 'mean_magn_m3.5_1825_rad5',\n",
       " 'min_magn_m3.5_1825_rad5',\n",
       " 'max_magn_m3.5_180_rad3']"
      ]
     },
     "execution_count": 67,
     "metadata": {},
     "output_type": "execute_result"
    }
   ],
   "source": [
    "rfecv_features"
   ]
  },
  {
   "cell_type": "code",
   "execution_count": 68,
   "metadata": {
    "execution": {
     "iopub.execute_input": "2025-03-12T23:21:32.811580Z",
     "iopub.status.busy": "2025-03-12T23:21:32.811434Z",
     "iopub.status.idle": "2025-03-12T23:26:20.803331Z",
     "shell.execute_reply": "2025-03-12T23:26:20.802391Z",
     "shell.execute_reply.started": "2025-03-12T23:21:32.811566Z"
    },
    "scrolled": true
   },
   "outputs": [
    {
     "name": "stderr",
     "output_type": "stream",
     "text": [
      "\n",
      "  0%|          | 0/102 [00:00<?, ?it/s]\u001b[A\n",
      "  1%|          | 1/102 [00:00<01:19,  1.28it/s]\u001b[A\n",
      "  2%|▏         | 2/102 [00:01<01:14,  1.34it/s]\u001b[A\n",
      "  3%|▎         | 3/102 [00:02<01:12,  1.36it/s]\u001b[A\n",
      "  4%|▍         | 4/102 [00:02<01:11,  1.37it/s]\u001b[A\n",
      "  5%|▍         | 5/102 [00:03<01:10,  1.38it/s]\u001b[A\n",
      "  6%|▌         | 6/102 [00:04<01:09,  1.38it/s]\u001b[A\n",
      "  7%|▋         | 7/102 [00:05<01:08,  1.38it/s]\u001b[A\n",
      "  8%|▊         | 8/102 [00:05<01:12,  1.30it/s]\u001b[A\n",
      "  9%|▉         | 9/102 [00:06<01:16,  1.21it/s]\u001b[A\n",
      " 10%|▉         | 10/102 [00:07<01:18,  1.18it/s]\u001b[A\n",
      " 11%|█         | 11/102 [00:08<01:13,  1.24it/s]\u001b[A\n",
      " 12%|█▏        | 12/102 [00:09<01:10,  1.28it/s]\u001b[A\n",
      " 13%|█▎        | 13/102 [00:09<01:08,  1.31it/s]\u001b[A\n",
      " 14%|█▎        | 14/102 [00:10<01:06,  1.32it/s]\u001b[A\n",
      " 15%|█▍        | 15/102 [00:11<01:04,  1.34it/s]\u001b[A\n",
      " 16%|█▌        | 16/102 [00:12<01:03,  1.35it/s]\u001b[A\n",
      " 17%|█▋        | 17/102 [00:12<01:02,  1.36it/s]\u001b[A\n",
      " 18%|█▊        | 18/102 [00:13<01:02,  1.34it/s]\u001b[A\n",
      " 19%|█▊        | 19/102 [00:14<01:01,  1.35it/s]\u001b[A\n",
      " 20%|█▉        | 20/102 [00:15<01:00,  1.35it/s]\u001b[A\n",
      " 21%|██        | 21/102 [00:15<01:00,  1.34it/s]\u001b[A\n",
      " 22%|██▏       | 22/102 [00:16<01:03,  1.26it/s]\u001b[A\n",
      " 23%|██▎       | 23/102 [00:17<01:05,  1.20it/s]\u001b[A\n",
      " 24%|██▎       | 24/102 [00:18<01:07,  1.16it/s]\u001b[A\n",
      " 25%|██▍       | 25/102 [00:19<01:04,  1.19it/s]\u001b[A\n",
      " 25%|██▌       | 26/102 [00:20<01:01,  1.23it/s]\u001b[A\n",
      " 26%|██▋       | 27/102 [00:20<00:59,  1.25it/s]\u001b[A\n",
      " 27%|██▋       | 28/102 [00:21<00:58,  1.27it/s]\u001b[A\n",
      " 28%|██▊       | 29/102 [00:22<00:56,  1.29it/s]\u001b[A\n",
      " 29%|██▉       | 30/102 [00:23<00:55,  1.29it/s]\u001b[A\n",
      " 30%|███       | 31/102 [00:23<00:54,  1.31it/s]\u001b[A\n",
      " 31%|███▏      | 32/102 [00:24<00:52,  1.32it/s]\u001b[A\n",
      " 32%|███▏      | 33/102 [00:25<00:51,  1.33it/s]\u001b[A\n",
      " 33%|███▎      | 34/102 [00:26<00:50,  1.34it/s]\u001b[A\n",
      " 34%|███▍      | 35/102 [00:26<00:49,  1.34it/s]\u001b[A\n",
      " 35%|███▌      | 36/102 [00:27<00:49,  1.34it/s]\u001b[A\n",
      " 36%|███▋      | 37/102 [00:28<00:48,  1.35it/s]\u001b[A\n",
      " 37%|███▋      | 38/102 [00:29<00:47,  1.35it/s]\u001b[A\n",
      " 38%|███▊      | 39/102 [00:29<00:46,  1.35it/s]\u001b[A\n",
      " 39%|███▉      | 40/102 [00:30<00:45,  1.35it/s]\u001b[A\n",
      " 40%|████      | 41/102 [00:31<00:45,  1.35it/s]\u001b[A\n",
      " 41%|████      | 42/102 [00:32<00:44,  1.35it/s]\u001b[A\n",
      " 42%|████▏     | 43/102 [00:32<00:43,  1.35it/s]\u001b[A\n",
      " 43%|████▎     | 44/102 [00:33<00:42,  1.37it/s]\u001b[A\n",
      " 44%|████▍     | 45/102 [00:34<00:41,  1.38it/s]\u001b[A\n",
      " 45%|████▌     | 46/102 [00:35<00:40,  1.37it/s]\u001b[A\n",
      " 46%|████▌     | 47/102 [00:35<00:40,  1.37it/s]\u001b[A\n",
      " 47%|████▋     | 48/102 [00:36<00:39,  1.37it/s]\u001b[A\n",
      " 48%|████▊     | 49/102 [00:37<00:38,  1.37it/s]\u001b[A\n",
      " 49%|████▉     | 50/102 [00:37<00:37,  1.38it/s]\u001b[A\n",
      " 50%|█████     | 51/102 [00:38<00:37,  1.37it/s]\u001b[A\n",
      " 51%|█████     | 52/102 [00:39<00:36,  1.37it/s]\u001b[A\n",
      " 52%|█████▏    | 53/102 [00:40<00:36,  1.33it/s]\u001b[A\n",
      " 53%|█████▎    | 54/102 [00:41<00:38,  1.24it/s]\u001b[A\n",
      " 54%|█████▍    | 55/102 [00:42<00:38,  1.21it/s]\u001b[A\n",
      " 55%|█████▍    | 56/102 [00:42<00:38,  1.20it/s]\u001b[A\n",
      " 56%|█████▌    | 57/102 [00:43<00:36,  1.22it/s]\u001b[A\n",
      " 57%|█████▋    | 58/102 [00:44<00:35,  1.26it/s]\u001b[A\n",
      " 58%|█████▊    | 59/102 [00:45<00:33,  1.28it/s]\u001b[A\n",
      " 59%|█████▉    | 60/102 [00:45<00:32,  1.30it/s]\u001b[A\n",
      " 60%|█████▉    | 61/102 [00:46<00:31,  1.30it/s]\u001b[A\n",
      " 61%|██████    | 62/102 [00:47<00:30,  1.33it/s]\u001b[A\n",
      " 62%|██████▏   | 63/102 [00:48<00:29,  1.34it/s]\u001b[A\n",
      " 63%|██████▎   | 64/102 [00:48<00:29,  1.30it/s]\u001b[A\n",
      " 64%|██████▎   | 65/102 [00:49<00:28,  1.28it/s]\u001b[A\n",
      " 65%|██████▍   | 66/102 [00:50<00:28,  1.27it/s]\u001b[A\n",
      " 66%|██████▌   | 67/102 [00:51<00:27,  1.29it/s]\u001b[A\n",
      " 67%|██████▋   | 68/102 [00:51<00:25,  1.33it/s]\u001b[A\n",
      " 68%|██████▊   | 69/102 [00:52<00:24,  1.35it/s]\u001b[A\n",
      " 69%|██████▊   | 70/102 [00:53<00:23,  1.36it/s]\u001b[A\n",
      " 70%|██████▉   | 71/102 [00:54<00:22,  1.37it/s]\u001b[A\n",
      " 71%|███████   | 72/102 [00:54<00:21,  1.38it/s]\u001b[A\n",
      " 72%|███████▏  | 73/102 [00:55<00:20,  1.39it/s]\u001b[A\n",
      " 73%|███████▎  | 74/102 [00:56<00:20,  1.39it/s]\u001b[A\n",
      " 74%|███████▎  | 75/102 [00:56<00:19,  1.40it/s]\u001b[A\n",
      " 75%|███████▍  | 76/102 [00:57<00:18,  1.40it/s]\u001b[A\n",
      " 75%|███████▌  | 77/102 [00:58<00:17,  1.40it/s]\u001b[A\n",
      " 76%|███████▋  | 78/102 [00:59<00:17,  1.40it/s]\u001b[A\n",
      " 77%|███████▋  | 79/102 [00:59<00:16,  1.41it/s]\u001b[A\n",
      " 78%|███████▊  | 80/102 [01:00<00:15,  1.41it/s]\u001b[A\n",
      " 79%|███████▉  | 81/102 [01:01<00:14,  1.41it/s]\u001b[A\n",
      " 80%|████████  | 82/102 [01:01<00:14,  1.41it/s]\u001b[A\n",
      " 81%|████████▏ | 83/102 [01:02<00:13,  1.41it/s]\u001b[A\n",
      " 82%|████████▏ | 84/102 [01:03<00:12,  1.41it/s]\u001b[A\n",
      " 83%|████████▎ | 85/102 [01:04<00:12,  1.40it/s]\u001b[A\n",
      " 84%|████████▍ | 86/102 [01:04<00:11,  1.38it/s]\u001b[A\n",
      " 85%|████████▌ | 87/102 [01:05<00:11,  1.34it/s]\u001b[A\n",
      " 86%|████████▋ | 88/102 [01:06<00:10,  1.32it/s]\u001b[A\n",
      " 87%|████████▋ | 89/102 [01:07<00:09,  1.33it/s]\u001b[A\n",
      " 88%|████████▊ | 90/102 [01:07<00:09,  1.33it/s]\u001b[A\n",
      " 89%|████████▉ | 91/102 [01:08<00:08,  1.33it/s]\u001b[A\n",
      " 90%|█████████ | 92/102 [01:09<00:07,  1.33it/s]\u001b[A\n",
      " 91%|█████████ | 93/102 [01:10<00:06,  1.33it/s]\u001b[A\n",
      " 92%|█████████▏| 94/102 [01:10<00:06,  1.33it/s]\u001b[A\n",
      " 93%|█████████▎| 95/102 [01:11<00:05,  1.34it/s]\u001b[A\n",
      " 94%|█████████▍| 96/102 [01:12<00:04,  1.34it/s]\u001b[A\n",
      " 95%|█████████▌| 97/102 [01:13<00:03,  1.34it/s]\u001b[A\n",
      " 96%|█████████▌| 98/102 [01:13<00:02,  1.35it/s]\u001b[A\n",
      " 97%|█████████▋| 99/102 [01:14<00:02,  1.35it/s]\u001b[A\n",
      " 98%|█████████▊| 100/102 [01:15<00:01,  1.36it/s]\u001b[A\n",
      " 99%|█████████▉| 101/102 [01:16<00:00,  1.35it/s]\u001b[A\n",
      "100%|██████████| 102/102 [01:16<00:00,  1.35it/s]\u001b[A\n",
      "                                                 \u001b[A\n",
      "  0%|          | 0/102 [00:00<?, ?it/s]\u001b[A\n",
      "  1%|          | 1/102 [00:01<02:42,  1.61s/it]\u001b[A\n",
      "  2%|▏         | 2/102 [00:03<02:35,  1.56s/it]\u001b[A\n",
      "  3%|▎         | 3/102 [00:04<02:27,  1.49s/it]\u001b[A\n",
      "  4%|▍         | 4/102 [00:05<02:22,  1.45s/it]\u001b[A\n",
      "  5%|▍         | 5/102 [00:07<02:18,  1.43s/it]\u001b[A\n",
      "  6%|▌         | 6/102 [00:08<02:16,  1.43s/it]\u001b[A\n",
      "  7%|▋         | 7/102 [00:10<02:14,  1.42s/it]\u001b[A\n",
      "  8%|▊         | 8/102 [00:11<02:15,  1.44s/it]\u001b[A\n",
      "  9%|▉         | 9/102 [00:13<02:15,  1.46s/it]\u001b[A\n",
      " 10%|▉         | 10/102 [00:14<02:13,  1.45s/it]\u001b[A\n",
      " 11%|█         | 11/102 [00:16<02:12,  1.45s/it]\u001b[A\n",
      " 12%|█▏        | 12/102 [00:17<02:10,  1.45s/it]\u001b[A\n",
      " 13%|█▎        | 13/102 [00:18<02:09,  1.46s/it]\u001b[A\n",
      " 14%|█▎        | 14/102 [00:20<02:08,  1.46s/it]\u001b[A\n",
      " 15%|█▍        | 15/102 [00:21<02:06,  1.45s/it]\u001b[A\n",
      " 16%|█▌        | 16/102 [00:23<02:05,  1.46s/it]\u001b[A\n",
      " 17%|█▋        | 17/102 [00:24<02:03,  1.46s/it]\u001b[A\n",
      " 18%|█▊        | 18/102 [00:26<02:01,  1.44s/it]\u001b[A\n",
      " 19%|█▊        | 19/102 [00:27<01:59,  1.43s/it]\u001b[A\n",
      " 20%|█▉        | 20/102 [00:28<01:56,  1.42s/it]\u001b[A\n",
      " 21%|██        | 21/102 [00:30<01:55,  1.42s/it]\u001b[A\n",
      " 22%|██▏       | 22/102 [00:31<01:53,  1.42s/it]\u001b[A\n",
      " 23%|██▎       | 23/102 [00:33<01:53,  1.44s/it]\u001b[A\n",
      " 24%|██▎       | 24/102 [00:34<01:54,  1.46s/it]\u001b[A\n",
      " 25%|██▍       | 25/102 [00:36<01:53,  1.47s/it]\u001b[A\n",
      " 25%|██▌       | 26/102 [00:37<01:52,  1.48s/it]\u001b[A\n",
      " 26%|██▋       | 27/102 [00:39<01:51,  1.49s/it]\u001b[A\n",
      " 27%|██▋       | 28/102 [00:40<01:49,  1.48s/it]\u001b[A\n",
      " 28%|██▊       | 29/102 [00:42<01:47,  1.48s/it]\u001b[A\n",
      " 29%|██▉       | 30/102 [00:43<01:49,  1.52s/it]\u001b[A\n",
      " 30%|███       | 31/102 [00:45<01:49,  1.54s/it]\u001b[A\n",
      " 31%|███▏      | 32/102 [00:46<01:45,  1.51s/it]\u001b[A\n",
      " 32%|███▏      | 33/102 [00:48<01:42,  1.49s/it]\u001b[A\n",
      " 33%|███▎      | 34/102 [00:49<01:40,  1.48s/it]\u001b[A\n",
      " 34%|███▍      | 35/102 [00:51<01:38,  1.47s/it]\u001b[A\n",
      " 35%|███▌      | 36/102 [00:52<01:36,  1.46s/it]\u001b[A\n",
      " 36%|███▋      | 37/102 [00:54<01:34,  1.46s/it]\u001b[A\n",
      " 37%|███▋      | 38/102 [00:55<01:31,  1.44s/it]\u001b[A\n",
      " 38%|███▊      | 39/102 [00:56<01:29,  1.43s/it]\u001b[A\n",
      " 39%|███▉      | 40/102 [00:58<01:27,  1.42s/it]\u001b[A\n",
      " 40%|████      | 41/102 [00:59<01:25,  1.41s/it]\u001b[A\n",
      " 41%|████      | 42/102 [01:01<01:24,  1.40s/it]\u001b[A\n",
      " 42%|████▏     | 43/102 [01:02<01:22,  1.40s/it]\u001b[A\n",
      " 43%|████▎     | 44/102 [01:03<01:22,  1.42s/it]\u001b[A\n",
      " 44%|████▍     | 45/102 [01:05<01:21,  1.43s/it]\u001b[A\n",
      " 45%|████▌     | 46/102 [01:06<01:19,  1.43s/it]\u001b[A\n",
      " 46%|████▌     | 47/102 [01:08<01:18,  1.43s/it]\u001b[A\n",
      " 47%|████▋     | 48/102 [01:09<01:16,  1.42s/it]\u001b[A\n",
      " 48%|████▊     | 49/102 [01:11<01:14,  1.41s/it]\u001b[A\n",
      " 49%|████▉     | 50/102 [01:12<01:13,  1.41s/it]\u001b[A\n",
      " 50%|█████     | 51/102 [01:13<01:11,  1.40s/it]\u001b[A\n",
      " 51%|█████     | 52/102 [01:15<01:09,  1.40s/it]\u001b[A\n",
      " 52%|█████▏    | 53/102 [01:16<01:08,  1.39s/it]\u001b[A\n",
      " 53%|█████▎    | 54/102 [01:17<01:06,  1.39s/it]\u001b[A\n",
      " 54%|█████▍    | 55/102 [01:19<01:05,  1.39s/it]\u001b[A\n",
      " 55%|█████▍    | 56/102 [01:20<01:03,  1.39s/it]\u001b[A\n",
      " 56%|█████▌    | 57/102 [01:22<01:02,  1.39s/it]\u001b[A\n",
      " 57%|█████▋    | 58/102 [01:23<01:01,  1.39s/it]\u001b[A\n",
      " 58%|█████▊    | 59/102 [01:24<00:59,  1.39s/it]\u001b[A\n",
      " 59%|█████▉    | 60/102 [01:26<01:00,  1.44s/it]\u001b[A\n",
      " 60%|█████▉    | 61/102 [01:28<01:00,  1.49s/it]\u001b[A\n",
      " 61%|██████    | 62/102 [01:29<00:59,  1.48s/it]\u001b[A\n",
      " 62%|██████▏   | 63/102 [01:31<00:57,  1.48s/it]\u001b[A\n",
      " 63%|██████▎   | 64/102 [01:32<00:56,  1.48s/it]\u001b[A\n",
      " 64%|██████▎   | 65/102 [01:33<00:54,  1.47s/it]\u001b[A\n",
      " 65%|██████▍   | 66/102 [01:35<00:53,  1.47s/it]\u001b[A\n",
      " 66%|██████▌   | 67/102 [01:36<00:51,  1.47s/it]\u001b[A\n",
      " 67%|██████▋   | 68/102 [01:38<00:50,  1.47s/it]\u001b[A\n",
      " 68%|██████▊   | 69/102 [01:39<00:48,  1.47s/it]\u001b[A\n",
      " 69%|██████▊   | 70/102 [01:41<00:46,  1.46s/it]\u001b[A\n",
      " 70%|██████▉   | 71/102 [01:42<00:45,  1.46s/it]\u001b[A\n",
      " 71%|███████   | 72/102 [01:44<00:43,  1.46s/it]\u001b[A\n",
      " 72%|███████▏  | 73/102 [01:45<00:42,  1.45s/it]\u001b[A\n",
      " 73%|███████▎  | 74/102 [01:47<00:40,  1.46s/it]\u001b[A\n",
      " 74%|███████▎  | 75/102 [01:48<00:40,  1.49s/it]\u001b[A\n",
      " 75%|███████▍  | 76/102 [01:50<00:40,  1.56s/it]\u001b[A\n",
      " 75%|███████▌  | 77/102 [01:51<00:38,  1.55s/it]\u001b[A\n",
      " 76%|███████▋  | 78/102 [01:53<00:36,  1.52s/it]\u001b[A\n",
      " 77%|███████▋  | 79/102 [01:54<00:34,  1.49s/it]\u001b[A\n",
      " 78%|███████▊  | 80/102 [01:56<00:32,  1.48s/it]\u001b[A\n",
      " 79%|███████▉  | 81/102 [01:57<00:30,  1.47s/it]\u001b[A\n",
      " 80%|████████  | 82/102 [01:59<00:29,  1.46s/it]\u001b[A\n",
      " 81%|████████▏ | 83/102 [02:00<00:27,  1.44s/it]\u001b[A\n",
      " 82%|████████▏ | 84/102 [02:01<00:25,  1.43s/it]\u001b[A\n",
      " 83%|████████▎ | 85/102 [02:03<00:24,  1.41s/it]\u001b[A\n",
      " 84%|████████▍ | 86/102 [02:04<00:22,  1.41s/it]\u001b[A\n",
      " 85%|████████▌ | 87/102 [02:06<00:21,  1.40s/it]\u001b[A\n",
      " 86%|████████▋ | 88/102 [02:07<00:19,  1.40s/it]\u001b[A\n",
      " 87%|████████▋ | 89/102 [02:08<00:18,  1.40s/it]\u001b[A\n",
      " 88%|████████▊ | 90/102 [02:10<00:16,  1.40s/it]\u001b[A\n",
      " 89%|████████▉ | 91/102 [02:11<00:15,  1.44s/it]\u001b[A\n",
      " 90%|█████████ | 92/102 [02:13<00:14,  1.45s/it]\u001b[A\n",
      " 91%|█████████ | 93/102 [02:14<00:13,  1.45s/it]\u001b[A\n",
      " 92%|█████████▏| 94/102 [02:16<00:11,  1.45s/it]\u001b[A\n",
      " 93%|█████████▎| 95/102 [02:17<00:10,  1.45s/it]\u001b[A\n",
      " 94%|█████████▍| 96/102 [02:19<00:08,  1.45s/it]\u001b[A\n",
      " 95%|█████████▌| 97/102 [02:20<00:07,  1.45s/it]\u001b[A\n",
      " 96%|█████████▌| 98/102 [02:21<00:05,  1.45s/it]\u001b[A\n",
      " 97%|█████████▋| 99/102 [02:23<00:04,  1.44s/it]\u001b[A\n",
      " 98%|█████████▊| 100/102 [02:24<00:02,  1.44s/it]\u001b[A\n",
      " 99%|█████████▉| 101/102 [02:26<00:01,  1.44s/it]\u001b[A\n",
      "100%|██████████| 102/102 [02:27<00:00,  1.43s/it]\u001b[A\n",
      "                                                 \u001b[A"
     ]
    },
    {
     "data": {
      "image/png": "[encoded data removed]",
      "text/plain": [
       "<Figure size 600x600 with 1 Axes>"
      ]
     },
     "metadata": {},
     "output_type": "display_data"
    }
   ],
   "source": [
    "params = {\n",
    "    \"C\": 1.0,\n",
    "    \"max_iter\": 1000,\n",
    "}\n",
    "\n",
    "logreg_model = train.get_logreg_model(rfecv_features, params)\n",
    "\n",
    "logreg_model = logreg_model.fit(X_train, y_train)\n",
    "y_pred_prob = logreg_model.predict_proba(X_test)\n",
    "\n",
    "\n",
    "(\n",
    "    roc_auc_score(y_train, logreg_model.predict_proba(X_train)[:, 1]), \n",
    "    roc_auc_score(y_test, y_pred_prob[:, 1])\n",
    ")\n",
    "\n",
    "plot_roc_curves(y_test, y_pred_prob[:, 1], roc_auc_weights_test, n=100)"
   ]
  },
  {
   "cell_type": "markdown",
   "metadata": {},
   "source": [
    "### hyper optimiziation"
   ]
  },
  {
   "cell_type": "code",
   "execution_count": 69,
   "metadata": {
    "execution": {
     "iopub.execute_input": "2025-03-12T23:26:20.804914Z",
     "iopub.status.busy": "2025-03-12T23:26:20.804730Z",
     "iopub.status.idle": "2025-03-13T01:22:37.189784Z",
     "shell.execute_reply": "2025-03-13T01:22:37.188448Z",
     "shell.execute_reply.started": "2025-03-12T23:26:20.804890Z"
    },
    "scrolled": true
   },
   "outputs": [
    {
     "name": "stdout",
     "output_type": "stream",
     "text": [
      "using MonthlyTimeSeriesSplit\n"
     ]
    },
    {
     "name": "stderr",
     "output_type": "stream",
     "text": [
      "logisticregression hyperoptimisation: 100%|██████████| 100/100 [1:56:16<00:00, 69.76s/it]\n"
     ]
    }
   ],
   "source": [
    "def fixed_params(**kwargs) -> dict[str, Any]:\n",
    "    params = {\n",
    "        \"max_iter\": 1000,\n",
    "        \"penalty\": \"l2\",\n",
    "        \"random_state\": 42,\n",
    "    }\n",
    "\n",
    "    params.update(kwargs)\n",
    "\n",
    "    return params\n",
    "\n",
    "\n",
    "def default_params(**kwargs) -> dict[str, Any]:\n",
    "    params = {\n",
    "        **fixed_params(),\n",
    "        \"C\": 1.0,\n",
    "    }\n",
    "    params.update(kwargs)\n",
    "\n",
    "    return params\n",
    "\n",
    "\n",
    "def suggest_params(trial: optuna.trial.Trial, **kwargs) -> dict[str, Any]:\n",
    "    params = {\n",
    "        **fixed_params(),\n",
    "        \"C\": trial.suggest_float(\"C\", 1e-5, 100.0),\n",
    "    }\n",
    "    params.update(kwargs)\n",
    "\n",
    "    return params\n",
    "\n",
    "tuned_logreg = train.run_optuna(\n",
    "    X = X_train,\n",
    "    y = y_train,\n",
    "    n_trials = 100,\n",
    "    dump_study_path = f\"data/optuna_res/logreg_{dataset_type_train.replace('_train', '')}\",\n",
    "    seed = 42,\n",
    "    resume = False,\n",
    "    suggest_params = suggest_params,\n",
    "    default_params = default_params,\n",
    "    cv = utils.MonthlyTimeSeriesSplit(window=20, partition=True),\n",
    "    model = train.get_logreg_model(rfecv_features, default_params()),\n",
    "    n_jobs = 20,\n",
    "    model_name = \"logisticregression\",\n",
    ")"
   ]
  },
  {
   "cell_type": "code",
   "execution_count": 70,
   "metadata": {
    "execution": {
     "iopub.execute_input": "2025-03-13T01:22:37.190603Z",
     "iopub.status.busy": "2025-03-13T01:22:37.190452Z",
     "iopub.status.idle": "2025-03-13T01:22:37.199490Z",
     "shell.execute_reply": "2025-03-13T01:22:37.198375Z",
     "shell.execute_reply.started": "2025-03-13T01:22:37.190588Z"
    }
   },
   "outputs": [
    {
     "data": {
      "text/plain": [
       "{'C': 86.07120556304038,\n",
       " 'class_weight': None,\n",
       " 'dual': False,\n",
       " 'fit_intercept': True,\n",
       " 'intercept_scaling': 1,\n",
       " 'l1_ratio': None,\n",
       " 'max_iter': 1000,\n",
       " 'multi_class': 'auto',\n",
       " 'n_jobs': None,\n",
       " 'penalty': 'l2',\n",
       " 'random_state': 42,\n",
       " 'solver': 'lbfgs',\n",
       " 'tol': 0.0001,\n",
       " 'verbose': 0,\n",
       " 'warm_start': False}"
      ]
     },
     "execution_count": 70,
     "metadata": {},
     "output_type": "execute_result"
    }
   ],
   "source": [
    "tuned_logreg_params = tuned_logreg[\"logisticregression\"].get_params()\n",
    "tuned_logreg_params"
   ]
  },
  {
   "cell_type": "code",
   "execution_count": 72,
   "metadata": {
    "execution": {
     "iopub.execute_input": "2025-03-13T04:33:28.923866Z",
     "iopub.status.busy": "2025-03-13T04:33:28.923126Z",
     "iopub.status.idle": "2025-03-13T04:37:59.772154Z",
     "shell.execute_reply": "2025-03-13T04:37:59.771298Z",
     "shell.execute_reply.started": "2025-03-13T04:33:28.923797Z"
    },
    "scrolled": true
   },
   "outputs": [
    {
     "name": "stderr",
     "output_type": "stream",
     "text": [
      "\n",
      "  0%|          | 0/102 [00:00<?, ?it/s]\u001b[A\n",
      "  1%|          | 1/102 [00:00<01:04,  1.58it/s]\u001b[A\n",
      "  2%|▏         | 2/102 [00:01<01:03,  1.58it/s]\u001b[A\n",
      "  3%|▎         | 3/102 [00:01<01:02,  1.58it/s]\u001b[A\n",
      "  4%|▍         | 4/102 [00:02<01:01,  1.58it/s]\u001b[A\n",
      "  5%|▍         | 5/102 [00:03<01:01,  1.58it/s]\u001b[A\n",
      "  6%|▌         | 6/102 [00:03<01:00,  1.57it/s]\u001b[A\n",
      "  7%|▋         | 7/102 [00:04<01:00,  1.58it/s]\u001b[A\n",
      "  8%|▊         | 8/102 [00:05<00:59,  1.58it/s]\u001b[A\n",
      "  9%|▉         | 9/102 [00:05<00:58,  1.58it/s]\u001b[A\n",
      " 10%|▉         | 10/102 [00:06<00:58,  1.58it/s]\u001b[A\n",
      " 11%|█         | 11/102 [00:06<00:57,  1.58it/s]\u001b[A\n",
      " 12%|█▏        | 12/102 [00:07<00:57,  1.58it/s]\u001b[A\n",
      " 13%|█▎        | 13/102 [00:08<00:56,  1.58it/s]\u001b[A\n",
      " 14%|█▎        | 14/102 [00:08<00:55,  1.58it/s]\u001b[A\n",
      " 15%|█▍        | 15/102 [00:09<00:55,  1.58it/s]\u001b[A\n",
      " 16%|█▌        | 16/102 [00:10<00:54,  1.58it/s]\u001b[A\n",
      " 17%|█▋        | 17/102 [00:10<00:53,  1.57it/s]\u001b[A\n",
      " 18%|█▊        | 18/102 [00:11<00:53,  1.57it/s]\u001b[A\n",
      " 19%|█▊        | 19/102 [00:12<00:52,  1.57it/s]\u001b[A\n",
      " 20%|█▉        | 20/102 [00:12<00:52,  1.57it/s]\u001b[A\n",
      " 21%|██        | 21/102 [00:13<00:51,  1.57it/s]\u001b[A\n",
      " 22%|██▏       | 22/102 [00:13<00:50,  1.57it/s]\u001b[A\n",
      " 23%|██▎       | 23/102 [00:14<00:50,  1.57it/s]\u001b[A\n",
      " 24%|██▎       | 24/102 [00:15<00:49,  1.57it/s]\u001b[A\n",
      " 25%|██▍       | 25/102 [00:15<00:49,  1.56it/s]\u001b[A\n",
      " 25%|██▌       | 26/102 [00:16<00:48,  1.57it/s]\u001b[A\n",
      " 26%|██▋       | 27/102 [00:17<00:47,  1.57it/s]\u001b[A\n",
      " 27%|██▋       | 28/102 [00:17<00:47,  1.57it/s]\u001b[A\n",
      " 28%|██▊       | 29/102 [00:18<00:46,  1.57it/s]\u001b[A\n",
      " 29%|██▉       | 30/102 [00:19<00:45,  1.57it/s]\u001b[A\n",
      " 30%|███       | 31/102 [00:19<00:45,  1.57it/s]\u001b[A\n",
      " 31%|███▏      | 32/102 [00:20<00:44,  1.57it/s]\u001b[A\n",
      " 32%|███▏      | 33/102 [00:20<00:43,  1.57it/s]\u001b[A\n",
      " 33%|███▎      | 34/102 [00:21<00:43,  1.57it/s]\u001b[A\n",
      " 34%|███▍      | 35/102 [00:22<00:42,  1.57it/s]\u001b[A\n",
      " 35%|███▌      | 36/102 [00:22<00:42,  1.57it/s]\u001b[A\n",
      " 36%|███▋      | 37/102 [00:23<00:41,  1.57it/s]\u001b[A\n",
      " 37%|███▋      | 38/102 [00:24<00:40,  1.57it/s]\u001b[A\n",
      " 38%|███▊      | 39/102 [00:24<00:40,  1.57it/s]\u001b[A\n",
      " 39%|███▉      | 40/102 [00:25<00:39,  1.57it/s]\u001b[A\n",
      " 40%|████      | 41/102 [00:26<00:38,  1.57it/s]\u001b[A\n",
      " 41%|████      | 42/102 [00:26<00:38,  1.57it/s]\u001b[A\n",
      " 42%|████▏     | 43/102 [00:27<00:37,  1.57it/s]\u001b[A\n",
      " 43%|████▎     | 44/102 [00:27<00:36,  1.57it/s]\u001b[A\n",
      " 44%|████▍     | 45/102 [00:28<00:36,  1.57it/s]\u001b[A\n",
      " 45%|████▌     | 46/102 [00:29<00:35,  1.57it/s]\u001b[A\n",
      " 46%|████▌     | 47/102 [00:29<00:34,  1.57it/s]\u001b[A\n",
      " 47%|████▋     | 48/102 [00:30<00:34,  1.58it/s]\u001b[A\n",
      " 48%|████▊     | 49/102 [00:31<00:33,  1.57it/s]\u001b[A\n",
      " 49%|████▉     | 50/102 [00:31<00:32,  1.58it/s]\u001b[A\n",
      " 50%|█████     | 51/102 [00:32<00:32,  1.58it/s]\u001b[A\n",
      " 51%|█████     | 52/102 [00:33<00:31,  1.58it/s]\u001b[A\n",
      " 52%|█████▏    | 53/102 [00:33<00:31,  1.58it/s]\u001b[A\n",
      " 53%|█████▎    | 54/102 [00:34<00:30,  1.58it/s]\u001b[A\n",
      " 54%|█████▍    | 55/102 [00:34<00:29,  1.58it/s]\u001b[A\n",
      " 55%|█████▍    | 56/102 [00:35<00:29,  1.58it/s]\u001b[A\n",
      " 56%|█████▌    | 57/102 [00:36<00:28,  1.58it/s]\u001b[A\n",
      " 57%|█████▋    | 58/102 [00:36<00:27,  1.58it/s]\u001b[A\n",
      " 58%|█████▊    | 59/102 [00:37<00:27,  1.58it/s]\u001b[A\n",
      " 59%|█████▉    | 60/102 [00:38<00:26,  1.58it/s]\u001b[A\n",
      " 60%|█████▉    | 61/102 [00:38<00:25,  1.58it/s]\u001b[A\n",
      " 61%|██████    | 62/102 [00:39<00:25,  1.58it/s]\u001b[A\n",
      " 62%|██████▏   | 63/102 [00:40<00:24,  1.58it/s]\u001b[A\n",
      " 63%|██████▎   | 64/102 [00:40<00:24,  1.58it/s]\u001b[A\n",
      " 64%|██████▎   | 65/102 [00:41<00:23,  1.58it/s]\u001b[A\n",
      " 65%|██████▍   | 66/102 [00:41<00:22,  1.58it/s]\u001b[A\n",
      " 66%|██████▌   | 67/102 [00:42<00:22,  1.57it/s]\u001b[A\n",
      " 67%|██████▋   | 68/102 [00:43<00:21,  1.58it/s]\u001b[A\n",
      " 68%|██████▊   | 69/102 [00:43<00:20,  1.58it/s]\u001b[A\n",
      " 69%|██████▊   | 70/102 [00:44<00:20,  1.58it/s]\u001b[A\n",
      " 70%|██████▉   | 71/102 [00:45<00:19,  1.58it/s]\u001b[A\n",
      " 71%|███████   | 72/102 [00:45<00:18,  1.58it/s]\u001b[A\n",
      " 72%|███████▏  | 73/102 [00:46<00:18,  1.58it/s]\u001b[A\n",
      " 73%|███████▎  | 74/102 [00:46<00:17,  1.58it/s]\u001b[A\n",
      " 74%|███████▎  | 75/102 [00:47<00:17,  1.58it/s]\u001b[A\n",
      " 75%|███████▍  | 76/102 [00:48<00:16,  1.58it/s]\u001b[A\n",
      " 75%|███████▌  | 77/102 [00:48<00:15,  1.58it/s]\u001b[A\n",
      " 76%|███████▋  | 78/102 [00:49<00:15,  1.58it/s]\u001b[A\n",
      " 77%|███████▋  | 79/102 [00:50<00:14,  1.58it/s]\u001b[A\n",
      " 78%|███████▊  | 80/102 [00:50<00:13,  1.58it/s]\u001b[A\n",
      " 79%|███████▉  | 81/102 [00:51<00:13,  1.58it/s]\u001b[A\n",
      " 80%|████████  | 82/102 [00:52<00:12,  1.58it/s]\u001b[A\n",
      " 81%|████████▏ | 83/102 [00:52<00:11,  1.58it/s]\u001b[A\n",
      " 82%|████████▏ | 84/102 [00:53<00:11,  1.59it/s]\u001b[A\n",
      " 83%|████████▎ | 85/102 [00:53<00:10,  1.59it/s]\u001b[A\n",
      " 84%|████████▍ | 86/102 [00:54<00:10,  1.59it/s]\u001b[A\n",
      " 85%|████████▌ | 87/102 [00:55<00:09,  1.58it/s]\u001b[A\n",
      " 86%|████████▋ | 88/102 [00:55<00:08,  1.59it/s]\u001b[A\n",
      " 87%|████████▋ | 89/102 [00:56<00:08,  1.59it/s]\u001b[A\n",
      " 88%|████████▊ | 90/102 [00:57<00:07,  1.59it/s]\u001b[A\n",
      " 89%|████████▉ | 91/102 [00:57<00:06,  1.59it/s]\u001b[A\n",
      " 90%|█████████ | 92/102 [00:58<00:06,  1.58it/s]\u001b[A\n",
      " 91%|█████████ | 93/102 [00:58<00:05,  1.58it/s]\u001b[A\n",
      " 92%|█████████▏| 94/102 [00:59<00:05,  1.58it/s]\u001b[A\n",
      " 93%|█████████▎| 95/102 [01:00<00:04,  1.58it/s]\u001b[A\n",
      " 94%|█████████▍| 96/102 [01:00<00:03,  1.59it/s]\u001b[A\n",
      " 95%|█████████▌| 97/102 [01:01<00:03,  1.58it/s]\u001b[A\n",
      " 96%|█████████▌| 98/102 [01:02<00:02,  1.58it/s]\u001b[A\n",
      " 97%|█████████▋| 99/102 [01:02<00:01,  1.58it/s]\u001b[A\n",
      " 98%|█████████▊| 100/102 [01:03<00:01,  1.59it/s]\u001b[A\n",
      " 99%|█████████▉| 101/102 [01:04<00:00,  1.59it/s]\u001b[A\n",
      "100%|██████████| 102/102 [01:04<00:00,  1.59it/s]\u001b[A\n",
      "                                                 \u001b[A\n",
      "  0%|          | 0/102 [00:00<?, ?it/s]\u001b[A\n",
      "  1%|          | 1/102 [00:01<02:06,  1.25s/it]\u001b[A\n",
      "  2%|▏         | 2/102 [00:02<02:05,  1.25s/it]\u001b[A\n",
      "  3%|▎         | 3/102 [00:03<02:04,  1.25s/it]\u001b[A\n",
      "  4%|▍         | 4/102 [00:05<02:02,  1.25s/it]\u001b[A\n",
      "  5%|▍         | 5/102 [00:06<02:01,  1.26s/it]\u001b[A\n",
      "  6%|▌         | 6/102 [00:07<02:00,  1.25s/it]\u001b[A\n",
      "  7%|▋         | 7/102 [00:08<01:59,  1.25s/it]\u001b[A\n",
      "  8%|▊         | 8/102 [00:10<01:57,  1.25s/it]\u001b[A\n",
      "  9%|▉         | 9/102 [00:11<01:56,  1.25s/it]\u001b[A\n",
      " 10%|▉         | 10/102 [00:12<01:55,  1.25s/it]\u001b[A\n",
      " 11%|█         | 11/102 [00:13<01:54,  1.25s/it]\u001b[A\n",
      " 12%|█▏        | 12/102 [00:15<01:52,  1.25s/it]\u001b[A\n",
      " 13%|█▎        | 13/102 [00:16<01:51,  1.26s/it]\u001b[A\n",
      " 14%|█▎        | 14/102 [00:17<01:50,  1.26s/it]\u001b[A\n",
      " 15%|█▍        | 15/102 [00:18<01:49,  1.26s/it]\u001b[A\n",
      " 16%|█▌        | 16/102 [00:20<01:47,  1.25s/it]\u001b[A\n",
      " 17%|█▋        | 17/102 [00:21<01:46,  1.26s/it]\u001b[A\n",
      " 18%|█▊        | 18/102 [00:22<01:45,  1.26s/it]\u001b[A\n",
      " 19%|█▊        | 19/102 [00:23<01:44,  1.26s/it]\u001b[A\n",
      " 20%|█▉        | 20/102 [00:25<01:43,  1.26s/it]\u001b[A\n",
      " 21%|██        | 21/102 [00:26<01:41,  1.26s/it]\u001b[A\n",
      " 22%|██▏       | 22/102 [00:27<01:40,  1.26s/it]\u001b[A\n",
      " 23%|██▎       | 23/102 [00:28<01:39,  1.26s/it]\u001b[A\n",
      " 24%|██▎       | 24/102 [00:30<01:38,  1.27s/it]\u001b[A\n",
      " 25%|██▍       | 25/102 [00:31<01:37,  1.26s/it]\u001b[A\n",
      " 25%|██▌       | 26/102 [00:32<01:36,  1.26s/it]\u001b[A\n",
      " 26%|██▋       | 27/102 [00:33<01:34,  1.27s/it]\u001b[A\n",
      " 27%|██▋       | 28/102 [00:35<01:33,  1.26s/it]\u001b[A\n",
      " 28%|██▊       | 29/102 [00:36<01:32,  1.26s/it]\u001b[A\n",
      " 29%|██▉       | 30/102 [00:37<01:30,  1.26s/it]\u001b[A\n",
      " 30%|███       | 31/102 [00:38<01:29,  1.26s/it]\u001b[A\n",
      " 31%|███▏      | 32/102 [00:40<01:28,  1.26s/it]\u001b[A\n",
      " 32%|███▏      | 33/102 [00:41<01:27,  1.26s/it]\u001b[A\n",
      " 33%|███▎      | 34/102 [00:42<01:25,  1.26s/it]\u001b[A\n",
      " 34%|███▍      | 35/102 [00:44<01:24,  1.26s/it]\u001b[A\n",
      " 35%|███▌      | 36/102 [00:45<01:23,  1.26s/it]\u001b[A\n",
      " 36%|███▋      | 37/102 [00:46<01:22,  1.27s/it]\u001b[A\n",
      " 37%|███▋      | 38/102 [00:47<01:20,  1.26s/it]\u001b[A\n",
      " 38%|███▊      | 39/102 [00:49<01:19,  1.26s/it]\u001b[A\n",
      " 39%|███▉      | 40/102 [00:50<01:18,  1.26s/it]\u001b[A\n",
      " 40%|████      | 41/102 [00:51<01:16,  1.26s/it]\u001b[A\n",
      " 41%|████      | 42/102 [00:52<01:15,  1.26s/it]\u001b[A\n",
      " 42%|████▏     | 43/102 [00:54<01:14,  1.26s/it]\u001b[A\n",
      " 43%|████▎     | 44/102 [00:55<01:13,  1.26s/it]\u001b[A\n",
      " 44%|████▍     | 45/102 [00:56<01:11,  1.26s/it]\u001b[A\n",
      " 45%|████▌     | 46/102 [00:57<01:10,  1.26s/it]\u001b[A\n",
      " 46%|████▌     | 47/102 [00:59<01:09,  1.26s/it]\u001b[A\n",
      " 47%|████▋     | 48/102 [01:00<01:07,  1.26s/it]\u001b[A\n",
      " 48%|████▊     | 49/102 [01:01<01:06,  1.26s/it]\u001b[A\n",
      " 49%|████▉     | 50/102 [01:02<01:05,  1.26s/it]\u001b[A\n",
      " 50%|█████     | 51/102 [01:04<01:04,  1.26s/it]\u001b[A\n",
      " 51%|█████     | 52/102 [01:05<01:02,  1.25s/it]\u001b[A\n",
      " 52%|█████▏    | 53/102 [01:06<01:01,  1.25s/it]\u001b[A\n",
      " 53%|█████▎    | 54/102 [01:07<01:00,  1.25s/it]\u001b[A\n",
      " 54%|█████▍    | 55/102 [01:09<00:58,  1.25s/it]\u001b[A\n",
      " 55%|█████▍    | 56/102 [01:10<00:57,  1.25s/it]\u001b[A\n",
      " 56%|█████▌    | 57/102 [01:11<00:56,  1.25s/it]\u001b[A\n",
      " 57%|█████▋    | 58/102 [01:12<00:55,  1.25s/it]\u001b[A\n",
      " 58%|█████▊    | 59/102 [01:14<00:53,  1.25s/it]\u001b[A\n",
      " 59%|█████▉    | 60/102 [01:15<00:52,  1.25s/it]\u001b[A\n",
      " 60%|█████▉    | 61/102 [01:16<00:51,  1.25s/it]\u001b[A\n",
      " 61%|██████    | 62/102 [01:17<00:50,  1.25s/it]\u001b[A\n",
      " 62%|██████▏   | 63/102 [01:19<00:48,  1.25s/it]\u001b[A\n",
      " 63%|██████▎   | 64/102 [01:20<00:47,  1.25s/it]\u001b[A\n",
      " 64%|██████▎   | 65/102 [01:21<00:46,  1.25s/it]\u001b[A\n",
      " 65%|██████▍   | 66/102 [01:22<00:45,  1.25s/it]\u001b[A\n",
      " 66%|██████▌   | 67/102 [01:24<00:43,  1.25s/it]\u001b[A\n",
      " 67%|██████▋   | 68/102 [01:25<00:42,  1.25s/it]\u001b[A\n",
      " 68%|██████▊   | 69/102 [01:26<00:41,  1.25s/it]\u001b[A\n",
      " 69%|██████▊   | 70/102 [01:27<00:40,  1.25s/it]\u001b[A\n",
      " 70%|██████▉   | 71/102 [01:29<00:38,  1.25s/it]\u001b[A\n",
      " 71%|███████   | 72/102 [01:30<00:37,  1.25s/it]\u001b[A\n",
      " 72%|███████▏  | 73/102 [01:31<00:36,  1.25s/it]\u001b[A\n",
      " 73%|███████▎  | 74/102 [01:32<00:35,  1.25s/it]\u001b[A\n",
      " 74%|███████▎  | 75/102 [01:34<00:33,  1.25s/it]\u001b[A\n",
      " 75%|███████▍  | 76/102 [01:35<00:32,  1.25s/it]\u001b[A\n",
      " 75%|███████▌  | 77/102 [01:36<00:31,  1.25s/it]\u001b[A\n",
      " 76%|███████▋  | 78/102 [01:37<00:29,  1.25s/it]\u001b[A\n",
      " 77%|███████▋  | 79/102 [01:39<00:28,  1.25s/it]\u001b[A\n",
      " 78%|███████▊  | 80/102 [01:40<00:27,  1.25s/it]\u001b[A\n",
      " 79%|███████▉  | 81/102 [01:41<00:26,  1.25s/it]\u001b[A\n",
      " 80%|████████  | 82/102 [01:42<00:24,  1.25s/it]\u001b[A\n",
      " 81%|████████▏ | 83/102 [01:44<00:23,  1.25s/it]\u001b[A\n",
      " 82%|████████▏ | 84/102 [01:45<00:22,  1.25s/it]\u001b[A\n",
      " 83%|████████▎ | 85/102 [01:46<00:21,  1.25s/it]\u001b[A\n",
      " 84%|████████▍ | 86/102 [01:47<00:19,  1.25s/it]\u001b[A\n",
      " 85%|████████▌ | 87/102 [01:49<00:18,  1.25s/it]\u001b[A\n",
      " 86%|████████▋ | 88/102 [01:50<00:17,  1.25s/it]\u001b[A\n",
      " 87%|████████▋ | 89/102 [01:51<00:16,  1.25s/it]\u001b[A\n",
      " 88%|████████▊ | 90/102 [01:52<00:14,  1.25s/it]\u001b[A\n",
      " 89%|████████▉ | 91/102 [01:54<00:13,  1.25s/it]\u001b[A\n",
      " 90%|█████████ | 92/102 [01:55<00:12,  1.25s/it]\u001b[A\n",
      " 91%|█████████ | 93/102 [01:56<00:11,  1.25s/it]\u001b[A\n",
      " 92%|█████████▏| 94/102 [01:57<00:09,  1.25s/it]\u001b[A\n",
      " 93%|█████████▎| 95/102 [01:59<00:08,  1.25s/it]\u001b[A\n",
      " 94%|█████████▍| 96/102 [02:00<00:07,  1.25s/it]\u001b[A\n",
      " 95%|█████████▌| 97/102 [02:01<00:06,  1.25s/it]\u001b[A\n",
      " 96%|█████████▌| 98/102 [02:02<00:04,  1.25s/it]\u001b[A\n",
      " 97%|█████████▋| 99/102 [02:04<00:03,  1.25s/it]\u001b[A\n",
      " 98%|█████████▊| 100/102 [02:05<00:02,  1.25s/it]\u001b[A\n",
      " 99%|█████████▉| 101/102 [02:06<00:01,  1.25s/it]\u001b[A\n",
      "100%|██████████| 102/102 [02:07<00:00,  1.24s/it]\u001b[A\n",
      "                                                 \u001b[A"
     ]
    },
    {
     "data": {
      "image/png": "[encoded data removed]",
      "text/plain": [
       "<Figure size 600x600 with 1 Axes>"
      ]
     },
     "metadata": {},
     "output_type": "display_data"
    }
   ],
   "source": [
    "result_withoutaft_logreg = tuned_logreg.fit(X_train, y_train)\n",
    "y_pred_prob = result_withoutaft_logreg.predict_proba(X_test)\n",
    "\n",
    "plot_roc_curves(y_test, y_pred_prob[:, 1], roc_auc_weights_test, n=100)"
   ]
  },
  {
   "cell_type": "code",
   "execution_count": 73,
   "metadata": {
    "execution": {
     "iopub.execute_input": "2025-03-13T04:37:59.773349Z",
     "iopub.status.busy": "2025-03-13T04:37:59.773186Z",
     "iopub.status.idle": "2025-03-13T04:38:02.937520Z",
     "shell.execute_reply": "2025-03-13T04:38:02.936712Z",
     "shell.execute_reply.started": "2025-03-13T04:37:59.773332Z"
    }
   },
   "outputs": [
    {
     "data": {
      "text/plain": [
       "(0.6768669716603373, 0.5908482235233188)"
      ]
     },
     "execution_count": 73,
     "metadata": {},
     "output_type": "execute_result"
    }
   ],
   "source": [
    "(\n",
    "    roc_auc_score(y_train, result_withoutaft_logreg.predict_proba(X_train)[:, 1]), \n",
    "    roc_auc_score(y_test, y_pred_prob[:, 1]),\n",
    ")"
   ]
  },
  {
   "cell_type": "code",
   "execution_count": 74,
   "metadata": {
    "execution": {
     "iopub.execute_input": "2025-03-13T04:38:02.938084Z",
     "iopub.status.busy": "2025-03-13T04:38:02.937935Z",
     "iopub.status.idle": "2025-03-13T04:38:03.229967Z",
     "shell.execute_reply": "2025-03-13T04:38:03.227229Z",
     "shell.execute_reply.started": "2025-03-13T04:38:02.938070Z"
    }
   },
   "outputs": [],
   "source": [
    "! rm -rf data/models/withoutaft_3_5_logreg.pickle"
   ]
  },
  {
   "cell_type": "code",
   "execution_count": 75,
   "metadata": {
    "execution": {
     "iopub.execute_input": "2025-03-13T04:38:03.234871Z",
     "iopub.status.busy": "2025-03-13T04:38:03.234210Z",
     "iopub.status.idle": "2025-03-13T04:38:03.260294Z",
     "shell.execute_reply": "2025-03-13T04:38:03.258570Z",
     "shell.execute_reply.started": "2025-03-13T04:38:03.234806Z"
    }
   },
   "outputs": [
    {
     "data": {
      "text/plain": [
       "['data/models/withoutaft_3_5_logreg.pickle']"
      ]
     },
     "execution_count": 75,
     "metadata": {},
     "output_type": "execute_result"
    }
   ],
   "source": [
    "joblib.dump(result_withoutaft_logreg, \"data/models/withoutaft_3_5_logreg.pickle\")"
   ]
  },
  {
   "cell_type": "code",
   "execution_count": null,
   "metadata": {},
   "outputs": [],
   "source": []
  }
 ],
 "metadata": {
  "kernelspec": {
   "display_name": "smartdevds",
   "language": "python",
   "name": "smartdevds"
  },
  "language_info": {
   "codemirror_mode": {
    "name": "ipython",
    "version": 3
   },
   "file_extension": ".py",
   "mimetype": "text/x-python",
   "name": "python",
   "nbconvert_exporter": "python",
   "pygments_lexer": "ipython3",
   "version": "3.10.15"
  }
 },
 "nbformat": 4,
 "nbformat_minor": 4
}
