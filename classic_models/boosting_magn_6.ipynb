{
 "cells": [
  {
   "cell_type": "code",
   "execution_count": null,
   "metadata": {
    "execution": {
     "iopub.execute_input": "2025-02-03T08:14:40.989139Z",
     "iopub.status.busy": "2025-02-03T08:14:40.988188Z",
     "iopub.status.idle": "2025-02-03T08:14:42.579209Z",
     "shell.execute_reply": "2025-02-03T08:14:42.578301Z",
     "shell.execute_reply.started": "2025-02-03T08:14:40.989064Z"
    }
   },
   "outputs": [],
   "source": [
    "import warnings\n",
    "from typing import Any\n",
    "import joblib\n",
    "\n",
    "import pandas as pd\n",
    "import numpy as np\n",
    "import matplotlib.pyplot as plt\n",
    "from tqdm import tqdm\n",
    "\n",
    "import lightgbm as lgb\n",
    "from sklearn.model_selection import StratifiedKFold\n",
    "from sklearn.impute import SimpleImputer\n",
    "from sklearn.metrics import roc_auc_score, precision_recall_fscore_support, average_precision_score\n",
    "\n",
    "from utils import plot_roc\n",
    "import ml_utils as utils\n",
    "from ml_utils import get_weights_for_roc_auc, weighted_roc_metric, get_optimal_trs, plot_roc\n",
    "import train\n",
    "\n",
    "\n",
    "np.random.seed(42)\n",
    "warnings.simplefilter(action='ignore', category=FutureWarning)\n",
    "warnings.simplefilter(action='ignore', category=pd.errors.PerformanceWarning)"
   ]
  },
  {
   "cell_type": "markdown",
   "metadata": {},
   "source": [
    "# aft, magn > 6"
   ]
  },
  {
   "cell_type": "markdown",
   "metadata": {},
   "source": [
    "## read "
   ]
  },
  {
   "cell_type": "code",
   "execution_count": 2,
   "metadata": {
    "execution": {
     "iopub.execute_input": "2025-02-03T08:14:42.583175Z",
     "iopub.status.busy": "2025-02-03T08:14:42.583006Z",
     "iopub.status.idle": "2025-02-03T08:14:42.588175Z",
     "shell.execute_reply": "2025-02-03T08:14:42.587373Z",
     "shell.execute_reply.started": "2025-02-03T08:14:42.583158Z"
    }
   },
   "outputs": [],
   "source": [
    "dataset_type_train = \"magn_6_aft\"\n",
    "dataset_type_test = \"magn_6_aft_test\"\n",
    "\n",
    "target = \"target\"\n",
    "dt_col = \"dt\"\n",
    "min_test_date = \"2020-10-14\"\n",
    "min_train_date = \"2014-03-17\"\n",
    "\n",
    "train_path = f\"data/dataset/{dataset_type_train}_trs6.0.parquet\"\n",
    "test_path = f\"data/dataset/{dataset_type_test}_trs6.0.parquet\""
   ]
  },
  {
   "cell_type": "code",
   "execution_count": null,
   "metadata": {
    "execution": {
     "iopub.execute_input": "2025-02-03T08:14:42.588792Z",
     "iopub.status.busy": "2025-02-03T08:14:42.588659Z",
     "iopub.status.idle": "2025-02-03T08:14:44.714741Z",
     "shell.execute_reply": "2025-02-03T08:14:44.713659Z",
     "shell.execute_reply.started": "2025-02-03T08:14:42.588778Z"
    }
   },
   "outputs": [],
   "source": [
    "train_df, test_df = utils.get_train_test_datasets(\n",
    "    train_path=train_path, test_path=test_path, \n",
    "    min_test_date = min_test_date, min_train_date = min_train_date\n",
    ")"
   ]
  },
  {
   "cell_type": "code",
   "execution_count": 4,
   "metadata": {
    "execution": {
     "iopub.execute_input": "2025-02-03T08:14:44.716729Z",
     "iopub.status.busy": "2025-02-03T08:14:44.716523Z",
     "iopub.status.idle": "2025-02-03T08:14:44.721877Z",
     "shell.execute_reply": "2025-02-03T08:14:44.721001Z",
     "shell.execute_reply.started": "2025-02-03T08:14:44.716712Z"
    }
   },
   "outputs": [],
   "source": [
    "feature_cols = list(set(train_df.columns) - set([target, dt_col, \"horizon_min_dt\", \"horizon_max_dt\"]))"
   ]
  },
  {
   "cell_type": "code",
   "execution_count": 5,
   "metadata": {
    "execution": {
     "iopub.execute_input": "2025-02-03T08:14:44.722569Z",
     "iopub.status.busy": "2025-02-03T08:14:44.722410Z",
     "iopub.status.idle": "2025-02-03T08:14:45.768972Z",
     "shell.execute_reply": "2025-02-03T08:14:45.768059Z",
     "shell.execute_reply.started": "2025-02-03T08:14:44.722553Z"
    }
   },
   "outputs": [],
   "source": [
    "# train, test\n",
    "features = utils.Features(\n",
    "    features=feature_cols, target=target, dt_col=dt_col, \n",
    "    groupby=[\"cell_x\", \"cell_y\"], target_features=[]\n",
    ")\n",
    "\n",
    "X_train, y_train = features.make_features_target(train_df)\n",
    "X_test, y_test = features.make_features_target(test_df)"
   ]
  },
  {
   "cell_type": "code",
   "execution_count": null,
   "metadata": {
    "execution": {
     "iopub.execute_input": "2025-02-03T08:14:45.769871Z",
     "iopub.status.busy": "2025-02-03T08:14:45.769694Z",
     "iopub.status.idle": "2025-02-03T08:14:45.916419Z",
     "shell.execute_reply": "2025-02-03T08:14:45.915581Z",
     "shell.execute_reply.started": "2025-02-03T08:14:45.769856Z"
    }
   },
   "outputs": [],
   "source": [
    "y_test.reset_index().merge(y_train.reset_index(), how=\"left\").isna().sum()"
   ]
  },
  {
   "cell_type": "code",
   "execution_count": 7,
   "metadata": {
    "execution": {
     "iopub.execute_input": "2025-02-03T08:14:45.917304Z",
     "iopub.status.busy": "2025-02-03T08:14:45.917133Z",
     "iopub.status.idle": "2025-02-03T08:14:52.043723Z",
     "shell.execute_reply": "2025-02-03T08:14:52.042596Z",
     "shell.execute_reply.started": "2025-02-03T08:14:45.917288Z"
    }
   },
   "outputs": [],
   "source": [
    "# get weights for roc auc as probability density of occured earthquakes\n",
    "roc_auc_weights_test = get_weights_for_roc_auc(y=y_test, last_dt=min_test_date)\n",
    "roc_auc_weights_train = get_weights_for_roc_auc(y=y_train, last_dt=min_test_date)"
   ]
  },
  {
   "cell_type": "code",
   "execution_count": 8,
   "metadata": {
    "execution": {
     "iopub.execute_input": "2025-02-03T08:14:52.044742Z",
     "iopub.status.busy": "2025-02-03T08:14:52.044569Z",
     "iopub.status.idle": "2025-02-03T08:14:52.052525Z",
     "shell.execute_reply": "2025-02-03T08:14:52.051685Z",
     "shell.execute_reply.started": "2025-02-03T08:14:52.044726Z"
    }
   },
   "outputs": [],
   "source": [
    "assert len(roc_auc_weights_test) == len(roc_auc_weights_test[~np.isnan(roc_auc_weights_test)]) == len(y_test)\n",
    "assert len(roc_auc_weights_train) == len(roc_auc_weights_train[~np.isnan(roc_auc_weights_train)]) == len(y_train)"
   ]
  },
  {
   "cell_type": "code",
   "execution_count": null,
   "metadata": {
    "execution": {
     "iopub.execute_input": "2025-02-03T08:14:52.053252Z",
     "iopub.status.busy": "2025-02-03T08:14:52.053096Z",
     "iopub.status.idle": "2025-02-03T08:14:52.058940Z",
     "shell.execute_reply": "2025-02-03T08:14:52.058152Z",
     "shell.execute_reply.started": "2025-02-03T08:14:52.053238Z"
    }
   },
   "outputs": [],
   "source": [
    "roc_auc_weights_test"
   ]
  },
  {
   "cell_type": "code",
   "execution_count": null,
   "metadata": {
    "execution": {
     "iopub.execute_input": "2025-02-03T08:14:52.059480Z",
     "iopub.status.busy": "2025-02-03T08:14:52.059335Z",
     "iopub.status.idle": "2025-02-03T08:14:52.069364Z",
     "shell.execute_reply": "2025-02-03T08:14:52.068550Z",
     "shell.execute_reply.started": "2025-02-03T08:14:52.059466Z"
    }
   },
   "outputs": [],
   "source": [
    "len(roc_auc_weights_test[roc_auc_weights_test > 0.0]), np.max(roc_auc_weights_test), np.unique(roc_auc_weights_test)"
   ]
  },
  {
   "cell_type": "code",
   "execution_count": null,
   "metadata": {
    "execution": {
     "iopub.execute_input": "2025-02-03T08:14:52.071124Z",
     "iopub.status.busy": "2025-02-03T08:14:52.070959Z",
     "iopub.status.idle": "2025-02-03T08:14:52.174215Z",
     "shell.execute_reply": "2025-02-03T08:14:52.173407Z",
     "shell.execute_reply.started": "2025-02-03T08:14:52.071110Z"
    }
   },
   "outputs": [],
   "source": [
    "plt.hist(roc_auc_weights_test[roc_auc_weights_test > 0.0], range=(0, 1.0), bins=20);"
   ]
  },
  {
   "cell_type": "code",
   "execution_count": 12,
   "metadata": {
    "execution": {
     "iopub.execute_input": "2025-02-03T08:14:52.174751Z",
     "iopub.status.busy": "2025-02-03T08:14:52.174613Z",
     "iopub.status.idle": "2025-02-03T08:14:52.178391Z",
     "shell.execute_reply": "2025-02-03T08:14:52.177865Z",
     "shell.execute_reply.started": "2025-02-03T08:14:52.174737Z"
    }
   },
   "outputs": [],
   "source": [
    "y_train = y_train[target]\n",
    "y_test = y_test[target]"
   ]
  },
  {
   "cell_type": "code",
   "execution_count": null,
   "metadata": {
    "execution": {
     "iopub.execute_input": "2025-02-03T08:14:52.178989Z",
     "iopub.status.busy": "2025-02-03T08:14:52.178853Z",
     "iopub.status.idle": "2025-02-03T08:14:52.183654Z",
     "shell.execute_reply": "2025-02-03T08:14:52.183094Z",
     "shell.execute_reply.started": "2025-02-03T08:14:52.178976Z"
    }
   },
   "outputs": [],
   "source": [
    "y_train.sum(), y_test.sum()"
   ]
  },
  {
   "cell_type": "markdown",
   "metadata": {},
   "source": [
    "## lgbm"
   ]
  },
  {
   "cell_type": "code",
   "execution_count": null,
   "metadata": {
    "execution": {
     "iopub.execute_input": "2025-02-03T08:14:52.184341Z",
     "iopub.status.busy": "2025-02-03T08:14:52.184188Z",
     "iopub.status.idle": "2025-02-03T08:14:52.392251Z",
     "shell.execute_reply": "2025-02-03T08:14:52.391396Z",
     "shell.execute_reply.started": "2025-02-03T08:14:52.184327Z"
    }
   },
   "outputs": [],
   "source": [
    "cv = utils.MonthlyTimeSeriesSplit(window=20)\n",
    "cv.get_n_splits(X_train)"
   ]
  },
  {
   "cell_type": "code",
   "execution_count": null,
   "metadata": {
    "execution": {
     "iopub.execute_input": "2025-02-03T08:14:52.393054Z",
     "iopub.status.busy": "2025-02-03T08:14:52.392869Z",
     "iopub.status.idle": "2025-02-03T08:14:55.051671Z",
     "shell.execute_reply": "2025-02-03T08:14:55.050562Z",
     "shell.execute_reply.started": "2025-02-03T08:14:52.393039Z"
    }
   },
   "outputs": [],
   "source": [
    "for split_train, split_test in cv.split(X_train):\n",
    "    train_start = np.sort(X_train.iloc[split_train].drop(columns=[\"cell_x\", \"cell_y\"]).reset_index()[\"dt\"].unique())[0]\n",
    "    train_end = np.sort(X_train.iloc[split_train].drop(columns=[\"cell_x\", \"cell_y\"]).reset_index()[\"dt\"].unique())[-1]\n",
    "    test_start = np.sort(X_train.iloc[split_test].drop(columns=[\"cell_x\", \"cell_y\"]).reset_index()[\"dt\"].unique())[0]\n",
    "    test_end = np.sort(X_train.iloc[split_test].drop(columns=[\"cell_x\", \"cell_y\"]).reset_index()[\"dt\"].unique())[-1]\n",
    "\n",
    "    print(f\"train: [{train_start}, {train_end}], len: {len(split_train)} | test: [{test_start}, {test_end}], len: {len(split_test)}\")"
   ]
  },
  {
   "cell_type": "markdown",
   "metadata": {},
   "source": [
    "### baseline"
   ]
  },
  {
   "cell_type": "code",
   "execution_count": null,
   "metadata": {
    "execution": {
     "iopub.execute_input": "2025-02-03T08:14:55.052667Z",
     "iopub.status.busy": "2025-02-03T08:14:55.052483Z",
     "iopub.status.idle": "2025-02-03T08:15:08.969071Z",
     "shell.execute_reply": "2025-02-03T08:15:08.968090Z",
     "shell.execute_reply.started": "2025-02-03T08:14:55.052650Z"
    }
   },
   "outputs": [],
   "source": [
    "params = {\n",
    "    \"n_estimators\": 5,\n",
    "    \"objective\": \"binary\",\n",
    "    \"use_missing\": False,\n",
    "    \"deterministic\": True,\n",
    "    \"random_state\": 42,\n",
    "    \"force_col_wise\": True,\n",
    "    \"feature_pre_filter\": False,\n",
    "    \"verbosity\": -1,\n",
    "    \"max_depth\": 2,\n",
    "    \"n_jobs\": 50,\n",
    "}\n",
    "\n",
    "lgbm_model = train.get_lgbm_model(feature_cols, params)\n",
    "\n",
    "lgbm_model = lgbm_model.fit(X_train, y_train)\n",
    "y_pred_prob = lgbm_model.predict_proba(X_test)\n",
    "\n",
    "baseline_roc_auc = roc_auc_score(y_test, y_pred_prob[:, 1])\n",
    "\n",
    "(\n",
    "    roc_auc_score(y_train, lgbm_model.predict_proba(X_train)[:, 1]), \n",
    "    roc_auc_score(y_test, y_pred_prob[:, 1]),\n",
    "    \"----\",\n",
    "    weighted_roc_metric(y_train, lgbm_model.predict_proba(X_train)[:, 1]),\n",
    "    weighted_roc_metric(y_test, lgbm_model.predict_proba(X_test)[:, 1])\n",
    ")"
   ]
  },
  {
   "cell_type": "markdown",
   "metadata": {},
   "source": [
    "### shap feature selection"
   ]
  },
  {
   "cell_type": "code",
   "execution_count": null,
   "metadata": {
    "execution": {
     "iopub.execute_input": "2025-02-03T08:15:08.971262Z",
     "iopub.status.busy": "2025-02-03T08:15:08.971047Z",
     "iopub.status.idle": "2025-02-03T08:25:15.700228Z",
     "shell.execute_reply": "2025-02-03T08:25:15.699083Z",
     "shell.execute_reply.started": "2025-02-03T08:15:08.971244Z"
    },
    "scrolled": true
   },
   "outputs": [],
   "source": [
    "from sklearn.metrics import make_scorer\n",
    "from probatus.utils import Scorer\n",
    "\n",
    "\n",
    "weighted_roc_auc_sklearn_scorer = make_scorer(weighted_roc_metric, greater_is_better=True)\n",
    "weighted_roc_auc_probatus_scorer = Scorer(\"weighted_roc_auc\", custom_scorer=weighted_roc_auc_sklearn_scorer)\n",
    "\n",
    "shap_params = params.copy()\n",
    "shap_params[\"n_jobs\"] = 5\n",
    "\n",
    "lgbm_reg = lgb.LGBMRegressor(**shap_params)\n",
    "\n",
    "imputer = SimpleImputer(\n",
    "    strategy=\"constant\",\n",
    "    fill_value=0.0,\n",
    ").set_output(transform=\"pandas\")\n",
    "X_train_preprocessed = imputer.fit_transform(X_train)\n",
    "\n",
    "shap_elimination, lgbm_shap_features = train.select_features(\n",
    "    model=lgbm_reg,\n",
    "    X=X_train_preprocessed,\n",
    "    y=y_train,\n",
    "    cv=cv,\n",
    "    n_jobs=20,\n",
    "    metric=weighted_roc_auc_probatus_scorer,\n",
    "    step=0.05,\n",
    "    return_rfe=True,\n",
    ")"
   ]
  },
  {
   "cell_type": "code",
   "execution_count": null,
   "metadata": {
    "execution": {
     "iopub.execute_input": "2025-02-03T08:25:15.701403Z",
     "iopub.status.busy": "2025-02-03T08:25:15.701169Z",
     "iopub.status.idle": "2025-02-03T08:25:15.708599Z",
     "shell.execute_reply": "2025-02-03T08:25:15.707793Z",
     "shell.execute_reply.started": "2025-02-03T08:25:15.701383Z"
    }
   },
   "outputs": [],
   "source": [
    "lgbm_shap_features"
   ]
  },
  {
   "cell_type": "code",
   "execution_count": null,
   "metadata": {
    "execution": {
     "iopub.execute_input": "2025-02-03T08:25:15.709387Z",
     "iopub.status.busy": "2025-02-03T08:25:15.709237Z",
     "iopub.status.idle": "2025-02-03T08:25:15.716210Z",
     "shell.execute_reply": "2025-02-03T08:25:15.715362Z",
     "shell.execute_reply.started": "2025-02-03T08:25:15.709372Z"
    }
   },
   "outputs": [],
   "source": [
    "print(len(lgbm_shap_features))\n",
    "utils.get_features_dict(lgbm_shap_features)"
   ]
  },
  {
   "cell_type": "code",
   "execution_count": null,
   "metadata": {
    "execution": {
     "iopub.execute_input": "2025-02-03T08:25:15.717053Z",
     "iopub.status.busy": "2025-02-03T08:25:15.716851Z",
     "iopub.status.idle": "2025-02-03T08:25:22.305514Z",
     "shell.execute_reply": "2025-02-03T08:25:22.304639Z",
     "shell.execute_reply.started": "2025-02-03T08:25:15.717034Z"
    }
   },
   "outputs": [],
   "source": [
    "lgbm_model = train.get_lgbm_model(lgbm_shap_features, shap_params)\n",
    "\n",
    "lgbm_model = lgbm_model.fit(X_train, y_train)\n",
    "y_pred_prob = lgbm_model.predict_proba(X_test)\n",
    "\n",
    "(\n",
    "    roc_auc_score(y_train, lgbm_model.predict_proba(X_train)[:, 1]), \n",
    "    roc_auc_score(y_test, y_pred_prob[:, 1]),\n",
    "    \"----\",\n",
    "    weighted_roc_metric(y_train, lgbm_model.predict_proba(X_train)[:, 1]),\n",
    "    weighted_roc_metric(y_test, lgbm_model.predict_proba(X_test)[:, 1])\n",
    ")"
   ]
  },
  {
   "cell_type": "markdown",
   "metadata": {},
   "source": [
    "### hyper optimiziation"
   ]
  },
  {
   "cell_type": "code",
   "execution_count": null,
   "metadata": {
    "execution": {
     "iopub.execute_input": "2025-02-03T08:25:22.306357Z",
     "iopub.status.busy": "2025-02-03T08:25:22.306198Z"
    }
   },
   "outputs": [],
   "source": [
    "import optuna\n",
    "import optuna.trial\n",
    "import optuna.logging\n",
    "\n",
    "optuna.logging.set_verbosity(optuna.logging.WARNING)\n",
    "\n",
    "\n",
    "def fixed_params(**kwargs) -> dict[str, Any]:\n",
    "    params = {\n",
    "        \"objective\": \"binary\",\n",
    "        \"use_missing\": False,\n",
    "        \"deterministic\": True,\n",
    "        \"random_state\": 42,\n",
    "        \"force_col_wise\": True,\n",
    "        \"feature_pre_filter\": False,\n",
    "        \"verbosity\": -1,\n",
    "        \"n_jobs\": 1,\n",
    "    }\n",
    "\n",
    "    params.update(kwargs)\n",
    "\n",
    "    return params\n",
    "\n",
    "\n",
    "def default_params(**kwargs) -> dict[str, Any]:\n",
    "    params = {\n",
    "        **fixed_params(),\n",
    "        \"colsample_bytree\": 1.0,\n",
    "        \"subsample\": 1.0,\n",
    "        \"learning_rate\": 0.01,\n",
    "        \"num_leaves\": 31,\n",
    "        \"min_child_samples\": 20,\n",
    "        \"n_estimators\": 10,\n",
    "        \"max_depth\": 2,\n",
    "    }\n",
    "    params.update(kwargs)\n",
    "\n",
    "    return params\n",
    "\n",
    "\n",
    "def suggest_params(trial: optuna.trial.Trial, **kwargs) -> dict[str, Any]:\n",
    "    params = {\n",
    "        **fixed_params(),\n",
    "        \"n_estimators\": trial.suggest_int(\"n_estimators\", 3, 10, step=1),\n",
    "        \"max_depth\": trial.suggest_int(\"max_depth\", 1, 2, step=1),\n",
    "        \"colsample_bytree\": trial.suggest_float(\"colsample_bytree\", 0.1, 1.0),\n",
    "        \"subsample\": trial.suggest_float(\"subsample\", 0.1, 1.0),\n",
    "        \"learning_rate\": trial.suggest_float(\"learning_rate\", 0.001, 0.1, step=0.001),\n",
    "        \"num_leaves\": trial.suggest_int(\"num_leaves\", 5, 50),\n",
    "        \"min_child_samples\": trial.suggest_int(\"min_child_samples\", 5, 50),\n",
    "        \"reg_lambda\": trial.suggest_float(\"reg_lambda\", 0.1, 29.6, step=0.5),\n",
    "    }\n",
    "    params.update(kwargs)\n",
    "\n",
    "    return params\n",
    "\n",
    "tuned_lgbm = train.run_optuna(\n",
    "    X = X_train,\n",
    "    y = y_train,\n",
    "    n_trials = 500,\n",
    "    dump_study_path = f\"data/optuna_res/lgbm_{dataset_type_train.replace('_train', '')}\",\n",
    "    seed = 42,\n",
    "    resume = False,\n",
    "    suggest_params = suggest_params,\n",
    "    default_params = default_params,\n",
    "    cv = utils.MonthlyTimeSeriesSplit(window=20, partition=True),\n",
    "    model = train.get_lgbm_model(lgbm_shap_features, default_params()),\n",
    "    n_jobs = 50,\n",
    "    model_name = \"lgbmclassifier\",\n",
    ")"
   ]
  },
  {
   "cell_type": "code",
   "execution_count": null,
   "metadata": {},
   "outputs": [],
   "source": [
    "y_train"
   ]
  },
  {
   "cell_type": "code",
   "execution_count": null,
   "metadata": {},
   "outputs": [],
   "source": [
    "tuned_lgbm_params = tuned_lgbm[\"lgbmclassifier\"].get_params()\n",
    "tuned_lgbm_params"
   ]
  },
  {
   "cell_type": "code",
   "execution_count": null,
   "metadata": {},
   "outputs": [],
   "source": [
    "reulst_aft_lgbm = tuned_lgbm.fit(X_train, y_train)\n",
    "y_pred_prob = reulst_aft_lgbm.predict_proba(X_test)\n",
    "\n",
    "(\n",
    "    roc_auc_score(y_train, reulst_aft_lgbm.predict_proba(X_train)[:, 1]), \n",
    "    roc_auc_score(y_test, y_pred_prob[:, 1]),\n",
    "    \"----\",\n",
    "    weighted_roc_metric(y_train, reulst_aft_lgbm.predict_proba(X_train)[:, 1]),\n",
    "    weighted_roc_metric(y_test, y_pred_prob[:, 1])\n",
    ")"
   ]
  },
  {
   "cell_type": "code",
   "execution_count": null,
   "metadata": {},
   "outputs": [],
   "source": [
    "plot_roc(target=y_test, prediction=y_pred_prob[:, 1], weights=None);"
   ]
  },
  {
   "cell_type": "code",
   "execution_count": null,
   "metadata": {},
   "outputs": [],
   "source": [
    "plot_roc(target=y_test, prediction=y_pred_prob[:, 1], weights=roc_auc_weights_test, src_label=\"weighted\");"
   ]
  },
  {
   "cell_type": "code",
   "execution_count": null,
   "metadata": {},
   "outputs": [],
   "source": [
    "t = get_optimal_trs(y_test.astype(int), y_pred_prob[:, 1], None)\n",
    "print(\"optimal trs:\", t)\n",
    "\n",
    "binary_preds = y_pred_prob[:, 1].copy()\n",
    "binary_preds[y_pred_prob[:, 1] >= t] = 1\n",
    "binary_preds[y_pred_prob[:, 1] < t] = 0\n",
    "precision_recall_fscore_support(y_test.astype(int), binary_preds.astype(int))"
   ]
  },
  {
   "cell_type": "code",
   "execution_count": null,
   "metadata": {},
   "outputs": [],
   "source": [
    "t = get_optimal_trs(y_test.astype(int), y_pred_prob[:, 1], sample_weight=roc_auc_weights_test)\n",
    "print(\"optimal trs:\", t)\n",
    "\n",
    "binary_preds = y_pred_prob[:, 1].copy()\n",
    "binary_preds[y_pred_prob[:, 1] >= t] = 1\n",
    "binary_preds[y_pred_prob[:, 1] < t]\n",
    "precision_recall_fscore_support(y_test.astype(int), binary_preds.astype(int), sample_weight=roc_auc_weights_test)"
   ]
  },
  {
   "cell_type": "code",
   "execution_count": 29,
   "metadata": {
    "execution": {
     "iopub.execute_input": "2024-12-22T12:07:15.290852Z",
     "iopub.status.busy": "2024-12-22T12:07:15.290715Z",
     "iopub.status.idle": "2024-12-22T12:07:15.297191Z",
     "shell.execute_reply": "2024-12-22T12:07:15.296446Z",
     "shell.execute_reply.started": "2024-12-22T12:07:15.290838Z"
    },
    "scrolled": true
   },
   "outputs": [],
   "source": [
    "with open(\"data/models/aft_6_lgbm.pickle\", \"xb\") as f:\n",
    "    joblib.dump(reulst_aft_lgbm, f)"
   ]
  },
  {
   "cell_type": "markdown",
   "metadata": {},
   "source": [
    "# withoutaft, magn > 6"
   ]
  },
  {
   "cell_type": "markdown",
   "metadata": {},
   "source": [
    "## read "
   ]
  },
  {
   "cell_type": "code",
   "execution_count": null,
   "metadata": {},
   "outputs": [],
   "source": [
    "dataset_type_train = \"magn_6_withoutaft\"\n",
    "dataset_type_test = \"magn_6_withoutaft_test\"\n",
    "\n",
    "target = \"target\"\n",
    "dt_col = \"dt\"\n",
    "min_test_date = \"2020-10-14\"\n",
    "min_train_date = \"2014-03-17\"\n",
    "\n",
    "train_path = f\"data/dataset/{dataset_type_train}_trs6.0.parquet\"\n",
    "test_path = f\"data/dataset/{dataset_type_test}_trs6.0.parquet\""
   ]
  },
  {
   "cell_type": "code",
   "execution_count": null,
   "metadata": {},
   "outputs": [],
   "source": [
    "train_df, test_df = utils.get_train_test_datasets(\n",
    "    train_path=train_path, test_path=test_path, \n",
    "    min_test_date = min_test_date, min_train_date = min_train_date\n",
    ")"
   ]
  },
  {
   "cell_type": "code",
   "execution_count": null,
   "metadata": {},
   "outputs": [],
   "source": [
    "feature_cols = list(set(train_df.columns) - set([target, dt_col, \"horizon_min_dt\", \"horizon_max_dt\"]))"
   ]
  },
  {
   "cell_type": "code",
   "execution_count": null,
   "metadata": {},
   "outputs": [],
   "source": [
    "# train, test\n",
    "features = utils.Features(\n",
    "    features=feature_cols, target=target, dt_col=dt_col, \n",
    "    groupby=[\"cell_x\", \"cell_y\"], target_features=[]\n",
    ")\n",
    "\n",
    "X_train, y_train = features.make_features_target(train_df)\n",
    "X_test, y_test = features.make_features_target(test_df)"
   ]
  },
  {
   "cell_type": "code",
   "execution_count": null,
   "metadata": {},
   "outputs": [],
   "source": [
    "y_test.reset_index().merge(y_train.reset_index(), how=\"left\").isna().sum()"
   ]
  },
  {
   "cell_type": "code",
   "execution_count": null,
   "metadata": {},
   "outputs": [],
   "source": [
    "# get weights for roc auc as probability density of occured earthquakes\n",
    "roc_auc_weights_test = get_weights_for_roc_auc(y=y_test, last_dt=min_test_date)\n",
    "roc_auc_weights_train = get_weights_for_roc_auc(y=y_train, last_dt=min_test_date)"
   ]
  },
  {
   "cell_type": "code",
   "execution_count": null,
   "metadata": {},
   "outputs": [],
   "source": [
    "assert len(roc_auc_weights_test) == len(roc_auc_weights_test[~np.isnan(roc_auc_weights_test)]) == len(y_test)\n",
    "assert len(roc_auc_weights_train) == len(roc_auc_weights_train[~np.isnan(roc_auc_weights_train)]) == len(y_train)"
   ]
  },
  {
   "cell_type": "code",
   "execution_count": null,
   "metadata": {},
   "outputs": [],
   "source": [
    "len(roc_auc_weights_test[roc_auc_weights_test > 0.0]), np.max(roc_auc_weights_test), np.unique(roc_auc_weights_test)"
   ]
  },
  {
   "cell_type": "code",
   "execution_count": null,
   "metadata": {},
   "outputs": [],
   "source": [
    "plt.hist(roc_auc_weights_test[roc_auc_weights_test > 0.0], range=(0, 1.0), bins=20);"
   ]
  },
  {
   "cell_type": "code",
   "execution_count": null,
   "metadata": {},
   "outputs": [],
   "source": [
    "y_train = y_train[target]\n",
    "y_test = y_test[target]"
   ]
  },
  {
   "cell_type": "code",
   "execution_count": null,
   "metadata": {},
   "outputs": [],
   "source": [
    "y_train.sum(), y_test.sum()"
   ]
  },
  {
   "cell_type": "markdown",
   "metadata": {},
   "source": [
    "## lgbm"
   ]
  },
  {
   "cell_type": "code",
   "execution_count": null,
   "metadata": {},
   "outputs": [],
   "source": [
    "cv = utils.MonthlyTimeSeriesSplit(window=20)\n",
    "cv.get_n_splits(X_train)"
   ]
  },
  {
   "cell_type": "code",
   "execution_count": null,
   "metadata": {},
   "outputs": [],
   "source": [
    "for split_train, split_test in cv.split(X_train):\n",
    "    train_start = np.sort(X_train.iloc[split_train].drop(columns=[\"cell_x\", \"cell_y\"]).reset_index()[\"dt\"].unique())[0]\n",
    "    train_end = np.sort(X_train.iloc[split_train].drop(columns=[\"cell_x\", \"cell_y\"]).reset_index()[\"dt\"].unique())[-1]\n",
    "    test_start = np.sort(X_train.iloc[split_test].drop(columns=[\"cell_x\", \"cell_y\"]).reset_index()[\"dt\"].unique())[0]\n",
    "    test_end = np.sort(X_train.iloc[split_test].drop(columns=[\"cell_x\", \"cell_y\"]).reset_index()[\"dt\"].unique())[-1]\n",
    "\n",
    "    print(f\"train: [{train_start}, {train_end}], len: {len(split_train)} | test: [{test_start}, {test_end}], len: {len(split_test)}\")"
   ]
  },
  {
   "cell_type": "markdown",
   "metadata": {},
   "source": [
    "### baseline"
   ]
  },
  {
   "cell_type": "code",
   "execution_count": null,
   "metadata": {},
   "outputs": [],
   "source": [
    "params = {\n",
    "    \"n_estimators\": 5,\n",
    "    \"objective\": \"binary\",\n",
    "    \"use_missing\": False,\n",
    "    \"deterministic\": True,\n",
    "    \"random_state\": 42,\n",
    "    \"force_col_wise\": True,\n",
    "    \"feature_pre_filter\": False,\n",
    "    \"verbosity\": -1,\n",
    "    \"max_depth\": 2,\n",
    "    \"n_jobs\": 50,\n",
    "}\n",
    "\n",
    "lgbm_model = train.get_lgbm_model(feature_cols, params)\n",
    "\n",
    "lgbm_model = lgbm_model.fit(X_train, y_train)\n",
    "y_pred_prob = lgbm_model.predict_proba(X_test)\n",
    "\n",
    "baseline_roc_auc = roc_auc_score(y_test, y_pred_prob[:, 1])\n",
    "\n",
    "(\n",
    "    roc_auc_score(y_train, lgbm_model.predict_proba(X_train)[:, 1]), \n",
    "    roc_auc_score(y_test, y_pred_prob[:, 1]),\n",
    "    \"----\",\n",
    "    weighted_roc_metric(y_train, lgbm_model.predict_proba(X_train)[:, 1]),\n",
    "    weighted_roc_metric(y_test, lgbm_model.predict_proba(X_test)[:, 1])\n",
    ")"
   ]
  },
  {
   "cell_type": "markdown",
   "metadata": {},
   "source": [
    "### shap feature selection"
   ]
  },
  {
   "cell_type": "code",
   "execution_count": null,
   "metadata": {
    "scrolled": true
   },
   "outputs": [],
   "source": [
    "shap_params = params.copy()\n",
    "shap_params[\"n_jobs\"] = 5\n",
    "\n",
    "# cv = StratifiedKFold(n_splits=3, shuffle=True, random_state=42)\n",
    "lgbm_reg = lgb.LGBMRegressor(**shap_params)\n",
    "\n",
    "imputer = SimpleImputer(\n",
    "    strategy=\"constant\",\n",
    "    fill_value=0.0,\n",
    ").set_output(transform=\"pandas\")\n",
    "X_train_preprocessed = imputer.fit_transform(X_train)\n",
    "\n",
    "shap_elimination, lgbm_shap_features = train.select_features(\n",
    "    model=lgbm_reg,\n",
    "    X=X_train_preprocessed,\n",
    "    y=y_train,\n",
    "    cv=cv,\n",
    "    n_jobs=20,\n",
    "    metric=weighted_roc_auc_probatus_scorer,\n",
    "    step=0.05,\n",
    "    return_rfe=True,\n",
    ")"
   ]
  },
  {
   "cell_type": "code",
   "execution_count": null,
   "metadata": {},
   "outputs": [],
   "source": [
    "lgbm_shap_features"
   ]
  },
  {
   "cell_type": "code",
   "execution_count": null,
   "metadata": {},
   "outputs": [],
   "source": [
    "print(len(lgbm_shap_features))\n",
    "utils.get_features_dict(lgbm_shap_features)"
   ]
  },
  {
   "cell_type": "code",
   "execution_count": null,
   "metadata": {},
   "outputs": [],
   "source": [
    "lgbm_model = train.get_lgbm_model(lgbm_shap_features, shap_params)\n",
    "\n",
    "lgbm_model = lgbm_model.fit(X_train, y_train)\n",
    "y_pred_prob = lgbm_model.predict_proba(X_test)\n",
    "\n",
    "(\n",
    "    roc_auc_score(y_train, lgbm_model.predict_proba(X_train)[:, 1]), \n",
    "    roc_auc_score(y_test, y_pred_prob[:, 1]),\n",
    "    \"----\",\n",
    "    weighted_roc_metric(y_train, lgbm_model.predict_proba(X_train)[:, 1]),\n",
    "    weighted_roc_metric(y_test, lgbm_model.predict_proba(X_test)[:, 1])\n",
    ")"
   ]
  },
  {
   "cell_type": "markdown",
   "metadata": {},
   "source": [
    "### hyper optimiziation"
   ]
  },
  {
   "cell_type": "code",
   "execution_count": null,
   "metadata": {
    "scrolled": true
   },
   "outputs": [],
   "source": [
    "import optuna\n",
    "import optuna.trial\n",
    "import optuna.logging\n",
    "\n",
    "optuna.logging.set_verbosity(optuna.logging.WARNING)\n",
    "\n",
    "\n",
    "def fixed_params(**kwargs) -> dict[str, Any]:\n",
    "    params = {\n",
    "        \"objective\": \"binary\",\n",
    "        \"use_missing\": False,\n",
    "        \"deterministic\": True,\n",
    "        \"random_state\": 42,\n",
    "        \"force_col_wise\": True,\n",
    "        \"feature_pre_filter\": False,\n",
    "        \"verbosity\": -1,\n",
    "        \"n_jobs\": 1,\n",
    "    }\n",
    "\n",
    "    params.update(kwargs)\n",
    "\n",
    "    return params\n",
    "\n",
    "\n",
    "def default_params(**kwargs) -> dict[str, Any]:\n",
    "    params = {\n",
    "        **fixed_params(),\n",
    "        \"colsample_bytree\": 1.0,\n",
    "        \"subsample\": 1.0,\n",
    "        \"learning_rate\": 0.01,\n",
    "        \"num_leaves\": 31,\n",
    "        \"min_child_samples\": 20,\n",
    "        \"n_estimators\": 10,\n",
    "        \"max_depth\": 2,\n",
    "    }\n",
    "    params.update(kwargs)\n",
    "\n",
    "    return params\n",
    "\n",
    "\n",
    "def suggest_params(trial: optuna.trial.Trial, **kwargs) -> dict[str, Any]:\n",
    "    params = {\n",
    "        **fixed_params(),\n",
    "        \"n_estimators\": trial.suggest_int(\"n_estimators\", 3, 10, step=1),\n",
    "        \"max_depth\": trial.suggest_int(\"max_depth\", 1, 2, step=1),\n",
    "        \"colsample_bytree\": trial.suggest_float(\"colsample_bytree\", 0.1, 1.0),\n",
    "        \"subsample\": trial.suggest_float(\"subsample\", 0.1, 1.0),\n",
    "        \"learning_rate\": trial.suggest_float(\"learning_rate\", 0.001, 0.1, step=0.001),\n",
    "        \"num_leaves\": trial.suggest_int(\"num_leaves\", 5, 50),\n",
    "        \"min_child_samples\": trial.suggest_int(\"min_child_samples\", 5, 50),\n",
    "        \"reg_lambda\": trial.suggest_float(\"reg_lambda\", 0.1, 29.6, step=0.5),\n",
    "    }\n",
    "    params.update(kwargs)\n",
    "\n",
    "    return params\n",
    "\n",
    "tuned_lgbm = train.run_optuna(\n",
    "    X = X_train,\n",
    "    y = y_train,\n",
    "    n_trials = 500,\n",
    "    dump_study_path = f\"data/optuna_res/lgbm_{dataset_type_train.replace('_train', '')}\",\n",
    "    seed = 42,\n",
    "    resume = False,\n",
    "    suggest_params = suggest_params,\n",
    "    default_params = default_params,\n",
    "    cv = utils.MonthlyTimeSeriesSplit(window=20, partition=True),\n",
    "    model = train.get_lgbm_model(lgbm_shap_features, default_params()),\n",
    "    n_jobs = 50,\n",
    "    model_name = \"lgbmclassifier\",\n",
    ")"
   ]
  },
  {
   "cell_type": "code",
   "execution_count": null,
   "metadata": {},
   "outputs": [],
   "source": [
    "tuned_lgbm_params = tuned_lgbm[\"lgbmclassifier\"].get_params()\n",
    "tuned_lgbm_params"
   ]
  },
  {
   "cell_type": "code",
   "execution_count": null,
   "metadata": {},
   "outputs": [],
   "source": [
    "reulst_witoutaft_lgbm = tuned_lgbm.fit(X_train, y_train)\n",
    "y_pred_prob = reulst_witoutaft_lgbm.predict_proba(X_test)\n",
    "\n",
    "(\n",
    "    roc_auc_score(y_train, reulst_witoutaft_lgbm.predict_proba(X_train)[:, 1]), \n",
    "    roc_auc_score(y_test, y_pred_prob[:, 1]),\n",
    "    \"----\",\n",
    "    weighted_roc_metric(y_train, reulst_witoutaft_lgbm.predict_proba(X_train)[:, 1]),\n",
    "    weighted_roc_metric(y_test, reulst_witoutaft_lgbm.predict_proba(X_test)[:, 1])\n",
    ")"
   ]
  },
  {
   "cell_type": "code",
   "execution_count": null,
   "metadata": {},
   "outputs": [],
   "source": [
    "plot_roc(target=y_test, prediction=y_pred_prob[:, 1], weights=None);"
   ]
  },
  {
   "cell_type": "code",
   "execution_count": null,
   "metadata": {},
   "outputs": [],
   "source": [
    "plot_roc(target=y_test, prediction=y_pred_prob[:, 1], weights=roc_auc_weights_test, src_label=\"weighted\");"
   ]
  },
  {
   "cell_type": "code",
   "execution_count": null,
   "metadata": {},
   "outputs": [],
   "source": [
    "t = get_optimal_trs(y_test.astype(int), y_pred_prob[:, 1], None)\n",
    "print(\"optimal trs:\", t)\n",
    "\n",
    "binary_preds = y_pred_prob[:, 1].copy()\n",
    "binary_preds[y_pred_prob[:, 1] >= t] = 1\n",
    "binary_preds[y_pred_prob[:, 1] < t]\n",
    "precision_recall_fscore_support(y_test.astype(int), binary_preds.astype(int))"
   ]
  },
  {
   "cell_type": "code",
   "execution_count": null,
   "metadata": {},
   "outputs": [],
   "source": [
    "t = get_optimal_trs(y_test.astype(int), y_pred_prob[:, 1], sample_weight=roc_auc_weights_test)\n",
    "print(\"optimal trs:\", t)\n",
    "\n",
    "binary_preds = y_pred_prob[:, 1].copy()\n",
    "binary_preds[y_pred_prob[:, 1] >= t] = 1\n",
    "binary_preds[y_pred_prob[:, 1] < t]\n",
    "precision_recall_fscore_support(y_test.astype(int), binary_preds.astype(int), sample_weight=roc_auc_weights_test)"
   ]
  },
  {
   "cell_type": "code",
   "execution_count": 55,
   "metadata": {
    "execution": {
     "iopub.execute_input": "2024-12-22T12:45:00.110151Z",
     "iopub.status.busy": "2024-12-22T12:45:00.110020Z",
     "iopub.status.idle": "2024-12-22T12:45:00.116371Z",
     "shell.execute_reply": "2024-12-22T12:45:00.115632Z",
     "shell.execute_reply.started": "2024-12-22T12:45:00.110137Z"
    }
   },
   "outputs": [],
   "source": [
    "with open(\"data/models/witoutaft_6_lgbm.pickle\", \"xb\") as f:\n",
    "    joblib.dump(reulst_witoutaft_lgbm, f)"
   ]
  },
  {
   "cell_type": "code",
   "execution_count": null,
   "metadata": {},
   "outputs": [],
   "source": []
  }
 ],
 "metadata": {
  "kernelspec": {
   "display_name": "smartdevds",
   "language": "python",
   "name": "smartdevds"
  },
  "language_info": {
   "codemirror_mode": {
    "name": "ipython",
    "version": 3
   },
   "file_extension": ".py",
   "mimetype": "text/x-python",
   "name": "python",
   "nbconvert_exporter": "python",
   "pygments_lexer": "ipython3",
   "version": "3.10.15"
  }
 },
 "nbformat": 4,
 "nbformat_minor": 4
}
