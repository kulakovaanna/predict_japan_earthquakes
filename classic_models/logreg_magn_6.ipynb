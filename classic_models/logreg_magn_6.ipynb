{
 "cells": [
  {
   "cell_type": "code",
   "execution_count": 1,
   "metadata": {
    "execution": {
     "iopub.execute_input": "2025-03-05T14:28:22.184637Z",
     "iopub.status.busy": "2025-03-05T14:28:22.184027Z",
     "iopub.status.idle": "2025-03-05T14:28:23.890095Z",
     "shell.execute_reply": "2025-03-05T14:28:23.888474Z",
     "shell.execute_reply.started": "2025-03-05T14:28:22.184559Z"
    }
   },
   "outputs": [
    {
     "name": "stderr",
     "output_type": "stream",
     "text": [
      "/home/prc/anaconda3/envs/smartdevds10/lib/python3.10/site-packages/tqdm/auto.py:21: TqdmWarning: IProgress not found. Please update jupyter and ipywidgets. See https://ipywidgets.readthedocs.io/en/stable/user_install.html\n",
      "  from .autonotebook import tqdm as notebook_tqdm\n"
     ]
    }
   ],
   "source": [
    "import warnings\n",
    "from typing import Any\n",
    "import joblib\n",
    "\n",
    "import pandas as pd\n",
    "import numpy as np\n",
    "import matplotlib.pyplot as plt\n",
    "from tqdm import tqdm\n",
    "\n",
    "import lightgbm as lgb\n",
    "from sklearn.linear_model import LogisticRegression\n",
    "from sklearn.model_selection import StratifiedKFold\n",
    "from sklearn.impute import SimpleImputer\n",
    "from sklearn.metrics import roc_auc_score, precision_recall_fscore_support, average_precision_score, auc\n",
    "from sklearn.feature_selection import RFECV\n",
    "import optuna\n",
    "import optuna.trial\n",
    "import optuna.logging\n",
    "\n",
    "from utils import plot_roc\n",
    "import ml_utils as utils\n",
    "from ml_utils import (\n",
    "    get_weights_for_roc_auc, weighted_roc_metric, weighted_fpr_roc_metric, \n",
    "    get_optimal_trs, plot_roc, get_tpr_fpr, plot_roc_curves\n",
    ")\n",
    "import train\n",
    "\n",
    "\n",
    "np.random.seed(42)\n",
    "warnings.simplefilter(action='ignore', category=FutureWarning)\n",
    "warnings.simplefilter(action='ignore', category=pd.errors.PerformanceWarning)\n",
    "optuna.logging.set_verbosity(optuna.logging.WARNING)"
   ]
  },
  {
   "cell_type": "markdown",
   "metadata": {},
   "source": [
    "# aft, magn > 6.0"
   ]
  },
  {
   "cell_type": "markdown",
   "metadata": {},
   "source": [
    "## read "
   ]
  },
  {
   "cell_type": "code",
   "execution_count": 2,
   "metadata": {
    "execution": {
     "iopub.execute_input": "2025-03-05T14:28:23.895634Z",
     "iopub.status.busy": "2025-03-05T14:28:23.895432Z",
     "iopub.status.idle": "2025-03-05T14:28:23.901824Z",
     "shell.execute_reply": "2025-03-05T14:28:23.900597Z",
     "shell.execute_reply.started": "2025-03-05T14:28:23.895615Z"
    }
   },
   "outputs": [],
   "source": [
    "dataset_type_train = \"magn_6_aft\"\n",
    "dataset_type_test = \"magn_6_aft_test\"\n",
    "\n",
    "target = \"target\"\n",
    "dt_col = \"dt\"\n",
    "min_test_date = \"2020-10-14\"\n",
    "min_train_date = \"2014-03-17\"\n",
    "\n",
    "train_path = f\"data/dataset/{dataset_type_train}.parquet\"\n",
    "test_path = f\"data/dataset/{dataset_type_test}.parquet\""
   ]
  },
  {
   "cell_type": "code",
   "execution_count": 3,
   "metadata": {
    "execution": {
     "iopub.execute_input": "2025-03-05T14:28:23.903271Z",
     "iopub.status.busy": "2025-03-05T14:28:23.903070Z",
     "iopub.status.idle": "2025-03-05T14:29:32.394420Z",
     "shell.execute_reply": "2025-03-05T14:29:32.393352Z",
     "shell.execute_reply.started": "2025-03-05T14:28:23.903254Z"
    }
   },
   "outputs": [
    {
     "name": "stdout",
     "output_type": "stream",
     "text": [
      "train_path: data/dataset/magn_6_aft.parquet\n",
      "test_path: data/dataset/magn_6_aft_test.parquet\n",
      "\n",
      "\n",
      "train dates: 2014-03-20 — 2020-08-25\n",
      "test dates: 2020-10-14 — 2023-05-21\n",
      "\n",
      "train: target==0: 2326760, target==1: 200\n",
      "test: target==0: 9366239, target==1: 761\n",
      "target class proportion: test: 8.124926130968898e-05, train: 8.595643727758772e-05\n"
     ]
    }
   ],
   "source": [
    "train_df, test_df = utils.get_train_test_datasets(\n",
    "    train_path=train_path, test_path=test_path, \n",
    "    min_test_date = min_test_date, min_train_date = min_train_date\n",
    ")"
   ]
  },
  {
   "cell_type": "code",
   "execution_count": 4,
   "metadata": {
    "execution": {
     "iopub.execute_input": "2025-03-05T14:29:32.396115Z",
     "iopub.status.busy": "2025-03-05T14:29:32.395933Z",
     "iopub.status.idle": "2025-03-05T14:29:32.400588Z",
     "shell.execute_reply": "2025-03-05T14:29:32.399787Z",
     "shell.execute_reply.started": "2025-03-05T14:29:32.396098Z"
    }
   },
   "outputs": [],
   "source": [
    "feature_cols = list(set(train_df.columns) - set([target, dt_col, \"horizon_min_dt\", \"horizon_max_dt\"]))"
   ]
  },
  {
   "cell_type": "code",
   "execution_count": 5,
   "metadata": {
    "execution": {
     "iopub.execute_input": "2025-03-05T14:29:32.401313Z",
     "iopub.status.busy": "2025-03-05T14:29:32.401178Z",
     "iopub.status.idle": "2025-03-05T14:30:12.134269Z",
     "shell.execute_reply": "2025-03-05T14:30:12.132809Z",
     "shell.execute_reply.started": "2025-03-05T14:29:32.401300Z"
    }
   },
   "outputs": [],
   "source": [
    "# train, test\n",
    "features = utils.Features(\n",
    "    features=feature_cols, target=target, dt_col=dt_col, \n",
    "    groupby=[\"cell_x\", \"cell_y\"], target_features=[]\n",
    ")\n",
    "\n",
    "X_train, y_train = features.make_features_target(train_df)\n",
    "X_test, y_test = features.make_features_target(test_df)"
   ]
  },
  {
   "cell_type": "code",
   "execution_count": 6,
   "metadata": {
    "execution": {
     "iopub.execute_input": "2025-03-05T14:30:12.135201Z",
     "iopub.status.busy": "2025-03-05T14:30:12.135033Z",
     "iopub.status.idle": "2025-03-05T14:30:15.428833Z",
     "shell.execute_reply": "2025-03-05T14:30:15.428007Z",
     "shell.execute_reply.started": "2025-03-05T14:30:12.135187Z"
    }
   },
   "outputs": [
    {
     "data": {
      "text/plain": [
       "dt        0\n",
       "cell_x    0\n",
       "cell_y    0\n",
       "target    0\n",
       "dtype: int64"
      ]
     },
     "execution_count": 6,
     "metadata": {},
     "output_type": "execute_result"
    }
   ],
   "source": [
    "y_test.reset_index().merge(y_train.reset_index(), how=\"left\").isna().sum()"
   ]
  },
  {
   "cell_type": "code",
   "execution_count": 7,
   "metadata": {
    "execution": {
     "iopub.execute_input": "2025-03-05T14:30:15.429586Z",
     "iopub.status.busy": "2025-03-05T14:30:15.429446Z",
     "iopub.status.idle": "2025-03-05T14:30:21.779919Z",
     "shell.execute_reply": "2025-03-05T14:30:21.778996Z",
     "shell.execute_reply.started": "2025-03-05T14:30:15.429572Z"
    }
   },
   "outputs": [],
   "source": [
    "# get weights for roc auc as probability density of occured earthquakes\n",
    "roc_auc_weights_test = get_weights_for_roc_auc(y=y_test, last_dt=min_test_date)\n",
    "roc_auc_weights_train = get_weights_for_roc_auc(y=y_train, last_dt=min_test_date)"
   ]
  },
  {
   "cell_type": "code",
   "execution_count": 8,
   "metadata": {
    "execution": {
     "iopub.execute_input": "2025-03-05T14:30:21.780715Z",
     "iopub.status.busy": "2025-03-05T14:30:21.780569Z",
     "iopub.status.idle": "2025-03-05T14:30:21.823797Z",
     "shell.execute_reply": "2025-03-05T14:30:21.822951Z",
     "shell.execute_reply.started": "2025-03-05T14:30:21.780701Z"
    }
   },
   "outputs": [],
   "source": [
    "assert len(roc_auc_weights_test) == len(roc_auc_weights_test[~np.isnan(roc_auc_weights_test)]) == len(y_test)\n",
    "assert len(roc_auc_weights_train) == len(roc_auc_weights_train[~np.isnan(roc_auc_weights_train)]) == len(y_train)"
   ]
  },
  {
   "cell_type": "code",
   "execution_count": 9,
   "metadata": {
    "execution": {
     "iopub.execute_input": "2025-03-05T14:30:21.824463Z",
     "iopub.status.busy": "2025-03-05T14:30:21.824319Z",
     "iopub.status.idle": "2025-03-05T14:30:21.830027Z",
     "shell.execute_reply": "2025-03-05T14:30:21.829285Z",
     "shell.execute_reply.started": "2025-03-05T14:30:21.824450Z"
    }
   },
   "outputs": [
    {
     "data": {
      "text/plain": [
       "array([0.00721154, 0.00721154, 0.00721154, ..., 0.00240385, 0.00240385,\n",
       "       0.00240385])"
      ]
     },
     "execution_count": 9,
     "metadata": {},
     "output_type": "execute_result"
    }
   ],
   "source": [
    "roc_auc_weights_test"
   ]
  },
  {
   "cell_type": "code",
   "execution_count": 10,
   "metadata": {
    "execution": {
     "iopub.execute_input": "2025-03-05T14:30:21.831606Z",
     "iopub.status.busy": "2025-03-05T14:30:21.831380Z",
     "iopub.status.idle": "2025-03-05T14:30:22.076482Z",
     "shell.execute_reply": "2025-03-05T14:30:22.075688Z",
     "shell.execute_reply.started": "2025-03-05T14:30:21.831592Z"
    }
   },
   "outputs": [
    {
     "data": {
      "text/plain": [
       "(9367000,\n",
       " 1.0,\n",
       " array([0.00240385, 0.00480769, 0.00721154, 0.00961538, 0.01201923,\n",
       "        0.01442308, 0.01682692, 0.01923077, 0.02163462, 0.02403846,\n",
       "        0.02644231, 0.02884615, 0.03125   , 0.03365385, 0.03605769,\n",
       "        0.03846154, 0.04086538, 0.04326923, 0.04567308, 0.04807692,\n",
       "        0.05048077, 0.05288462, 0.05528846, 0.05769231, 0.06009615,\n",
       "        0.0625    , 0.06490385, 0.06730769, 0.06971154, 0.07211538,\n",
       "        0.07451923, 0.07692308, 0.07932692, 0.08173077, 0.08413462,\n",
       "        0.08653846, 0.08894231, 0.09134615, 0.09375   , 0.09615385,\n",
       "        0.09855769, 0.10096154, 0.10336538, 0.10576923, 0.10817308,\n",
       "        0.11057692, 0.11298077, 0.11538462, 0.11778846, 0.12019231,\n",
       "        0.12259615, 0.125     , 0.12740385, 0.12980769, 0.13221154,\n",
       "        0.13461538, 0.13701923, 0.13942308, 0.14182692, 0.14423077,\n",
       "        0.14663462, 0.14903846, 0.15144231, 0.15384615, 0.15625   ,\n",
       "        0.15865385, 0.16105769, 0.16346154, 0.16586538, 0.16826923,\n",
       "        0.17067308, 0.17307692, 0.17548077, 0.18028846, 0.18269231,\n",
       "        0.18509615, 0.1875    , 0.18990385, 0.19230769, 0.19471154,\n",
       "        0.19711538, 0.19951923, 0.20192308, 0.20432692, 0.20673077,\n",
       "        0.20913462, 0.21153846, 0.21394231, 0.21634615, 0.21875   ,\n",
       "        0.22115385, 0.22355769, 0.22596154, 0.22836538, 0.23076923,\n",
       "        0.23317308, 0.23557692, 0.23798077, 0.24038462, 0.24278846,\n",
       "        0.24519231, 0.25      , 0.25240385, 0.25480769, 0.25721154,\n",
       "        0.25961538, 0.26201923, 0.26682692, 0.27403846, 0.27644231,\n",
       "        0.28125   , 0.28365385, 0.28605769, 0.29086538, 0.29326923,\n",
       "        0.30048077, 0.30288462, 0.30528846, 0.30769231, 0.3125    ,\n",
       "        0.31730769, 0.32211538, 0.32451923, 0.32692308, 0.33173077,\n",
       "        0.33653846, 0.33894231, 0.34375   , 0.35336538, 0.35817308,\n",
       "        0.36538462, 0.37019231, 0.37259615, 0.375     , 0.37740385,\n",
       "        0.38221154, 0.38942308, 0.39423077, 0.39663462, 0.39903846,\n",
       "        0.40865385, 0.41105769, 0.42067308, 0.42788462, 0.43028846,\n",
       "        0.43269231, 0.44951923, 0.45432692, 0.45673077, 0.46394231,\n",
       "        0.46875   , 0.47355769, 0.49038462, 0.52884615, 0.54807692,\n",
       "        0.55288462, 0.57932692, 0.59375   , 0.59855769, 0.62740385,\n",
       "        0.64182692, 0.66346154, 0.71634615, 0.78365385, 0.82211538,\n",
       "        0.87259615, 1.        ]))"
      ]
     },
     "execution_count": 10,
     "metadata": {},
     "output_type": "execute_result"
    }
   ],
   "source": [
    "len(roc_auc_weights_test[roc_auc_weights_test > 0.0]), np.max(roc_auc_weights_test), np.unique(roc_auc_weights_test)"
   ]
  },
  {
   "cell_type": "code",
   "execution_count": 11,
   "metadata": {
    "execution": {
     "iopub.execute_input": "2025-03-05T14:30:22.077119Z",
     "iopub.status.busy": "2025-03-05T14:30:22.076976Z",
     "iopub.status.idle": "2025-03-05T14:30:22.312391Z",
     "shell.execute_reply": "2025-03-05T14:30:22.311558Z",
     "shell.execute_reply.started": "2025-03-05T14:30:22.077105Z"
    }
   },
   "outputs": [
    {
     "data": {
      "image/png": "[encoded data removed]",
      "text/plain": [
       "<Figure size 640x480 with 1 Axes>"
      ]
     },
     "metadata": {},
     "output_type": "display_data"
    }
   ],
   "source": [
    "plt.hist(roc_auc_weights_test[roc_auc_weights_test > 0.0], range=(0, 1.0), bins=20);"
   ]
  },
  {
   "cell_type": "code",
   "execution_count": 12,
   "metadata": {
    "execution": {
     "iopub.execute_input": "2025-03-05T14:30:22.313201Z",
     "iopub.status.busy": "2025-03-05T14:30:22.313057Z",
     "iopub.status.idle": "2025-03-05T14:30:22.317134Z",
     "shell.execute_reply": "2025-03-05T14:30:22.316345Z",
     "shell.execute_reply.started": "2025-03-05T14:30:22.313187Z"
    }
   },
   "outputs": [],
   "source": [
    "y_train = y_train[target]\n",
    "y_test = y_test[target]"
   ]
  },
  {
   "cell_type": "code",
   "execution_count": 13,
   "metadata": {
    "execution": {
     "iopub.execute_input": "2025-03-05T14:30:22.317702Z",
     "iopub.status.busy": "2025-03-05T14:30:22.317575Z",
     "iopub.status.idle": "2025-03-05T14:30:22.328413Z",
     "shell.execute_reply": "2025-03-05T14:30:22.327662Z",
     "shell.execute_reply.started": "2025-03-05T14:30:22.317689Z"
    }
   },
   "outputs": [
    {
     "data": {
      "text/plain": [
       "(200, 761)"
      ]
     },
     "execution_count": 13,
     "metadata": {},
     "output_type": "execute_result"
    }
   ],
   "source": [
    "y_train.sum(), y_test.sum()"
   ]
  },
  {
   "cell_type": "markdown",
   "metadata": {},
   "source": [
    "## logreg"
   ]
  },
  {
   "cell_type": "code",
   "execution_count": 14,
   "metadata": {
    "execution": {
     "iopub.execute_input": "2025-03-05T14:30:22.329155Z",
     "iopub.status.busy": "2025-03-05T14:30:22.329015Z",
     "iopub.status.idle": "2025-03-05T14:30:22.947377Z",
     "shell.execute_reply": "2025-03-05T14:30:22.946104Z",
     "shell.execute_reply.started": "2025-03-05T14:30:22.329141Z"
    }
   },
   "outputs": [
    {
     "data": {
      "text/plain": [
       "3"
      ]
     },
     "execution_count": 14,
     "metadata": {},
     "output_type": "execute_result"
    }
   ],
   "source": [
    "cv = utils.MonthlyTimeSeriesSplit(window=20)\n",
    "cv.get_n_splits(X_train)"
   ]
  },
  {
   "cell_type": "code",
   "execution_count": 15,
   "metadata": {
    "execution": {
     "iopub.execute_input": "2025-03-05T14:30:22.948092Z",
     "iopub.status.busy": "2025-03-05T14:30:22.947948Z",
     "iopub.status.idle": "2025-03-05T14:30:53.120393Z",
     "shell.execute_reply": "2025-03-05T14:30:53.119487Z",
     "shell.execute_reply.started": "2025-03-05T14:30:22.948079Z"
    }
   },
   "outputs": [
    {
     "name": "stdout",
     "output_type": "stream",
     "text": [
      "train: [2014-03-20, 2015-10-31], len: 591600 | test: [2015-11-10, 2017-06-22], len: 591600\n",
      "train: [2014-03-20, 2017-06-22], len: 1183200 | test: [2017-07-02, 2019-02-22], len: 601460\n",
      "train: [2014-03-20, 2019-02-22], len: 1784660 | test: [2019-03-04, 2020-08-25], len: 542300\n"
     ]
    }
   ],
   "source": [
    "for split_train, split_test in cv.split(X_train):\n",
    "    train_start = np.sort(X_train.iloc[split_train].drop(columns=[\"cell_x\", \"cell_y\"]).reset_index()[\"dt\"].unique())[0]\n",
    "    train_end = np.sort(X_train.iloc[split_train].drop(columns=[\"cell_x\", \"cell_y\"]).reset_index()[\"dt\"].unique())[-1]\n",
    "    test_start = np.sort(X_train.iloc[split_test].drop(columns=[\"cell_x\", \"cell_y\"]).reset_index()[\"dt\"].unique())[0]\n",
    "    test_end = np.sort(X_train.iloc[split_test].drop(columns=[\"cell_x\", \"cell_y\"]).reset_index()[\"dt\"].unique())[-1]\n",
    "\n",
    "    print(f\"train: [{train_start}, {train_end}], len: {len(split_train)} | test: [{test_start}, {test_end}], len: {len(split_test)}\")"
   ]
  },
  {
   "cell_type": "markdown",
   "metadata": {},
   "source": [
    "### baseline"
   ]
  },
  {
   "cell_type": "code",
   "execution_count": 17,
   "metadata": {
    "execution": {
     "iopub.execute_input": "2025-03-04T17:55:07.901755Z",
     "iopub.status.busy": "2025-03-04T17:55:07.901073Z",
     "iopub.status.idle": "2025-03-04T17:59:18.164322Z",
     "shell.execute_reply": "2025-03-04T17:59:18.163350Z",
     "shell.execute_reply.started": "2025-03-04T17:55:07.901691Z"
    }
   },
   "outputs": [
    {
     "data": {
      "text/plain": [
       "(0.7326057736938919, 0.7550214184359954)"
      ]
     },
     "execution_count": 17,
     "metadata": {},
     "output_type": "execute_result"
    }
   ],
   "source": [
    "params = {\n",
    "    \"C\": 1e-4,\n",
    "    \"max_iter\": 100,\n",
    "    \"random_state\": 42\n",
    "}\n",
    "\n",
    "logreg_model = train.get_logreg_model(feature_cols, params)\n",
    "\n",
    "logreg_model = logreg_model.fit(X_train, y_train)\n",
    "y_pred_prob = logreg_model.predict_proba(X_test)\n",
    "\n",
    "baseline_roc_auc = roc_auc_score(y_test, y_pred_prob[:, 1])\n",
    "\n",
    "(\n",
    "    roc_auc_score(y_train, logreg_model.predict_proba(X_train)[:, 1]), \n",
    "    roc_auc_score(y_test, y_pred_prob[:, 1])\n",
    ")"
   ]
  },
  {
   "cell_type": "markdown",
   "metadata": {},
   "source": [
    "### l1 feature selection"
   ]
  },
  {
   "cell_type": "code",
   "execution_count": 16,
   "metadata": {
    "execution": {
     "iopub.status.idle": "2025-03-05T01:18:57.205354Z",
     "shell.execute_reply": "2025-03-05T01:18:57.204441Z",
     "shell.execute_reply.started": "2025-03-04T22:29:50.893247Z"
    }
   },
   "outputs": [
    {
     "name": "stderr",
     "output_type": "stream",
     "text": [
      "/home/prc/anaconda3/envs/smartdevds10/lib/python3.10/site-packages/sklearn/svm/_base.py:1244: ConvergenceWarning: Liblinear failed to converge, increase the number of iterations.\n",
      "  warnings.warn(\n"
     ]
    },
    {
     "data": {
      "text/plain": [
       "(0.852051872560986, 0.6477586179707127)"
      ]
     },
     "execution_count": 16,
     "metadata": {},
     "output_type": "execute_result"
    }
   ],
   "source": [
    "params = {\n",
    "    \"C\": 0.1,\n",
    "    \"max_iter\": 100,\n",
    "    \"penalty\": \"l1\",\n",
    "    \"solver\": \"liblinear\",\n",
    "}\n",
    "\n",
    "logreg_model = train.get_logreg_model(feature_cols, params)\n",
    "logreg_model.fit(X_train, y_train)\n",
    "\n",
    "y_pred_prob = logreg_model.predict_proba(X_test)\n",
    "(\n",
    "    roc_auc_score(y_train, logreg_model.predict_proba(X_train)[:, 1]), \n",
    "    roc_auc_score(y_test, y_pred_prob[:, 1])\n",
    ")"
   ]
  },
  {
   "cell_type": "code",
   "execution_count": 17,
   "metadata": {
    "execution": {
     "iopub.execute_input": "2025-03-05T01:18:57.206338Z",
     "iopub.status.busy": "2025-03-05T01:18:57.206177Z",
     "iopub.status.idle": "2025-03-05T01:18:57.211600Z",
     "shell.execute_reply": "2025-03-05T01:18:57.210204Z",
     "shell.execute_reply.started": "2025-03-05T01:18:57.206323Z"
    }
   },
   "outputs": [],
   "source": [
    "coefficients = logreg_model[\"logisticregression\"].coef_[0]"
   ]
  },
  {
   "cell_type": "code",
   "execution_count": 24,
   "metadata": {
    "execution": {
     "iopub.execute_input": "2025-03-05T06:24:34.047412Z",
     "iopub.status.busy": "2025-03-05T06:24:34.046739Z",
     "iopub.status.idle": "2025-03-05T06:24:34.058867Z",
     "shell.execute_reply": "2025-03-05T06:24:34.056824Z",
     "shell.execute_reply.started": "2025-03-05T06:24:34.047353Z"
    }
   },
   "outputs": [
    {
     "data": {
      "text/plain": [
       "305"
      ]
     },
     "execution_count": 24,
     "metadata": {},
     "output_type": "execute_result"
    }
   ],
   "source": [
    "len(coefficients[coefficients == 0.0])"
   ]
  },
  {
   "cell_type": "code",
   "execution_count": 27,
   "metadata": {
    "execution": {
     "iopub.execute_input": "2025-03-05T06:25:16.619605Z",
     "iopub.status.busy": "2025-03-05T06:25:16.619005Z",
     "iopub.status.idle": "2025-03-05T06:25:16.631152Z",
     "shell.execute_reply": "2025-03-05T06:25:16.629112Z",
     "shell.execute_reply.started": "2025-03-05T06:25:16.619550Z"
    }
   },
   "outputs": [
    {
     "data": {
      "text/plain": [
       "67"
      ]
     },
     "execution_count": 27,
     "metadata": {},
     "output_type": "execute_result"
    }
   ],
   "source": [
    "len(coefficients[~(coefficients == 0.0)])"
   ]
  },
  {
   "cell_type": "code",
   "execution_count": 29,
   "metadata": {
    "execution": {
     "iopub.execute_input": "2025-03-05T06:25:29.368521Z",
     "iopub.status.busy": "2025-03-05T06:25:29.367936Z",
     "iopub.status.idle": "2025-03-05T06:25:29.381831Z",
     "shell.execute_reply": "2025-03-05T06:25:29.379826Z",
     "shell.execute_reply.started": "2025-03-05T06:25:29.368467Z"
    }
   },
   "outputs": [
    {
     "data": {
      "text/plain": [
       "array([ 2.55885866e-03,  5.95607868e-02, -3.17507378e-01,  1.29813950e-01,\n",
       "        2.09156020e-01,  6.34060579e-02, -1.87284538e-02, -4.10279360e-02,\n",
       "        3.19395913e-01, -3.08930502e-01, -1.43601836e-01, -3.83777957e-02,\n",
       "       -6.24686979e-04, -2.17228714e-02,  4.62878606e-02, -2.00632751e-02,\n",
       "        7.74023701e-02,  2.17878813e-01, -2.86274726e-01,  1.75814611e-01,\n",
       "       -3.84685387e-02, -3.76045156e-04, -1.09158551e-01, -2.51954216e-02,\n",
       "        8.41507213e-02, -1.00935726e-01, -8.72508726e-02, -5.50317599e-02,\n",
       "       -7.98514364e-02, -2.25627404e-02,  1.06846141e-01, -1.53822687e-02,\n",
       "       -2.30992653e-01, -3.37525376e-05, -1.82272634e-01, -6.31172632e-03,\n",
       "        1.16870515e-03,  5.29493421e-02,  1.54444180e-01, -4.84674285e-02,\n",
       "        2.31930393e-01,  2.34419033e-01, -7.61561636e-02, -3.17654258e-01,\n",
       "        3.29224379e-03,  2.16892038e-02,  1.72181534e-01,  1.61904781e-01,\n",
       "        1.36872587e-02,  1.58203994e-01,  1.37523737e-01, -5.39269988e-02,\n",
       "       -3.21953360e-01, -6.80969623e-02,  3.13248698e-02, -7.69604751e-02,\n",
       "       -4.60874923e-02,  6.93231202e-02,  2.46266781e-02, -1.85510628e-01,\n",
       "        2.37635349e-01,  1.64190376e-01, -1.33636241e-01, -2.91691381e-02,\n",
       "        2.60532898e-02, -1.15533286e-01, -1.36778598e-01])"
      ]
     },
     "execution_count": 29,
     "metadata": {},
     "output_type": "execute_result"
    }
   ],
   "source": [
    "coefficients[~(coefficients == 0.0)]"
   ]
  },
  {
   "cell_type": "code",
   "execution_count": 33,
   "metadata": {
    "execution": {
     "iopub.execute_input": "2025-03-05T06:26:40.576085Z",
     "iopub.status.busy": "2025-03-05T06:26:40.575421Z",
     "iopub.status.idle": "2025-03-05T06:26:40.584600Z",
     "shell.execute_reply": "2025-03-05T06:26:40.582439Z",
     "shell.execute_reply.started": "2025-03-05T06:26:40.576028Z"
    }
   },
   "outputs": [],
   "source": [
    "l1_features = X_test.columns[~(coefficients == 0)].tolist()"
   ]
  },
  {
   "cell_type": "code",
   "execution_count": 34,
   "metadata": {
    "execution": {
     "iopub.execute_input": "2025-03-05T06:26:49.454746Z",
     "iopub.status.busy": "2025-03-05T06:26:49.454140Z",
     "iopub.status.idle": "2025-03-05T06:26:49.468929Z",
     "shell.execute_reply": "2025-03-05T06:26:49.466878Z",
     "shell.execute_reply.started": "2025-03-05T06:26:49.454689Z"
    }
   },
   "outputs": [
    {
     "name": "stdout",
     "output_type": "stream",
     "text": [
      "67\n"
     ]
    },
    {
     "data": {
      "text/plain": [
       "['cell_y',\n",
       " 'min_magn_m6.0_3650_rad0',\n",
       " 'std_magn_m6.0_1095_rad3',\n",
       " 'std_magn_m4.0_60_rad5',\n",
       " 'max_magn_m4.0_90_rad5',\n",
       " 'count_earthquakes_m4.0_90_rad5',\n",
       " 'std_magn_m6.0_365_rad5',\n",
       " 'dt_year',\n",
       " 'count_earthquakes_m6.0_1095_rad5',\n",
       " 'std_magn_m6.0_3650_rad5',\n",
       " 'min_magn_m6.0_1095_rad0',\n",
       " 'min_magn_m4.0_2555_rad3',\n",
       " 'min_magn_m4.0_1095_rad5',\n",
       " 'min_magn_m6.0_60_rad3',\n",
       " 'count_earthquakes_m6.0_3650_rad3',\n",
       " 'std_magn_m6.0_2555_rad3',\n",
       " 'min_magn_m4.0_180_rad3',\n",
       " 'min_magn_m4.0_365_rad3',\n",
       " 'count_earthquakes_m6.0_2555_rad0',\n",
       " 'min_magn_m4.0_3650_rad5',\n",
       " 'std_magn_m4.0_365_rad3',\n",
       " 'mean_magn_m6.0_180_rad0',\n",
       " 'std_magn_m4.0_180_rad0',\n",
       " 'count_earthquakes_m6.0_90_rad5',\n",
       " 'count_earthquakes_m4.0_365_rad3',\n",
       " 'std_magn_m6.0_3650_rad3',\n",
       " 'count_earthquakes_m4.0_2555_rad3',\n",
       " 'std_magn_m4.0_365_rad0',\n",
       " 'std_magn_m4.0_2555_rad5',\n",
       " 'count_earthquakes_m6.0_365_rad5',\n",
       " 'std_magn_m4.0_90_rad5',\n",
       " 'std_magn_m6.0_3650_rad0',\n",
       " 'mean_magn_m4.0_1095_rad5',\n",
       " 'min_magn_m6.0_180_rad0',\n",
       " 'std_magn_m4.0_1095_rad5',\n",
       " 'max_magn_m6.0_180_rad0',\n",
       " 'count_earthquakes_m4.0_60_rad5',\n",
       " 'min_magn_m6.0_1825_rad5',\n",
       " 'min_magn_m6.0_2555_rad3',\n",
       " 'count_earthquakes_m4.0_1095_rad5',\n",
       " 'std_magn_m4.0_3650_rad0',\n",
       " 'min_magn_m4.0_1095_rad0',\n",
       " 'day_of_year',\n",
       " 'max_magn_m6.0_365_rad5',\n",
       " 'lat_cell',\n",
       " 'count_earthquakes_m6.0_1825_rad5',\n",
       " 'min_magn_m6.0_180_rad3',\n",
       " 'std_magn_m4.0_2555_rad0',\n",
       " 'count_earthquakes_m4.0_365_rad0',\n",
       " 'std_magn_m4.0_1825_rad3',\n",
       " 'min_magn_m4.0_2555_rad0',\n",
       " 'std_magn_m6.0_90_rad5',\n",
       " 'min_magn_m4.0_365_rad5',\n",
       " 'std_magn_m4.0_90_rad3',\n",
       " 'std_magn_m4.0_180_rad5',\n",
       " 'std_magn_m4.0_3650_rad5',\n",
       " 'std_magn_m6.0_1825_rad5',\n",
       " 'min_magn_m4.0_180_rad0',\n",
       " 'mean_magn_m6.0_1825_rad0',\n",
       " 'day_of_year_cos',\n",
       " 'count_earthquakes_m4.0_2555_rad0',\n",
       " 'min_magn_m6.0_1825_rad0',\n",
       " 'std_magn_m4.0_1825_rad0',\n",
       " 'count_earthquakes_m6.0_1095_rad3',\n",
       " 'min_magn_m4.0_60_rad0',\n",
       " 'count_earthquakes_m4.0_1825_rad0',\n",
       " 'std_magn_m6.0_1095_rad5']"
      ]
     },
     "execution_count": 34,
     "metadata": {},
     "output_type": "execute_result"
    }
   ],
   "source": [
    "print(len(l1_features))\n",
    "\n",
    "l1_features"
   ]
  },
  {
   "cell_type": "code",
   "execution_count": 16,
   "metadata": {
    "execution": {
     "iopub.execute_input": "2025-03-05T14:30:53.121126Z",
     "iopub.status.busy": "2025-03-05T14:30:53.120982Z",
     "iopub.status.idle": "2025-03-05T14:30:53.126411Z",
     "shell.execute_reply": "2025-03-05T14:30:53.125669Z",
     "shell.execute_reply.started": "2025-03-05T14:30:53.121112Z"
    }
   },
   "outputs": [],
   "source": [
    "l1_features = [\n",
    "    'cell_y',\n",
    "    'min_magn_m6.0_3650_rad0',\n",
    "    'std_magn_m6.0_1095_rad3',\n",
    "    'std_magn_m4.0_60_rad5',\n",
    "    'max_magn_m4.0_90_rad5',\n",
    "    'count_earthquakes_m4.0_90_rad5',\n",
    "    'std_magn_m6.0_365_rad5',\n",
    "    'dt_year',\n",
    "    'count_earthquakes_m6.0_1095_rad5',\n",
    "    'std_magn_m6.0_3650_rad5',\n",
    "    'min_magn_m6.0_1095_rad0',\n",
    "    'min_magn_m4.0_2555_rad3',\n",
    "    'min_magn_m4.0_1095_rad5',\n",
    "    'min_magn_m6.0_60_rad3',\n",
    "    'count_earthquakes_m6.0_3650_rad3',\n",
    "    'std_magn_m6.0_2555_rad3',\n",
    "    'min_magn_m4.0_180_rad3',\n",
    "    'min_magn_m4.0_365_rad3',\n",
    "    'count_earthquakes_m6.0_2555_rad0',\n",
    "    'min_magn_m4.0_3650_rad5',\n",
    "    'std_magn_m4.0_365_rad3',\n",
    "    'mean_magn_m6.0_180_rad0',\n",
    "    'std_magn_m4.0_180_rad0',\n",
    "    'count_earthquakes_m6.0_90_rad5',\n",
    "    'count_earthquakes_m4.0_365_rad3',\n",
    "    'std_magn_m6.0_3650_rad3',\n",
    "    'count_earthquakes_m4.0_2555_rad3',\n",
    "    'std_magn_m4.0_365_rad0',\n",
    "    'std_magn_m4.0_2555_rad5',\n",
    "    'count_earthquakes_m6.0_365_rad5',\n",
    "    'std_magn_m4.0_90_rad5',\n",
    "    'std_magn_m6.0_3650_rad0',\n",
    "    'mean_magn_m4.0_1095_rad5',\n",
    "    'min_magn_m6.0_180_rad0',\n",
    "    'std_magn_m4.0_1095_rad5',\n",
    "    'max_magn_m6.0_180_rad0',\n",
    "    'count_earthquakes_m4.0_60_rad5',\n",
    "    'min_magn_m6.0_1825_rad5',\n",
    "    'min_magn_m6.0_2555_rad3',\n",
    "    'count_earthquakes_m4.0_1095_rad5',\n",
    "    'std_magn_m4.0_3650_rad0',\n",
    "    'min_magn_m4.0_1095_rad0',\n",
    "    'day_of_year',\n",
    "    'max_magn_m6.0_365_rad5',\n",
    "    'lat_cell',\n",
    "    'count_earthquakes_m6.0_1825_rad5',\n",
    "    'min_magn_m6.0_180_rad3',\n",
    "    'std_magn_m4.0_2555_rad0',\n",
    "    'count_earthquakes_m4.0_365_rad0',\n",
    "    'std_magn_m4.0_1825_rad3',\n",
    "    'min_magn_m4.0_2555_rad0',\n",
    "    'std_magn_m6.0_90_rad5',\n",
    "    'min_magn_m4.0_365_rad5',\n",
    "    'std_magn_m4.0_90_rad3',\n",
    "    'std_magn_m4.0_180_rad5',\n",
    "    'std_magn_m4.0_3650_rad5',\n",
    "    'std_magn_m6.0_1825_rad5',\n",
    "    'min_magn_m4.0_180_rad0',\n",
    "    'mean_magn_m6.0_1825_rad0',\n",
    "    'day_of_year_cos',\n",
    "    'count_earthquakes_m4.0_2555_rad0',\n",
    "    'min_magn_m6.0_1825_rad0',\n",
    "    'std_magn_m4.0_1825_rad0',\n",
    "    'count_earthquakes_m6.0_1095_rad3',\n",
    "    'min_magn_m4.0_60_rad0',\n",
    "    'count_earthquakes_m4.0_1825_rad0',\n",
    "    'std_magn_m6.0_1095_rad5'\n",
    "]"
   ]
  },
  {
   "cell_type": "code",
   "execution_count": 17,
   "metadata": {
    "execution": {
     "iopub.execute_input": "2025-03-05T14:31:44.333735Z",
     "iopub.status.busy": "2025-03-05T14:31:44.333059Z",
     "iopub.status.idle": "2025-03-05T14:32:27.012471Z",
     "shell.execute_reply": "2025-03-05T14:32:27.011639Z",
     "shell.execute_reply.started": "2025-03-05T14:31:44.333675Z"
    }
   },
   "outputs": [
    {
     "data": {
      "text/plain": [
       "(0.7435788843714005, 0.7612303565338079)"
      ]
     },
     "execution_count": 17,
     "metadata": {},
     "output_type": "execute_result"
    }
   ],
   "source": [
    "params = {\n",
    "    \"C\": 1e-4,\n",
    "    \"max_iter\": 100,\n",
    "    \"random_state\": 42\n",
    "}\n",
    "\n",
    "logreg_model = train.get_logreg_model(l1_features, params)\n",
    "\n",
    "logreg_model = logreg_model.fit(X_train, y_train)\n",
    "y_pred_prob = logreg_model.predict_proba(X_test)\n",
    "\n",
    "(\n",
    "    roc_auc_score(y_train, logreg_model.predict_proba(X_train)[:, 1]), \n",
    "    roc_auc_score(y_test, y_pred_prob[:, 1])\n",
    ")"
   ]
  },
  {
   "cell_type": "code",
   "execution_count": 69,
   "metadata": {
    "execution": {
     "iopub.execute_input": "2025-03-05T06:53:58.590816Z",
     "iopub.status.busy": "2025-03-05T06:53:58.590184Z",
     "iopub.status.idle": "2025-03-05T06:59:26.630495Z",
     "shell.execute_reply": "2025-03-05T06:59:26.629624Z",
     "shell.execute_reply.started": "2025-03-05T06:53:58.590759Z"
    }
   },
   "outputs": [
    {
     "name": "stderr",
     "output_type": "stream",
     "text": [
      "                                                 \r"
     ]
    },
    {
     "data": {
      "image/png": "[encoded data removed]",
      "text/plain": [
       "<Figure size 600x600 with 1 Axes>"
      ]
     },
     "metadata": {},
     "output_type": "display_data"
    }
   ],
   "source": [
    "plot_roc_curves(y_test, y_pred_prob[:, 1], roc_auc_weights_test, n=100)"
   ]
  },
  {
   "cell_type": "markdown",
   "metadata": {},
   "source": [
    "### hyper optimiziation"
   ]
  },
  {
   "cell_type": "code",
   "execution_count": 26,
   "metadata": {
    "execution": {
     "iopub.execute_input": "2025-03-05T17:24:59.893239Z",
     "iopub.status.busy": "2025-03-05T17:24:59.892535Z",
     "iopub.status.idle": "2025-03-05T18:08:23.625897Z",
     "shell.execute_reply": "2025-03-05T18:08:23.624924Z",
     "shell.execute_reply.started": "2025-03-05T17:24:59.893177Z"
    }
   },
   "outputs": [
    {
     "name": "stdout",
     "output_type": "stream",
     "text": [
      "using MonthlyTimeSeriesSplit\n"
     ]
    },
    {
     "name": "stderr",
     "output_type": "stream",
     "text": [
      "logisticregression hyperoptimisation: 100%|██████████| 100/100 [43:23<00:00, 26.04s/it]\n"
     ]
    }
   ],
   "source": [
    "def fixed_params(**kwargs) -> dict[str, Any]:\n",
    "    params = {\n",
    "        \"max_iter\": 100,\n",
    "        \"penalty\": \"l2\",\n",
    "        \"random_state\": 42,\n",
    "    }\n",
    "\n",
    "    params.update(kwargs)\n",
    "\n",
    "    return params\n",
    "\n",
    "\n",
    "def default_params(**kwargs) -> dict[str, Any]:\n",
    "    params = {\n",
    "        **fixed_params(),\n",
    "        \"C\": 1e-4,\n",
    "    }\n",
    "    params.update(kwargs)\n",
    "\n",
    "    return params\n",
    "\n",
    "\n",
    "def suggest_params(trial: optuna.trial.Trial, **kwargs) -> dict[str, Any]:\n",
    "    params = {\n",
    "        **fixed_params(),\n",
    "        \"C\": trial.suggest_float(\"C\", 1e-5, 1e-4),\n",
    "    }\n",
    "    params.update(kwargs)\n",
    "\n",
    "    return params\n",
    "\n",
    "tuned_logreg = train.run_optuna(\n",
    "    X = X_train,\n",
    "    y = y_train,\n",
    "    n_trials = 100,\n",
    "    dump_study_path = f\"data/optuna_res/logreg_{dataset_type_train.replace('_train', '')}\",\n",
    "    seed = 42,\n",
    "    resume = False,\n",
    "    suggest_params = suggest_params,\n",
    "    default_params = default_params,\n",
    "    cv = utils.MonthlyTimeSeriesSplit(window=20, partition=True),\n",
    "    model = train.get_logreg_model(l1_features, default_params()),\n",
    "    n_jobs = 40,\n",
    "    model_name = \"logisticregression\",\n",
    ")"
   ]
  },
  {
   "cell_type": "code",
   "execution_count": 27,
   "metadata": {
    "execution": {
     "iopub.execute_input": "2025-03-05T18:08:23.627144Z",
     "iopub.status.busy": "2025-03-05T18:08:23.626974Z",
     "iopub.status.idle": "2025-03-05T18:08:23.632650Z",
     "shell.execute_reply": "2025-03-05T18:08:23.631925Z",
     "shell.execute_reply.started": "2025-03-05T18:08:23.627128Z"
    }
   },
   "outputs": [
    {
     "data": {
      "text/plain": [
       "{'C': 9.995834808845237e-05,\n",
       " 'class_weight': None,\n",
       " 'dual': False,\n",
       " 'fit_intercept': True,\n",
       " 'intercept_scaling': 1,\n",
       " 'l1_ratio': None,\n",
       " 'max_iter': 100,\n",
       " 'multi_class': 'auto',\n",
       " 'n_jobs': None,\n",
       " 'penalty': 'l2',\n",
       " 'random_state': 42,\n",
       " 'solver': 'lbfgs',\n",
       " 'tol': 0.0001,\n",
       " 'verbose': 0,\n",
       " 'warm_start': False}"
      ]
     },
     "execution_count": 27,
     "metadata": {},
     "output_type": "execute_result"
    }
   ],
   "source": [
    "tuned_logreg_params = tuned_logreg[\"logisticregression\"].get_params()\n",
    "tuned_logreg_params"
   ]
  },
  {
   "cell_type": "code",
   "execution_count": 28,
   "metadata": {
    "execution": {
     "iopub.execute_input": "2025-03-05T18:08:23.633159Z",
     "iopub.status.busy": "2025-03-05T18:08:23.633029Z",
     "iopub.status.idle": "2025-03-05T18:14:22.565782Z",
     "shell.execute_reply": "2025-03-05T18:14:22.564935Z",
     "shell.execute_reply.started": "2025-03-05T18:08:23.633146Z"
    }
   },
   "outputs": [
    {
     "name": "stderr",
     "output_type": "stream",
     "text": [
      "\n",
      "  0%|          | 0/102 [00:00<?, ?it/s]\u001b[A\n",
      "  1%|          | 1/102 [00:01<01:48,  1.07s/it]\u001b[A\n",
      "  2%|▏         | 2/102 [00:02<01:47,  1.07s/it]\u001b[A\n",
      "  3%|▎         | 3/102 [00:03<01:46,  1.07s/it]\u001b[A\n",
      "  4%|▍         | 4/102 [00:04<01:45,  1.07s/it]\u001b[A\n",
      "  5%|▍         | 5/102 [00:05<01:43,  1.07s/it]\u001b[A\n",
      "  6%|▌         | 6/102 [00:06<01:42,  1.07s/it]\u001b[A\n",
      "  7%|▋         | 7/102 [00:07<01:41,  1.07s/it]\u001b[A\n",
      "  8%|▊         | 8/102 [00:08<01:40,  1.07s/it]\u001b[A\n",
      "  9%|▉         | 9/102 [00:09<01:39,  1.07s/it]\u001b[A\n",
      " 10%|▉         | 10/102 [00:10<01:38,  1.07s/it]\u001b[A\n",
      " 11%|█         | 11/102 [00:11<01:37,  1.07s/it]\u001b[A\n",
      " 12%|█▏        | 12/102 [00:12<01:35,  1.06s/it]\u001b[A\n",
      " 13%|█▎        | 13/102 [00:13<01:34,  1.06s/it]\u001b[A\n",
      " 14%|█▎        | 14/102 [00:14<01:33,  1.06s/it]\u001b[A\n",
      " 15%|█▍        | 15/102 [00:16<01:32,  1.06s/it]\u001b[A\n",
      " 16%|█▌        | 16/102 [00:17<01:31,  1.06s/it]\u001b[A\n",
      " 17%|█▋        | 17/102 [00:18<01:30,  1.06s/it]\u001b[A\n",
      " 18%|█▊        | 18/102 [00:19<01:29,  1.06s/it]\u001b[A\n",
      " 19%|█▊        | 19/102 [00:20<01:28,  1.06s/it]\u001b[A\n",
      " 20%|█▉        | 20/102 [00:21<01:27,  1.06s/it]\u001b[A\n",
      " 21%|██        | 21/102 [00:22<01:26,  1.06s/it]\u001b[A\n",
      " 22%|██▏       | 22/102 [00:23<01:24,  1.06s/it]\u001b[A\n",
      " 23%|██▎       | 23/102 [00:24<01:23,  1.06s/it]\u001b[A\n",
      " 24%|██▎       | 24/102 [00:25<01:22,  1.06s/it]\u001b[A\n",
      " 25%|██▍       | 25/102 [00:26<01:21,  1.06s/it]\u001b[A\n",
      " 25%|██▌       | 26/102 [00:27<01:20,  1.06s/it]\u001b[A\n",
      " 26%|██▋       | 27/102 [00:28<01:19,  1.06s/it]\u001b[A\n",
      " 27%|██▋       | 28/102 [00:29<01:18,  1.06s/it]\u001b[A\n",
      " 28%|██▊       | 29/102 [00:30<01:17,  1.06s/it]\u001b[A\n",
      " 29%|██▉       | 30/102 [00:31<01:16,  1.06s/it]\u001b[A\n",
      " 30%|███       | 31/102 [00:32<01:15,  1.06s/it]\u001b[A\n",
      " 31%|███▏      | 32/102 [00:34<01:14,  1.06s/it]\u001b[A\n",
      " 32%|███▏      | 33/102 [00:35<01:13,  1.06s/it]\u001b[A\n",
      " 33%|███▎      | 34/102 [00:36<01:12,  1.06s/it]\u001b[A\n",
      " 34%|███▍      | 35/102 [00:37<01:11,  1.06s/it]\u001b[A\n",
      " 35%|███▌      | 36/102 [00:38<01:10,  1.06s/it]\u001b[A\n",
      " 36%|███▋      | 37/102 [00:39<01:08,  1.06s/it]\u001b[A\n",
      " 37%|███▋      | 38/102 [00:40<01:07,  1.06s/it]\u001b[A\n",
      " 38%|███▊      | 39/102 [00:41<01:06,  1.06s/it]\u001b[A\n",
      " 39%|███▉      | 40/102 [00:42<01:05,  1.06s/it]\u001b[A\n",
      " 40%|████      | 41/102 [00:43<01:04,  1.06s/it]\u001b[A\n",
      " 41%|████      | 42/102 [00:44<01:03,  1.06s/it]\u001b[A\n",
      " 42%|████▏     | 43/102 [00:45<01:02,  1.06s/it]\u001b[A\n",
      " 43%|████▎     | 44/102 [00:46<01:01,  1.06s/it]\u001b[A\n",
      " 44%|████▍     | 45/102 [00:47<01:00,  1.06s/it]\u001b[A\n",
      " 45%|████▌     | 46/102 [00:48<00:59,  1.06s/it]\u001b[A\n",
      " 46%|████▌     | 47/102 [00:49<00:58,  1.06s/it]\u001b[A\n",
      " 47%|████▋     | 48/102 [00:51<00:57,  1.06s/it]\u001b[A\n",
      " 48%|████▊     | 49/102 [00:52<00:56,  1.06s/it]\u001b[A\n",
      " 49%|████▉     | 50/102 [00:53<00:55,  1.06s/it]\u001b[A\n",
      " 50%|█████     | 51/102 [00:54<00:54,  1.06s/it]\u001b[A\n",
      " 51%|█████     | 52/102 [00:55<00:53,  1.06s/it]\u001b[A\n",
      " 52%|█████▏    | 53/102 [00:56<00:52,  1.06s/it]\u001b[A\n",
      " 53%|█████▎    | 54/102 [00:57<00:51,  1.06s/it]\u001b[A\n",
      " 54%|█████▍    | 55/102 [00:58<00:49,  1.06s/it]\u001b[A\n",
      " 55%|█████▍    | 56/102 [00:59<00:48,  1.06s/it]\u001b[A\n",
      " 56%|█████▌    | 57/102 [01:00<00:47,  1.06s/it]\u001b[A\n",
      " 57%|█████▋    | 58/102 [01:01<00:46,  1.06s/it]\u001b[A\n",
      " 58%|█████▊    | 59/102 [01:02<00:45,  1.06s/it]\u001b[A\n",
      " 59%|█████▉    | 60/102 [01:03<00:44,  1.06s/it]\u001b[A\n",
      " 60%|█████▉    | 61/102 [01:04<00:43,  1.06s/it]\u001b[A\n",
      " 61%|██████    | 62/102 [01:05<00:42,  1.06s/it]\u001b[A\n",
      " 62%|██████▏   | 63/102 [01:06<00:41,  1.06s/it]\u001b[A\n",
      " 63%|██████▎   | 64/102 [01:08<00:40,  1.06s/it]\u001b[A\n",
      " 64%|██████▎   | 65/102 [01:09<00:39,  1.07s/it]\u001b[A\n",
      " 65%|██████▍   | 66/102 [01:10<00:38,  1.07s/it]\u001b[A\n",
      " 66%|██████▌   | 67/102 [01:11<00:37,  1.07s/it]\u001b[A\n",
      " 67%|██████▋   | 68/102 [01:12<00:36,  1.07s/it]\u001b[A\n",
      " 68%|██████▊   | 69/102 [01:13<00:35,  1.07s/it]\u001b[A\n",
      " 69%|██████▊   | 70/102 [01:14<00:34,  1.07s/it]\u001b[A\n",
      " 70%|██████▉   | 71/102 [01:15<00:33,  1.07s/it]\u001b[A\n",
      " 71%|███████   | 72/102 [01:16<00:32,  1.07s/it]\u001b[A\n",
      " 72%|███████▏  | 73/102 [01:17<00:30,  1.07s/it]\u001b[A\n",
      " 73%|███████▎  | 74/102 [01:18<00:29,  1.07s/it]\u001b[A\n",
      " 74%|███████▎  | 75/102 [01:19<00:28,  1.07s/it]\u001b[A\n",
      " 75%|███████▍  | 76/102 [01:20<00:27,  1.07s/it]\u001b[A\n",
      " 75%|███████▌  | 77/102 [01:21<00:26,  1.07s/it]\u001b[A\n",
      " 76%|███████▋  | 78/102 [01:23<00:25,  1.07s/it]\u001b[A\n",
      " 77%|███████▋  | 79/102 [01:24<00:24,  1.07s/it]\u001b[A\n",
      " 78%|███████▊  | 80/102 [01:25<00:23,  1.07s/it]\u001b[A\n",
      " 79%|███████▉  | 81/102 [01:26<00:22,  1.07s/it]\u001b[A\n",
      " 80%|████████  | 82/102 [01:27<00:21,  1.07s/it]\u001b[A\n",
      " 81%|████████▏ | 83/102 [01:28<00:20,  1.07s/it]\u001b[A\n",
      " 82%|████████▏ | 84/102 [01:29<00:19,  1.07s/it]\u001b[A\n",
      " 83%|████████▎ | 85/102 [01:30<00:18,  1.07s/it]\u001b[A\n",
      " 84%|████████▍ | 86/102 [01:31<00:17,  1.07s/it]\u001b[A\n",
      " 85%|████████▌ | 87/102 [01:32<00:16,  1.07s/it]\u001b[A\n",
      " 86%|████████▋ | 88/102 [01:33<00:14,  1.07s/it]\u001b[A\n",
      " 87%|████████▋ | 89/102 [01:34<00:13,  1.07s/it]\u001b[A\n",
      " 88%|████████▊ | 90/102 [01:35<00:12,  1.07s/it]\u001b[A\n",
      " 89%|████████▉ | 91/102 [01:36<00:11,  1.07s/it]\u001b[A\n",
      " 90%|█████████ | 92/102 [01:37<00:10,  1.07s/it]\u001b[A\n",
      " 91%|█████████ | 93/102 [01:39<00:09,  1.07s/it]\u001b[A\n",
      " 92%|█████████▏| 94/102 [01:40<00:08,  1.07s/it]\u001b[A\n",
      " 93%|█████████▎| 95/102 [01:41<00:07,  1.07s/it]\u001b[A\n",
      " 94%|█████████▍| 96/102 [01:42<00:06,  1.07s/it]\u001b[A\n",
      " 95%|█████████▌| 97/102 [01:43<00:05,  1.07s/it]\u001b[A\n",
      " 96%|█████████▌| 98/102 [01:44<00:04,  1.07s/it]\u001b[A\n",
      " 97%|█████████▋| 99/102 [01:45<00:03,  1.07s/it]\u001b[A\n",
      " 98%|█████████▊| 100/102 [01:46<00:02,  1.07s/it]\u001b[A\n",
      " 99%|█████████▉| 101/102 [01:47<00:01,  1.07s/it]\u001b[A\n",
      "100%|██████████| 102/102 [01:48<00:00,  1.07s/it]\u001b[A\n",
      "                                                 \u001b[A\n",
      "  0%|          | 0/102 [00:00<?, ?it/s]\u001b[A\n",
      "  1%|          | 1/102 [00:02<03:32,  2.10s/it]\u001b[A\n",
      "  2%|▏         | 2/102 [00:04<03:30,  2.11s/it]\u001b[A\n",
      "  3%|▎         | 3/102 [00:06<03:28,  2.11s/it]\u001b[A\n",
      "  4%|▍         | 4/102 [00:08<03:26,  2.11s/it]\u001b[A\n",
      "  5%|▍         | 5/102 [00:10<03:24,  2.10s/it]\u001b[A\n",
      "  6%|▌         | 6/102 [00:12<03:21,  2.10s/it]\u001b[A\n",
      "  7%|▋         | 7/102 [00:14<03:19,  2.10s/it]\u001b[A\n",
      "  8%|▊         | 8/102 [00:16<03:17,  2.10s/it]\u001b[A\n",
      "  9%|▉         | 9/102 [00:18<03:15,  2.10s/it]\u001b[A\n",
      " 10%|▉         | 10/102 [00:21<03:12,  2.10s/it]\u001b[A\n",
      " 11%|█         | 11/102 [00:23<03:10,  2.10s/it]\u001b[A\n",
      " 12%|█▏        | 12/102 [00:25<03:08,  2.09s/it]\u001b[A\n",
      " 13%|█▎        | 13/102 [00:27<03:06,  2.09s/it]\u001b[A\n",
      " 14%|█▎        | 14/102 [00:29<03:03,  2.09s/it]\u001b[A\n",
      " 15%|█▍        | 15/102 [00:31<03:01,  2.09s/it]\u001b[A\n",
      " 16%|█▌        | 16/102 [00:33<02:59,  2.09s/it]\u001b[A\n",
      " 17%|█▋        | 17/102 [00:35<02:57,  2.08s/it]\u001b[A\n",
      " 18%|█▊        | 18/102 [00:37<02:55,  2.08s/it]\u001b[A\n",
      " 19%|█▊        | 19/102 [00:39<02:53,  2.08s/it]\u001b[A\n",
      " 20%|█▉        | 20/102 [00:41<02:51,  2.09s/it]\u001b[A\n",
      " 21%|██        | 21/102 [00:43<02:48,  2.09s/it]\u001b[A\n",
      " 22%|██▏       | 22/102 [00:46<02:47,  2.09s/it]\u001b[A\n",
      " 23%|██▎       | 23/102 [00:48<02:44,  2.08s/it]\u001b[A\n",
      " 24%|██▎       | 24/102 [00:50<02:42,  2.09s/it]\u001b[A\n",
      " 25%|██▍       | 25/102 [00:52<02:40,  2.09s/it]\u001b[A\n",
      " 25%|██▌       | 26/102 [00:54<02:38,  2.09s/it]\u001b[A\n",
      " 26%|██▋       | 27/102 [00:56<02:36,  2.08s/it]\u001b[A\n",
      " 27%|██▋       | 28/102 [00:58<02:34,  2.08s/it]\u001b[A\n",
      " 28%|██▊       | 29/102 [01:00<02:32,  2.08s/it]\u001b[A\n",
      " 29%|██▉       | 30/102 [01:02<02:29,  2.08s/it]\u001b[A\n",
      " 30%|███       | 31/102 [01:04<02:27,  2.08s/it]\u001b[A\n",
      " 31%|███▏      | 32/102 [01:06<02:25,  2.08s/it]\u001b[A\n",
      " 32%|███▏      | 33/102 [01:08<02:23,  2.08s/it]\u001b[A\n",
      " 33%|███▎      | 34/102 [01:11<02:21,  2.08s/it]\u001b[A\n",
      " 34%|███▍      | 35/102 [01:13<02:19,  2.08s/it]\u001b[A\n",
      " 35%|███▌      | 36/102 [01:15<02:17,  2.08s/it]\u001b[A\n",
      " 36%|███▋      | 37/102 [01:17<02:15,  2.08s/it]\u001b[A\n",
      " 37%|███▋      | 38/102 [01:19<02:13,  2.08s/it]\u001b[A\n",
      " 38%|███▊      | 39/102 [01:21<02:11,  2.08s/it]\u001b[A\n",
      " 39%|███▉      | 40/102 [01:23<02:09,  2.08s/it]\u001b[A\n",
      " 40%|████      | 41/102 [01:25<02:06,  2.08s/it]\u001b[A\n",
      " 41%|████      | 42/102 [01:27<02:04,  2.08s/it]\u001b[A\n",
      " 42%|████▏     | 43/102 [01:29<02:02,  2.08s/it]\u001b[A\n",
      " 43%|████▎     | 44/102 [01:31<02:00,  2.08s/it]\u001b[A\n",
      " 44%|████▍     | 45/102 [01:33<01:58,  2.08s/it]\u001b[A\n",
      " 45%|████▌     | 46/102 [01:36<01:57,  2.10s/it]\u001b[A\n",
      " 46%|████▌     | 47/102 [01:38<02:06,  2.30s/it]\u001b[A\n",
      " 47%|████▋     | 48/102 [01:40<02:00,  2.24s/it]\u001b[A\n",
      " 48%|████▊     | 49/102 [01:43<01:56,  2.20s/it]\u001b[A\n",
      " 49%|████▉     | 50/102 [01:45<01:52,  2.17s/it]\u001b[A\n",
      " 50%|█████     | 51/102 [01:47<01:49,  2.15s/it]\u001b[A\n",
      " 51%|█████     | 52/102 [01:49<01:46,  2.13s/it]\u001b[A\n",
      " 52%|█████▏    | 53/102 [01:51<01:44,  2.12s/it]\u001b[A\n",
      " 53%|█████▎    | 54/102 [01:53<01:41,  2.12s/it]\u001b[A\n",
      " 54%|█████▍    | 55/102 [01:55<01:39,  2.11s/it]\u001b[A\n",
      " 55%|█████▍    | 56/102 [01:57<01:37,  2.11s/it]\u001b[A\n",
      " 56%|█████▌    | 57/102 [01:59<01:34,  2.11s/it]\u001b[A\n",
      " 57%|█████▋    | 58/102 [02:01<01:32,  2.11s/it]\u001b[A\n",
      " 58%|█████▊    | 59/102 [02:04<01:30,  2.11s/it]\u001b[A\n",
      " 59%|█████▉    | 60/102 [02:06<01:28,  2.10s/it]\u001b[A\n",
      " 60%|█████▉    | 61/102 [02:08<01:26,  2.10s/it]\u001b[A\n",
      " 61%|██████    | 62/102 [02:10<01:24,  2.10s/it]\u001b[A\n",
      " 62%|██████▏   | 63/102 [02:12<01:22,  2.10s/it]\u001b[A\n",
      " 63%|██████▎   | 64/102 [02:14<01:19,  2.10s/it]\u001b[A\n",
      " 64%|██████▎   | 65/102 [02:16<01:17,  2.10s/it]\u001b[A\n",
      " 65%|██████▍   | 66/102 [02:18<01:15,  2.10s/it]\u001b[A\n",
      " 66%|██████▌   | 67/102 [02:20<01:13,  2.10s/it]\u001b[A\n",
      " 67%|██████▋   | 68/102 [02:23<01:11,  2.11s/it]\u001b[A\n",
      " 68%|██████▊   | 69/102 [02:25<01:09,  2.11s/it]\u001b[A\n",
      " 69%|██████▊   | 70/102 [02:27<01:07,  2.11s/it]\u001b[A\n",
      " 70%|██████▉   | 71/102 [02:29<01:05,  2.11s/it]\u001b[A\n",
      " 71%|███████   | 72/102 [02:31<01:03,  2.11s/it]\u001b[A\n",
      " 72%|███████▏  | 73/102 [02:33<01:01,  2.11s/it]\u001b[A\n",
      " 73%|███████▎  | 74/102 [02:35<00:59,  2.11s/it]\u001b[A\n",
      " 74%|███████▎  | 75/102 [02:37<00:57,  2.11s/it]\u001b[A\n",
      " 75%|███████▍  | 76/102 [02:39<00:54,  2.11s/it]\u001b[A\n",
      " 75%|███████▌  | 77/102 [02:42<00:52,  2.11s/it]\u001b[A\n",
      " 76%|███████▋  | 78/102 [02:44<00:50,  2.11s/it]\u001b[A\n",
      " 77%|███████▋  | 79/102 [02:46<00:48,  2.11s/it]\u001b[A\n",
      " 78%|███████▊  | 80/102 [02:48<00:46,  2.11s/it]\u001b[A\n",
      " 79%|███████▉  | 81/102 [02:50<00:44,  2.11s/it]\u001b[A\n",
      " 80%|████████  | 82/102 [02:52<00:42,  2.11s/it]\u001b[A\n",
      " 81%|████████▏ | 83/102 [02:54<00:40,  2.11s/it]\u001b[A\n",
      " 82%|████████▏ | 84/102 [02:56<00:37,  2.11s/it]\u001b[A\n",
      " 83%|████████▎ | 85/102 [02:58<00:35,  2.11s/it]\u001b[A\n",
      " 84%|████████▍ | 86/102 [03:01<00:33,  2.11s/it]\u001b[A\n",
      " 85%|████████▌ | 87/102 [03:03<00:31,  2.11s/it]\u001b[A\n",
      " 86%|████████▋ | 88/102 [03:05<00:29,  2.11s/it]\u001b[A\n",
      " 87%|████████▋ | 89/102 [03:07<00:27,  2.11s/it]\u001b[A\n",
      " 88%|████████▊ | 90/102 [03:09<00:25,  2.11s/it]\u001b[A\n",
      " 89%|████████▉ | 91/102 [03:11<00:23,  2.11s/it]\u001b[A\n",
      " 90%|█████████ | 92/102 [03:13<00:21,  2.11s/it]\u001b[A\n",
      " 91%|█████████ | 93/102 [03:15<00:19,  2.11s/it]\u001b[A\n",
      " 92%|█████████▏| 94/102 [03:17<00:16,  2.11s/it]\u001b[A\n",
      " 93%|█████████▎| 95/102 [03:20<00:14,  2.11s/it]\u001b[A\n",
      " 94%|█████████▍| 96/102 [03:22<00:12,  2.11s/it]\u001b[A\n",
      " 95%|█████████▌| 97/102 [03:24<00:10,  2.11s/it]\u001b[A\n",
      " 96%|█████████▌| 98/102 [03:26<00:08,  2.11s/it]\u001b[A\n",
      " 97%|█████████▋| 99/102 [03:28<00:06,  2.11s/it]\u001b[A\n",
      " 98%|█████████▊| 100/102 [03:30<00:04,  2.11s/it]\u001b[A\n",
      " 99%|█████████▉| 101/102 [03:32<00:02,  2.11s/it]\u001b[A\n",
      "100%|██████████| 102/102 [03:34<00:00,  2.11s/it]\u001b[A\n",
      "                                                 \u001b[A"
     ]
    },
    {
     "data": {
      "image/png": "[encoded data removed]",
      "text/plain": [
       "<Figure size 600x600 with 1 Axes>"
      ]
     },
     "metadata": {},
     "output_type": "display_data"
    }
   ],
   "source": [
    "reulst_aft_logreg = tuned_logreg.fit(X_train, y_train)\n",
    "y_pred_prob = reulst_aft_logreg.predict_proba(X_test)\n",
    "\n",
    "plot_roc_curves(y_test, y_pred_prob[:, 1], roc_auc_weights_test, n=100)"
   ]
  },
  {
   "cell_type": "code",
   "execution_count": 29,
   "metadata": {
    "execution": {
     "iopub.execute_input": "2025-03-05T18:14:22.567077Z",
     "iopub.status.busy": "2025-03-05T18:14:22.566918Z",
     "iopub.status.idle": "2025-03-05T18:14:31.024185Z",
     "shell.execute_reply": "2025-03-05T18:14:31.023349Z",
     "shell.execute_reply.started": "2025-03-05T18:14:22.567062Z"
    }
   },
   "outputs": [
    {
     "data": {
      "text/plain": [
       "(0.7435719476869124, 0.7612301564694918)"
      ]
     },
     "execution_count": 29,
     "metadata": {},
     "output_type": "execute_result"
    }
   ],
   "source": [
    "(\n",
    "    roc_auc_score(y_train, reulst_aft_logreg.predict_proba(X_train)[:, 1]), \n",
    "    roc_auc_score(y_test, y_pred_prob[:, 1]),\n",
    ")"
   ]
  },
  {
   "cell_type": "code",
   "execution_count": 30,
   "metadata": {
    "execution": {
     "iopub.execute_input": "2025-03-05T18:14:31.025005Z",
     "iopub.status.busy": "2025-03-05T18:14:31.024834Z",
     "iopub.status.idle": "2025-03-05T18:14:31.308464Z",
     "shell.execute_reply": "2025-03-05T18:14:31.306402Z",
     "shell.execute_reply.started": "2025-03-05T18:14:31.024990Z"
    }
   },
   "outputs": [],
   "source": [
    "! rm -rf data/models/aft_6_logreg_.pickle"
   ]
  },
  {
   "cell_type": "code",
   "execution_count": 31,
   "metadata": {
    "execution": {
     "iopub.execute_input": "2025-03-05T18:14:31.311495Z",
     "iopub.status.busy": "2025-03-05T18:14:31.310671Z",
     "iopub.status.idle": "2025-03-05T18:14:31.334185Z",
     "shell.execute_reply": "2025-03-05T18:14:31.333200Z",
     "shell.execute_reply.started": "2025-03-05T18:14:31.311433Z"
    }
   },
   "outputs": [
    {
     "data": {
      "text/plain": [
       "['data/models/aft_6_logreg_.pickle']"
      ]
     },
     "execution_count": 31,
     "metadata": {},
     "output_type": "execute_result"
    }
   ],
   "source": [
    "joblib.dump(reulst_aft_logreg, \"data/models/aft_6_logreg_.pickle\")"
   ]
  },
  {
   "cell_type": "markdown",
   "metadata": {},
   "source": [
    "# withoutaft, magn > 6.0"
   ]
  },
  {
   "cell_type": "markdown",
   "metadata": {},
   "source": [
    "## read "
   ]
  },
  {
   "cell_type": "code",
   "execution_count": 32,
   "metadata": {
    "execution": {
     "iopub.execute_input": "2025-03-05T18:32:52.018167Z",
     "iopub.status.busy": "2025-03-05T18:32:52.017464Z",
     "iopub.status.idle": "2025-03-05T18:32:52.028411Z",
     "shell.execute_reply": "2025-03-05T18:32:52.026311Z",
     "shell.execute_reply.started": "2025-03-05T18:32:52.018105Z"
    }
   },
   "outputs": [],
   "source": [
    "dataset_type_train = \"magn_6_withoutaft\"\n",
    "dataset_type_test = \"magn_6_withoutaft_test\"\n",
    "\n",
    "target = \"target\"\n",
    "dt_col = \"dt\"\n",
    "min_test_date = \"2020-10-14\"\n",
    "min_train_date = \"2014-03-17\"\n",
    "\n",
    "train_path = f\"data/dataset/{dataset_type_train}.parquet\"\n",
    "test_path = f\"data/dataset/{dataset_type_test}.parquet\""
   ]
  },
  {
   "cell_type": "code",
   "execution_count": 33,
   "metadata": {
    "execution": {
     "iopub.execute_input": "2025-03-05T18:32:52.465194Z",
     "iopub.status.busy": "2025-03-05T18:32:52.464570Z",
     "iopub.status.idle": "2025-03-05T18:33:08.296210Z",
     "shell.execute_reply": "2025-03-05T18:33:08.295233Z",
     "shell.execute_reply.started": "2025-03-05T18:32:52.465135Z"
    }
   },
   "outputs": [
    {
     "name": "stdout",
     "output_type": "stream",
     "text": [
      "train_path: data/dataset/magn_6_withoutaft.parquet\n",
      "test_path: data/dataset/magn_6_withoutaft_test.parquet\n",
      "\n",
      "\n",
      "train dates: 2014-03-20 — 2020-08-25\n",
      "test dates: 2020-10-14 — 2023-05-09\n",
      "\n",
      "train: target==0: 1878932, target==1: 100\n",
      "test: target==0: 95163, target==1: 513\n",
      "target class proportion: test: 0.005390750606853504, train: 5.3221723830346177e-05\n"
     ]
    }
   ],
   "source": [
    "train_df, test_df = utils.get_train_test_datasets(\n",
    "    train_path=train_path, test_path=test_path, \n",
    "    min_test_date = min_test_date, min_train_date = min_train_date\n",
    ")"
   ]
  },
  {
   "cell_type": "code",
   "execution_count": 34,
   "metadata": {
    "execution": {
     "iopub.execute_input": "2025-03-05T18:33:08.297487Z",
     "iopub.status.busy": "2025-03-05T18:33:08.297305Z",
     "iopub.status.idle": "2025-03-05T18:33:08.302112Z",
     "shell.execute_reply": "2025-03-05T18:33:08.301293Z",
     "shell.execute_reply.started": "2025-03-05T18:33:08.297471Z"
    }
   },
   "outputs": [],
   "source": [
    "feature_cols = list(set(train_df.columns) - set([target, dt_col, \"horizon_min_dt\", \"horizon_max_dt\"]))"
   ]
  },
  {
   "cell_type": "code",
   "execution_count": 35,
   "metadata": {
    "execution": {
     "iopub.execute_input": "2025-03-05T18:33:08.302808Z",
     "iopub.status.busy": "2025-03-05T18:33:08.302664Z",
     "iopub.status.idle": "2025-03-05T18:33:15.220249Z",
     "shell.execute_reply": "2025-03-05T18:33:15.218746Z",
     "shell.execute_reply.started": "2025-03-05T18:33:08.302795Z"
    }
   },
   "outputs": [],
   "source": [
    "# train, test\n",
    "features = utils.Features(\n",
    "    features=feature_cols, target=target, dt_col=dt_col, \n",
    "    groupby=[\"cell_x\", \"cell_y\"], target_features=[]\n",
    ")\n",
    "\n",
    "X_train, y_train = features.make_features_target(train_df)\n",
    "X_test, y_test = features.make_features_target(test_df)"
   ]
  },
  {
   "cell_type": "code",
   "execution_count": 36,
   "metadata": {
    "execution": {
     "iopub.execute_input": "2025-03-05T18:33:15.221751Z",
     "iopub.status.busy": "2025-03-05T18:33:15.221587Z",
     "iopub.status.idle": "2025-03-05T18:33:15.609035Z",
     "shell.execute_reply": "2025-03-05T18:33:15.608271Z",
     "shell.execute_reply.started": "2025-03-05T18:33:15.221736Z"
    }
   },
   "outputs": [
    {
     "data": {
      "text/plain": [
       "dt        0\n",
       "cell_x    0\n",
       "cell_y    0\n",
       "target    0\n",
       "dtype: int64"
      ]
     },
     "execution_count": 36,
     "metadata": {},
     "output_type": "execute_result"
    }
   ],
   "source": [
    "y_test.reset_index().merge(y_train.reset_index(), how=\"left\").isna().sum()"
   ]
  },
  {
   "cell_type": "code",
   "execution_count": 37,
   "metadata": {
    "execution": {
     "iopub.execute_input": "2025-03-05T18:33:15.609698Z",
     "iopub.status.busy": "2025-03-05T18:33:15.609554Z",
     "iopub.status.idle": "2025-03-05T18:33:20.886949Z",
     "shell.execute_reply": "2025-03-05T18:33:20.885666Z",
     "shell.execute_reply.started": "2025-03-05T18:33:15.609685Z"
    }
   },
   "outputs": [],
   "source": [
    "# get weights for roc auc as probability density of occured earthquakes\n",
    "roc_auc_weights_test = get_weights_for_roc_auc(y=y_test, last_dt=min_test_date)\n",
    "roc_auc_weights_train = get_weights_for_roc_auc(y=y_train, last_dt=min_test_date)"
   ]
  },
  {
   "cell_type": "code",
   "execution_count": 38,
   "metadata": {
    "execution": {
     "iopub.execute_input": "2025-03-05T18:33:20.887668Z",
     "iopub.status.busy": "2025-03-05T18:33:20.887515Z",
     "iopub.status.idle": "2025-03-05T18:33:20.896069Z",
     "shell.execute_reply": "2025-03-05T18:33:20.894980Z",
     "shell.execute_reply.started": "2025-03-05T18:33:20.887654Z"
    }
   },
   "outputs": [],
   "source": [
    "assert len(roc_auc_weights_test) == len(roc_auc_weights_test[~np.isnan(roc_auc_weights_test)]) == len(y_test)\n",
    "assert len(roc_auc_weights_train) == len(roc_auc_weights_train[~np.isnan(roc_auc_weights_train)]) == len(y_train)"
   ]
  },
  {
   "cell_type": "code",
   "execution_count": 39,
   "metadata": {
    "execution": {
     "iopub.execute_input": "2025-03-05T18:33:20.896707Z",
     "iopub.status.busy": "2025-03-05T18:33:20.896562Z",
     "iopub.status.idle": "2025-03-05T18:33:20.904035Z",
     "shell.execute_reply": "2025-03-05T18:33:20.903296Z",
     "shell.execute_reply.started": "2025-03-05T18:33:20.896693Z"
    }
   },
   "outputs": [
    {
     "data": {
      "text/plain": [
       "(95676,\n",
       " 0.6418269230769231,\n",
       " array([0.00240385, 0.00480769, 0.00721154, 0.00961538, 0.01201923,\n",
       "        0.01442308, 0.01682692, 0.01923077, 0.02163462, 0.02403846,\n",
       "        0.02644231, 0.02884615, 0.03125   , 0.03365385, 0.03605769,\n",
       "        0.03846154, 0.04326923, 0.04567308, 0.04807692, 0.05048077,\n",
       "        0.05288462, 0.05528846, 0.06490385, 0.06730769, 0.06971154,\n",
       "        0.07211538, 0.07451923, 0.07932692, 0.08413462, 0.09134615,\n",
       "        0.09615385, 0.09855769, 0.10096154, 0.10576923, 0.10817308,\n",
       "        0.11298077, 0.11538462, 0.11778846, 0.13701923, 0.14423077,\n",
       "        0.17067308, 0.20192308, 0.20673077, 0.20913462, 0.21394231,\n",
       "        0.24278846, 0.27644231, 0.30048077, 0.33894231, 0.35336538,\n",
       "        0.37019231, 0.37259615, 0.41105769, 0.64182692]))"
      ]
     },
     "execution_count": 39,
     "metadata": {},
     "output_type": "execute_result"
    }
   ],
   "source": [
    "len(roc_auc_weights_test[roc_auc_weights_test > 0.0]), np.max(roc_auc_weights_test), np.unique(roc_auc_weights_test)"
   ]
  },
  {
   "cell_type": "code",
   "execution_count": 40,
   "metadata": {
    "execution": {
     "iopub.execute_input": "2025-03-05T18:33:20.904899Z",
     "iopub.status.busy": "2025-03-05T18:33:20.904633Z",
     "iopub.status.idle": "2025-03-05T18:33:21.061369Z",
     "shell.execute_reply": "2025-03-05T18:33:21.060333Z",
     "shell.execute_reply.started": "2025-03-05T18:33:20.904883Z"
    }
   },
   "outputs": [
    {
     "data": {
      "image/png": "[encoded data removed]",
      "text/plain": [
       "<Figure size 640x480 with 1 Axes>"
      ]
     },
     "metadata": {},
     "output_type": "display_data"
    }
   ],
   "source": [
    "plt.hist(roc_auc_weights_test[roc_auc_weights_test > 0.0], range=(0, 1.0), bins=20);"
   ]
  },
  {
   "cell_type": "code",
   "execution_count": 41,
   "metadata": {
    "execution": {
     "iopub.execute_input": "2025-03-05T18:33:21.062143Z",
     "iopub.status.busy": "2025-03-05T18:33:21.061982Z",
     "iopub.status.idle": "2025-03-05T18:33:21.066007Z",
     "shell.execute_reply": "2025-03-05T18:33:21.065318Z",
     "shell.execute_reply.started": "2025-03-05T18:33:21.062127Z"
    }
   },
   "outputs": [],
   "source": [
    "y_train = y_train[target]\n",
    "y_test = y_test[target]"
   ]
  },
  {
   "cell_type": "code",
   "execution_count": 42,
   "metadata": {
    "execution": {
     "iopub.execute_input": "2025-03-05T18:33:21.067825Z",
     "iopub.status.busy": "2025-03-05T18:33:21.067397Z",
     "iopub.status.idle": "2025-03-05T18:33:21.073408Z",
     "shell.execute_reply": "2025-03-05T18:33:21.072636Z",
     "shell.execute_reply.started": "2025-03-05T18:33:21.067807Z"
    }
   },
   "outputs": [
    {
     "data": {
      "text/plain": [
       "(100, 513)"
      ]
     },
     "execution_count": 42,
     "metadata": {},
     "output_type": "execute_result"
    }
   ],
   "source": [
    "y_train.sum(), y_test.sum()"
   ]
  },
  {
   "cell_type": "markdown",
   "metadata": {},
   "source": [
    "## logreg"
   ]
  },
  {
   "cell_type": "code",
   "execution_count": 43,
   "metadata": {
    "execution": {
     "iopub.execute_input": "2025-03-05T18:33:21.074025Z",
     "iopub.status.busy": "2025-03-05T18:33:21.073874Z",
     "iopub.status.idle": "2025-03-05T18:33:21.657527Z",
     "shell.execute_reply": "2025-03-05T18:33:21.656227Z",
     "shell.execute_reply.started": "2025-03-05T18:33:21.074010Z"
    }
   },
   "outputs": [
    {
     "data": {
      "text/plain": [
       "3"
      ]
     },
     "execution_count": 43,
     "metadata": {},
     "output_type": "execute_result"
    }
   ],
   "source": [
    "cv = utils.MonthlyTimeSeriesSplit(window=20)\n",
    "cv.get_n_splits(X_train)"
   ]
  },
  {
   "cell_type": "code",
   "execution_count": 44,
   "metadata": {
    "execution": {
     "iopub.execute_input": "2025-03-05T18:33:21.658518Z",
     "iopub.status.busy": "2025-03-05T18:33:21.658339Z",
     "iopub.status.idle": "2025-03-05T18:33:45.888512Z",
     "shell.execute_reply": "2025-03-05T18:33:45.887572Z",
     "shell.execute_reply.started": "2025-03-05T18:33:21.658500Z"
    }
   },
   "outputs": [
    {
     "name": "stdout",
     "output_type": "stream",
     "text": [
      "train: [2014-03-20, 2015-10-31], len: 477720 | test: [2015-11-10, 2017-06-22], len: 477720\n",
      "train: [2014-03-20, 2017-06-22], len: 955440 | test: [2017-07-02, 2019-02-22], len: 485682\n",
      "train: [2014-03-20, 2019-02-22], len: 1441122 | test: [2019-03-04, 2020-08-25], len: 437910\n"
     ]
    }
   ],
   "source": [
    "for split_train, split_test in cv.split(X_train):\n",
    "    train_start = np.sort(X_train.iloc[split_train].drop(columns=[\"cell_x\", \"cell_y\"]).reset_index()[\"dt\"].unique())[0]\n",
    "    train_end = np.sort(X_train.iloc[split_train].drop(columns=[\"cell_x\", \"cell_y\"]).reset_index()[\"dt\"].unique())[-1]\n",
    "    test_start = np.sort(X_train.iloc[split_test].drop(columns=[\"cell_x\", \"cell_y\"]).reset_index()[\"dt\"].unique())[0]\n",
    "    test_end = np.sort(X_train.iloc[split_test].drop(columns=[\"cell_x\", \"cell_y\"]).reset_index()[\"dt\"].unique())[-1]\n",
    "\n",
    "    print(f\"train: [{train_start}, {train_end}], len: {len(split_train)} | test: [{test_start}, {test_end}], len: {len(split_test)}\")"
   ]
  },
  {
   "cell_type": "markdown",
   "metadata": {},
   "source": [
    "### baseline"
   ]
  },
  {
   "cell_type": "code",
   "execution_count": 165,
   "metadata": {
    "execution": {
     "iopub.execute_input": "2025-03-06T12:11:38.412939Z",
     "iopub.status.busy": "2025-03-06T12:11:38.412266Z",
     "iopub.status.idle": "2025-03-06T12:12:54.213798Z",
     "shell.execute_reply": "2025-03-06T12:12:54.212927Z",
     "shell.execute_reply.started": "2025-03-06T12:11:38.412859Z"
    }
   },
   "outputs": [
    {
     "data": {
      "text/plain": [
       "(0.7911226750089945, 0.5696786097124131)"
      ]
     },
     "execution_count": 165,
     "metadata": {},
     "output_type": "execute_result"
    }
   ],
   "source": [
    "params = {\n",
    "    \"C\": 1e-3,\n",
    "    \"max_iter\": 100,\n",
    "    \"random_state\": 42,\n",
    "}\n",
    "\n",
    "logreg_model = train.get_logreg_model(feature_cols, params)\n",
    "\n",
    "logreg_model = logreg_model.fit(X_train, y_train)\n",
    "y_pred_prob = logreg_model.predict_proba(X_test)\n",
    "\n",
    "(\n",
    "    roc_auc_score(y_train, logreg_model.predict_proba(X_train)[:, 1]), \n",
    "    roc_auc_score(y_test, y_pred_prob[:, 1])\n",
    ")"
   ]
  },
  {
   "cell_type": "code",
   "execution_count": 166,
   "metadata": {
    "execution": {
     "iopub.execute_input": "2025-03-06T12:13:01.460008Z",
     "iopub.status.busy": "2025-03-06T12:13:01.458613Z",
     "iopub.status.idle": "2025-03-06T12:13:06.049210Z",
     "shell.execute_reply": "2025-03-06T12:13:06.048337Z",
     "shell.execute_reply.started": "2025-03-06T12:13:01.459925Z"
    }
   },
   "outputs": [
    {
     "name": "stderr",
     "output_type": "stream",
     "text": [
      "\n",
      "  0%|          | 0/202 [00:00<?, ?it/s]\u001b[A\n",
      "  5%|▌         | 11/202 [00:00<00:01, 109.37it/s]\u001b[A\n",
      " 11%|█▏        | 23/202 [00:00<00:01, 111.84it/s]\u001b[A\n",
      " 17%|█▋        | 35/202 [00:00<00:01, 112.56it/s]\u001b[A\n",
      " 23%|██▎       | 47/202 [00:00<00:01, 112.42it/s]\u001b[A\n",
      " 29%|██▉       | 59/202 [00:00<00:01, 112.13it/s]\u001b[A\n",
      " 35%|███▌      | 71/202 [00:00<00:01, 112.46it/s]\u001b[A\n",
      " 41%|████      | 83/202 [00:00<00:01, 113.03it/s]\u001b[A\n",
      " 47%|████▋     | 95/202 [00:00<00:00, 113.33it/s]\u001b[A\n",
      " 53%|█████▎    | 107/202 [00:00<00:00, 113.52it/s]\u001b[A\n",
      " 59%|█████▉    | 119/202 [00:01<00:00, 113.19it/s]\u001b[A\n",
      " 65%|██████▍   | 131/202 [00:01<00:00, 112.68it/s]\u001b[A\n",
      " 71%|███████   | 143/202 [00:01<00:00, 113.03it/s]\u001b[A\n",
      " 77%|███████▋  | 155/202 [00:01<00:00, 113.41it/s]\u001b[A\n",
      " 83%|████████▎ | 167/202 [00:01<00:00, 113.64it/s]\u001b[A\n",
      " 89%|████████▊ | 179/202 [00:01<00:00, 112.98it/s]\u001b[A\n",
      " 95%|█████████▍| 191/202 [00:01<00:00, 112.75it/s]\u001b[A\n",
      "                                                  \u001b[A\n",
      "  0%|          | 0/202 [00:00<?, ?it/s]\u001b[A\n",
      "  3%|▎         | 6/202 [00:00<00:03, 58.91it/s]\u001b[A\n",
      "  6%|▋         | 13/202 [00:00<00:03, 61.83it/s]\u001b[A\n",
      " 10%|█         | 21/202 [00:00<00:02, 68.07it/s]\u001b[A\n",
      " 14%|█▍        | 29/202 [00:00<00:02, 71.78it/s]\u001b[A\n",
      " 18%|█▊        | 37/202 [00:00<00:02, 73.77it/s]\u001b[A\n",
      " 22%|██▏       | 45/202 [00:00<00:02, 74.81it/s]\u001b[A\n",
      " 26%|██▌       | 53/202 [00:00<00:01, 75.10it/s]\u001b[A\n",
      " 30%|███       | 61/202 [00:00<00:01, 75.00it/s]\u001b[A\n",
      " 34%|███▍      | 69/202 [00:00<00:01, 75.67it/s]\u001b[A\n",
      " 38%|███▊      | 77/202 [00:01<00:01, 76.29it/s]\u001b[A\n",
      " 42%|████▏     | 85/202 [00:01<00:01, 76.68it/s]\u001b[A\n",
      " 46%|████▌     | 93/202 [00:01<00:01, 77.02it/s]\u001b[A\n",
      " 50%|█████     | 101/202 [00:01<00:01, 77.30it/s]\u001b[A\n",
      " 54%|█████▍    | 109/202 [00:01<00:01, 77.50it/s]\u001b[A\n",
      " 58%|█████▊    | 117/202 [00:01<00:01, 77.62it/s]\u001b[A\n",
      " 62%|██████▏   | 125/202 [00:01<00:00, 77.74it/s]\u001b[A\n",
      " 66%|██████▌   | 133/202 [00:01<00:00, 77.74it/s]\u001b[A\n",
      " 70%|██████▉   | 141/202 [00:01<00:00, 77.91it/s]\u001b[A\n",
      " 74%|███████▍  | 149/202 [00:01<00:00, 77.91it/s]\u001b[A\n",
      " 78%|███████▊  | 157/202 [00:02<00:00, 78.02it/s]\u001b[A\n",
      " 82%|████████▏ | 165/202 [00:02<00:00, 78.04it/s]\u001b[A\n",
      " 86%|████████▌ | 173/202 [00:02<00:00, 78.01it/s]\u001b[A\n",
      " 90%|████████▉ | 181/202 [00:02<00:00, 78.04it/s]\u001b[A\n",
      " 94%|█████████▎| 189/202 [00:02<00:00, 78.07it/s]\u001b[A\n",
      " 98%|█████████▊| 197/202 [00:02<00:00, 78.08it/s]\u001b[A\n",
      "                                                 \u001b[A"
     ]
    },
    {
     "data": {
      "image/png": "[encoded data removed]",
      "text/plain": [
       "<Figure size 600x600 with 1 Axes>"
      ]
     },
     "metadata": {},
     "output_type": "display_data"
    }
   ],
   "source": [
    "plot_roc_curves(y_test, y_pred_prob[:, 1], roc_auc_weights_test, n=200)"
   ]
  },
  {
   "cell_type": "markdown",
   "metadata": {},
   "source": [
    "### l1 feature selection"
   ]
  },
  {
   "cell_type": "code",
   "execution_count": 167,
   "metadata": {
    "execution": {
     "iopub.execute_input": "2025-03-06T12:14:20.183427Z",
     "iopub.status.busy": "2025-03-06T12:14:20.182688Z",
     "iopub.status.idle": "2025-03-06T16:16:49.010707Z",
     "shell.execute_reply": "2025-03-06T16:16:49.009778Z",
     "shell.execute_reply.started": "2025-03-06T12:14:20.183359Z"
    }
   },
   "outputs": [
    {
     "data": {
      "text/plain": [
       "(0.920134416785706, 0.5554687239309247)"
      ]
     },
     "execution_count": 167,
     "metadata": {},
     "output_type": "execute_result"
    }
   ],
   "source": [
    "params = {\n",
    "    \"C\": 0.75,\n",
    "    \"max_iter\": 100,\n",
    "    \"penalty\": \"l1\",\n",
    "    \"solver\": \"liblinear\",\n",
    "    \"random_state\": 42,\n",
    "}\n",
    "\n",
    "logreg_model = train.get_logreg_model(feature_cols, params)\n",
    "logreg_model.fit(X_train, y_train)\n",
    "\n",
    "y_pred_prob = logreg_model.predict_proba(X_test)\n",
    "(\n",
    "    roc_auc_score(y_train, logreg_model.predict_proba(X_train)[:, 1]), \n",
    "    roc_auc_score(y_test, y_pred_prob[:, 1])\n",
    ")"
   ]
  },
  {
   "cell_type": "code",
   "execution_count": 168,
   "metadata": {
    "execution": {
     "iopub.execute_input": "2025-03-06T16:16:49.012042Z",
     "iopub.status.busy": "2025-03-06T16:16:49.011852Z",
     "iopub.status.idle": "2025-03-06T16:16:49.017497Z",
     "shell.execute_reply": "2025-03-06T16:16:49.016761Z",
     "shell.execute_reply.started": "2025-03-06T16:16:49.012027Z"
    }
   },
   "outputs": [
    {
     "data": {
      "text/plain": [
       "372"
      ]
     },
     "execution_count": 168,
     "metadata": {},
     "output_type": "execute_result"
    }
   ],
   "source": [
    "len(feature_cols)"
   ]
  },
  {
   "cell_type": "code",
   "execution_count": 169,
   "metadata": {
    "execution": {
     "iopub.execute_input": "2025-03-06T16:16:49.017975Z",
     "iopub.status.busy": "2025-03-06T16:16:49.017842Z",
     "iopub.status.idle": "2025-03-06T16:16:49.021599Z",
     "shell.execute_reply": "2025-03-06T16:16:49.020895Z",
     "shell.execute_reply.started": "2025-03-06T16:16:49.017962Z"
    }
   },
   "outputs": [],
   "source": [
    "coefficients = logreg_model[\"logisticregression\"].coef_[0]"
   ]
  },
  {
   "cell_type": "code",
   "execution_count": 170,
   "metadata": {
    "execution": {
     "iopub.execute_input": "2025-03-06T16:16:49.022930Z",
     "iopub.status.busy": "2025-03-06T16:16:49.022745Z",
     "iopub.status.idle": "2025-03-06T16:16:49.027667Z",
     "shell.execute_reply": "2025-03-06T16:16:49.026922Z",
     "shell.execute_reply.started": "2025-03-06T16:16:49.022913Z"
    }
   },
   "outputs": [
    {
     "data": {
      "text/plain": [
       "290"
      ]
     },
     "execution_count": 170,
     "metadata": {},
     "output_type": "execute_result"
    }
   ],
   "source": [
    "len(coefficients[(coefficients == 0.0)])"
   ]
  },
  {
   "cell_type": "code",
   "execution_count": 171,
   "metadata": {
    "execution": {
     "iopub.execute_input": "2025-03-06T16:16:49.028315Z",
     "iopub.status.busy": "2025-03-06T16:16:49.028161Z",
     "iopub.status.idle": "2025-03-06T16:16:49.033293Z",
     "shell.execute_reply": "2025-03-06T16:16:49.032515Z",
     "shell.execute_reply.started": "2025-03-06T16:16:49.028299Z"
    }
   },
   "outputs": [
    {
     "data": {
      "text/plain": [
       "82"
      ]
     },
     "execution_count": 171,
     "metadata": {},
     "output_type": "execute_result"
    }
   ],
   "source": [
    "len(coefficients[~(coefficients == 0.0)])"
   ]
  },
  {
   "cell_type": "code",
   "execution_count": 172,
   "metadata": {
    "execution": {
     "iopub.execute_input": "2025-03-06T16:16:49.034098Z",
     "iopub.status.busy": "2025-03-06T16:16:49.033886Z",
     "iopub.status.idle": "2025-03-06T16:16:49.041046Z",
     "shell.execute_reply": "2025-03-06T16:16:49.040191Z",
     "shell.execute_reply.started": "2025-03-06T16:16:49.034076Z"
    }
   },
   "outputs": [
    {
     "data": {
      "text/plain": [
       "array([ 0.38814637, -0.2114189 , -0.2054927 , -0.32248419,  0.31176818,\n",
       "       -0.4187531 , -0.46304283, -0.01065271,  0.19451342,  0.34514848,\n",
       "        0.22132787,  0.01694492,  0.22089793,  0.58033438,  0.06502425,\n",
       "        0.17337258, -0.37978679,  0.1196997 ,  0.14402938,  0.98048778,\n",
       "        0.76529774, -0.42132296, -0.38057974, -1.48187694, -0.05256138,\n",
       "       -0.15751763, -0.57307577, -0.08878469,  0.38856517, -0.15020596,\n",
       "       -0.14768785,  0.84893736,  0.19168429,  0.53808594, -0.46459031,\n",
       "        0.12499047, -0.2798497 ,  0.17160041, -0.15394116, -0.55518076,\n",
       "       -0.1021517 ,  0.01085089,  0.21127624, -0.098618  , -0.12306707,\n",
       "       -0.50385627, -0.06434036, -0.2720487 , -0.4133375 ,  0.00991084,\n",
       "        0.33771624, -0.19188835,  0.2831779 , -0.11172647,  0.22880086,\n",
       "       -0.36397597,  0.26963428, -0.08092598,  0.69300126, -0.45029774,\n",
       "        0.02867241,  0.49823397, -0.76066177, -0.05058677, -0.34586643,\n",
       "        0.47460033,  0.67309691, -0.17447811,  0.01321336,  0.34562129,\n",
       "        0.13353989,  0.35259662, -0.19573316, -0.14083277, -1.11445946,\n",
       "       -0.17905804, -0.00843963, -0.28879794, -0.45861239, -0.11860228,\n",
       "        0.07109177, -0.18985696])"
      ]
     },
     "execution_count": 172,
     "metadata": {},
     "output_type": "execute_result"
    }
   ],
   "source": [
    "coefficients[~(coefficients == 0.0)]"
   ]
  },
  {
   "cell_type": "code",
   "execution_count": 173,
   "metadata": {
    "execution": {
     "iopub.execute_input": "2025-03-06T16:16:49.041943Z",
     "iopub.status.busy": "2025-03-06T16:16:49.041721Z",
     "iopub.status.idle": "2025-03-06T16:16:49.046096Z",
     "shell.execute_reply": "2025-03-06T16:16:49.045171Z",
     "shell.execute_reply.started": "2025-03-06T16:16:49.041920Z"
    }
   },
   "outputs": [],
   "source": [
    "l1_features = X_test.columns[~(coefficients == 0)].tolist()"
   ]
  },
  {
   "cell_type": "code",
   "execution_count": 174,
   "metadata": {
    "execution": {
     "iopub.execute_input": "2025-03-06T16:16:49.046945Z",
     "iopub.status.busy": "2025-03-06T16:16:49.046721Z",
     "iopub.status.idle": "2025-03-06T16:16:49.054265Z",
     "shell.execute_reply": "2025-03-06T16:16:49.053393Z",
     "shell.execute_reply.started": "2025-03-06T16:16:49.046922Z"
    }
   },
   "outputs": [
    {
     "name": "stdout",
     "output_type": "stream",
     "text": [
      "82\n"
     ]
    },
    {
     "data": {
      "text/plain": [
       "['count_earthquakes_m4.0_3650_rad3',\n",
       " 'std_magn_m4.0_1095_rad0',\n",
       " 'std_magn_m4.0_180_rad3',\n",
       " 'count_earthquakes_m4.0_1095_rad0',\n",
       " 'count_earthquakes_m4.0_1095_rad3',\n",
       " 'max_magn_m4.0_60_rad3',\n",
       " 'count_earthquakes_m4.0_3650_rad5',\n",
       " 'count_earthquakes_m4.0_1095_rad5',\n",
       " 'cell_y',\n",
       " 'count_earthquakes_m6.0_60_rad3',\n",
       " 'min_magn_m4.0_180_rad0',\n",
       " 'count_earthquakes_m4.0_180_rad5',\n",
       " 'count_earthquakes_m4.0_60_rad5',\n",
       " 'min_magn_m6.0_2555_rad5',\n",
       " 'mean_magn_m4.0_180_rad0',\n",
       " 'mean_magn_m4.0_1825_rad3',\n",
       " 'min_magn_m4.0_3650_rad3',\n",
       " 'std_magn_m4.0_60_rad5',\n",
       " 'mean_magn_m4.0_90_rad3',\n",
       " 'count_earthquakes_m4.0_1825_rad0',\n",
       " 'min_magn_m4.0_1095_rad0',\n",
       " 'count_earthquakes_m6.0_3650_rad5',\n",
       " 'std_magn_m4.0_3650_rad0',\n",
       " 'max_magn_m4.0_1825_rad0',\n",
       " 'count_earthquakes_m4.0_90_rad5',\n",
       " 'std_magn_m4.0_1825_rad3',\n",
       " 'std_magn_m4.0_2555_rad3',\n",
       " 'std_magn_m6.0_3650_rad3',\n",
       " 'std_magn_m4.0_180_rad5',\n",
       " 'count_earthquakes_m6.0_365_rad5',\n",
       " 'max_magn_m6.0_365_rad5',\n",
       " 'std_magn_m4.0_1095_rad3',\n",
       " 'count_earthquakes_m4.0_60_rad3',\n",
       " 'min_magn_m4.0_3650_rad0',\n",
       " 'max_magn_m4.0_365_rad5',\n",
       " 'day_of_month_sin',\n",
       " 'max_magn_m4.0_60_rad5',\n",
       " 'min_magn_m6.0_3650_rad3',\n",
       " 'std_magn_m4.0_365_rad5',\n",
       " 'std_magn_m6.0_2555_rad5',\n",
       " 'count_earthquakes_m4.0_2555_rad5',\n",
       " 'std_magn_m4.0_90_rad3',\n",
       " 'std_magn_m4.0_365_rad3',\n",
       " 'day_of_year_cos',\n",
       " 'dt_year',\n",
       " 'std_magn_m4.0_1825_rad5',\n",
       " 'count_earthquakes_m6.0_1825_rad5',\n",
       " 'min_magn_m4.0_90_rad0',\n",
       " 'count_earthquakes_m4.0_3650_rad0',\n",
       " 'day_of_year',\n",
       " 'mean_magn_m4.0_365_rad3',\n",
       " 'count_earthquakes_m4.0_365_rad3',\n",
       " 'count_earthquakes_m4.0_180_rad3',\n",
       " 'min_magn_m4.0_2555_rad5',\n",
       " 'count_earthquakes_m4.0_365_rad5',\n",
       " 'std_magn_m4.0_60_rad3',\n",
       " 'day_of_year_sin',\n",
       " 'max_magn_m6.0_1095_rad3',\n",
       " 'count_earthquakes_m4.0_1825_rad5',\n",
       " 'mean_magn_m4.0_180_rad3',\n",
       " 'min_magn_m4.0_2555_rad0',\n",
       " 'mean_magn_m4.0_2555_rad3',\n",
       " 'min_magn_m6.0_1825_rad3',\n",
       " 'lon_cell',\n",
       " 'count_earthquakes_m4.0_365_rad0',\n",
       " 'mean_magn_m4.0_3650_rad5',\n",
       " 'std_magn_m4.0_2555_rad5',\n",
       " 'max_magn_m6.0_90_rad5',\n",
       " 'min_magn_m4.0_90_rad5',\n",
       " 'std_magn_m6.0_3650_rad5',\n",
       " 'day_of_month_cos',\n",
       " 'lat_cell',\n",
       " 'max_magn_m4.0_180_rad5',\n",
       " 'cell_x',\n",
       " 'std_magn_m4.0_3650_rad5',\n",
       " 'count_earthquakes_m6.0_3650_rad0',\n",
       " 'min_magn_m4.0_1095_rad5',\n",
       " 'min_magn_m4.0_1095_rad3',\n",
       " 'count_earthquakes_m4.0_2555_rad3',\n",
       " 'min_magn_m6.0_2555_rad3',\n",
       " 'std_magn_m4.0_90_rad5',\n",
       " 'count_earthquakes_m6.0_180_rad5']"
      ]
     },
     "execution_count": 174,
     "metadata": {},
     "output_type": "execute_result"
    }
   ],
   "source": [
    "print(len(l1_features))\n",
    "\n",
    "l1_features"
   ]
  },
  {
   "cell_type": "code",
   "execution_count": 181,
   "metadata": {
    "execution": {
     "iopub.execute_input": "2025-03-06T17:15:33.618389Z",
     "iopub.status.busy": "2025-03-06T17:15:33.617733Z",
     "iopub.status.idle": "2025-03-06T17:15:52.542868Z",
     "shell.execute_reply": "2025-03-06T17:15:52.541890Z",
     "shell.execute_reply.started": "2025-03-06T17:15:33.618328Z"
    }
   },
   "outputs": [
    {
     "data": {
      "text/plain": [
       "(0.6631088724871363, 0.565377955488663)"
      ]
     },
     "execution_count": 181,
     "metadata": {},
     "output_type": "execute_result"
    }
   ],
   "source": [
    "params = {\n",
    "    \"C\": 2e-4,\n",
    "    \"max_iter\": 100,\n",
    "    \"random_state\": 42\n",
    "}\n",
    "\n",
    "logreg_model = train.get_logreg_model(l1_features, params)\n",
    "\n",
    "logreg_model = logreg_model.fit(X_train, y_train)\n",
    "y_pred_prob = logreg_model.predict_proba(X_test)\n",
    "\n",
    "(\n",
    "    roc_auc_score(y_train, logreg_model.predict_proba(X_train)[:, 1]), \n",
    "    roc_auc_score(y_test, y_pred_prob[:, 1])\n",
    ")"
   ]
  },
  {
   "cell_type": "code",
   "execution_count": 182,
   "metadata": {
    "execution": {
     "iopub.execute_input": "2025-03-06T17:15:52.544527Z",
     "iopub.status.busy": "2025-03-06T17:15:52.544277Z",
     "iopub.status.idle": "2025-03-06T17:15:56.571327Z",
     "shell.execute_reply": "2025-03-06T17:15:56.570532Z",
     "shell.execute_reply.started": "2025-03-06T17:15:52.544509Z"
    }
   },
   "outputs": [
    {
     "name": "stderr",
     "output_type": "stream",
     "text": [
      "\n",
      "  0%|          | 0/202 [00:00<?, ?it/s]\u001b[A\n",
      "  8%|▊         | 16/202 [00:00<00:01, 158.18it/s]\u001b[A\n",
      " 16%|█▌        | 32/202 [00:00<00:01, 155.20it/s]\u001b[A\n",
      " 24%|██▍       | 48/202 [00:00<00:01, 153.93it/s]\u001b[A\n",
      " 32%|███▏      | 64/202 [00:00<00:00, 154.55it/s]\u001b[A\n",
      " 40%|███▉      | 80/202 [00:00<00:00, 154.85it/s]\u001b[A\n",
      " 48%|████▊     | 96/202 [00:00<00:00, 155.37it/s]\u001b[A\n",
      " 55%|█████▌    | 112/202 [00:00<00:00, 154.72it/s]\u001b[A\n",
      " 63%|██████▎   | 128/202 [00:00<00:00, 154.35it/s]\u001b[A\n",
      " 71%|███████▏  | 144/202 [00:00<00:00, 154.78it/s]\u001b[A\n",
      " 79%|███████▉  | 160/202 [00:01<00:00, 154.81it/s]\u001b[A\n",
      " 87%|████████▋ | 176/202 [00:01<00:00, 154.92it/s]\u001b[A\n",
      " 95%|█████████▌| 192/202 [00:01<00:00, 155.28it/s]\u001b[A\n",
      "                                                  \u001b[A\n",
      "  0%|          | 0/202 [00:00<?, ?it/s]\u001b[A\n",
      "  4%|▍         | 8/202 [00:00<00:02, 79.70it/s]\u001b[A\n",
      "  8%|▊         | 16/202 [00:00<00:02, 77.85it/s]\u001b[A\n",
      " 12%|█▏        | 24/202 [00:00<00:02, 77.46it/s]\u001b[A\n",
      " 16%|█▌        | 32/202 [00:00<00:02, 77.60it/s]\u001b[A\n",
      " 20%|█▉        | 40/202 [00:00<00:02, 77.49it/s]\u001b[A\n",
      " 24%|██▍       | 48/202 [00:00<00:01, 77.50it/s]\u001b[A\n",
      " 28%|██▊       | 56/202 [00:00<00:01, 77.50it/s]\u001b[A\n",
      " 32%|███▏      | 64/202 [00:00<00:01, 77.50it/s]\u001b[A\n",
      " 36%|███▌      | 72/202 [00:00<00:01, 77.57it/s]\u001b[A\n",
      " 40%|███▉      | 80/202 [00:01<00:01, 77.72it/s]\u001b[A\n",
      " 44%|████▎     | 88/202 [00:01<00:01, 77.79it/s]\u001b[A\n",
      " 48%|████▊     | 96/202 [00:01<00:01, 77.82it/s]\u001b[A\n",
      " 51%|█████▏    | 104/202 [00:01<00:01, 77.63it/s]\u001b[A\n",
      " 55%|█████▌    | 112/202 [00:01<00:01, 77.60it/s]\u001b[A\n",
      " 59%|█████▉    | 120/202 [00:01<00:01, 77.75it/s]\u001b[A\n",
      " 63%|██████▎   | 128/202 [00:01<00:00, 77.75it/s]\u001b[A\n",
      " 67%|██████▋   | 136/202 [00:01<00:00, 77.87it/s]\u001b[A\n",
      " 71%|███████▏  | 144/202 [00:01<00:00, 77.92it/s]\u001b[A\n",
      " 75%|███████▌  | 152/202 [00:01<00:00, 78.01it/s]\u001b[A\n",
      " 79%|███████▉  | 160/202 [00:02<00:00, 78.02it/s]\u001b[A\n",
      " 83%|████████▎ | 168/202 [00:02<00:00, 78.01it/s]\u001b[A\n",
      " 87%|████████▋ | 176/202 [00:02<00:00, 78.07it/s]\u001b[A\n",
      " 91%|█████████ | 184/202 [00:02<00:00, 78.18it/s]\u001b[A\n",
      " 95%|█████████▌| 192/202 [00:02<00:00, 78.19it/s]\u001b[A\n",
      " 99%|█████████▉| 200/202 [00:02<00:00, 78.18it/s]\u001b[A\n",
      "                                                 \u001b[A"
     ]
    },
    {
     "data": {
      "image/png": "[encoded data removed]",
      "text/plain": [
       "<Figure size 600x600 with 1 Axes>"
      ]
     },
     "metadata": {},
     "output_type": "display_data"
    }
   ],
   "source": [
    "plot_roc_curves(y_test, y_pred_prob[:, 1], roc_auc_weights_test, n=200)"
   ]
  },
  {
   "cell_type": "markdown",
   "metadata": {},
   "source": [
    "### hyper optimiziation"
   ]
  },
  {
   "cell_type": "code",
   "execution_count": 183,
   "metadata": {
    "execution": {
     "iopub.execute_input": "2025-03-06T17:16:14.725221Z",
     "iopub.status.busy": "2025-03-06T17:16:14.724522Z",
     "iopub.status.idle": "2025-03-06T17:55:42.575894Z",
     "shell.execute_reply": "2025-03-06T17:55:42.574525Z",
     "shell.execute_reply.started": "2025-03-06T17:16:14.725155Z"
    }
   },
   "outputs": [
    {
     "name": "stdout",
     "output_type": "stream",
     "text": [
      "using MonthlyTimeSeriesSplit\n"
     ]
    },
    {
     "name": "stderr",
     "output_type": "stream",
     "text": [
      "logisticregression hyperoptimisation: 100%|██████████| 100/100 [39:27<00:00, 23.68s/it]\n"
     ]
    }
   ],
   "source": [
    "def fixed_params(**kwargs) -> dict[str, Any]:\n",
    "    params = {\n",
    "        \"max_iter\": 100,\n",
    "        \"penalty\": \"l2\",\n",
    "        \"random_state\": 42,\n",
    "    }\n",
    "\n",
    "    params.update(kwargs)\n",
    "\n",
    "    return params\n",
    "\n",
    "\n",
    "def default_params(**kwargs) -> dict[str, Any]:\n",
    "    params = {\n",
    "        **fixed_params(),\n",
    "        \"C\": 1e-4,\n",
    "    }\n",
    "    params.update(kwargs)\n",
    "\n",
    "    return params\n",
    "\n",
    "\n",
    "def suggest_params(trial: optuna.trial.Trial, **kwargs) -> dict[str, Any]:\n",
    "    params = {\n",
    "        **fixed_params(),\n",
    "        \"C\": trial.suggest_float(\"C\", 1e-6, 1e-3),\n",
    "    }\n",
    "    params.update(kwargs)\n",
    "\n",
    "    return params\n",
    "\n",
    "tuned_logreg = train.run_optuna(\n",
    "    X = X_train,\n",
    "    y = y_train,\n",
    "    n_trials = 100,\n",
    "    dump_study_path = f\"data/optuna_res/logreg_{dataset_type_train.replace('_train', '')}\",\n",
    "    seed = 42,\n",
    "    resume = False,\n",
    "    suggest_params = suggest_params,\n",
    "    default_params = default_params,\n",
    "    cv = utils.MonthlyTimeSeriesSplit(window=20, partition=True),\n",
    "    model = train.get_logreg_model(l1_features, default_params()),\n",
    "    n_jobs = 40,\n",
    "    model_name = \"logisticregression\",\n",
    ")"
   ]
  },
  {
   "cell_type": "code",
   "execution_count": 184,
   "metadata": {
    "execution": {
     "iopub.execute_input": "2025-03-06T17:55:42.576851Z",
     "iopub.status.busy": "2025-03-06T17:55:42.576700Z",
     "iopub.status.idle": "2025-03-06T17:55:42.582608Z",
     "shell.execute_reply": "2025-03-06T17:55:42.581822Z",
     "shell.execute_reply.started": "2025-03-06T17:55:42.576836Z"
    }
   },
   "outputs": [
    {
     "data": {
      "text/plain": [
       "{'C': 0.0009115281082715307,\n",
       " 'class_weight': None,\n",
       " 'dual': False,\n",
       " 'fit_intercept': True,\n",
       " 'intercept_scaling': 1,\n",
       " 'l1_ratio': None,\n",
       " 'max_iter': 100,\n",
       " 'multi_class': 'auto',\n",
       " 'n_jobs': None,\n",
       " 'penalty': 'l2',\n",
       " 'random_state': 42,\n",
       " 'solver': 'lbfgs',\n",
       " 'tol': 0.0001,\n",
       " 'verbose': 0,\n",
       " 'warm_start': False}"
      ]
     },
     "execution_count": 184,
     "metadata": {},
     "output_type": "execute_result"
    }
   ],
   "source": [
    "tuned_logreg_params = tuned_logreg[\"logisticregression\"].get_params()\n",
    "tuned_logreg_params"
   ]
  },
  {
   "cell_type": "code",
   "execution_count": 185,
   "metadata": {
    "execution": {
     "iopub.execute_input": "2025-03-06T17:55:42.583180Z",
     "iopub.status.busy": "2025-03-06T17:55:42.583052Z",
     "iopub.status.idle": "2025-03-06T17:55:56.869870Z",
     "shell.execute_reply": "2025-03-06T17:55:56.869040Z",
     "shell.execute_reply.started": "2025-03-06T17:55:42.583168Z"
    },
    "scrolled": true
   },
   "outputs": [
    {
     "name": "stderr",
     "output_type": "stream",
     "text": [
      "\n",
      "  0%|          | 0/102 [00:00<?, ?it/s]\u001b[A\n",
      " 11%|█         | 11/102 [00:00<00:00, 105.00it/s]\u001b[A\n",
      " 26%|██▋       | 27/102 [00:00<00:00, 132.79it/s]\u001b[A\n",
      " 42%|████▏     | 43/102 [00:00<00:00, 141.72it/s]\u001b[A\n",
      " 58%|█████▊    | 59/102 [00:00<00:00, 146.01it/s]\u001b[A\n",
      " 74%|███████▎  | 75/102 [00:00<00:00, 148.49it/s]\u001b[A\n",
      " 89%|████████▉ | 91/102 [00:00<00:00, 149.99it/s]\u001b[A\n",
      "                                                 \u001b[A\n",
      "  0%|          | 0/102 [00:00<?, ?it/s]\u001b[A\n",
      "  8%|▊         | 8/102 [00:00<00:01, 77.30it/s]\u001b[A\n",
      " 16%|█▌        | 16/102 [00:00<00:01, 76.04it/s]\u001b[A\n",
      " 24%|██▎       | 24/102 [00:00<00:01, 76.03it/s]\u001b[A\n",
      " 31%|███▏      | 32/102 [00:00<00:00, 76.14it/s]\u001b[A\n",
      " 39%|███▉      | 40/102 [00:00<00:00, 76.31it/s]\u001b[A\n",
      " 47%|████▋     | 48/102 [00:00<00:00, 76.37it/s]\u001b[A\n",
      " 55%|█████▍    | 56/102 [00:00<00:00, 76.43it/s]\u001b[A\n",
      " 63%|██████▎   | 64/102 [00:00<00:00, 76.46it/s]\u001b[A\n",
      " 71%|███████   | 72/102 [00:00<00:00, 76.44it/s]\u001b[A\n",
      " 78%|███████▊  | 80/102 [00:01<00:00, 76.45it/s]\u001b[A\n",
      " 86%|████████▋ | 88/102 [00:01<00:00, 76.52it/s]\u001b[A\n",
      " 94%|█████████▍| 96/102 [00:01<00:00, 76.57it/s]\u001b[A\n",
      "                                                \u001b[A"
     ]
    },
    {
     "data": {
      "image/png": "[encoded data removed]",
      "text/plain": [
       "<Figure size 600x600 with 1 Axes>"
      ]
     },
     "metadata": {},
     "output_type": "display_data"
    }
   ],
   "source": [
    "reulst_withoutaft_logreg = tuned_logreg.fit(X_train, y_train)\n",
    "y_pred_prob = reulst_withoutaft_logreg.predict_proba(X_test)\n",
    "\n",
    "plot_roc_curves(y_test, y_pred_prob[:, 1], roc_auc_weights_test, n=100)"
   ]
  },
  {
   "cell_type": "code",
   "execution_count": 186,
   "metadata": {
    "execution": {
     "iopub.execute_input": "2025-03-06T17:55:56.871126Z",
     "iopub.status.busy": "2025-03-06T17:55:56.870972Z",
     "iopub.status.idle": "2025-03-06T17:56:02.700624Z",
     "shell.execute_reply": "2025-03-06T17:56:02.699288Z",
     "shell.execute_reply.started": "2025-03-06T17:55:56.871111Z"
    }
   },
   "outputs": [
    {
     "data": {
      "text/plain": [
       "(0.7491106809613122, 0.5098562702070699)"
      ]
     },
     "execution_count": 186,
     "metadata": {},
     "output_type": "execute_result"
    }
   ],
   "source": [
    "(\n",
    "    roc_auc_score(y_train, reulst_withoutaft_logreg.predict_proba(X_train)[:, 1]), \n",
    "    roc_auc_score(y_test, y_pred_prob[:, 1]),\n",
    ")"
   ]
  },
  {
   "cell_type": "code",
   "execution_count": 187,
   "metadata": {
    "execution": {
     "iopub.execute_input": "2025-03-06T18:28:56.907352Z",
     "iopub.status.busy": "2025-03-06T18:28:56.906449Z",
     "iopub.status.idle": "2025-03-06T18:28:57.251889Z",
     "shell.execute_reply": "2025-03-06T18:28:57.249088Z",
     "shell.execute_reply.started": "2025-03-06T18:28:56.907275Z"
    }
   },
   "outputs": [],
   "source": [
    "! rm -rf data/models/withoutaft_6_logreg_.pickle"
   ]
  },
  {
   "cell_type": "code",
   "execution_count": null,
   "metadata": {
    "execution": {
     "iopub.execute_input": "2025-03-06T18:28:57.863504Z",
     "iopub.status.busy": "2025-03-06T18:28:57.862830Z",
     "iopub.status.idle": "2025-03-06T18:28:57.890960Z",
     "shell.execute_reply": "2025-03-06T18:28:57.888989Z",
     "shell.execute_reply.started": "2025-03-06T18:28:57.863442Z"
    }
   },
   "outputs": [
    {
     "data": {
      "text/plain": [
       "['data/models/withoutaft_6_logreg_.pickle']"
      ]
     },
     "execution_count": 188,
     "metadata": {},
     "output_type": "execute_result"
    }
   ],
   "source": [
    "joblib.dump(reulst_withoutaft_logreg, \"data/models/withoutaft_6_logreg.pickle\")"
   ]
  },
  {
   "cell_type": "code",
   "execution_count": null,
   "metadata": {},
   "outputs": [],
   "source": []
  }
 ],
 "metadata": {
  "kernelspec": {
   "display_name": "smartdevds",
   "language": "python",
   "name": "smartdevds"
  },
  "language_info": {
   "codemirror_mode": {
    "name": "ipython",
    "version": 3
   },
   "file_extension": ".py",
   "mimetype": "text/x-python",
   "name": "python",
   "nbconvert_exporter": "python",
   "pygments_lexer": "ipython3",
   "version": "3.10.15"
  }
 },
 "nbformat": 4,
 "nbformat_minor": 4
}
