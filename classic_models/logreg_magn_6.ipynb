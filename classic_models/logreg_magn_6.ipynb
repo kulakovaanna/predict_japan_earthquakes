{
 "cells": [
  {
   "cell_type": "code",
   "execution_count": 1,
   "metadata": {
    "execution": {
     "iopub.execute_input": "2025-02-12T20:27:45.929465Z",
     "iopub.status.busy": "2025-02-12T20:27:45.927567Z",
     "iopub.status.idle": "2025-02-12T20:27:47.402798Z",
     "shell.execute_reply": "2025-02-12T20:27:47.401920Z",
     "shell.execute_reply.started": "2025-02-12T20:27:45.929399Z"
    }
   },
   "outputs": [
    {
     "name": "stderr",
     "output_type": "stream",
     "text": [
      "/home/prc/anaconda3/envs/smartdevds10/lib/python3.10/site-packages/tqdm/auto.py:21: TqdmWarning: IProgress not found. Please update jupyter and ipywidgets. See https://ipywidgets.readthedocs.io/en/stable/user_install.html\n",
      "  from .autonotebook import tqdm as notebook_tqdm\n"
     ]
    }
   ],
   "source": [
    "import warnings\n",
    "from typing import Any\n",
    "import joblib\n",
    "\n",
    "import pandas as pd\n",
    "import numpy as np\n",
    "import matplotlib.pyplot as plt\n",
    "from tqdm import tqdm\n",
    "\n",
    "import lightgbm as lgb\n",
    "from sklearn.linear_model import LogisticRegression\n",
    "from sklearn.model_selection import StratifiedKFold\n",
    "from sklearn.impute import SimpleImputer\n",
    "from sklearn.metrics import roc_auc_score, precision_recall_fscore_support, average_precision_score, auc\n",
    "from sklearn.feature_selection import RFECV\n",
    "import optuna\n",
    "import optuna.trial\n",
    "import optuna.logging\n",
    "\n",
    "from utils import plot_roc\n",
    "import ml_utils as utils\n",
    "from ml_utils import (\n",
    "    get_weights_for_roc_auc, weighted_roc_metric, weighted_fpr_roc_metric, \n",
    "    get_optimal_trs, plot_roc, get_tpr_fpr, plot_roc_curves\n",
    ")\n",
    "import train\n",
    "\n",
    "\n",
    "np.random.seed(42)\n",
    "warnings.simplefilter(action='ignore', category=FutureWarning)\n",
    "warnings.simplefilter(action='ignore', category=pd.errors.PerformanceWarning)\n",
    "optuna.logging.set_verbosity(optuna.logging.WARNING)"
   ]
  },
  {
   "cell_type": "markdown",
   "metadata": {},
   "source": [
    "# aft, magn > 6.0"
   ]
  },
  {
   "cell_type": "markdown",
   "metadata": {},
   "source": [
    "## read "
   ]
  },
  {
   "cell_type": "code",
   "execution_count": 2,
   "metadata": {
    "execution": {
     "iopub.execute_input": "2025-02-12T20:27:47.403639Z",
     "iopub.status.busy": "2025-02-12T20:27:47.403379Z",
     "iopub.status.idle": "2025-02-12T20:27:47.408717Z",
     "shell.execute_reply": "2025-02-12T20:27:47.408124Z",
     "shell.execute_reply.started": "2025-02-12T20:27:47.403622Z"
    }
   },
   "outputs": [],
   "source": [
    "dataset_type_train = \"magn_6_aft\"\n",
    "dataset_type_test = \"magn_6_aft_test\"\n",
    "\n",
    "target = \"target\"\n",
    "dt_col = \"dt\"\n",
    "min_test_date = \"2020-10-14\"\n",
    "min_train_date = \"2014-03-17\"\n",
    "\n",
    "train_path = f\"data/dataset/{dataset_type_train}_trs6.0.parquet\"\n",
    "test_path = f\"data/dataset/{dataset_type_test}_trs6.0.parquet\""
   ]
  },
  {
   "cell_type": "code",
   "execution_count": 3,
   "metadata": {
    "execution": {
     "iopub.execute_input": "2025-02-12T20:27:47.410011Z",
     "iopub.status.busy": "2025-02-12T20:27:47.409823Z",
     "iopub.status.idle": "2025-02-12T20:27:49.878586Z",
     "shell.execute_reply": "2025-02-12T20:27:49.877124Z",
     "shell.execute_reply.started": "2025-02-12T20:27:47.409994Z"
    }
   },
   "outputs": [
    {
     "name": "stdout",
     "output_type": "stream",
     "text": [
      "train_path: data/dataset/magn_6_aft_trs6.0.parquet\n",
      "test_path: data/dataset/magn_6_aft_test_trs6.0.parquet\n",
      "\n",
      "get_features_dict:\n",
      " {0: [0, 1, 3, 5, 7, 10]\n",
      "3: [0, 1, 3, 5, 7, 10]\n",
      "5: [0, 1, 3, 5, 7, 10]}\n",
      "\n",
      "train dates: 2014-03-17 — 2020-08-13\n",
      "test dates: 2020-10-14 — 2023-05-09\n",
      "\n",
      "train: target==0: 524970, target==1: 1980\n",
      "test: target==0: 210320, target==1: 730\n",
      "target class proportion: test: 0.0034709014834537846, train: 0.0037716440939482257\n"
     ]
    }
   ],
   "source": [
    "train_df, test_df = utils.get_train_test_datasets(\n",
    "    train_path=train_path, test_path=test_path, \n",
    "    min_test_date = min_test_date, min_train_date = min_train_date\n",
    ")"
   ]
  },
  {
   "cell_type": "code",
   "execution_count": 4,
   "metadata": {
    "execution": {
     "iopub.execute_input": "2025-02-12T20:27:49.879762Z",
     "iopub.status.busy": "2025-02-12T20:27:49.879560Z",
     "iopub.status.idle": "2025-02-12T20:27:49.886212Z",
     "shell.execute_reply": "2025-02-12T20:27:49.884888Z",
     "shell.execute_reply.started": "2025-02-12T20:27:49.879741Z"
    }
   },
   "outputs": [],
   "source": [
    "feature_cols = list(set(train_df.columns) - set([target, dt_col, \"horizon_min_dt\", \"horizon_max_dt\"]))"
   ]
  },
  {
   "cell_type": "code",
   "execution_count": 5,
   "metadata": {
    "execution": {
     "iopub.execute_input": "2025-02-12T20:27:49.887239Z",
     "iopub.status.busy": "2025-02-12T20:27:49.887055Z",
     "iopub.status.idle": "2025-02-12T20:27:51.163627Z",
     "shell.execute_reply": "2025-02-12T20:27:51.162310Z",
     "shell.execute_reply.started": "2025-02-12T20:27:49.887221Z"
    }
   },
   "outputs": [],
   "source": [
    "# train, test\n",
    "features = utils.Features(\n",
    "    features=feature_cols, target=target, dt_col=dt_col, \n",
    "    groupby=[\"cell_x\", \"cell_y\"], target_features=[]\n",
    ")\n",
    "\n",
    "X_train, y_train = features.make_features_target(train_df)\n",
    "X_test, y_test = features.make_features_target(test_df)"
   ]
  },
  {
   "cell_type": "code",
   "execution_count": 6,
   "metadata": {
    "execution": {
     "iopub.execute_input": "2025-02-12T20:27:51.164364Z",
     "iopub.status.busy": "2025-02-12T20:27:51.164181Z",
     "iopub.status.idle": "2025-02-12T20:27:51.324669Z",
     "shell.execute_reply": "2025-02-12T20:27:51.323337Z",
     "shell.execute_reply.started": "2025-02-12T20:27:51.164347Z"
    }
   },
   "outputs": [
    {
     "data": {
      "text/plain": [
       "dt        0\n",
       "cell_x    0\n",
       "cell_y    0\n",
       "target    0\n",
       "dtype: int64"
      ]
     },
     "execution_count": 6,
     "metadata": {},
     "output_type": "execute_result"
    }
   ],
   "source": [
    "y_test.reset_index().merge(y_train.reset_index(), how=\"left\").isna().sum()"
   ]
  },
  {
   "cell_type": "code",
   "execution_count": 7,
   "metadata": {
    "execution": {
     "iopub.execute_input": "2025-02-12T20:27:51.325656Z",
     "iopub.status.busy": "2025-02-12T20:27:51.325469Z",
     "iopub.status.idle": "2025-02-12T20:27:57.552717Z",
     "shell.execute_reply": "2025-02-12T20:27:57.552060Z",
     "shell.execute_reply.started": "2025-02-12T20:27:51.325639Z"
    }
   },
   "outputs": [],
   "source": [
    "# get weights for roc auc as probability density of occured earthquakes\n",
    "roc_auc_weights_test = get_weights_for_roc_auc(y=y_test, last_dt=min_test_date)\n",
    "roc_auc_weights_train = get_weights_for_roc_auc(y=y_train, last_dt=min_test_date)"
   ]
  },
  {
   "cell_type": "code",
   "execution_count": 8,
   "metadata": {
    "execution": {
     "iopub.execute_input": "2025-02-12T20:27:57.553552Z",
     "iopub.status.busy": "2025-02-12T20:27:57.553387Z",
     "iopub.status.idle": "2025-02-12T20:27:57.560159Z",
     "shell.execute_reply": "2025-02-12T20:27:57.559562Z",
     "shell.execute_reply.started": "2025-02-12T20:27:57.553537Z"
    }
   },
   "outputs": [],
   "source": [
    "assert len(roc_auc_weights_test) == len(roc_auc_weights_test[~np.isnan(roc_auc_weights_test)]) == len(y_test)\n",
    "assert len(roc_auc_weights_train) == len(roc_auc_weights_train[~np.isnan(roc_auc_weights_train)]) == len(y_train)"
   ]
  },
  {
   "cell_type": "code",
   "execution_count": 9,
   "metadata": {
    "execution": {
     "iopub.execute_input": "2025-02-12T20:27:57.561981Z",
     "iopub.status.busy": "2025-02-12T20:27:57.561760Z",
     "iopub.status.idle": "2025-02-12T20:27:57.566468Z",
     "shell.execute_reply": "2025-02-12T20:27:57.565926Z",
     "shell.execute_reply.started": "2025-02-12T20:27:57.561964Z"
    }
   },
   "outputs": [
    {
     "data": {
      "text/plain": [
       "array([0.03846154, 0.03846154, 0.03846154, ..., 0.00240385, 0.00240385,\n",
       "       0.00240385])"
      ]
     },
     "execution_count": 9,
     "metadata": {},
     "output_type": "execute_result"
    }
   ],
   "source": [
    "roc_auc_weights_test"
   ]
  },
  {
   "cell_type": "code",
   "execution_count": 10,
   "metadata": {
    "execution": {
     "iopub.execute_input": "2025-02-12T20:27:57.567158Z",
     "iopub.status.busy": "2025-02-12T20:27:57.566994Z",
     "iopub.status.idle": "2025-02-12T20:27:57.575850Z",
     "shell.execute_reply": "2025-02-12T20:27:57.575284Z",
     "shell.execute_reply.started": "2025-02-12T20:27:57.567142Z"
    }
   },
   "outputs": [
    {
     "data": {
      "text/plain": [
       "(211050,\n",
       " 1.0,\n",
       " array([0.00240385, 0.00480769, 0.00721154, 0.00961538, 0.01201923,\n",
       "        0.01442308, 0.01682692, 0.01923077, 0.02163462, 0.02403846,\n",
       "        0.02644231, 0.02884615, 0.03125   , 0.03365385, 0.03605769,\n",
       "        0.03846154, 0.04086538, 0.04326923, 0.04567308, 0.04807692,\n",
       "        0.05048077, 0.05288462, 0.05528846, 0.05769231, 0.06009615,\n",
       "        0.0625    , 0.06490385, 0.06730769, 0.06971154, 0.07211538,\n",
       "        0.07451923, 0.07692308, 0.07932692, 0.08413462, 0.08653846,\n",
       "        0.09134615, 0.09375   , 0.09615385, 0.09855769, 0.10096154,\n",
       "        0.10336538, 0.10576923, 0.10817308, 0.11057692, 0.11298077,\n",
       "        0.11538462, 0.11778846, 0.125     , 0.12740385, 0.12980769,\n",
       "        0.13701923, 0.13942308, 0.14182692, 0.14423077, 0.14663462,\n",
       "        0.15625   , 0.15865385, 0.17067308, 0.17548077, 0.18269231,\n",
       "        0.19471154, 0.20192308, 0.20673077, 0.20913462, 0.21394231,\n",
       "        0.21634615, 0.22596154, 0.22836538, 0.23557692, 0.24278846,\n",
       "        0.25      , 0.25721154, 0.26201923, 0.27403846, 0.27644231,\n",
       "        0.28605769, 0.30048077, 0.3125    , 0.32211538, 0.33894231,\n",
       "        0.35336538, 0.37019231, 0.37259615, 0.38942308, 0.41105769,\n",
       "        0.43028846, 0.43269231, 0.45673077, 0.46394231, 0.49038462,\n",
       "        0.52884615, 0.54807692, 0.59375   , 0.59855769, 0.64182692,\n",
       "        0.78365385, 0.82211538, 0.87259615, 1.        ]))"
      ]
     },
     "execution_count": 10,
     "metadata": {},
     "output_type": "execute_result"
    }
   ],
   "source": [
    "len(roc_auc_weights_test[roc_auc_weights_test > 0.0]), np.max(roc_auc_weights_test), np.unique(roc_auc_weights_test)"
   ]
  },
  {
   "cell_type": "code",
   "execution_count": 11,
   "metadata": {
    "execution": {
     "iopub.execute_input": "2025-02-12T20:27:57.576536Z",
     "iopub.status.busy": "2025-02-12T20:27:57.576384Z",
     "iopub.status.idle": "2025-02-12T20:27:57.684684Z",
     "shell.execute_reply": "2025-02-12T20:27:57.684095Z",
     "shell.execute_reply.started": "2025-02-12T20:27:57.576521Z"
    }
   },
   "outputs": [
    {
     "data": {
      "image/png": "[encoded data removed]",
      "text/plain": [
       "<Figure size 640x480 with 1 Axes>"
      ]
     },
     "metadata": {},
     "output_type": "display_data"
    }
   ],
   "source": [
    "plt.hist(roc_auc_weights_test[roc_auc_weights_test > 0.0], range=(0, 1.0), bins=20);"
   ]
  },
  {
   "cell_type": "code",
   "execution_count": 12,
   "metadata": {
    "execution": {
     "iopub.execute_input": "2025-02-12T20:27:57.685426Z",
     "iopub.status.busy": "2025-02-12T20:27:57.685252Z",
     "iopub.status.idle": "2025-02-12T20:27:57.689321Z",
     "shell.execute_reply": "2025-02-12T20:27:57.688426Z",
     "shell.execute_reply.started": "2025-02-12T20:27:57.685410Z"
    }
   },
   "outputs": [],
   "source": [
    "y_train = y_train[target]\n",
    "y_test = y_test[target]"
   ]
  },
  {
   "cell_type": "code",
   "execution_count": 13,
   "metadata": {
    "execution": {
     "iopub.execute_input": "2025-02-12T20:27:57.690150Z",
     "iopub.status.busy": "2025-02-12T20:27:57.689961Z",
     "iopub.status.idle": "2025-02-12T20:27:57.695070Z",
     "shell.execute_reply": "2025-02-12T20:27:57.694428Z",
     "shell.execute_reply.started": "2025-02-12T20:27:57.690133Z"
    }
   },
   "outputs": [
    {
     "data": {
      "text/plain": [
       "(1980, 730)"
      ]
     },
     "execution_count": 13,
     "metadata": {},
     "output_type": "execute_result"
    }
   ],
   "source": [
    "y_train.sum(), y_test.sum()"
   ]
  },
  {
   "cell_type": "markdown",
   "metadata": {},
   "source": [
    "## logreg"
   ]
  },
  {
   "cell_type": "code",
   "execution_count": 14,
   "metadata": {
    "execution": {
     "iopub.execute_input": "2025-02-12T20:27:57.695930Z",
     "iopub.status.busy": "2025-02-12T20:27:57.695727Z",
     "iopub.status.idle": "2025-02-12T20:27:57.899895Z",
     "shell.execute_reply": "2025-02-12T20:27:57.899341Z",
     "shell.execute_reply.started": "2025-02-12T20:27:57.695912Z"
    }
   },
   "outputs": [
    {
     "data": {
      "text/plain": [
       "3"
      ]
     },
     "execution_count": 14,
     "metadata": {},
     "output_type": "execute_result"
    }
   ],
   "source": [
    "cv = utils.MonthlyTimeSeriesSplit(window=20)\n",
    "cv.get_n_splits(X_train)"
   ]
  },
  {
   "cell_type": "code",
   "execution_count": 15,
   "metadata": {
    "execution": {
     "iopub.execute_input": "2025-02-12T20:27:57.900638Z",
     "iopub.status.busy": "2025-02-12T20:27:57.900468Z",
     "iopub.status.idle": "2025-02-12T20:28:01.354047Z",
     "shell.execute_reply": "2025-02-12T20:28:01.353418Z",
     "shell.execute_reply.started": "2025-02-12T20:27:57.900623Z"
    }
   },
   "outputs": [
    {
     "name": "stdout",
     "output_type": "stream",
     "text": [
      "train: [2014-03-17, 2015-10-31], len: 133650 | test: [2015-11-01, 2017-06-30], len: 136800\n",
      "train: [2014-03-17, 2017-06-30], len: 270450 | test: [2017-07-01, 2019-02-28], len: 136800\n",
      "train: [2014-03-17, 2019-02-28], len: 407250 | test: [2019-03-01, 2020-08-13], len: 119700\n"
     ]
    }
   ],
   "source": [
    "for split_train, split_test in cv.split(X_train):\n",
    "    train_start = np.sort(X_train.iloc[split_train].drop(columns=[\"cell_x\", \"cell_y\"]).reset_index()[\"dt\"].unique())[0]\n",
    "    train_end = np.sort(X_train.iloc[split_train].drop(columns=[\"cell_x\", \"cell_y\"]).reset_index()[\"dt\"].unique())[-1]\n",
    "    test_start = np.sort(X_train.iloc[split_test].drop(columns=[\"cell_x\", \"cell_y\"]).reset_index()[\"dt\"].unique())[0]\n",
    "    test_end = np.sort(X_train.iloc[split_test].drop(columns=[\"cell_x\", \"cell_y\"]).reset_index()[\"dt\"].unique())[-1]\n",
    "\n",
    "    print(f\"train: [{train_start}, {train_end}], len: {len(split_train)} | test: [{test_start}, {test_end}], len: {len(split_test)}\")"
   ]
  },
  {
   "cell_type": "markdown",
   "metadata": {},
   "source": [
    "### baseline"
   ]
  },
  {
   "cell_type": "code",
   "execution_count": 16,
   "metadata": {
    "execution": {
     "iopub.execute_input": "2025-02-12T20:28:01.354776Z",
     "iopub.status.busy": "2025-02-12T20:28:01.354615Z",
     "iopub.status.idle": "2025-02-12T20:29:12.786871Z",
     "shell.execute_reply": "2025-02-12T20:29:12.785729Z",
     "shell.execute_reply.started": "2025-02-12T20:28:01.354761Z"
    }
   },
   "outputs": [
    {
     "name": "stderr",
     "output_type": "stream",
     "text": [
      "                                                \r"
     ]
    },
    {
     "data": {
      "image/png": "[encoded data removed]",
      "text/plain": [
       "<Figure size 600x600 with 1 Axes>"
      ]
     },
     "metadata": {},
     "output_type": "display_data"
    }
   ],
   "source": [
    "params = {\n",
    "    \"C\": 1.0,\n",
    "    \"max_iter\": 1500,\n",
    "}\n",
    "\n",
    "logreg_model = train.get_logreg_model(feature_cols, params)\n",
    "\n",
    "logreg_model = logreg_model.fit(X_train, y_train)\n",
    "y_pred_prob = logreg_model.predict_proba(X_test)\n",
    "\n",
    "baseline_roc_auc = roc_auc_score(y_test, y_pred_prob[:, 1])\n",
    "\n",
    "(\n",
    "    roc_auc_score(y_train, logreg_model.predict_proba(X_train)[:, 1]), \n",
    "    roc_auc_score(y_test, y_pred_prob[:, 1])\n",
    ")\n",
    "\n",
    "plot_roc_curves(y_test, y_pred_prob[:, 1], roc_auc_weights_test, n=100)"
   ]
  },
  {
   "cell_type": "markdown",
   "metadata": {},
   "source": [
    "### rfecv feature selection"
   ]
  },
  {
   "cell_type": "code",
   "execution_count": 17,
   "metadata": {
    "execution": {
     "iopub.execute_input": "2025-02-12T20:29:12.788059Z",
     "iopub.status.busy": "2025-02-12T20:29:12.787840Z",
     "iopub.status.idle": "2025-02-12T20:46:14.668100Z",
     "shell.execute_reply": "2025-02-12T20:46:14.667211Z",
     "shell.execute_reply.started": "2025-02-12T20:29:12.788040Z"
    }
   },
   "outputs": [
    {
     "name": "stdout",
     "output_type": "stream",
     "text": [
      "Optimal number of features: 72\n"
     ]
    }
   ],
   "source": [
    "rfecv_features = train.logreg_rfe_select(\n",
    "    X_train, y_train, feature_cols, cv, params=None, min_features_to_select=10, step=5, n_jobs=20\n",
    ")"
   ]
  },
  {
   "cell_type": "code",
   "execution_count": 18,
   "metadata": {
    "execution": {
     "iopub.execute_input": "2025-02-12T20:46:14.669448Z",
     "iopub.status.busy": "2025-02-12T20:46:14.669148Z",
     "iopub.status.idle": "2025-02-12T20:46:14.685082Z",
     "shell.execute_reply": "2025-02-12T20:46:14.683498Z",
     "shell.execute_reply.started": "2025-02-12T20:46:14.669418Z"
    }
   },
   "outputs": [
    {
     "data": {
      "text/plain": [
       "['max_magn_90_rad3',\n",
       " 'std_magn_1825_rad5',\n",
       " 'std_magn_3650_rad0',\n",
       " 'mean_magn_1825_rad5',\n",
       " 'count_earthquakes_365_rad3',\n",
       " 'mean_magn_3650_rad5',\n",
       " 'count_earthquakes_1095_rad5',\n",
       " 'max_magn_1825_rad0',\n",
       " 'max_magn_365_rad5',\n",
       " 'std_magn_3650_rad3',\n",
       " 'mean_magn_60_rad5',\n",
       " 'max_magn_1825_rad3',\n",
       " 'max_magn_90_rad5',\n",
       " 'std_magn_60_rad3',\n",
       " 'std_magn_180_rad3',\n",
       " 'mean_magn_365_rad3',\n",
       " 'std_magn_180_rad5',\n",
       " 'std_magn_90_rad5',\n",
       " 'mean_magn_1825_rad3',\n",
       " 'min_magn_90_rad3',\n",
       " 'std_magn_365_rad3',\n",
       " 'min_magn_1825_rad5',\n",
       " 'count_earthquakes_1095_rad0',\n",
       " 'count_earthquakes_3650_rad5',\n",
       " 'count_earthquakes_2555_rad3',\n",
       " 'count_earthquakes_180_rad3',\n",
       " 'mean_magn_90_rad5',\n",
       " 'min_magn_1095_rad3',\n",
       " 'std_magn_90_rad3',\n",
       " 'count_earthquakes_1095_rad3',\n",
       " 'count_earthquakes_3650_rad3',\n",
       " 'count_earthquakes_365_rad5',\n",
       " 'count_earthquakes_60_rad5',\n",
       " 'min_magn_1825_rad0',\n",
       " 'mean_magn_3650_rad3',\n",
       " 'count_earthquakes_2555_rad5',\n",
       " 'mean_magn_90_rad3',\n",
       " 'mean_magn_2555_rad5',\n",
       " 'min_magn_3650_rad5',\n",
       " 'count_earthquakes_2555_rad0',\n",
       " 'max_magn_3650_rad5',\n",
       " 'max_magn_1095_rad0',\n",
       " 'std_magn_1095_rad3',\n",
       " 'min_magn_90_rad5',\n",
       " 'min_magn_365_rad5',\n",
       " 'max_magn_3650_rad0',\n",
       " 'mean_magn_1825_rad0',\n",
       " 'max_magn_365_rad3',\n",
       " 'std_magn_1825_rad3',\n",
       " 'count_earthquakes_90_rad3',\n",
       " 'min_magn_60_rad5',\n",
       " 'max_magn_2555_rad5',\n",
       " 'count_earthquakes_1825_rad0',\n",
       " 'min_magn_2555_rad5',\n",
       " 'max_magn_60_rad5',\n",
       " 'mean_magn_60_rad3',\n",
       " 'min_magn_1095_rad0',\n",
       " 'min_magn_60_rad3',\n",
       " 'count_earthquakes_1825_rad5',\n",
       " 'count_earthquakes_60_rad3',\n",
       " 'min_magn_2555_rad3',\n",
       " 'count_earthquakes_90_rad5',\n",
       " 'min_magn_3650_rad3',\n",
       " 'count_earthquakes_180_rad5',\n",
       " 'mean_magn_2555_rad3',\n",
       " 'max_magn_2555_rad3',\n",
       " 'std_magn_60_rad5',\n",
       " 'max_magn_3650_rad3',\n",
       " 'max_magn_60_rad3',\n",
       " 'mean_magn_365_rad5',\n",
       " 'count_earthquakes_3650_rad0',\n",
       " 'mean_magn_1095_rad0']"
      ]
     },
     "execution_count": 18,
     "metadata": {},
     "output_type": "execute_result"
    }
   ],
   "source": [
    "rfecv_features"
   ]
  },
  {
   "cell_type": "code",
   "execution_count": 19,
   "metadata": {
    "execution": {
     "iopub.execute_input": "2025-02-12T20:46:14.694679Z",
     "iopub.status.busy": "2025-02-12T20:46:14.693013Z",
     "iopub.status.idle": "2025-02-12T20:46:14.701983Z",
     "shell.execute_reply": "2025-02-12T20:46:14.701483Z",
     "shell.execute_reply.started": "2025-02-12T20:46:14.694642Z"
    }
   },
   "outputs": [
    {
     "data": {
      "text/plain": [
       "{0: [3, 5, 7, 10], 3: [0, 1, 3, 5, 7, 10], 5: [0, 1, 3, 5, 7, 10]}"
      ]
     },
     "execution_count": 19,
     "metadata": {},
     "output_type": "execute_result"
    }
   ],
   "source": [
    "utils.get_features_dict(rfecv_features)"
   ]
  },
  {
   "cell_type": "code",
   "execution_count": 20,
   "metadata": {
    "execution": {
     "iopub.execute_input": "2025-02-12T20:46:14.702786Z",
     "iopub.status.busy": "2025-02-12T20:46:14.702610Z",
     "iopub.status.idle": "2025-02-12T20:46:46.537228Z",
     "shell.execute_reply": "2025-02-12T20:46:46.536214Z",
     "shell.execute_reply.started": "2025-02-12T20:46:14.702769Z"
    }
   },
   "outputs": [
    {
     "name": "stderr",
     "output_type": "stream",
     "text": [
      "                                                 \r"
     ]
    },
    {
     "data": {
      "image/png": "[encoded data removed]",
      "text/plain": [
       "<Figure size 600x600 with 1 Axes>"
      ]
     },
     "metadata": {},
     "output_type": "display_data"
    }
   ],
   "source": [
    "params = {\n",
    "    \"C\": 1.0,\n",
    "    \"max_iter\": 1500,\n",
    "}\n",
    "\n",
    "logreg_model = train.get_logreg_model(rfecv_features, params)\n",
    "\n",
    "logreg_model = logreg_model.fit(X_train, y_train)\n",
    "y_pred_prob = logreg_model.predict_proba(X_test)\n",
    "\n",
    "\n",
    "plot_roc_curves(y_test, y_pred_prob[:, 1], roc_auc_weights_test, n=100)"
   ]
  },
  {
   "cell_type": "code",
   "execution_count": 21,
   "metadata": {
    "execution": {
     "iopub.execute_input": "2025-02-12T20:46:46.538102Z",
     "iopub.status.busy": "2025-02-12T20:46:46.537942Z",
     "iopub.status.idle": "2025-02-12T20:46:47.627463Z",
     "shell.execute_reply": "2025-02-12T20:46:47.626684Z",
     "shell.execute_reply.started": "2025-02-12T20:46:46.538085Z"
    }
   },
   "outputs": [
    {
     "data": {
      "text/plain": [
       "(0.9115901485856912, 0.6342964243657414)"
      ]
     },
     "execution_count": 21,
     "metadata": {},
     "output_type": "execute_result"
    }
   ],
   "source": [
    "(\n",
    "    roc_auc_score(y_train, logreg_model.predict_proba(X_train)[:, 1]), \n",
    "    roc_auc_score(y_test, y_pred_prob[:, 1])\n",
    ")"
   ]
  },
  {
   "cell_type": "markdown",
   "metadata": {},
   "source": [
    "### hyper optimiziation"
   ]
  },
  {
   "cell_type": "code",
   "execution_count": 22,
   "metadata": {
    "execution": {
     "iopub.execute_input": "2025-02-12T20:46:47.628389Z",
     "iopub.status.busy": "2025-02-12T20:46:47.628224Z",
     "iopub.status.idle": "2025-02-12T21:53:15.055705Z",
     "shell.execute_reply": "2025-02-12T21:53:15.054738Z",
     "shell.execute_reply.started": "2025-02-12T20:46:47.628374Z"
    }
   },
   "outputs": [
    {
     "name": "stdout",
     "output_type": "stream",
     "text": [
      "using MonthlyTimeSeriesSplit\n"
     ]
    },
    {
     "name": "stderr",
     "output_type": "stream",
     "text": [
      "logisticregression hyperoptimisation:   1%|          | 1/100 [00:24<39:59, 24.24s/it]/home/prc/anaconda3/envs/smartdevds10/lib/python3.10/site-packages/sklearn/linear_model/_logistic.py:458: ConvergenceWarning: lbfgs failed to converge (status=1):\n",
      "STOP: TOTAL NO. of ITERATIONS REACHED LIMIT.\n",
      "\n",
      "Increase the number of iterations (max_iter) or scale the data as shown in:\n",
      "    https://scikit-learn.org/stable/modules/preprocessing.html\n",
      "Please also refer to the documentation for alternative solver options:\n",
      "    https://scikit-learn.org/stable/modules/linear_model.html#logistic-regression\n",
      "  n_iter_i = _check_optimize_result(\n",
      "/home/prc/anaconda3/envs/smartdevds10/lib/python3.10/site-packages/sklearn/linear_model/_logistic.py:458: ConvergenceWarning: lbfgs failed to converge (status=1):\n",
      "STOP: TOTAL NO. of ITERATIONS REACHED LIMIT.\n",
      "\n",
      "Increase the number of iterations (max_iter) or scale the data as shown in:\n",
      "    https://scikit-learn.org/stable/modules/preprocessing.html\n",
      "Please also refer to the documentation for alternative solver options:\n",
      "    https://scikit-learn.org/stable/modules/linear_model.html#logistic-regression\n",
      "  n_iter_i = _check_optimize_result(\n",
      "/home/prc/anaconda3/envs/smartdevds10/lib/python3.10/site-packages/sklearn/linear_model/_logistic.py:458: ConvergenceWarning: lbfgs failed to converge (status=1):\n",
      "STOP: TOTAL NO. of ITERATIONS REACHED LIMIT.\n",
      "\n",
      "Increase the number of iterations (max_iter) or scale the data as shown in:\n",
      "    https://scikit-learn.org/stable/modules/preprocessing.html\n",
      "Please also refer to the documentation for alternative solver options:\n",
      "    https://scikit-learn.org/stable/modules/linear_model.html#logistic-regression\n",
      "  n_iter_i = _check_optimize_result(\n",
      "/home/prc/anaconda3/envs/smartdevds10/lib/python3.10/site-packages/sklearn/linear_model/_logistic.py:458: ConvergenceWarning: lbfgs failed to converge (status=1):\n",
      "STOP: TOTAL NO. of ITERATIONS REACHED LIMIT.\n",
      "\n",
      "Increase the number of iterations (max_iter) or scale the data as shown in:\n",
      "    https://scikit-learn.org/stable/modules/preprocessing.html\n",
      "Please also refer to the documentation for alternative solver options:\n",
      "    https://scikit-learn.org/stable/modules/linear_model.html#logistic-regression\n",
      "  n_iter_i = _check_optimize_result(\n",
      "logisticregression hyperoptimisation:   2%|▏         | 2/100 [01:41<1:30:12, 55.23s/it]/home/prc/anaconda3/envs/smartdevds10/lib/python3.10/site-packages/sklearn/linear_model/_logistic.py:458: ConvergenceWarning: lbfgs failed to converge (status=1):\n",
      "STOP: TOTAL NO. of ITERATIONS REACHED LIMIT.\n",
      "\n",
      "Increase the number of iterations (max_iter) or scale the data as shown in:\n",
      "    https://scikit-learn.org/stable/modules/preprocessing.html\n",
      "Please also refer to the documentation for alternative solver options:\n",
      "    https://scikit-learn.org/stable/modules/linear_model.html#logistic-regression\n",
      "  n_iter_i = _check_optimize_result(\n",
      "/home/prc/anaconda3/envs/smartdevds10/lib/python3.10/site-packages/sklearn/linear_model/_logistic.py:458: ConvergenceWarning: lbfgs failed to converge (status=1):\n",
      "STOP: TOTAL NO. of ITERATIONS REACHED LIMIT.\n",
      "\n",
      "Increase the number of iterations (max_iter) or scale the data as shown in:\n",
      "    https://scikit-learn.org/stable/modules/preprocessing.html\n",
      "Please also refer to the documentation for alternative solver options:\n",
      "    https://scikit-learn.org/stable/modules/linear_model.html#logistic-regression\n",
      "  n_iter_i = _check_optimize_result(\n",
      "/home/prc/anaconda3/envs/smartdevds10/lib/python3.10/site-packages/sklearn/linear_model/_logistic.py:458: ConvergenceWarning: lbfgs failed to converge (status=1):\n",
      "STOP: TOTAL NO. of ITERATIONS REACHED LIMIT.\n",
      "\n",
      "Increase the number of iterations (max_iter) or scale the data as shown in:\n",
      "    https://scikit-learn.org/stable/modules/preprocessing.html\n",
      "Please also refer to the documentation for alternative solver options:\n",
      "    https://scikit-learn.org/stable/modules/linear_model.html#logistic-regression\n",
      "  n_iter_i = _check_optimize_result(\n",
      "/home/prc/anaconda3/envs/smartdevds10/lib/python3.10/site-packages/sklearn/linear_model/_logistic.py:458: ConvergenceWarning: lbfgs failed to converge (status=1):\n",
      "STOP: TOTAL NO. of ITERATIONS REACHED LIMIT.\n",
      "\n",
      "Increase the number of iterations (max_iter) or scale the data as shown in:\n",
      "    https://scikit-learn.org/stable/modules/preprocessing.html\n",
      "Please also refer to the documentation for alternative solver options:\n",
      "    https://scikit-learn.org/stable/modules/linear_model.html#logistic-regression\n",
      "  n_iter_i = _check_optimize_result(\n",
      "logisticregression hyperoptimisation:   3%|▎         | 3/100 [02:38<1:31:00, 56.29s/it]/home/prc/anaconda3/envs/smartdevds10/lib/python3.10/site-packages/sklearn/linear_model/_logistic.py:458: ConvergenceWarning: lbfgs failed to converge (status=1):\n",
      "STOP: TOTAL NO. of ITERATIONS REACHED LIMIT.\n",
      "\n",
      "Increase the number of iterations (max_iter) or scale the data as shown in:\n",
      "    https://scikit-learn.org/stable/modules/preprocessing.html\n",
      "Please also refer to the documentation for alternative solver options:\n",
      "    https://scikit-learn.org/stable/modules/linear_model.html#logistic-regression\n",
      "  n_iter_i = _check_optimize_result(\n",
      "/home/prc/anaconda3/envs/smartdevds10/lib/python3.10/site-packages/sklearn/linear_model/_logistic.py:458: ConvergenceWarning: lbfgs failed to converge (status=1):\n",
      "STOP: TOTAL NO. of ITERATIONS REACHED LIMIT.\n",
      "\n",
      "Increase the number of iterations (max_iter) or scale the data as shown in:\n",
      "    https://scikit-learn.org/stable/modules/preprocessing.html\n",
      "Please also refer to the documentation for alternative solver options:\n",
      "    https://scikit-learn.org/stable/modules/linear_model.html#logistic-regression\n",
      "  n_iter_i = _check_optimize_result(\n",
      "/home/prc/anaconda3/envs/smartdevds10/lib/python3.10/site-packages/sklearn/linear_model/_logistic.py:458: ConvergenceWarning: lbfgs failed to converge (status=1):\n",
      "STOP: TOTAL NO. of ITERATIONS REACHED LIMIT.\n",
      "\n",
      "Increase the number of iterations (max_iter) or scale the data as shown in:\n",
      "    https://scikit-learn.org/stable/modules/preprocessing.html\n",
      "Please also refer to the documentation for alternative solver options:\n",
      "    https://scikit-learn.org/stable/modules/linear_model.html#logistic-regression\n",
      "  n_iter_i = _check_optimize_result(\n",
      "/home/prc/anaconda3/envs/smartdevds10/lib/python3.10/site-packages/sklearn/linear_model/_logistic.py:458: ConvergenceWarning: lbfgs failed to converge (status=1):\n",
      "STOP: TOTAL NO. of ITERATIONS REACHED LIMIT.\n",
      "\n",
      "Increase the number of iterations (max_iter) or scale the data as shown in:\n",
      "    https://scikit-learn.org/stable/modules/preprocessing.html\n",
      "Please also refer to the documentation for alternative solver options:\n",
      "    https://scikit-learn.org/stable/modules/linear_model.html#logistic-regression\n",
      "  n_iter_i = _check_optimize_result(\n",
      "logisticregression hyperoptimisation:   4%|▍         | 4/100 [03:37<1:31:40, 57.30s/it]/home/prc/anaconda3/envs/smartdevds10/lib/python3.10/site-packages/sklearn/linear_model/_logistic.py:458: ConvergenceWarning: lbfgs failed to converge (status=1):\n",
      "STOP: TOTAL NO. of ITERATIONS REACHED LIMIT.\n",
      "\n",
      "Increase the number of iterations (max_iter) or scale the data as shown in:\n",
      "    https://scikit-learn.org/stable/modules/preprocessing.html\n",
      "Please also refer to the documentation for alternative solver options:\n",
      "    https://scikit-learn.org/stable/modules/linear_model.html#logistic-regression\n",
      "  n_iter_i = _check_optimize_result(\n",
      "/home/prc/anaconda3/envs/smartdevds10/lib/python3.10/site-packages/sklearn/linear_model/_logistic.py:458: ConvergenceWarning: lbfgs failed to converge (status=1):\n",
      "STOP: TOTAL NO. of ITERATIONS REACHED LIMIT.\n",
      "\n",
      "Increase the number of iterations (max_iter) or scale the data as shown in:\n",
      "    https://scikit-learn.org/stable/modules/preprocessing.html\n",
      "Please also refer to the documentation for alternative solver options:\n",
      "    https://scikit-learn.org/stable/modules/linear_model.html#logistic-regression\n",
      "  n_iter_i = _check_optimize_result(\n",
      "/home/prc/anaconda3/envs/smartdevds10/lib/python3.10/site-packages/sklearn/linear_model/_logistic.py:458: ConvergenceWarning: lbfgs failed to converge (status=1):\n",
      "STOP: TOTAL NO. of ITERATIONS REACHED LIMIT.\n",
      "\n",
      "Increase the number of iterations (max_iter) or scale the data as shown in:\n",
      "    https://scikit-learn.org/stable/modules/preprocessing.html\n",
      "Please also refer to the documentation for alternative solver options:\n",
      "    https://scikit-learn.org/stable/modules/linear_model.html#logistic-regression\n",
      "  n_iter_i = _check_optimize_result(\n",
      "/home/prc/anaconda3/envs/smartdevds10/lib/python3.10/site-packages/sklearn/linear_model/_logistic.py:458: ConvergenceWarning: lbfgs failed to converge (status=1):\n",
      "STOP: TOTAL NO. of ITERATIONS REACHED LIMIT.\n",
      "\n",
      "Increase the number of iterations (max_iter) or scale the data as shown in:\n",
      "    https://scikit-learn.org/stable/modules/preprocessing.html\n",
      "Please also refer to the documentation for alternative solver options:\n",
      "    https://scikit-learn.org/stable/modules/linear_model.html#logistic-regression\n",
      "  n_iter_i = _check_optimize_result(\n",
      "logisticregression hyperoptimisation:   8%|▊         | 8/100 [07:10<1:19:14, 51.68s/it]/home/prc/anaconda3/envs/smartdevds10/lib/python3.10/site-packages/sklearn/linear_model/_logistic.py:458: ConvergenceWarning: lbfgs failed to converge (status=1):\n",
      "STOP: TOTAL NO. of ITERATIONS REACHED LIMIT.\n",
      "\n",
      "Increase the number of iterations (max_iter) or scale the data as shown in:\n",
      "    https://scikit-learn.org/stable/modules/preprocessing.html\n",
      "Please also refer to the documentation for alternative solver options:\n",
      "    https://scikit-learn.org/stable/modules/linear_model.html#logistic-regression\n",
      "  n_iter_i = _check_optimize_result(\n",
      "/home/prc/anaconda3/envs/smartdevds10/lib/python3.10/site-packages/sklearn/linear_model/_logistic.py:458: ConvergenceWarning: lbfgs failed to converge (status=1):\n",
      "STOP: TOTAL NO. of ITERATIONS REACHED LIMIT.\n",
      "\n",
      "Increase the number of iterations (max_iter) or scale the data as shown in:\n",
      "    https://scikit-learn.org/stable/modules/preprocessing.html\n",
      "Please also refer to the documentation for alternative solver options:\n",
      "    https://scikit-learn.org/stable/modules/linear_model.html#logistic-regression\n",
      "  n_iter_i = _check_optimize_result(\n",
      "/home/prc/anaconda3/envs/smartdevds10/lib/python3.10/site-packages/sklearn/linear_model/_logistic.py:458: ConvergenceWarning: lbfgs failed to converge (status=1):\n",
      "STOP: TOTAL NO. of ITERATIONS REACHED LIMIT.\n",
      "\n",
      "Increase the number of iterations (max_iter) or scale the data as shown in:\n",
      "    https://scikit-learn.org/stable/modules/preprocessing.html\n",
      "Please also refer to the documentation for alternative solver options:\n",
      "    https://scikit-learn.org/stable/modules/linear_model.html#logistic-regression\n",
      "  n_iter_i = _check_optimize_result(\n",
      "/home/prc/anaconda3/envs/smartdevds10/lib/python3.10/site-packages/sklearn/linear_model/_logistic.py:458: ConvergenceWarning: lbfgs failed to converge (status=1):\n",
      "STOP: TOTAL NO. of ITERATIONS REACHED LIMIT.\n",
      "\n",
      "Increase the number of iterations (max_iter) or scale the data as shown in:\n",
      "    https://scikit-learn.org/stable/modules/preprocessing.html\n",
      "Please also refer to the documentation for alternative solver options:\n",
      "    https://scikit-learn.org/stable/modules/linear_model.html#logistic-regression\n",
      "  n_iter_i = _check_optimize_result(\n",
      "logisticregression hyperoptimisation:   9%|▉         | 9/100 [08:23<1:28:27, 58.32s/it]/home/prc/anaconda3/envs/smartdevds10/lib/python3.10/site-packages/sklearn/linear_model/_logistic.py:458: ConvergenceWarning: lbfgs failed to converge (status=1):\n",
      "STOP: TOTAL NO. of ITERATIONS REACHED LIMIT.\n",
      "\n",
      "Increase the number of iterations (max_iter) or scale the data as shown in:\n",
      "    https://scikit-learn.org/stable/modules/preprocessing.html\n",
      "Please also refer to the documentation for alternative solver options:\n",
      "    https://scikit-learn.org/stable/modules/linear_model.html#logistic-regression\n",
      "  n_iter_i = _check_optimize_result(\n",
      "/home/prc/anaconda3/envs/smartdevds10/lib/python3.10/site-packages/sklearn/linear_model/_logistic.py:458: ConvergenceWarning: lbfgs failed to converge (status=1):\n",
      "STOP: TOTAL NO. of ITERATIONS REACHED LIMIT.\n",
      "\n",
      "Increase the number of iterations (max_iter) or scale the data as shown in:\n",
      "    https://scikit-learn.org/stable/modules/preprocessing.html\n",
      "Please also refer to the documentation for alternative solver options:\n",
      "    https://scikit-learn.org/stable/modules/linear_model.html#logistic-regression\n",
      "  n_iter_i = _check_optimize_result(\n",
      "/home/prc/anaconda3/envs/smartdevds10/lib/python3.10/site-packages/sklearn/linear_model/_logistic.py:458: ConvergenceWarning: lbfgs failed to converge (status=1):\n",
      "STOP: TOTAL NO. of ITERATIONS REACHED LIMIT.\n",
      "\n",
      "Increase the number of iterations (max_iter) or scale the data as shown in:\n",
      "    https://scikit-learn.org/stable/modules/preprocessing.html\n",
      "Please also refer to the documentation for alternative solver options:\n",
      "    https://scikit-learn.org/stable/modules/linear_model.html#logistic-regression\n",
      "  n_iter_i = _check_optimize_result(\n",
      "/home/prc/anaconda3/envs/smartdevds10/lib/python3.10/site-packages/sklearn/linear_model/_logistic.py:458: ConvergenceWarning: lbfgs failed to converge (status=1):\n",
      "STOP: TOTAL NO. of ITERATIONS REACHED LIMIT.\n",
      "\n",
      "Increase the number of iterations (max_iter) or scale the data as shown in:\n",
      "    https://scikit-learn.org/stable/modules/preprocessing.html\n",
      "Please also refer to the documentation for alternative solver options:\n",
      "    https://scikit-learn.org/stable/modules/linear_model.html#logistic-regression\n",
      "  n_iter_i = _check_optimize_result(\n",
      "logisticregression hyperoptimisation:  10%|█         | 10/100 [09:23<1:28:14, 58.83s/it]/home/prc/anaconda3/envs/smartdevds10/lib/python3.10/site-packages/sklearn/linear_model/_logistic.py:458: ConvergenceWarning: lbfgs failed to converge (status=1):\n",
      "STOP: TOTAL NO. of ITERATIONS REACHED LIMIT.\n",
      "\n",
      "Increase the number of iterations (max_iter) or scale the data as shown in:\n",
      "    https://scikit-learn.org/stable/modules/preprocessing.html\n",
      "Please also refer to the documentation for alternative solver options:\n",
      "    https://scikit-learn.org/stable/modules/linear_model.html#logistic-regression\n",
      "  n_iter_i = _check_optimize_result(\n",
      "/home/prc/anaconda3/envs/smartdevds10/lib/python3.10/site-packages/sklearn/linear_model/_logistic.py:458: ConvergenceWarning: lbfgs failed to converge (status=1):\n",
      "STOP: TOTAL NO. of ITERATIONS REACHED LIMIT.\n",
      "\n",
      "Increase the number of iterations (max_iter) or scale the data as shown in:\n",
      "    https://scikit-learn.org/stable/modules/preprocessing.html\n",
      "Please also refer to the documentation for alternative solver options:\n",
      "    https://scikit-learn.org/stable/modules/linear_model.html#logistic-regression\n",
      "  n_iter_i = _check_optimize_result(\n",
      "/home/prc/anaconda3/envs/smartdevds10/lib/python3.10/site-packages/sklearn/linear_model/_logistic.py:458: ConvergenceWarning: lbfgs failed to converge (status=1):\n",
      "STOP: TOTAL NO. of ITERATIONS REACHED LIMIT.\n",
      "\n",
      "Increase the number of iterations (max_iter) or scale the data as shown in:\n",
      "    https://scikit-learn.org/stable/modules/preprocessing.html\n",
      "Please also refer to the documentation for alternative solver options:\n",
      "    https://scikit-learn.org/stable/modules/linear_model.html#logistic-regression\n",
      "  n_iter_i = _check_optimize_result(\n",
      "/home/prc/anaconda3/envs/smartdevds10/lib/python3.10/site-packages/sklearn/linear_model/_logistic.py:458: ConvergenceWarning: lbfgs failed to converge (status=1):\n",
      "STOP: TOTAL NO. of ITERATIONS REACHED LIMIT.\n",
      "\n",
      "Increase the number of iterations (max_iter) or scale the data as shown in:\n",
      "    https://scikit-learn.org/stable/modules/preprocessing.html\n",
      "Please also refer to the documentation for alternative solver options:\n",
      "    https://scikit-learn.org/stable/modules/linear_model.html#logistic-regression\n",
      "  n_iter_i = _check_optimize_result(\n",
      "logisticregression hyperoptimisation:  13%|█▎        | 13/100 [10:52<53:30, 36.91s/it]  /home/prc/anaconda3/envs/smartdevds10/lib/python3.10/site-packages/sklearn/linear_model/_logistic.py:458: ConvergenceWarning: lbfgs failed to converge (status=1):\n",
      "STOP: TOTAL NO. of ITERATIONS REACHED LIMIT.\n",
      "\n",
      "Increase the number of iterations (max_iter) or scale the data as shown in:\n",
      "    https://scikit-learn.org/stable/modules/preprocessing.html\n",
      "Please also refer to the documentation for alternative solver options:\n",
      "    https://scikit-learn.org/stable/modules/linear_model.html#logistic-regression\n",
      "  n_iter_i = _check_optimize_result(\n",
      "/home/prc/anaconda3/envs/smartdevds10/lib/python3.10/site-packages/sklearn/linear_model/_logistic.py:458: ConvergenceWarning: lbfgs failed to converge (status=1):\n",
      "STOP: TOTAL NO. of ITERATIONS REACHED LIMIT.\n",
      "\n",
      "Increase the number of iterations (max_iter) or scale the data as shown in:\n",
      "    https://scikit-learn.org/stable/modules/preprocessing.html\n",
      "Please also refer to the documentation for alternative solver options:\n",
      "    https://scikit-learn.org/stable/modules/linear_model.html#logistic-regression\n",
      "  n_iter_i = _check_optimize_result(\n",
      "logisticregression hyperoptimisation:  14%|█▍        | 14/100 [12:05<1:08:38, 47.89s/it]/home/prc/anaconda3/envs/smartdevds10/lib/python3.10/site-packages/sklearn/linear_model/_logistic.py:458: ConvergenceWarning: lbfgs failed to converge (status=1):\n",
      "STOP: TOTAL NO. of ITERATIONS REACHED LIMIT.\n",
      "\n",
      "Increase the number of iterations (max_iter) or scale the data as shown in:\n",
      "    https://scikit-learn.org/stable/modules/preprocessing.html\n",
      "Please also refer to the documentation for alternative solver options:\n",
      "    https://scikit-learn.org/stable/modules/linear_model.html#logistic-regression\n",
      "  n_iter_i = _check_optimize_result(\n",
      "/home/prc/anaconda3/envs/smartdevds10/lib/python3.10/site-packages/sklearn/linear_model/_logistic.py:458: ConvergenceWarning: lbfgs failed to converge (status=1):\n",
      "STOP: TOTAL NO. of ITERATIONS REACHED LIMIT.\n",
      "\n",
      "Increase the number of iterations (max_iter) or scale the data as shown in:\n",
      "    https://scikit-learn.org/stable/modules/preprocessing.html\n",
      "Please also refer to the documentation for alternative solver options:\n",
      "    https://scikit-learn.org/stable/modules/linear_model.html#logistic-regression\n",
      "  n_iter_i = _check_optimize_result(\n",
      "/home/prc/anaconda3/envs/smartdevds10/lib/python3.10/site-packages/sklearn/linear_model/_logistic.py:458: ConvergenceWarning: lbfgs failed to converge (status=1):\n",
      "STOP: TOTAL NO. of ITERATIONS REACHED LIMIT.\n",
      "\n",
      "Increase the number of iterations (max_iter) or scale the data as shown in:\n",
      "    https://scikit-learn.org/stable/modules/preprocessing.html\n",
      "Please also refer to the documentation for alternative solver options:\n",
      "    https://scikit-learn.org/stable/modules/linear_model.html#logistic-regression\n",
      "  n_iter_i = _check_optimize_result(\n",
      "/home/prc/anaconda3/envs/smartdevds10/lib/python3.10/site-packages/sklearn/linear_model/_logistic.py:458: ConvergenceWarning: lbfgs failed to converge (status=1):\n",
      "STOP: TOTAL NO. of ITERATIONS REACHED LIMIT.\n",
      "\n",
      "Increase the number of iterations (max_iter) or scale the data as shown in:\n",
      "    https://scikit-learn.org/stable/modules/preprocessing.html\n",
      "Please also refer to the documentation for alternative solver options:\n",
      "    https://scikit-learn.org/stable/modules/linear_model.html#logistic-regression\n",
      "  n_iter_i = _check_optimize_result(\n",
      "logisticregression hyperoptimisation:  17%|█▋        | 17/100 [14:22<59:07, 42.74s/it]  /home/prc/anaconda3/envs/smartdevds10/lib/python3.10/site-packages/sklearn/linear_model/_logistic.py:458: ConvergenceWarning: lbfgs failed to converge (status=1):\n",
      "STOP: TOTAL NO. of ITERATIONS REACHED LIMIT.\n",
      "\n",
      "Increase the number of iterations (max_iter) or scale the data as shown in:\n",
      "    https://scikit-learn.org/stable/modules/preprocessing.html\n",
      "Please also refer to the documentation for alternative solver options:\n",
      "    https://scikit-learn.org/stable/modules/linear_model.html#logistic-regression\n",
      "  n_iter_i = _check_optimize_result(\n",
      "/home/prc/anaconda3/envs/smartdevds10/lib/python3.10/site-packages/sklearn/linear_model/_logistic.py:458: ConvergenceWarning: lbfgs failed to converge (status=1):\n",
      "STOP: TOTAL NO. of ITERATIONS REACHED LIMIT.\n",
      "\n",
      "Increase the number of iterations (max_iter) or scale the data as shown in:\n",
      "    https://scikit-learn.org/stable/modules/preprocessing.html\n",
      "Please also refer to the documentation for alternative solver options:\n",
      "    https://scikit-learn.org/stable/modules/linear_model.html#logistic-regression\n",
      "  n_iter_i = _check_optimize_result(\n",
      "/home/prc/anaconda3/envs/smartdevds10/lib/python3.10/site-packages/sklearn/linear_model/_logistic.py:458: ConvergenceWarning: lbfgs failed to converge (status=1):\n",
      "STOP: TOTAL NO. of ITERATIONS REACHED LIMIT.\n",
      "\n",
      "Increase the number of iterations (max_iter) or scale the data as shown in:\n",
      "    https://scikit-learn.org/stable/modules/preprocessing.html\n",
      "Please also refer to the documentation for alternative solver options:\n",
      "    https://scikit-learn.org/stable/modules/linear_model.html#logistic-regression\n",
      "  n_iter_i = _check_optimize_result(\n",
      "/home/prc/anaconda3/envs/smartdevds10/lib/python3.10/site-packages/sklearn/linear_model/_logistic.py:458: ConvergenceWarning: lbfgs failed to converge (status=1):\n",
      "STOP: TOTAL NO. of ITERATIONS REACHED LIMIT.\n",
      "\n",
      "Increase the number of iterations (max_iter) or scale the data as shown in:\n",
      "    https://scikit-learn.org/stable/modules/preprocessing.html\n",
      "Please also refer to the documentation for alternative solver options:\n",
      "    https://scikit-learn.org/stable/modules/linear_model.html#logistic-regression\n",
      "  n_iter_i = _check_optimize_result(\n",
      "logisticregression hyperoptimisation:  18%|█▊        | 18/100 [15:20<1:04:45, 47.38s/it]/home/prc/anaconda3/envs/smartdevds10/lib/python3.10/site-packages/sklearn/linear_model/_logistic.py:458: ConvergenceWarning: lbfgs failed to converge (status=1):\n",
      "STOP: TOTAL NO. of ITERATIONS REACHED LIMIT.\n",
      "\n",
      "Increase the number of iterations (max_iter) or scale the data as shown in:\n",
      "    https://scikit-learn.org/stable/modules/preprocessing.html\n",
      "Please also refer to the documentation for alternative solver options:\n",
      "    https://scikit-learn.org/stable/modules/linear_model.html#logistic-regression\n",
      "  n_iter_i = _check_optimize_result(\n",
      "logisticregression hyperoptimisation:  19%|█▉        | 19/100 [16:26<1:11:31, 52.98s/it]/home/prc/anaconda3/envs/smartdevds10/lib/python3.10/site-packages/sklearn/linear_model/_logistic.py:458: ConvergenceWarning: lbfgs failed to converge (status=1):\n",
      "STOP: TOTAL NO. of ITERATIONS REACHED LIMIT.\n",
      "\n",
      "Increase the number of iterations (max_iter) or scale the data as shown in:\n",
      "    https://scikit-learn.org/stable/modules/preprocessing.html\n",
      "Please also refer to the documentation for alternative solver options:\n",
      "    https://scikit-learn.org/stable/modules/linear_model.html#logistic-regression\n",
      "  n_iter_i = _check_optimize_result(\n",
      "logisticregression hyperoptimisation:  20%|██        | 20/100 [17:30<1:15:08, 56.36s/it]/home/prc/anaconda3/envs/smartdevds10/lib/python3.10/site-packages/sklearn/linear_model/_logistic.py:458: ConvergenceWarning: lbfgs failed to converge (status=1):\n",
      "STOP: TOTAL NO. of ITERATIONS REACHED LIMIT.\n",
      "\n",
      "Increase the number of iterations (max_iter) or scale the data as shown in:\n",
      "    https://scikit-learn.org/stable/modules/preprocessing.html\n",
      "Please also refer to the documentation for alternative solver options:\n",
      "    https://scikit-learn.org/stable/modules/linear_model.html#logistic-regression\n",
      "  n_iter_i = _check_optimize_result(\n",
      "/home/prc/anaconda3/envs/smartdevds10/lib/python3.10/site-packages/sklearn/linear_model/_logistic.py:458: ConvergenceWarning: lbfgs failed to converge (status=1):\n",
      "STOP: TOTAL NO. of ITERATIONS REACHED LIMIT.\n",
      "\n",
      "Increase the number of iterations (max_iter) or scale the data as shown in:\n",
      "    https://scikit-learn.org/stable/modules/preprocessing.html\n",
      "Please also refer to the documentation for alternative solver options:\n",
      "    https://scikit-learn.org/stable/modules/linear_model.html#logistic-regression\n",
      "  n_iter_i = _check_optimize_result(\n",
      "/home/prc/anaconda3/envs/smartdevds10/lib/python3.10/site-packages/sklearn/linear_model/_logistic.py:458: ConvergenceWarning: lbfgs failed to converge (status=1):\n",
      "STOP: TOTAL NO. of ITERATIONS REACHED LIMIT.\n",
      "\n",
      "Increase the number of iterations (max_iter) or scale the data as shown in:\n",
      "    https://scikit-learn.org/stable/modules/preprocessing.html\n",
      "Please also refer to the documentation for alternative solver options:\n",
      "    https://scikit-learn.org/stable/modules/linear_model.html#logistic-regression\n",
      "  n_iter_i = _check_optimize_result(\n",
      "/home/prc/anaconda3/envs/smartdevds10/lib/python3.10/site-packages/sklearn/linear_model/_logistic.py:458: ConvergenceWarning: lbfgs failed to converge (status=1):\n",
      "STOP: TOTAL NO. of ITERATIONS REACHED LIMIT.\n",
      "\n",
      "Increase the number of iterations (max_iter) or scale the data as shown in:\n",
      "    https://scikit-learn.org/stable/modules/preprocessing.html\n",
      "Please also refer to the documentation for alternative solver options:\n",
      "    https://scikit-learn.org/stable/modules/linear_model.html#logistic-regression\n",
      "  n_iter_i = _check_optimize_result(\n",
      "logisticregression hyperoptimisation:  24%|██▍       | 24/100 [20:12<54:42, 43.18s/it]  /home/prc/anaconda3/envs/smartdevds10/lib/python3.10/site-packages/sklearn/linear_model/_logistic.py:458: ConvergenceWarning: lbfgs failed to converge (status=1):\n",
      "STOP: TOTAL NO. of ITERATIONS REACHED LIMIT.\n",
      "\n",
      "Increase the number of iterations (max_iter) or scale the data as shown in:\n",
      "    https://scikit-learn.org/stable/modules/preprocessing.html\n",
      "Please also refer to the documentation for alternative solver options:\n",
      "    https://scikit-learn.org/stable/modules/linear_model.html#logistic-regression\n",
      "  n_iter_i = _check_optimize_result(\n",
      "/home/prc/anaconda3/envs/smartdevds10/lib/python3.10/site-packages/sklearn/linear_model/_logistic.py:458: ConvergenceWarning: lbfgs failed to converge (status=1):\n",
      "STOP: TOTAL NO. of ITERATIONS REACHED LIMIT.\n",
      "\n",
      "Increase the number of iterations (max_iter) or scale the data as shown in:\n",
      "    https://scikit-learn.org/stable/modules/preprocessing.html\n",
      "Please also refer to the documentation for alternative solver options:\n",
      "    https://scikit-learn.org/stable/modules/linear_model.html#logistic-regression\n",
      "  n_iter_i = _check_optimize_result(\n",
      "/home/prc/anaconda3/envs/smartdevds10/lib/python3.10/site-packages/sklearn/linear_model/_logistic.py:458: ConvergenceWarning: lbfgs failed to converge (status=1):\n",
      "STOP: TOTAL NO. of ITERATIONS REACHED LIMIT.\n",
      "\n",
      "Increase the number of iterations (max_iter) or scale the data as shown in:\n",
      "    https://scikit-learn.org/stable/modules/preprocessing.html\n",
      "Please also refer to the documentation for alternative solver options:\n",
      "    https://scikit-learn.org/stable/modules/linear_model.html#logistic-regression\n",
      "  n_iter_i = _check_optimize_result(\n",
      "logisticregression hyperoptimisation:  26%|██▌       | 26/100 [21:53<56:16, 45.63s/it]  /home/prc/anaconda3/envs/smartdevds10/lib/python3.10/site-packages/sklearn/linear_model/_logistic.py:458: ConvergenceWarning: lbfgs failed to converge (status=1):\n",
      "STOP: TOTAL NO. of ITERATIONS REACHED LIMIT.\n",
      "\n",
      "Increase the number of iterations (max_iter) or scale the data as shown in:\n",
      "    https://scikit-learn.org/stable/modules/preprocessing.html\n",
      "Please also refer to the documentation for alternative solver options:\n",
      "    https://scikit-learn.org/stable/modules/linear_model.html#logistic-regression\n",
      "  n_iter_i = _check_optimize_result(\n",
      "logisticregression hyperoptimisation:  28%|██▊       | 28/100 [23:40<58:15, 48.55s/it]  /home/prc/anaconda3/envs/smartdevds10/lib/python3.10/site-packages/sklearn/linear_model/_logistic.py:458: ConvergenceWarning: lbfgs failed to converge (status=1):\n",
      "STOP: TOTAL NO. of ITERATIONS REACHED LIMIT.\n",
      "\n",
      "Increase the number of iterations (max_iter) or scale the data as shown in:\n",
      "    https://scikit-learn.org/stable/modules/preprocessing.html\n",
      "Please also refer to the documentation for alternative solver options:\n",
      "    https://scikit-learn.org/stable/modules/linear_model.html#logistic-regression\n",
      "  n_iter_i = _check_optimize_result(\n",
      "/home/prc/anaconda3/envs/smartdevds10/lib/python3.10/site-packages/sklearn/linear_model/_logistic.py:458: ConvergenceWarning: lbfgs failed to converge (status=1):\n",
      "STOP: TOTAL NO. of ITERATIONS REACHED LIMIT.\n",
      "\n",
      "Increase the number of iterations (max_iter) or scale the data as shown in:\n",
      "    https://scikit-learn.org/stable/modules/preprocessing.html\n",
      "Please also refer to the documentation for alternative solver options:\n",
      "    https://scikit-learn.org/stable/modules/linear_model.html#logistic-regression\n",
      "  n_iter_i = _check_optimize_result(\n",
      "/home/prc/anaconda3/envs/smartdevds10/lib/python3.10/site-packages/sklearn/linear_model/_logistic.py:458: ConvergenceWarning: lbfgs failed to converge (status=1):\n",
      "STOP: TOTAL NO. of ITERATIONS REACHED LIMIT.\n",
      "\n",
      "Increase the number of iterations (max_iter) or scale the data as shown in:\n",
      "    https://scikit-learn.org/stable/modules/preprocessing.html\n",
      "Please also refer to the documentation for alternative solver options:\n",
      "    https://scikit-learn.org/stable/modules/linear_model.html#logistic-regression\n",
      "  n_iter_i = _check_optimize_result(\n",
      "/home/prc/anaconda3/envs/smartdevds10/lib/python3.10/site-packages/sklearn/linear_model/_logistic.py:458: ConvergenceWarning: lbfgs failed to converge (status=1):\n",
      "STOP: TOTAL NO. of ITERATIONS REACHED LIMIT.\n",
      "\n",
      "Increase the number of iterations (max_iter) or scale the data as shown in:\n",
      "    https://scikit-learn.org/stable/modules/preprocessing.html\n",
      "Please also refer to the documentation for alternative solver options:\n",
      "    https://scikit-learn.org/stable/modules/linear_model.html#logistic-regression\n",
      "  n_iter_i = _check_optimize_result(\n",
      "logisticregression hyperoptimisation:  37%|███▋      | 37/100 [29:25<37:04, 35.31s/it]  /home/prc/anaconda3/envs/smartdevds10/lib/python3.10/site-packages/sklearn/linear_model/_logistic.py:458: ConvergenceWarning: lbfgs failed to converge (status=1):\n",
      "STOP: TOTAL NO. of ITERATIONS REACHED LIMIT.\n",
      "\n",
      "Increase the number of iterations (max_iter) or scale the data as shown in:\n",
      "    https://scikit-learn.org/stable/modules/preprocessing.html\n",
      "Please also refer to the documentation for alternative solver options:\n",
      "    https://scikit-learn.org/stable/modules/linear_model.html#logistic-regression\n",
      "  n_iter_i = _check_optimize_result(\n",
      "/home/prc/anaconda3/envs/smartdevds10/lib/python3.10/site-packages/sklearn/linear_model/_logistic.py:458: ConvergenceWarning: lbfgs failed to converge (status=1):\n",
      "STOP: TOTAL NO. of ITERATIONS REACHED LIMIT.\n",
      "\n",
      "Increase the number of iterations (max_iter) or scale the data as shown in:\n",
      "    https://scikit-learn.org/stable/modules/preprocessing.html\n",
      "Please also refer to the documentation for alternative solver options:\n",
      "    https://scikit-learn.org/stable/modules/linear_model.html#logistic-regression\n",
      "  n_iter_i = _check_optimize_result(\n",
      "/home/prc/anaconda3/envs/smartdevds10/lib/python3.10/site-packages/sklearn/linear_model/_logistic.py:458: ConvergenceWarning: lbfgs failed to converge (status=1):\n",
      "STOP: TOTAL NO. of ITERATIONS REACHED LIMIT.\n",
      "\n",
      "Increase the number of iterations (max_iter) or scale the data as shown in:\n",
      "    https://scikit-learn.org/stable/modules/preprocessing.html\n",
      "Please also refer to the documentation for alternative solver options:\n",
      "    https://scikit-learn.org/stable/modules/linear_model.html#logistic-regression\n",
      "  n_iter_i = _check_optimize_result(\n",
      "/home/prc/anaconda3/envs/smartdevds10/lib/python3.10/site-packages/sklearn/linear_model/_logistic.py:458: ConvergenceWarning: lbfgs failed to converge (status=1):\n",
      "STOP: TOTAL NO. of ITERATIONS REACHED LIMIT.\n",
      "\n",
      "Increase the number of iterations (max_iter) or scale the data as shown in:\n",
      "    https://scikit-learn.org/stable/modules/preprocessing.html\n",
      "Please also refer to the documentation for alternative solver options:\n",
      "    https://scikit-learn.org/stable/modules/linear_model.html#logistic-regression\n",
      "  n_iter_i = _check_optimize_result(\n",
      "logisticregression hyperoptimisation:  38%|███▊      | 38/100 [30:23<43:27, 42.06s/it]/home/prc/anaconda3/envs/smartdevds10/lib/python3.10/site-packages/sklearn/linear_model/_logistic.py:458: ConvergenceWarning: lbfgs failed to converge (status=1):\n",
      "STOP: TOTAL NO. of ITERATIONS REACHED LIMIT.\n",
      "\n",
      "Increase the number of iterations (max_iter) or scale the data as shown in:\n",
      "    https://scikit-learn.org/stable/modules/preprocessing.html\n",
      "Please also refer to the documentation for alternative solver options:\n",
      "    https://scikit-learn.org/stable/modules/linear_model.html#logistic-regression\n",
      "  n_iter_i = _check_optimize_result(\n",
      "/home/prc/anaconda3/envs/smartdevds10/lib/python3.10/site-packages/sklearn/linear_model/_logistic.py:458: ConvergenceWarning: lbfgs failed to converge (status=1):\n",
      "STOP: TOTAL NO. of ITERATIONS REACHED LIMIT.\n",
      "\n",
      "Increase the number of iterations (max_iter) or scale the data as shown in:\n",
      "    https://scikit-learn.org/stable/modules/preprocessing.html\n",
      "Please also refer to the documentation for alternative solver options:\n",
      "    https://scikit-learn.org/stable/modules/linear_model.html#logistic-regression\n",
      "  n_iter_i = _check_optimize_result(\n",
      "/home/prc/anaconda3/envs/smartdevds10/lib/python3.10/site-packages/sklearn/linear_model/_logistic.py:458: ConvergenceWarning: lbfgs failed to converge (status=1):\n",
      "STOP: TOTAL NO. of ITERATIONS REACHED LIMIT.\n",
      "\n",
      "Increase the number of iterations (max_iter) or scale the data as shown in:\n",
      "    https://scikit-learn.org/stable/modules/preprocessing.html\n",
      "Please also refer to the documentation for alternative solver options:\n",
      "    https://scikit-learn.org/stable/modules/linear_model.html#logistic-regression\n",
      "  n_iter_i = _check_optimize_result(\n",
      "/home/prc/anaconda3/envs/smartdevds10/lib/python3.10/site-packages/sklearn/linear_model/_logistic.py:458: ConvergenceWarning: lbfgs failed to converge (status=1):\n",
      "STOP: TOTAL NO. of ITERATIONS REACHED LIMIT.\n",
      "\n",
      "Increase the number of iterations (max_iter) or scale the data as shown in:\n",
      "    https://scikit-learn.org/stable/modules/preprocessing.html\n",
      "Please also refer to the documentation for alternative solver options:\n",
      "    https://scikit-learn.org/stable/modules/linear_model.html#logistic-regression\n",
      "  n_iter_i = _check_optimize_result(\n",
      "logisticregression hyperoptimisation:  39%|███▉      | 39/100 [31:20<47:33, 46.78s/it]/home/prc/anaconda3/envs/smartdevds10/lib/python3.10/site-packages/sklearn/linear_model/_logistic.py:458: ConvergenceWarning: lbfgs failed to converge (status=1):\n",
      "STOP: TOTAL NO. of ITERATIONS REACHED LIMIT.\n",
      "\n",
      "Increase the number of iterations (max_iter) or scale the data as shown in:\n",
      "    https://scikit-learn.org/stable/modules/preprocessing.html\n",
      "Please also refer to the documentation for alternative solver options:\n",
      "    https://scikit-learn.org/stable/modules/linear_model.html#logistic-regression\n",
      "  n_iter_i = _check_optimize_result(\n",
      "/home/prc/anaconda3/envs/smartdevds10/lib/python3.10/site-packages/sklearn/linear_model/_logistic.py:458: ConvergenceWarning: lbfgs failed to converge (status=1):\n",
      "STOP: TOTAL NO. of ITERATIONS REACHED LIMIT.\n",
      "\n",
      "Increase the number of iterations (max_iter) or scale the data as shown in:\n",
      "    https://scikit-learn.org/stable/modules/preprocessing.html\n",
      "Please also refer to the documentation for alternative solver options:\n",
      "    https://scikit-learn.org/stable/modules/linear_model.html#logistic-regression\n",
      "  n_iter_i = _check_optimize_result(\n",
      "/home/prc/anaconda3/envs/smartdevds10/lib/python3.10/site-packages/sklearn/linear_model/_logistic.py:458: ConvergenceWarning: lbfgs failed to converge (status=1):\n",
      "STOP: TOTAL NO. of ITERATIONS REACHED LIMIT.\n",
      "\n",
      "Increase the number of iterations (max_iter) or scale the data as shown in:\n",
      "    https://scikit-learn.org/stable/modules/preprocessing.html\n",
      "Please also refer to the documentation for alternative solver options:\n",
      "    https://scikit-learn.org/stable/modules/linear_model.html#logistic-regression\n",
      "  n_iter_i = _check_optimize_result(\n",
      "/home/prc/anaconda3/envs/smartdevds10/lib/python3.10/site-packages/sklearn/linear_model/_logistic.py:458: ConvergenceWarning: lbfgs failed to converge (status=1):\n",
      "STOP: TOTAL NO. of ITERATIONS REACHED LIMIT.\n",
      "\n",
      "Increase the number of iterations (max_iter) or scale the data as shown in:\n",
      "    https://scikit-learn.org/stable/modules/preprocessing.html\n",
      "Please also refer to the documentation for alternative solver options:\n",
      "    https://scikit-learn.org/stable/modules/linear_model.html#logistic-regression\n",
      "  n_iter_i = _check_optimize_result(\n",
      "logisticregression hyperoptimisation:  40%|████      | 40/100 [32:20<50:35, 50.60s/it]/home/prc/anaconda3/envs/smartdevds10/lib/python3.10/site-packages/sklearn/linear_model/_logistic.py:458: ConvergenceWarning: lbfgs failed to converge (status=1):\n",
      "STOP: TOTAL NO. of ITERATIONS REACHED LIMIT.\n",
      "\n",
      "Increase the number of iterations (max_iter) or scale the data as shown in:\n",
      "    https://scikit-learn.org/stable/modules/preprocessing.html\n",
      "Please also refer to the documentation for alternative solver options:\n",
      "    https://scikit-learn.org/stable/modules/linear_model.html#logistic-regression\n",
      "  n_iter_i = _check_optimize_result(\n",
      "/home/prc/anaconda3/envs/smartdevds10/lib/python3.10/site-packages/sklearn/linear_model/_logistic.py:458: ConvergenceWarning: lbfgs failed to converge (status=1):\n",
      "STOP: TOTAL NO. of ITERATIONS REACHED LIMIT.\n",
      "\n",
      "Increase the number of iterations (max_iter) or scale the data as shown in:\n",
      "    https://scikit-learn.org/stable/modules/preprocessing.html\n",
      "Please also refer to the documentation for alternative solver options:\n",
      "    https://scikit-learn.org/stable/modules/linear_model.html#logistic-regression\n",
      "  n_iter_i = _check_optimize_result(\n",
      "/home/prc/anaconda3/envs/smartdevds10/lib/python3.10/site-packages/sklearn/linear_model/_logistic.py:458: ConvergenceWarning: lbfgs failed to converge (status=1):\n",
      "STOP: TOTAL NO. of ITERATIONS REACHED LIMIT.\n",
      "\n",
      "Increase the number of iterations (max_iter) or scale the data as shown in:\n",
      "    https://scikit-learn.org/stable/modules/preprocessing.html\n",
      "Please also refer to the documentation for alternative solver options:\n",
      "    https://scikit-learn.org/stable/modules/linear_model.html#logistic-regression\n",
      "  n_iter_i = _check_optimize_result(\n",
      "/home/prc/anaconda3/envs/smartdevds10/lib/python3.10/site-packages/sklearn/linear_model/_logistic.py:458: ConvergenceWarning: lbfgs failed to converge (status=1):\n",
      "STOP: TOTAL NO. of ITERATIONS REACHED LIMIT.\n",
      "\n",
      "Increase the number of iterations (max_iter) or scale the data as shown in:\n",
      "    https://scikit-learn.org/stable/modules/preprocessing.html\n",
      "Please also refer to the documentation for alternative solver options:\n",
      "    https://scikit-learn.org/stable/modules/linear_model.html#logistic-regression\n",
      "  n_iter_i = _check_optimize_result(\n",
      "logisticregression hyperoptimisation:  50%|█████     | 50/100 [38:48<35:14, 42.29s/it]/home/prc/anaconda3/envs/smartdevds10/lib/python3.10/site-packages/sklearn/linear_model/_logistic.py:458: ConvergenceWarning: lbfgs failed to converge (status=1):\n",
      "STOP: TOTAL NO. of ITERATIONS REACHED LIMIT.\n",
      "\n",
      "Increase the number of iterations (max_iter) or scale the data as shown in:\n",
      "    https://scikit-learn.org/stable/modules/preprocessing.html\n",
      "Please also refer to the documentation for alternative solver options:\n",
      "    https://scikit-learn.org/stable/modules/linear_model.html#logistic-regression\n",
      "  n_iter_i = _check_optimize_result(\n",
      "/home/prc/anaconda3/envs/smartdevds10/lib/python3.10/site-packages/sklearn/linear_model/_logistic.py:458: ConvergenceWarning: lbfgs failed to converge (status=1):\n",
      "STOP: TOTAL NO. of ITERATIONS REACHED LIMIT.\n",
      "\n",
      "Increase the number of iterations (max_iter) or scale the data as shown in:\n",
      "    https://scikit-learn.org/stable/modules/preprocessing.html\n",
      "Please also refer to the documentation for alternative solver options:\n",
      "    https://scikit-learn.org/stable/modules/linear_model.html#logistic-regression\n",
      "  n_iter_i = _check_optimize_result(\n",
      "logisticregression hyperoptimisation:  67%|██████▋   | 67/100 [48:24<13:58, 25.40s/it]/home/prc/anaconda3/envs/smartdevds10/lib/python3.10/site-packages/sklearn/linear_model/_logistic.py:458: ConvergenceWarning: lbfgs failed to converge (status=1):\n",
      "STOP: TOTAL NO. of ITERATIONS REACHED LIMIT.\n",
      "\n",
      "Increase the number of iterations (max_iter) or scale the data as shown in:\n",
      "    https://scikit-learn.org/stable/modules/preprocessing.html\n",
      "Please also refer to the documentation for alternative solver options:\n",
      "    https://scikit-learn.org/stable/modules/linear_model.html#logistic-regression\n",
      "  n_iter_i = _check_optimize_result(\n",
      "/home/prc/anaconda3/envs/smartdevds10/lib/python3.10/site-packages/sklearn/linear_model/_logistic.py:458: ConvergenceWarning: lbfgs failed to converge (status=1):\n",
      "STOP: TOTAL NO. of ITERATIONS REACHED LIMIT.\n",
      "\n",
      "Increase the number of iterations (max_iter) or scale the data as shown in:\n",
      "    https://scikit-learn.org/stable/modules/preprocessing.html\n",
      "Please also refer to the documentation for alternative solver options:\n",
      "    https://scikit-learn.org/stable/modules/linear_model.html#logistic-regression\n",
      "  n_iter_i = _check_optimize_result(\n",
      "/home/prc/anaconda3/envs/smartdevds10/lib/python3.10/site-packages/sklearn/linear_model/_logistic.py:458: ConvergenceWarning: lbfgs failed to converge (status=1):\n",
      "STOP: TOTAL NO. of ITERATIONS REACHED LIMIT.\n",
      "\n",
      "Increase the number of iterations (max_iter) or scale the data as shown in:\n",
      "    https://scikit-learn.org/stable/modules/preprocessing.html\n",
      "Please also refer to the documentation for alternative solver options:\n",
      "    https://scikit-learn.org/stable/modules/linear_model.html#logistic-regression\n",
      "  n_iter_i = _check_optimize_result(\n",
      "/home/prc/anaconda3/envs/smartdevds10/lib/python3.10/site-packages/sklearn/linear_model/_logistic.py:458: ConvergenceWarning: lbfgs failed to converge (status=1):\n",
      "STOP: TOTAL NO. of ITERATIONS REACHED LIMIT.\n",
      "\n",
      "Increase the number of iterations (max_iter) or scale the data as shown in:\n",
      "    https://scikit-learn.org/stable/modules/preprocessing.html\n",
      "Please also refer to the documentation for alternative solver options:\n",
      "    https://scikit-learn.org/stable/modules/linear_model.html#logistic-regression\n",
      "  n_iter_i = _check_optimize_result(\n",
      "logisticregression hyperoptimisation:  90%|█████████ | 90/100 [1:01:07<05:34, 33.41s/it]/home/prc/anaconda3/envs/smartdevds10/lib/python3.10/site-packages/sklearn/linear_model/_logistic.py:458: ConvergenceWarning: lbfgs failed to converge (status=1):\n",
      "STOP: TOTAL NO. of ITERATIONS REACHED LIMIT.\n",
      "\n",
      "Increase the number of iterations (max_iter) or scale the data as shown in:\n",
      "    https://scikit-learn.org/stable/modules/preprocessing.html\n",
      "Please also refer to the documentation for alternative solver options:\n",
      "    https://scikit-learn.org/stable/modules/linear_model.html#logistic-regression\n",
      "  n_iter_i = _check_optimize_result(\n",
      "/home/prc/anaconda3/envs/smartdevds10/lib/python3.10/site-packages/sklearn/linear_model/_logistic.py:458: ConvergenceWarning: lbfgs failed to converge (status=1):\n",
      "STOP: TOTAL NO. of ITERATIONS REACHED LIMIT.\n",
      "\n",
      "Increase the number of iterations (max_iter) or scale the data as shown in:\n",
      "    https://scikit-learn.org/stable/modules/preprocessing.html\n",
      "Please also refer to the documentation for alternative solver options:\n",
      "    https://scikit-learn.org/stable/modules/linear_model.html#logistic-regression\n",
      "  n_iter_i = _check_optimize_result(\n",
      "/home/prc/anaconda3/envs/smartdevds10/lib/python3.10/site-packages/sklearn/linear_model/_logistic.py:458: ConvergenceWarning: lbfgs failed to converge (status=1):\n",
      "STOP: TOTAL NO. of ITERATIONS REACHED LIMIT.\n",
      "\n",
      "Increase the number of iterations (max_iter) or scale the data as shown in:\n",
      "    https://scikit-learn.org/stable/modules/preprocessing.html\n",
      "Please also refer to the documentation for alternative solver options:\n",
      "    https://scikit-learn.org/stable/modules/linear_model.html#logistic-regression\n",
      "  n_iter_i = _check_optimize_result(\n",
      "/home/prc/anaconda3/envs/smartdevds10/lib/python3.10/site-packages/sklearn/linear_model/_logistic.py:458: ConvergenceWarning: lbfgs failed to converge (status=1):\n",
      "STOP: TOTAL NO. of ITERATIONS REACHED LIMIT.\n",
      "\n",
      "Increase the number of iterations (max_iter) or scale the data as shown in:\n",
      "    https://scikit-learn.org/stable/modules/preprocessing.html\n",
      "Please also refer to the documentation for alternative solver options:\n",
      "    https://scikit-learn.org/stable/modules/linear_model.html#logistic-regression\n",
      "  n_iter_i = _check_optimize_result(\n",
      "logisticregression hyperoptimisation:  99%|█████████▉| 99/100 [1:05:31<00:30, 30.85s/it]/home/prc/anaconda3/envs/smartdevds10/lib/python3.10/site-packages/sklearn/linear_model/_logistic.py:458: ConvergenceWarning: lbfgs failed to converge (status=1):\n",
      "STOP: TOTAL NO. of ITERATIONS REACHED LIMIT.\n",
      "\n",
      "Increase the number of iterations (max_iter) or scale the data as shown in:\n",
      "    https://scikit-learn.org/stable/modules/preprocessing.html\n",
      "Please also refer to the documentation for alternative solver options:\n",
      "    https://scikit-learn.org/stable/modules/linear_model.html#logistic-regression\n",
      "  n_iter_i = _check_optimize_result(\n",
      "/home/prc/anaconda3/envs/smartdevds10/lib/python3.10/site-packages/sklearn/linear_model/_logistic.py:458: ConvergenceWarning: lbfgs failed to converge (status=1):\n",
      "STOP: TOTAL NO. of ITERATIONS REACHED LIMIT.\n",
      "\n",
      "Increase the number of iterations (max_iter) or scale the data as shown in:\n",
      "    https://scikit-learn.org/stable/modules/preprocessing.html\n",
      "Please also refer to the documentation for alternative solver options:\n",
      "    https://scikit-learn.org/stable/modules/linear_model.html#logistic-regression\n",
      "  n_iter_i = _check_optimize_result(\n",
      "/home/prc/anaconda3/envs/smartdevds10/lib/python3.10/site-packages/sklearn/linear_model/_logistic.py:458: ConvergenceWarning: lbfgs failed to converge (status=1):\n",
      "STOP: TOTAL NO. of ITERATIONS REACHED LIMIT.\n",
      "\n",
      "Increase the number of iterations (max_iter) or scale the data as shown in:\n",
      "    https://scikit-learn.org/stable/modules/preprocessing.html\n",
      "Please also refer to the documentation for alternative solver options:\n",
      "    https://scikit-learn.org/stable/modules/linear_model.html#logistic-regression\n",
      "  n_iter_i = _check_optimize_result(\n",
      "logisticregression hyperoptimisation: 100%|██████████| 100/100 [1:06:27<00:00, 39.87s/it]\n"
     ]
    }
   ],
   "source": [
    "def fixed_params(**kwargs) -> dict[str, Any]:\n",
    "    params = {\n",
    "        \"max_iter\": 1500,\n",
    "        \"penalty\": \"l2\",\n",
    "        \"random_state\": 42,\n",
    "    }\n",
    "\n",
    "    params.update(kwargs)\n",
    "\n",
    "    return params\n",
    "\n",
    "\n",
    "def default_params(**kwargs) -> dict[str, Any]:\n",
    "    params = {\n",
    "        **fixed_params(),\n",
    "        \"C\": 1.0,\n",
    "    }\n",
    "    params.update(kwargs)\n",
    "\n",
    "    return params\n",
    "\n",
    "\n",
    "def suggest_params(trial: optuna.trial.Trial, **kwargs) -> dict[str, Any]:\n",
    "    params = {\n",
    "        **fixed_params(),\n",
    "        \"C\": trial.suggest_float(\"C\", 0.001, 100.0),\n",
    "    }\n",
    "    params.update(kwargs)\n",
    "\n",
    "    return params\n",
    "\n",
    "tuned_logreg = train.run_optuna(\n",
    "    X = X_train,\n",
    "    y = y_train,\n",
    "    n_trials = 100,\n",
    "    dump_study_path = f\"data/optuna_res/logreg_{dataset_type_train.replace('_train', '')}\",\n",
    "    seed = 42,\n",
    "    resume = False,\n",
    "    suggest_params = suggest_params,\n",
    "    default_params = default_params,\n",
    "    cv = utils.MonthlyTimeSeriesSplit(window=20, partition=True),\n",
    "    model = train.get_logreg_model(rfecv_features, default_params()),\n",
    "    n_jobs = 20,\n",
    "    model_name = \"logisticregression\",\n",
    ")"
   ]
  },
  {
   "cell_type": "code",
   "execution_count": 23,
   "metadata": {
    "execution": {
     "iopub.execute_input": "2025-02-12T21:53:15.056417Z",
     "iopub.status.busy": "2025-02-12T21:53:15.056259Z",
     "iopub.status.idle": "2025-02-12T21:53:15.061667Z",
     "shell.execute_reply": "2025-02-12T21:53:15.060755Z",
     "shell.execute_reply.started": "2025-02-12T21:53:15.056403Z"
    }
   },
   "outputs": [
    {
     "data": {
      "text/plain": [
       "{'C': 0.06424211417941217,\n",
       " 'class_weight': None,\n",
       " 'dual': False,\n",
       " 'fit_intercept': True,\n",
       " 'intercept_scaling': 1,\n",
       " 'l1_ratio': None,\n",
       " 'max_iter': 1500,\n",
       " 'multi_class': 'auto',\n",
       " 'n_jobs': None,\n",
       " 'penalty': 'l2',\n",
       " 'random_state': 42,\n",
       " 'solver': 'lbfgs',\n",
       " 'tol': 0.0001,\n",
       " 'verbose': 0,\n",
       " 'warm_start': False}"
      ]
     },
     "execution_count": 23,
     "metadata": {},
     "output_type": "execute_result"
    }
   ],
   "source": [
    "tuned_logreg_params = tuned_logreg[\"logisticregression\"].get_params()\n",
    "tuned_logreg_params"
   ]
  },
  {
   "cell_type": "code",
   "execution_count": 24,
   "metadata": {
    "execution": {
     "iopub.execute_input": "2025-02-12T21:53:15.062265Z",
     "iopub.status.busy": "2025-02-12T21:53:15.062130Z",
     "iopub.status.idle": "2025-02-12T21:53:28.783465Z",
     "shell.execute_reply": "2025-02-12T21:53:28.782525Z",
     "shell.execute_reply.started": "2025-02-12T21:53:15.062252Z"
    }
   },
   "outputs": [
    {
     "name": "stderr",
     "output_type": "stream",
     "text": [
      "                                                 \r"
     ]
    },
    {
     "data": {
      "image/png": "[encoded data removed]",
      "text/plain": [
       "<Figure size 600x600 with 1 Axes>"
      ]
     },
     "metadata": {},
     "output_type": "display_data"
    }
   ],
   "source": [
    "reulst_aft_logreg = tuned_logreg.fit(X_train, y_train)\n",
    "y_pred_prob = reulst_aft_logreg.predict_proba(X_test)\n",
    "\n",
    "plot_roc_curves(y_test, y_pred_prob[:, 1], roc_auc_weights_test, n=100)"
   ]
  },
  {
   "cell_type": "code",
   "execution_count": 25,
   "metadata": {
    "execution": {
     "iopub.execute_input": "2025-02-12T21:53:28.784326Z",
     "iopub.status.busy": "2025-02-12T21:53:28.784174Z",
     "iopub.status.idle": "2025-02-12T21:53:29.860395Z",
     "shell.execute_reply": "2025-02-12T21:53:29.859328Z",
     "shell.execute_reply.started": "2025-02-12T21:53:28.784310Z"
    }
   },
   "outputs": [
    {
     "data": {
      "text/plain": [
       "(0.9061142546288841, 0.6596433647097444)"
      ]
     },
     "execution_count": 25,
     "metadata": {},
     "output_type": "execute_result"
    }
   ],
   "source": [
    "(\n",
    "    roc_auc_score(y_train, reulst_aft_logreg.predict_proba(X_train)[:, 1]), \n",
    "    roc_auc_score(y_test, y_pred_prob[:, 1]),\n",
    ")"
   ]
  },
  {
   "cell_type": "code",
   "execution_count": 26,
   "metadata": {
    "execution": {
     "iopub.execute_input": "2025-02-12T21:53:29.861193Z",
     "iopub.status.busy": "2025-02-12T21:53:29.861038Z",
     "iopub.status.idle": "2025-02-12T21:53:29.869332Z",
     "shell.execute_reply": "2025-02-12T21:53:29.868784Z",
     "shell.execute_reply.started": "2025-02-12T21:53:29.861179Z"
    }
   },
   "outputs": [
    {
     "data": {
      "text/plain": [
       "['data/models/aft_6_logreg.pickle']"
      ]
     },
     "execution_count": 26,
     "metadata": {},
     "output_type": "execute_result"
    }
   ],
   "source": [
    "joblib.dump(reulst_aft_logreg, \"data/models/aft_6_logreg.pickle\")"
   ]
  },
  {
   "cell_type": "markdown",
   "metadata": {},
   "source": [
    "# withoutaft, magn > 6.0"
   ]
  },
  {
   "cell_type": "markdown",
   "metadata": {},
   "source": [
    "## read "
   ]
  },
  {
   "cell_type": "code",
   "execution_count": 27,
   "metadata": {
    "execution": {
     "iopub.execute_input": "2025-02-12T21:53:29.870042Z",
     "iopub.status.busy": "2025-02-12T21:53:29.869898Z",
     "iopub.status.idle": "2025-02-12T21:53:29.873265Z",
     "shell.execute_reply": "2025-02-12T21:53:29.872628Z",
     "shell.execute_reply.started": "2025-02-12T21:53:29.870029Z"
    }
   },
   "outputs": [],
   "source": [
    "dataset_type_train = \"magn_6_withoutaft\"\n",
    "dataset_type_test = \"magn_6_withoutaft_test\"\n",
    "\n",
    "target = \"target\"\n",
    "dt_col = \"dt\"\n",
    "min_test_date = \"2020-10-14\"\n",
    "min_train_date = \"2014-03-17\"\n",
    "\n",
    "train_path = f\"data/dataset/{dataset_type_train}_trs6.0.parquet\"\n",
    "test_path = f\"data/dataset/{dataset_type_test}_trs6.0.parquet\""
   ]
  },
  {
   "cell_type": "code",
   "execution_count": 28,
   "metadata": {
    "execution": {
     "iopub.execute_input": "2025-02-12T21:53:29.873949Z",
     "iopub.status.busy": "2025-02-12T21:53:29.873815Z",
     "iopub.status.idle": "2025-02-12T21:53:30.865578Z",
     "shell.execute_reply": "2025-02-12T21:53:30.864135Z",
     "shell.execute_reply.started": "2025-02-12T21:53:29.873937Z"
    }
   },
   "outputs": [
    {
     "name": "stdout",
     "output_type": "stream",
     "text": [
      "train_path: data/dataset/magn_6_withoutaft_trs6.0.parquet\n",
      "test_path: data/dataset/magn_6_withoutaft_test_trs6.0.parquet\n",
      "\n",
      "get_features_dict:\n",
      " {0: [0, 1, 3, 5, 7, 10]\n",
      "3: [0, 1, 3, 5, 7, 10]\n",
      "5: [0, 1, 3, 5, 7, 10]}\n",
      "\n",
      "train dates: 2014-03-17 — 2020-08-13\n",
      "test dates: 2020-10-14 — 2023-05-09\n",
      "\n",
      "train: target==0: 237884, target==1: 1000\n",
      "test: target==0: 95163, target==1: 513\n",
      "target class proportion: test: 0.005390750606853504, train: 0.0042037295488557445\n"
     ]
    }
   ],
   "source": [
    "train_df, test_df = utils.get_train_test_datasets(\n",
    "    train_path=train_path, test_path=test_path, \n",
    "    min_test_date = min_test_date, min_train_date = min_train_date\n",
    ")"
   ]
  },
  {
   "cell_type": "code",
   "execution_count": 29,
   "metadata": {
    "execution": {
     "iopub.execute_input": "2025-02-12T21:53:30.866629Z",
     "iopub.status.busy": "2025-02-12T21:53:30.866436Z",
     "iopub.status.idle": "2025-02-12T21:53:30.871789Z",
     "shell.execute_reply": "2025-02-12T21:53:30.870372Z",
     "shell.execute_reply.started": "2025-02-12T21:53:30.866610Z"
    }
   },
   "outputs": [],
   "source": [
    "feature_cols = list(set(train_df.columns) - set([target, dt_col, \"horizon_min_dt\", \"horizon_max_dt\"]))"
   ]
  },
  {
   "cell_type": "code",
   "execution_count": 30,
   "metadata": {
    "execution": {
     "iopub.execute_input": "2025-02-12T21:53:30.872371Z",
     "iopub.status.busy": "2025-02-12T21:53:30.872219Z",
     "iopub.status.idle": "2025-02-12T21:53:31.421024Z",
     "shell.execute_reply": "2025-02-12T21:53:31.419599Z",
     "shell.execute_reply.started": "2025-02-12T21:53:30.872355Z"
    }
   },
   "outputs": [],
   "source": [
    "# train, test\n",
    "features = utils.Features(\n",
    "    features=feature_cols, target=target, dt_col=dt_col, \n",
    "    groupby=[\"cell_x\", \"cell_y\"], target_features=[]\n",
    ")\n",
    "\n",
    "X_train, y_train = features.make_features_target(train_df)\n",
    "X_test, y_test = features.make_features_target(test_df)"
   ]
  },
  {
   "cell_type": "code",
   "execution_count": 31,
   "metadata": {
    "execution": {
     "iopub.execute_input": "2025-02-12T21:53:31.422050Z",
     "iopub.status.busy": "2025-02-12T21:53:31.421857Z",
     "iopub.status.idle": "2025-02-12T21:53:31.493724Z",
     "shell.execute_reply": "2025-02-12T21:53:31.492257Z",
     "shell.execute_reply.started": "2025-02-12T21:53:31.422032Z"
    }
   },
   "outputs": [
    {
     "data": {
      "text/plain": [
       "dt        0\n",
       "cell_x    0\n",
       "cell_y    0\n",
       "target    0\n",
       "dtype: int64"
      ]
     },
     "execution_count": 31,
     "metadata": {},
     "output_type": "execute_result"
    }
   ],
   "source": [
    "y_test.reset_index().merge(y_train.reset_index(), how=\"left\").isna().sum()"
   ]
  },
  {
   "cell_type": "code",
   "execution_count": 32,
   "metadata": {
    "execution": {
     "iopub.execute_input": "2025-02-12T21:53:31.494845Z",
     "iopub.status.busy": "2025-02-12T21:53:31.494676Z",
     "iopub.status.idle": "2025-02-12T21:53:36.986194Z",
     "shell.execute_reply": "2025-02-12T21:53:36.985098Z",
     "shell.execute_reply.started": "2025-02-12T21:53:31.494828Z"
    }
   },
   "outputs": [],
   "source": [
    "# get weights for roc auc as probability density of occured earthquakes\n",
    "roc_auc_weights_test = get_weights_for_roc_auc(y=y_test, last_dt=min_test_date)\n",
    "roc_auc_weights_train = get_weights_for_roc_auc(y=y_train, last_dt=min_test_date)"
   ]
  },
  {
   "cell_type": "code",
   "execution_count": 33,
   "metadata": {
    "execution": {
     "iopub.execute_input": "2025-02-12T21:53:36.987227Z",
     "iopub.status.busy": "2025-02-12T21:53:36.987072Z",
     "iopub.status.idle": "2025-02-12T21:53:36.993124Z",
     "shell.execute_reply": "2025-02-12T21:53:36.991874Z",
     "shell.execute_reply.started": "2025-02-12T21:53:36.987213Z"
    }
   },
   "outputs": [],
   "source": [
    "assert len(roc_auc_weights_test) == len(roc_auc_weights_test[~np.isnan(roc_auc_weights_test)]) == len(y_test)\n",
    "assert len(roc_auc_weights_train) == len(roc_auc_weights_train[~np.isnan(roc_auc_weights_train)]) == len(y_train)"
   ]
  },
  {
   "cell_type": "code",
   "execution_count": 34,
   "metadata": {
    "execution": {
     "iopub.execute_input": "2025-02-12T21:53:36.993769Z",
     "iopub.status.busy": "2025-02-12T21:53:36.993639Z",
     "iopub.status.idle": "2025-02-12T21:53:37.001413Z",
     "shell.execute_reply": "2025-02-12T21:53:37.000213Z",
     "shell.execute_reply.started": "2025-02-12T21:53:36.993757Z"
    }
   },
   "outputs": [
    {
     "data": {
      "text/plain": [
       "(95676,\n",
       " 0.6418269230769231,\n",
       " array([0.00240385, 0.00480769, 0.00721154, 0.00961538, 0.01201923,\n",
       "        0.01442308, 0.01682692, 0.01923077, 0.02163462, 0.02403846,\n",
       "        0.02644231, 0.02884615, 0.03125   , 0.03365385, 0.03605769,\n",
       "        0.03846154, 0.04326923, 0.04567308, 0.04807692, 0.05048077,\n",
       "        0.05288462, 0.05528846, 0.06490385, 0.06730769, 0.06971154,\n",
       "        0.07211538, 0.07451923, 0.07932692, 0.08413462, 0.09134615,\n",
       "        0.09615385, 0.09855769, 0.10096154, 0.10576923, 0.10817308,\n",
       "        0.11298077, 0.11538462, 0.11778846, 0.13701923, 0.14423077,\n",
       "        0.17067308, 0.20192308, 0.20673077, 0.20913462, 0.21394231,\n",
       "        0.24278846, 0.27644231, 0.30048077, 0.33894231, 0.35336538,\n",
       "        0.37019231, 0.37259615, 0.41105769, 0.64182692]))"
      ]
     },
     "execution_count": 34,
     "metadata": {},
     "output_type": "execute_result"
    }
   ],
   "source": [
    "len(roc_auc_weights_test[roc_auc_weights_test > 0.0]), np.max(roc_auc_weights_test), np.unique(roc_auc_weights_test)"
   ]
  },
  {
   "cell_type": "code",
   "execution_count": 35,
   "metadata": {
    "execution": {
     "iopub.execute_input": "2025-02-12T21:53:37.001898Z",
     "iopub.status.busy": "2025-02-12T21:53:37.001773Z",
     "iopub.status.idle": "2025-02-12T21:53:37.090824Z",
     "shell.execute_reply": "2025-02-12T21:53:37.090004Z",
     "shell.execute_reply.started": "2025-02-12T21:53:37.001885Z"
    }
   },
   "outputs": [
    {
     "data": {
      "image/png": "[encoded data removed]",
      "text/plain": [
       "<Figure size 640x480 with 1 Axes>"
      ]
     },
     "metadata": {},
     "output_type": "display_data"
    }
   ],
   "source": [
    "plt.hist(roc_auc_weights_test[roc_auc_weights_test > 0.0], range=(0, 1.0), bins=20);"
   ]
  },
  {
   "cell_type": "code",
   "execution_count": 36,
   "metadata": {
    "execution": {
     "iopub.execute_input": "2025-02-12T21:53:37.091482Z",
     "iopub.status.busy": "2025-02-12T21:53:37.091350Z",
     "iopub.status.idle": "2025-02-12T21:53:37.095830Z",
     "shell.execute_reply": "2025-02-12T21:53:37.094986Z",
     "shell.execute_reply.started": "2025-02-12T21:53:37.091469Z"
    }
   },
   "outputs": [],
   "source": [
    "y_train = y_train[target]\n",
    "y_test = y_test[target]"
   ]
  },
  {
   "cell_type": "code",
   "execution_count": 37,
   "metadata": {
    "execution": {
     "iopub.execute_input": "2025-02-12T21:53:37.096555Z",
     "iopub.status.busy": "2025-02-12T21:53:37.096426Z",
     "iopub.status.idle": "2025-02-12T21:53:37.102170Z",
     "shell.execute_reply": "2025-02-12T21:53:37.101324Z",
     "shell.execute_reply.started": "2025-02-12T21:53:37.096542Z"
    }
   },
   "outputs": [
    {
     "data": {
      "text/plain": [
       "(1000, 513)"
      ]
     },
     "execution_count": 37,
     "metadata": {},
     "output_type": "execute_result"
    }
   ],
   "source": [
    "y_train.sum(), y_test.sum()"
   ]
  },
  {
   "cell_type": "markdown",
   "metadata": {},
   "source": [
    "## logreg"
   ]
  },
  {
   "cell_type": "code",
   "execution_count": 38,
   "metadata": {
    "execution": {
     "iopub.execute_input": "2025-02-12T21:53:37.102839Z",
     "iopub.status.busy": "2025-02-12T21:53:37.102695Z",
     "iopub.status.idle": "2025-02-12T21:53:37.195249Z",
     "shell.execute_reply": "2025-02-12T21:53:37.193948Z",
     "shell.execute_reply.started": "2025-02-12T21:53:37.102825Z"
    }
   },
   "outputs": [
    {
     "data": {
      "text/plain": [
       "3"
      ]
     },
     "execution_count": 38,
     "metadata": {},
     "output_type": "execute_result"
    }
   ],
   "source": [
    "cv = utils.MonthlyTimeSeriesSplit(window=20)\n",
    "cv.get_n_splits(X_train)"
   ]
  },
  {
   "cell_type": "code",
   "execution_count": 39,
   "metadata": {
    "execution": {
     "iopub.execute_input": "2025-02-12T21:53:37.195911Z",
     "iopub.status.busy": "2025-02-12T21:53:37.195768Z",
     "iopub.status.idle": "2025-02-12T21:53:38.194639Z",
     "shell.execute_reply": "2025-02-12T21:53:38.193692Z",
     "shell.execute_reply.started": "2025-02-12T21:53:37.195891Z"
    }
   },
   "outputs": [
    {
     "name": "stdout",
     "output_type": "stream",
     "text": [
      "train: [2014-03-17, 2015-10-31], len: 60588 | test: [2015-11-01, 2017-06-30], len: 62016\n",
      "train: [2014-03-17, 2017-06-30], len: 122604 | test: [2017-07-01, 2019-02-28], len: 62016\n",
      "train: [2014-03-17, 2019-02-28], len: 184620 | test: [2019-03-01, 2020-08-13], len: 54264\n"
     ]
    }
   ],
   "source": [
    "for split_train, split_test in cv.split(X_train):\n",
    "    train_start = np.sort(X_train.iloc[split_train].drop(columns=[\"cell_x\", \"cell_y\"]).reset_index()[\"dt\"].unique())[0]\n",
    "    train_end = np.sort(X_train.iloc[split_train].drop(columns=[\"cell_x\", \"cell_y\"]).reset_index()[\"dt\"].unique())[-1]\n",
    "    test_start = np.sort(X_train.iloc[split_test].drop(columns=[\"cell_x\", \"cell_y\"]).reset_index()[\"dt\"].unique())[0]\n",
    "    test_end = np.sort(X_train.iloc[split_test].drop(columns=[\"cell_x\", \"cell_y\"]).reset_index()[\"dt\"].unique())[-1]\n",
    "\n",
    "    print(f\"train: [{train_start}, {train_end}], len: {len(split_train)} | test: [{test_start}, {test_end}], len: {len(split_test)}\")"
   ]
  },
  {
   "cell_type": "markdown",
   "metadata": {},
   "source": [
    "### baseline"
   ]
  },
  {
   "cell_type": "code",
   "execution_count": 40,
   "metadata": {
    "execution": {
     "iopub.execute_input": "2025-02-12T21:53:38.195664Z",
     "iopub.status.busy": "2025-02-12T21:53:38.195506Z",
     "iopub.status.idle": "2025-02-12T21:53:58.025338Z",
     "shell.execute_reply": "2025-02-12T21:53:58.024416Z",
     "shell.execute_reply.started": "2025-02-12T21:53:38.195650Z"
    }
   },
   "outputs": [
    {
     "name": "stderr",
     "output_type": "stream",
     "text": [
      "                                                 \r"
     ]
    },
    {
     "data": {
      "image/png": "[encoded data removed]",
      "text/plain": [
       "<Figure size 600x600 with 1 Axes>"
      ]
     },
     "metadata": {},
     "output_type": "display_data"
    }
   ],
   "source": [
    "params = {\n",
    "    \"C\": 1.0,\n",
    "    \"max_iter\": 1500,\n",
    "}\n",
    "\n",
    "logreg_model = train.get_logreg_model(feature_cols, params)\n",
    "\n",
    "logreg_model = logreg_model.fit(X_train, y_train)\n",
    "y_pred_prob = logreg_model.predict_proba(X_test)\n",
    "\n",
    "baseline_roc_auc = roc_auc_score(y_test, y_pred_prob[:, 1])\n",
    "\n",
    "plot_roc_curves(y_test, y_pred_prob[:, 1], roc_auc_weights_test, n=100)"
   ]
  },
  {
   "cell_type": "code",
   "execution_count": 41,
   "metadata": {
    "execution": {
     "iopub.execute_input": "2025-02-12T21:53:58.026191Z",
     "iopub.status.busy": "2025-02-12T21:53:58.026044Z",
     "iopub.status.idle": "2025-02-12T21:53:58.035288Z",
     "shell.execute_reply": "2025-02-12T21:53:58.034464Z",
     "shell.execute_reply.started": "2025-02-12T21:53:58.026177Z"
    }
   },
   "outputs": [
    {
     "data": {
      "text/plain": [
       "95676"
      ]
     },
     "execution_count": 41,
     "metadata": {},
     "output_type": "execute_result"
    }
   ],
   "source": [
    "len(np.unique(y_pred_prob[:, 1]))"
   ]
  },
  {
   "cell_type": "code",
   "execution_count": 42,
   "metadata": {
    "execution": {
     "iopub.execute_input": "2025-02-12T21:53:58.035971Z",
     "iopub.status.busy": "2025-02-12T21:53:58.035828Z",
     "iopub.status.idle": "2025-02-12T21:53:59.071309Z",
     "shell.execute_reply": "2025-02-12T21:53:59.070738Z",
     "shell.execute_reply.started": "2025-02-12T21:53:58.035957Z"
    }
   },
   "outputs": [
    {
     "data": {
      "text/plain": [
       "(0.8909730582973214, 0.6217551135561619)"
      ]
     },
     "execution_count": 42,
     "metadata": {},
     "output_type": "execute_result"
    }
   ],
   "source": [
    "(\n",
    "    roc_auc_score(y_train, logreg_model.predict_proba(X_train)[:, 1]), \n",
    "    roc_auc_score(y_test, y_pred_prob[:, 1])\n",
    ")"
   ]
  },
  {
   "cell_type": "markdown",
   "metadata": {},
   "source": [
    "### rfecv feature selection"
   ]
  },
  {
   "cell_type": "code",
   "execution_count": 44,
   "metadata": {
    "execution": {
     "iopub.execute_input": "2025-02-13T05:40:58.809311Z",
     "iopub.status.busy": "2025-02-13T05:40:58.808316Z",
     "iopub.status.idle": "2025-02-13T05:45:21.864491Z",
     "shell.execute_reply": "2025-02-13T05:45:21.863351Z",
     "shell.execute_reply.started": "2025-02-13T05:40:58.809246Z"
    }
   },
   "outputs": [
    {
     "name": "stdout",
     "output_type": "stream",
     "text": [
      "Optimal number of features: 62\n"
     ]
    }
   ],
   "source": [
    "rfecv_features = train.logreg_rfe_select(\n",
    "    X_train, y_train, feature_cols, cv, params=None, min_features_to_select=10, step=5, n_jobs=20\n",
    ")"
   ]
  },
  {
   "cell_type": "code",
   "execution_count": 45,
   "metadata": {
    "execution": {
     "iopub.execute_input": "2025-02-13T05:45:21.866352Z",
     "iopub.status.busy": "2025-02-13T05:45:21.866077Z",
     "iopub.status.idle": "2025-02-13T05:45:21.875751Z",
     "shell.execute_reply": "2025-02-13T05:45:21.875222Z",
     "shell.execute_reply.started": "2025-02-13T05:45:21.866321Z"
    }
   },
   "outputs": [
    {
     "data": {
      "text/plain": [
       "['mean_magn_1825_rad5',\n",
       " 'count_earthquakes_365_rad3',\n",
       " 'mean_magn_3650_rad5',\n",
       " 'count_earthquakes_1095_rad5',\n",
       " 'mean_magn_1095_rad5',\n",
       " 'max_magn_365_rad5',\n",
       " 'mean_magn_60_rad5',\n",
       " 'std_magn_3650_rad3',\n",
       " 'max_magn_1825_rad3',\n",
       " 'max_magn_90_rad5',\n",
       " 'std_magn_2555_rad5',\n",
       " 'std_magn_365_rad5',\n",
       " 'std_magn_180_rad3',\n",
       " 'std_magn_180_rad5',\n",
       " 'std_magn_90_rad5',\n",
       " 'mean_magn_1825_rad3',\n",
       " 'std_magn_365_rad3',\n",
       " 'min_magn_1825_rad5',\n",
       " 'count_earthquakes_3650_rad5',\n",
       " 'count_earthquakes_180_rad3',\n",
       " 'day_of_year_cos',\n",
       " 'dt_month',\n",
       " 'std_magn_90_rad3',\n",
       " 'day_of_year',\n",
       " 'count_earthquakes_3650_rad3',\n",
       " 'std_magn_3650_rad5',\n",
       " 'count_earthquakes_60_rad5',\n",
       " 'count_earthquakes_1825_rad3',\n",
       " 'mean_magn_3650_rad3',\n",
       " 'count_earthquakes_2555_rad5',\n",
       " 'mean_magn_2555_rad5',\n",
       " 'min_magn_3650_rad5',\n",
       " 'max_magn_3650_rad5',\n",
       " 'max_magn_1825_rad5',\n",
       " 'min_magn_1825_rad3',\n",
       " 'max_magn_3650_rad0',\n",
       " 'min_magn_365_rad5',\n",
       " 'std_magn_2555_rad3',\n",
       " 'count_earthquakes_90_rad3',\n",
       " 'min_magn_60_rad5',\n",
       " 'max_magn_2555_rad5',\n",
       " 'min_magn_2555_rad5',\n",
       " 'day_of_year_sin',\n",
       " 'max_magn_60_rad5',\n",
       " 'mean_magn_60_rad3',\n",
       " 'min_magn_1095_rad5',\n",
       " 'mean_magn_3650_rad0',\n",
       " 'min_magn_60_rad3',\n",
       " 'count_earthquakes_1825_rad5',\n",
       " 'count_earthquakes_60_rad3',\n",
       " 'min_magn_2555_rad3',\n",
       " 'count_earthquakes_90_rad5',\n",
       " 'min_magn_3650_rad3',\n",
       " 'count_earthquakes_180_rad5',\n",
       " 'mean_magn_2555_rad3',\n",
       " 'max_magn_2555_rad3',\n",
       " 'max_magn_3650_rad3',\n",
       " 'max_magn_60_rad3',\n",
       " 'min_magn_3650_rad0',\n",
       " 'mean_magn_365_rad5',\n",
       " 'count_earthquakes_3650_rad0',\n",
       " 'max_magn_1095_rad5']"
      ]
     },
     "execution_count": 45,
     "metadata": {},
     "output_type": "execute_result"
    }
   ],
   "source": [
    "rfecv_features"
   ]
  },
  {
   "cell_type": "code",
   "execution_count": 46,
   "metadata": {
    "execution": {
     "iopub.execute_input": "2025-02-13T05:45:21.876888Z",
     "iopub.status.busy": "2025-02-13T05:45:21.876553Z",
     "iopub.status.idle": "2025-02-13T05:45:21.882328Z",
     "shell.execute_reply": "2025-02-13T05:45:21.881762Z",
     "shell.execute_reply.started": "2025-02-13T05:45:21.876862Z"
    }
   },
   "outputs": [
    {
     "data": {
      "text/plain": [
       "{0: [10], 3: [0, 1, 5, 7, 10], 5: [0, 1, 3, 5, 7, 10]}"
      ]
     },
     "execution_count": 46,
     "metadata": {},
     "output_type": "execute_result"
    }
   ],
   "source": [
    "utils.get_features_dict(rfecv_features)"
   ]
  },
  {
   "cell_type": "code",
   "execution_count": 47,
   "metadata": {
    "execution": {
     "iopub.execute_input": "2025-02-13T05:45:21.884157Z",
     "iopub.status.busy": "2025-02-13T05:45:21.883797Z",
     "iopub.status.idle": "2025-02-13T05:45:31.144701Z",
     "shell.execute_reply": "2025-02-13T05:45:31.143752Z",
     "shell.execute_reply.started": "2025-02-13T05:45:21.884133Z"
    }
   },
   "outputs": [
    {
     "name": "stderr",
     "output_type": "stream",
     "text": [
      "                                                 \r"
     ]
    },
    {
     "data": {
      "image/png": "[encoded data removed]",
      "text/plain": [
       "<Figure size 600x600 with 1 Axes>"
      ]
     },
     "metadata": {},
     "output_type": "display_data"
    }
   ],
   "source": [
    "params = {\n",
    "    \"C\": 1.0,\n",
    "    \"max_iter\": 1500,\n",
    "}\n",
    "\n",
    "logreg_model = train.get_logreg_model(rfecv_features, params)\n",
    "\n",
    "logreg_model = logreg_model.fit(X_train, y_train)\n",
    "y_pred_prob = logreg_model.predict_proba(X_test)\n",
    "\n",
    "\n",
    "(\n",
    "    roc_auc_score(y_train, logreg_model.predict_proba(X_train)[:, 1]), \n",
    "    roc_auc_score(y_test, y_pred_prob[:, 1])\n",
    ")\n",
    "\n",
    "plot_roc_curves(y_test, y_pred_prob[:, 1], roc_auc_weights_test, n=100)"
   ]
  },
  {
   "cell_type": "markdown",
   "metadata": {},
   "source": [
    "### hyper optimiziation"
   ]
  },
  {
   "cell_type": "code",
   "execution_count": 48,
   "metadata": {
    "execution": {
     "iopub.execute_input": "2025-02-13T05:45:31.145816Z",
     "iopub.status.busy": "2025-02-13T05:45:31.145650Z",
     "iopub.status.idle": "2025-02-13T06:07:38.180208Z",
     "shell.execute_reply": "2025-02-13T06:07:38.178999Z",
     "shell.execute_reply.started": "2025-02-13T05:45:31.145799Z"
    },
    "scrolled": true
   },
   "outputs": [
    {
     "name": "stdout",
     "output_type": "stream",
     "text": [
      "using MonthlyTimeSeriesSplit\n"
     ]
    },
    {
     "name": "stderr",
     "output_type": "stream",
     "text": [
      "logisticregression hyperoptimisation:   8%|▊         | 8/100 [02:17<24:03, 15.69s/it]/home/prc/anaconda3/envs/smartdevds10/lib/python3.10/site-packages/sklearn/linear_model/_logistic.py:458: ConvergenceWarning: lbfgs failed to converge (status=1):\n",
      "STOP: TOTAL NO. of ITERATIONS REACHED LIMIT.\n",
      "\n",
      "Increase the number of iterations (max_iter) or scale the data as shown in:\n",
      "    https://scikit-learn.org/stable/modules/preprocessing.html\n",
      "Please also refer to the documentation for alternative solver options:\n",
      "    https://scikit-learn.org/stable/modules/linear_model.html#logistic-regression\n",
      "  n_iter_i = _check_optimize_result(\n",
      "logisticregression hyperoptimisation: 100%|██████████| 100/100 [22:07<00:00, 13.27s/it]\n"
     ]
    }
   ],
   "source": [
    "def fixed_params(**kwargs) -> dict[str, Any]:\n",
    "    params = {\n",
    "        \"max_iter\": 1500,\n",
    "        \"penalty\": \"l2\",\n",
    "        \"random_state\": 42,\n",
    "    }\n",
    "\n",
    "    params.update(kwargs)\n",
    "\n",
    "    return params\n",
    "\n",
    "\n",
    "def default_params(**kwargs) -> dict[str, Any]:\n",
    "    params = {\n",
    "        **fixed_params(),\n",
    "        \"C\": 1.0,\n",
    "    }\n",
    "    params.update(kwargs)\n",
    "\n",
    "    return params\n",
    "\n",
    "\n",
    "def suggest_params(trial: optuna.trial.Trial, **kwargs) -> dict[str, Any]:\n",
    "    params = {\n",
    "        **fixed_params(),\n",
    "        \"C\": trial.suggest_float(\"C\", 0.001, 100.0),\n",
    "    }\n",
    "    params.update(kwargs)\n",
    "\n",
    "    return params\n",
    "\n",
    "tuned_logreg = train.run_optuna(\n",
    "    X = X_train,\n",
    "    y = y_train,\n",
    "    n_trials = 100,\n",
    "    dump_study_path = f\"data/optuna_res/logreg_{dataset_type_train.replace('_train', '')}\",\n",
    "    seed = 42,\n",
    "    resume = False,\n",
    "    suggest_params = suggest_params,\n",
    "    default_params = default_params,\n",
    "    cv = utils.MonthlyTimeSeriesSplit(window=20, partition=True),\n",
    "    model = train.get_logreg_model(rfecv_features, default_params()),\n",
    "    n_jobs = 20,\n",
    "    model_name = \"logisticregression\",\n",
    ")"
   ]
  },
  {
   "cell_type": "code",
   "execution_count": 49,
   "metadata": {
    "execution": {
     "iopub.execute_input": "2025-02-13T06:07:38.180811Z",
     "iopub.status.busy": "2025-02-13T06:07:38.180663Z",
     "iopub.status.idle": "2025-02-13T06:07:38.187742Z",
     "shell.execute_reply": "2025-02-13T06:07:38.186899Z",
     "shell.execute_reply.started": "2025-02-13T06:07:38.180796Z"
    }
   },
   "outputs": [
    {
     "data": {
      "text/plain": [
       "{'C': 0.14213230293126455,\n",
       " 'class_weight': None,\n",
       " 'dual': False,\n",
       " 'fit_intercept': True,\n",
       " 'intercept_scaling': 1,\n",
       " 'l1_ratio': None,\n",
       " 'max_iter': 1500,\n",
       " 'multi_class': 'auto',\n",
       " 'n_jobs': None,\n",
       " 'penalty': 'l2',\n",
       " 'random_state': 42,\n",
       " 'solver': 'lbfgs',\n",
       " 'tol': 0.0001,\n",
       " 'verbose': 0,\n",
       " 'warm_start': False}"
      ]
     },
     "execution_count": 49,
     "metadata": {},
     "output_type": "execute_result"
    }
   ],
   "source": [
    "tuned_logreg_params = tuned_logreg[\"logisticregression\"].get_params()\n",
    "tuned_logreg_params"
   ]
  },
  {
   "cell_type": "code",
   "execution_count": 50,
   "metadata": {
    "execution": {
     "iopub.execute_input": "2025-02-13T06:07:38.188309Z",
     "iopub.status.busy": "2025-02-13T06:07:38.188159Z",
     "iopub.status.idle": "2025-02-13T06:07:43.958456Z",
     "shell.execute_reply": "2025-02-13T06:07:43.957558Z",
     "shell.execute_reply.started": "2025-02-13T06:07:38.188293Z"
    },
    "scrolled": true
   },
   "outputs": [
    {
     "name": "stderr",
     "output_type": "stream",
     "text": [
      "                                                 \r"
     ]
    },
    {
     "data": {
      "image/png": "[encoded data removed]",
      "text/plain": [
       "<Figure size 600x600 with 1 Axes>"
      ]
     },
     "metadata": {},
     "output_type": "display_data"
    }
   ],
   "source": [
    "reulst_withoutaft_logreg = tuned_logreg.fit(X_train, y_train)\n",
    "y_pred_prob = reulst_withoutaft_logreg.predict_proba(X_test)\n",
    "\n",
    "plot_roc_curves(y_test, y_pred_prob[:, 1], roc_auc_weights_test, n=100)"
   ]
  },
  {
   "cell_type": "code",
   "execution_count": 51,
   "metadata": {
    "execution": {
     "iopub.execute_input": "2025-02-13T06:07:43.959399Z",
     "iopub.status.busy": "2025-02-13T06:07:43.959240Z",
     "iopub.status.idle": "2025-02-13T06:07:44.449540Z",
     "shell.execute_reply": "2025-02-13T06:07:44.448635Z",
     "shell.execute_reply.started": "2025-02-13T06:07:43.959383Z"
    }
   },
   "outputs": [
    {
     "data": {
      "text/plain": [
       "(0.8811438432177028, 0.6410100109550416)"
      ]
     },
     "execution_count": 51,
     "metadata": {},
     "output_type": "execute_result"
    }
   ],
   "source": [
    "(\n",
    "    roc_auc_score(y_train, reulst_withoutaft_logreg.predict_proba(X_train)[:, 1]), \n",
    "    roc_auc_score(y_test, y_pred_prob[:, 1]),\n",
    ")"
   ]
  },
  {
   "cell_type": "code",
   "execution_count": 52,
   "metadata": {
    "execution": {
     "iopub.execute_input": "2025-02-13T06:07:44.451297Z",
     "iopub.status.busy": "2025-02-13T06:07:44.451045Z",
     "iopub.status.idle": "2025-02-13T06:07:44.460131Z",
     "shell.execute_reply": "2025-02-13T06:07:44.459240Z",
     "shell.execute_reply.started": "2025-02-13T06:07:44.451274Z"
    }
   },
   "outputs": [
    {
     "data": {
      "text/plain": [
       "['data/models/withoutaft_6_logreg.pickle']"
      ]
     },
     "execution_count": 52,
     "metadata": {},
     "output_type": "execute_result"
    }
   ],
   "source": [
    "joblib.dump(reulst_withoutaft_logreg, \"data/models/withoutaft_6_logreg.pickle\")"
   ]
  },
  {
   "cell_type": "code",
   "execution_count": null,
   "metadata": {},
   "outputs": [],
   "source": []
  }
 ],
 "metadata": {
  "kernelspec": {
   "display_name": "smartdevds",
   "language": "python",
   "name": "smartdevds"
  },
  "language_info": {
   "codemirror_mode": {
    "name": "ipython",
    "version": 3
   },
   "file_extension": ".py",
   "mimetype": "text/x-python",
   "name": "python",
   "nbconvert_exporter": "python",
   "pygments_lexer": "ipython3",
   "version": "3.10.15"
  }
 },
 "nbformat": 4,
 "nbformat_minor": 4
}
